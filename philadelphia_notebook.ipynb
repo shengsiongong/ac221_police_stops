{
 "cells": [
  {
   "cell_type": "code",
   "execution_count": 1,
   "metadata": {},
   "outputs": [],
   "source": [
    "import pandas as pd\n",
    "import seaborn as sns\n",
    "import matplotlib.pyplot as plt\n",
    "from astral import Astral, AstralGeocoder, Location\n",
    "\n",
    "import statsmodels.api as sm\n",
    "\n",
    "from calculations import *\n",
    "from plotting import *\n",
    "\n",
    "from patsy import dmatrix\n",
    "\n",
    "\n",
    " \n",
    "import datetime \n",
    "%matplotlib inline"
   ]
  },
  {
   "cell_type": "code",
   "execution_count": 2,
   "metadata": {},
   "outputs": [],
   "source": [
    "phil_stops = pd.read_csv('data/philadelpha_stops.csv')"
   ]
  },
  {
   "cell_type": "code",
   "execution_count": 3,
   "metadata": {},
   "outputs": [
    {
     "data": {
      "text/html": [
       "<div>\n",
       "<style scoped>\n",
       "    .dataframe tbody tr th:only-of-type {\n",
       "        vertical-align: middle;\n",
       "    }\n",
       "\n",
       "    .dataframe tbody tr th {\n",
       "        vertical-align: top;\n",
       "    }\n",
       "\n",
       "    .dataframe thead th {\n",
       "        text-align: right;\n",
       "    }\n",
       "</style>\n",
       "<table border=\"1\" class=\"dataframe\">\n",
       "  <thead>\n",
       "    <tr style=\"text-align: right;\">\n",
       "      <th></th>\n",
       "      <th>raw_row_number</th>\n",
       "      <th>date</th>\n",
       "      <th>time</th>\n",
       "      <th>location</th>\n",
       "      <th>lat</th>\n",
       "      <th>lng</th>\n",
       "      <th>district</th>\n",
       "      <th>service_area</th>\n",
       "      <th>subject_age</th>\n",
       "      <th>subject_race</th>\n",
       "      <th>subject_sex</th>\n",
       "      <th>type</th>\n",
       "      <th>arrest_made</th>\n",
       "      <th>outcome</th>\n",
       "      <th>contraband_found</th>\n",
       "      <th>frisk_performed</th>\n",
       "      <th>search_conducted</th>\n",
       "      <th>search_person</th>\n",
       "      <th>search_vehicle</th>\n",
       "    </tr>\n",
       "  </thead>\n",
       "  <tbody>\n",
       "    <tr>\n",
       "      <th>0</th>\n",
       "      <td>1</td>\n",
       "      <td>2014-09-27</td>\n",
       "      <td>20:05:00</td>\n",
       "      <td>5600 BLOCK BROOMALL ST</td>\n",
       "      <td>39.943742</td>\n",
       "      <td>-75.232790</td>\n",
       "      <td>12.0</td>\n",
       "      <td>124.0</td>\n",
       "      <td>24.0</td>\n",
       "      <td>black</td>\n",
       "      <td>male</td>\n",
       "      <td>pedestrian</td>\n",
       "      <td>False</td>\n",
       "      <td>NaN</td>\n",
       "      <td>NaN</td>\n",
       "      <td>False</td>\n",
       "      <td>False</td>\n",
       "      <td>False</td>\n",
       "      <td>False</td>\n",
       "    </tr>\n",
       "    <tr>\n",
       "      <th>1</th>\n",
       "      <td>2</td>\n",
       "      <td>2014-09-27</td>\n",
       "      <td>19:27:00</td>\n",
       "      <td>5200 BLOCK PENTRIDGE ST</td>\n",
       "      <td>39.945217</td>\n",
       "      <td>-75.224756</td>\n",
       "      <td>12.0</td>\n",
       "      <td>124.0</td>\n",
       "      <td>58.0</td>\n",
       "      <td>black</td>\n",
       "      <td>male</td>\n",
       "      <td>pedestrian</td>\n",
       "      <td>False</td>\n",
       "      <td>NaN</td>\n",
       "      <td>NaN</td>\n",
       "      <td>False</td>\n",
       "      <td>False</td>\n",
       "      <td>False</td>\n",
       "      <td>False</td>\n",
       "    </tr>\n",
       "    <tr>\n",
       "      <th>2</th>\n",
       "      <td>3</td>\n",
       "      <td>2014-09-27</td>\n",
       "      <td>19:27:00</td>\n",
       "      <td>5200 BLOCK PENTRIDGE ST</td>\n",
       "      <td>39.945217</td>\n",
       "      <td>-75.224756</td>\n",
       "      <td>12.0</td>\n",
       "      <td>124.0</td>\n",
       "      <td>31.0</td>\n",
       "      <td>black</td>\n",
       "      <td>male</td>\n",
       "      <td>pedestrian</td>\n",
       "      <td>False</td>\n",
       "      <td>NaN</td>\n",
       "      <td>NaN</td>\n",
       "      <td>False</td>\n",
       "      <td>False</td>\n",
       "      <td>False</td>\n",
       "      <td>False</td>\n",
       "    </tr>\n",
       "    <tr>\n",
       "      <th>3</th>\n",
       "      <td>4</td>\n",
       "      <td>2014-09-27</td>\n",
       "      <td>20:38:00</td>\n",
       "      <td>4900 BLOCK KINGSESSING AV</td>\n",
       "      <td>39.943045</td>\n",
       "      <td>-75.215211</td>\n",
       "      <td>12.0</td>\n",
       "      <td>123.0</td>\n",
       "      <td>29.0</td>\n",
       "      <td>black</td>\n",
       "      <td>male</td>\n",
       "      <td>vehicular</td>\n",
       "      <td>False</td>\n",
       "      <td>NaN</td>\n",
       "      <td>NaN</td>\n",
       "      <td>False</td>\n",
       "      <td>False</td>\n",
       "      <td>False</td>\n",
       "      <td>False</td>\n",
       "    </tr>\n",
       "    <tr>\n",
       "      <th>4</th>\n",
       "      <td>5</td>\n",
       "      <td>2014-10-24</td>\n",
       "      <td>03:00:00</td>\n",
       "      <td>1800 BLOCK WALNUT ST</td>\n",
       "      <td>39.950203</td>\n",
       "      <td>-75.171467</td>\n",
       "      <td>9.0</td>\n",
       "      <td>92.0</td>\n",
       "      <td>35.0</td>\n",
       "      <td>black</td>\n",
       "      <td>male</td>\n",
       "      <td>pedestrian</td>\n",
       "      <td>False</td>\n",
       "      <td>NaN</td>\n",
       "      <td>NaN</td>\n",
       "      <td>False</td>\n",
       "      <td>False</td>\n",
       "      <td>False</td>\n",
       "      <td>False</td>\n",
       "    </tr>\n",
       "  </tbody>\n",
       "</table>\n",
       "</div>"
      ],
      "text/plain": [
       "   raw_row_number        date      time                   location        lat  \\\n",
       "0               1  2014-09-27  20:05:00     5600 BLOCK BROOMALL ST  39.943742   \n",
       "1               2  2014-09-27  19:27:00    5200 BLOCK PENTRIDGE ST  39.945217   \n",
       "2               3  2014-09-27  19:27:00    5200 BLOCK PENTRIDGE ST  39.945217   \n",
       "3               4  2014-09-27  20:38:00  4900 BLOCK KINGSESSING AV  39.943045   \n",
       "4               5  2014-10-24  03:00:00       1800 BLOCK WALNUT ST  39.950203   \n",
       "\n",
       "         lng  district  service_area  subject_age subject_race subject_sex  \\\n",
       "0 -75.232790      12.0         124.0         24.0        black        male   \n",
       "1 -75.224756      12.0         124.0         58.0        black        male   \n",
       "2 -75.224756      12.0         124.0         31.0        black        male   \n",
       "3 -75.215211      12.0         123.0         29.0        black        male   \n",
       "4 -75.171467       9.0          92.0         35.0        black        male   \n",
       "\n",
       "         type  arrest_made outcome contraband_found  frisk_performed  \\\n",
       "0  pedestrian        False     NaN              NaN            False   \n",
       "1  pedestrian        False     NaN              NaN            False   \n",
       "2  pedestrian        False     NaN              NaN            False   \n",
       "3   vehicular        False     NaN              NaN            False   \n",
       "4  pedestrian        False     NaN              NaN            False   \n",
       "\n",
       "   search_conducted  search_person  search_vehicle  \n",
       "0             False          False           False  \n",
       "1             False          False           False  \n",
       "2             False          False           False  \n",
       "3             False          False           False  \n",
       "4             False          False           False  "
      ]
     },
     "execution_count": 3,
     "metadata": {},
     "output_type": "execute_result"
    }
   ],
   "source": [
    "phil_stops.head()"
   ]
  },
  {
   "cell_type": "code",
   "execution_count": 4,
   "metadata": {},
   "outputs": [
    {
     "data": {
      "text/plain": [
       "Index(['raw_row_number', 'date', 'time', 'location', 'lat', 'lng', 'district',\n",
       "       'service_area', 'subject_age', 'subject_race', 'subject_sex', 'type',\n",
       "       'arrest_made', 'outcome', 'contraband_found', 'frisk_performed',\n",
       "       'search_conducted', 'search_person', 'search_vehicle'],\n",
       "      dtype='object')"
      ]
     },
     "execution_count": 4,
     "metadata": {},
     "output_type": "execute_result"
    }
   ],
   "source": [
    "phil_stops.columns"
   ]
  },
  {
   "cell_type": "code",
   "execution_count": 5,
   "metadata": {},
   "outputs": [
    {
     "data": {
      "text/plain": [
       "1891916"
      ]
     },
     "execution_count": 5,
     "metadata": {},
     "output_type": "execute_result"
    }
   ],
   "source": [
    "len(phil_stops)"
   ]
  },
  {
   "cell_type": "code",
   "execution_count": 6,
   "metadata": {},
   "outputs": [],
   "source": [
    "phil_stops['date'] = pd.to_datetime(phil_stops['date'])"
   ]
  },
  {
   "cell_type": "code",
   "execution_count": 7,
   "metadata": {},
   "outputs": [
    {
     "data": {
      "text/plain": [
       "Timestamp('2014-01-01 00:00:00')"
      ]
     },
     "execution_count": 7,
     "metadata": {},
     "output_type": "execute_result"
    }
   ],
   "source": [
    "phil_stops['date'].min()"
   ]
  },
  {
   "cell_type": "code",
   "execution_count": 8,
   "metadata": {},
   "outputs": [
    {
     "data": {
      "text/plain": [
       "Timestamp('2018-04-14 00:00:00')"
      ]
     },
     "execution_count": 8,
     "metadata": {},
     "output_type": "execute_result"
    }
   ],
   "source": [
    "phil_stops['date'].max()"
   ]
  },
  {
   "cell_type": "code",
   "execution_count": 9,
   "metadata": {},
   "outputs": [],
   "source": [
    "get_year = lambda date: date.year\n",
    "phil_stops['year'] = phil_stops['date'].apply(get_year)\n",
    "phil_stops = phil_stops[(phil_stops['year'] >= 2014) & (phil_stops['year'] <= 2017)]"
   ]
  },
  {
   "cell_type": "code",
   "execution_count": 10,
   "metadata": {},
   "outputs": [
    {
     "data": {
      "text/plain": [
       "(Timestamp('2014-01-01 00:00:00'), Timestamp('2017-12-31 00:00:00'), 1782092)"
      ]
     },
     "execution_count": 10,
     "metadata": {},
     "output_type": "execute_result"
    }
   ],
   "source": [
    "(phil_stops['date'].min(), phil_stops['date'].max(), len(phil_stops))"
   ]
  },
  {
   "cell_type": "code",
   "execution_count": 11,
   "metadata": {},
   "outputs": [
    {
     "data": {
      "text/plain": [
       "0    pedestrian\n",
       "1    pedestrian\n",
       "2    pedestrian\n",
       "3     vehicular\n",
       "4    pedestrian\n",
       "5    pedestrian\n",
       "6     vehicular\n",
       "7    pedestrian\n",
       "8    pedestrian\n",
       "9     vehicular\n",
       "Name: type, dtype: object"
      ]
     },
     "execution_count": 11,
     "metadata": {},
     "output_type": "execute_result"
    }
   ],
   "source": [
    "phil_stops['type'].head(10)"
   ]
  },
  {
   "cell_type": "code",
   "execution_count": 12,
   "metadata": {},
   "outputs": [
    {
     "data": {
      "text/plain": [
       "1090441"
      ]
     },
     "execution_count": 12,
     "metadata": {},
     "output_type": "execute_result"
    }
   ],
   "source": [
    "phil_stops = phil_stops[phil_stops['type'] == 'vehicular']\n",
    "len(phil_stops)"
   ]
  },
  {
   "cell_type": "code",
   "execution_count": 13,
   "metadata": {},
   "outputs": [
    {
     "data": {
      "text/plain": [
       "year\n",
       "2014    219071\n",
       "2015    285914\n",
       "2016    288306\n",
       "2017    297150\n",
       "dtype: int64"
      ]
     },
     "execution_count": 13,
     "metadata": {},
     "output_type": "execute_result"
    }
   ],
   "source": [
    "phil_stops.groupby('year').size()"
   ]
  },
  {
   "cell_type": "code",
   "execution_count": 14,
   "metadata": {},
   "outputs": [
    {
     "data": {
      "text/html": [
       "<div>\n",
       "<style scoped>\n",
       "    .dataframe tbody tr th:only-of-type {\n",
       "        vertical-align: middle;\n",
       "    }\n",
       "\n",
       "    .dataframe tbody tr th {\n",
       "        vertical-align: top;\n",
       "    }\n",
       "\n",
       "    .dataframe thead th {\n",
       "        text-align: right;\n",
       "    }\n",
       "</style>\n",
       "<table border=\"1\" class=\"dataframe\">\n",
       "  <thead>\n",
       "    <tr style=\"text-align: right;\">\n",
       "      <th></th>\n",
       "      <th>subject_race</th>\n",
       "      <th>n</th>\n",
       "      <th>prop</th>\n",
       "    </tr>\n",
       "  </thead>\n",
       "  <tbody>\n",
       "    <tr>\n",
       "      <th>0</th>\n",
       "      <td>asian/pacific islander</td>\n",
       "      <td>31197</td>\n",
       "      <td>0.028610</td>\n",
       "    </tr>\n",
       "    <tr>\n",
       "      <th>1</th>\n",
       "      <td>black</td>\n",
       "      <td>714772</td>\n",
       "      <td>0.655489</td>\n",
       "    </tr>\n",
       "    <tr>\n",
       "      <th>2</th>\n",
       "      <td>hispanic</td>\n",
       "      <td>112950</td>\n",
       "      <td>0.103582</td>\n",
       "    </tr>\n",
       "    <tr>\n",
       "      <th>3</th>\n",
       "      <td>other/unknown</td>\n",
       "      <td>15109</td>\n",
       "      <td>0.013856</td>\n",
       "    </tr>\n",
       "    <tr>\n",
       "      <th>4</th>\n",
       "      <td>white</td>\n",
       "      <td>216413</td>\n",
       "      <td>0.198464</td>\n",
       "    </tr>\n",
       "  </tbody>\n",
       "</table>\n",
       "</div>"
      ],
      "text/plain": [
       "             subject_race       n      prop\n",
       "0  asian/pacific islander   31197  0.028610\n",
       "1                   black  714772  0.655489\n",
       "2                hispanic  112950  0.103582\n",
       "3           other/unknown   15109  0.013856\n",
       "4                   white  216413  0.198464"
      ]
     },
     "execution_count": 14,
     "metadata": {},
     "output_type": "execute_result"
    }
   ],
   "source": [
    "calc_group_size(phil_stops, ['subject_race'])"
   ]
  },
  {
   "cell_type": "code",
   "execution_count": 15,
   "metadata": {},
   "outputs": [
    {
     "data": {
      "text/html": [
       "<div>\n",
       "<style scoped>\n",
       "    .dataframe tbody tr th:only-of-type {\n",
       "        vertical-align: middle;\n",
       "    }\n",
       "\n",
       "    .dataframe tbody tr th {\n",
       "        vertical-align: top;\n",
       "    }\n",
       "\n",
       "    .dataframe thead th {\n",
       "        text-align: right;\n",
       "    }\n",
       "</style>\n",
       "<table border=\"1\" class=\"dataframe\">\n",
       "  <thead>\n",
       "    <tr style=\"text-align: right;\">\n",
       "      <th></th>\n",
       "      <th>year</th>\n",
       "      <th>subject_race</th>\n",
       "      <th>n</th>\n",
       "      <th>prop</th>\n",
       "    </tr>\n",
       "  </thead>\n",
       "  <tbody>\n",
       "    <tr>\n",
       "      <th>0</th>\n",
       "      <td>2014</td>\n",
       "      <td>asian/pacific islander</td>\n",
       "      <td>7317</td>\n",
       "      <td>0.006710</td>\n",
       "    </tr>\n",
       "    <tr>\n",
       "      <th>1</th>\n",
       "      <td>2014</td>\n",
       "      <td>black</td>\n",
       "      <td>134192</td>\n",
       "      <td>0.123062</td>\n",
       "    </tr>\n",
       "    <tr>\n",
       "      <th>2</th>\n",
       "      <td>2014</td>\n",
       "      <td>hispanic</td>\n",
       "      <td>23036</td>\n",
       "      <td>0.021125</td>\n",
       "    </tr>\n",
       "    <tr>\n",
       "      <th>3</th>\n",
       "      <td>2014</td>\n",
       "      <td>other/unknown</td>\n",
       "      <td>2631</td>\n",
       "      <td>0.002413</td>\n",
       "    </tr>\n",
       "    <tr>\n",
       "      <th>4</th>\n",
       "      <td>2014</td>\n",
       "      <td>white</td>\n",
       "      <td>51895</td>\n",
       "      <td>0.047591</td>\n",
       "    </tr>\n",
       "    <tr>\n",
       "      <th>5</th>\n",
       "      <td>2015</td>\n",
       "      <td>asian/pacific islander</td>\n",
       "      <td>8613</td>\n",
       "      <td>0.007899</td>\n",
       "    </tr>\n",
       "    <tr>\n",
       "      <th>6</th>\n",
       "      <td>2015</td>\n",
       "      <td>black</td>\n",
       "      <td>183067</td>\n",
       "      <td>0.167883</td>\n",
       "    </tr>\n",
       "    <tr>\n",
       "      <th>7</th>\n",
       "      <td>2015</td>\n",
       "      <td>hispanic</td>\n",
       "      <td>30105</td>\n",
       "      <td>0.027608</td>\n",
       "    </tr>\n",
       "    <tr>\n",
       "      <th>8</th>\n",
       "      <td>2015</td>\n",
       "      <td>other/unknown</td>\n",
       "      <td>3793</td>\n",
       "      <td>0.003478</td>\n",
       "    </tr>\n",
       "    <tr>\n",
       "      <th>9</th>\n",
       "      <td>2015</td>\n",
       "      <td>white</td>\n",
       "      <td>60336</td>\n",
       "      <td>0.055332</td>\n",
       "    </tr>\n",
       "    <tr>\n",
       "      <th>10</th>\n",
       "      <td>2016</td>\n",
       "      <td>asian/pacific islander</td>\n",
       "      <td>7763</td>\n",
       "      <td>0.007119</td>\n",
       "    </tr>\n",
       "    <tr>\n",
       "      <th>11</th>\n",
       "      <td>2016</td>\n",
       "      <td>black</td>\n",
       "      <td>193093</td>\n",
       "      <td>0.177078</td>\n",
       "    </tr>\n",
       "    <tr>\n",
       "      <th>12</th>\n",
       "      <td>2016</td>\n",
       "      <td>hispanic</td>\n",
       "      <td>29810</td>\n",
       "      <td>0.027338</td>\n",
       "    </tr>\n",
       "    <tr>\n",
       "      <th>13</th>\n",
       "      <td>2016</td>\n",
       "      <td>other/unknown</td>\n",
       "      <td>4156</td>\n",
       "      <td>0.003811</td>\n",
       "    </tr>\n",
       "    <tr>\n",
       "      <th>14</th>\n",
       "      <td>2016</td>\n",
       "      <td>white</td>\n",
       "      <td>53484</td>\n",
       "      <td>0.049048</td>\n",
       "    </tr>\n",
       "    <tr>\n",
       "      <th>15</th>\n",
       "      <td>2017</td>\n",
       "      <td>asian/pacific islander</td>\n",
       "      <td>7504</td>\n",
       "      <td>0.006882</td>\n",
       "    </tr>\n",
       "    <tr>\n",
       "      <th>16</th>\n",
       "      <td>2017</td>\n",
       "      <td>black</td>\n",
       "      <td>204420</td>\n",
       "      <td>0.187465</td>\n",
       "    </tr>\n",
       "    <tr>\n",
       "      <th>17</th>\n",
       "      <td>2017</td>\n",
       "      <td>hispanic</td>\n",
       "      <td>29999</td>\n",
       "      <td>0.027511</td>\n",
       "    </tr>\n",
       "    <tr>\n",
       "      <th>18</th>\n",
       "      <td>2017</td>\n",
       "      <td>other/unknown</td>\n",
       "      <td>4529</td>\n",
       "      <td>0.004153</td>\n",
       "    </tr>\n",
       "    <tr>\n",
       "      <th>19</th>\n",
       "      <td>2017</td>\n",
       "      <td>white</td>\n",
       "      <td>50698</td>\n",
       "      <td>0.046493</td>\n",
       "    </tr>\n",
       "  </tbody>\n",
       "</table>\n",
       "</div>"
      ],
      "text/plain": [
       "    year            subject_race       n      prop\n",
       "0   2014  asian/pacific islander    7317  0.006710\n",
       "1   2014                   black  134192  0.123062\n",
       "2   2014                hispanic   23036  0.021125\n",
       "3   2014           other/unknown    2631  0.002413\n",
       "4   2014                   white   51895  0.047591\n",
       "5   2015  asian/pacific islander    8613  0.007899\n",
       "6   2015                   black  183067  0.167883\n",
       "7   2015                hispanic   30105  0.027608\n",
       "8   2015           other/unknown    3793  0.003478\n",
       "9   2015                   white   60336  0.055332\n",
       "10  2016  asian/pacific islander    7763  0.007119\n",
       "11  2016                   black  193093  0.177078\n",
       "12  2016                hispanic   29810  0.027338\n",
       "13  2016           other/unknown    4156  0.003811\n",
       "14  2016                   white   53484  0.049048\n",
       "15  2017  asian/pacific islander    7504  0.006882\n",
       "16  2017                   black  204420  0.187465\n",
       "17  2017                hispanic   29999  0.027511\n",
       "18  2017           other/unknown    4529  0.004153\n",
       "19  2017                   white   50698  0.046493"
      ]
     },
     "execution_count": 15,
     "metadata": {},
     "output_type": "execute_result"
    }
   ],
   "source": [
    "groupby_year_and_race = calc_group_size(phil_stops, ['year', 'subject_race'])\n",
    "groupby_year_and_race"
   ]
  },
  {
   "cell_type": "code",
   "execution_count": 16,
   "metadata": {},
   "outputs": [
    {
     "data": {
      "image/png": "[encoded data removed]",
      "text/plain": [
       "<Figure size 432x288 with 1 Axes>"
      ]
     },
     "metadata": {
      "needs_background": "light"
     },
     "output_type": "display_data"
    }
   ],
   "source": [
    "ax = sns.lineplot(x = 'year', y = 'n', hue = 'subject_race', data = groupby_year_and_race);\n",
    "ax.legend(loc = (1.05, 0.5));"
   ]
  },
  {
   "cell_type": "code",
   "execution_count": 17,
   "metadata": {},
   "outputs": [
    {
     "data": {
      "text/html": [
       "<div>\n",
       "<style scoped>\n",
       "    .dataframe tbody tr th:only-of-type {\n",
       "        vertical-align: middle;\n",
       "    }\n",
       "\n",
       "    .dataframe tbody tr th {\n",
       "        vertical-align: top;\n",
       "    }\n",
       "\n",
       "    .dataframe thead th {\n",
       "        text-align: right;\n",
       "    }\n",
       "</style>\n",
       "<table border=\"1\" class=\"dataframe\">\n",
       "  <thead>\n",
       "    <tr style=\"text-align: right;\">\n",
       "      <th></th>\n",
       "      <th>subject_race</th>\n",
       "      <th>num_people</th>\n",
       "    </tr>\n",
       "  </thead>\n",
       "  <tbody>\n",
       "    <tr>\n",
       "      <th>0</th>\n",
       "      <td>asian/pacific islander</td>\n",
       "      <td>110864</td>\n",
       "    </tr>\n",
       "    <tr>\n",
       "      <th>1</th>\n",
       "      <td>black</td>\n",
       "      <td>648846</td>\n",
       "    </tr>\n",
       "    <tr>\n",
       "      <th>2</th>\n",
       "      <td>hispanic</td>\n",
       "      <td>221777</td>\n",
       "    </tr>\n",
       "    <tr>\n",
       "      <th>3</th>\n",
       "      <td>other/unknown</td>\n",
       "      <td>39858</td>\n",
       "    </tr>\n",
       "    <tr>\n",
       "      <th>4</th>\n",
       "      <td>white</td>\n",
       "      <td>548312</td>\n",
       "    </tr>\n",
       "  </tbody>\n",
       "</table>\n",
       "</div>"
      ],
      "text/plain": [
       "             subject_race  num_people\n",
       "0  asian/pacific islander      110864\n",
       "1                   black      648846\n",
       "2                hispanic      221777\n",
       "3           other/unknown       39858\n",
       "4                   white      548312"
      ]
     },
     "execution_count": 17,
     "metadata": {},
     "output_type": "execute_result"
    }
   ],
   "source": [
    "population_df = pd.DataFrame({'asian/pacific islander': 110864, 'black': 648846, 'hispanic': 221777, 'other/unknown': 39858,\n",
    "                'white': 548312}.items())\n",
    "population_df.columns = ['subject_race', 'num_people']\n",
    "population_df"
   ]
  },
  {
   "cell_type": "code",
   "execution_count": 18,
   "metadata": {},
   "outputs": [],
   "source": [
    "phil_stops_2017 = phil_stops[phil_stops['year'] == 2017]"
   ]
  },
  {
   "cell_type": "code",
   "execution_count": 19,
   "metadata": {},
   "outputs": [
    {
     "data": {
      "text/html": [
       "<div>\n",
       "<style scoped>\n",
       "    .dataframe tbody tr th:only-of-type {\n",
       "        vertical-align: middle;\n",
       "    }\n",
       "\n",
       "    .dataframe tbody tr th {\n",
       "        vertical-align: top;\n",
       "    }\n",
       "\n",
       "    .dataframe thead th {\n",
       "        text-align: right;\n",
       "    }\n",
       "</style>\n",
       "<table border=\"1\" class=\"dataframe\">\n",
       "  <thead>\n",
       "    <tr style=\"text-align: right;\">\n",
       "      <th></th>\n",
       "      <th>subject_race</th>\n",
       "      <th>stop_rate</th>\n",
       "    </tr>\n",
       "  </thead>\n",
       "  <tbody>\n",
       "    <tr>\n",
       "      <th>0</th>\n",
       "      <td>asian/pacific islander</td>\n",
       "      <td>0.067687</td>\n",
       "    </tr>\n",
       "    <tr>\n",
       "      <th>1</th>\n",
       "      <td>black</td>\n",
       "      <td>0.315052</td>\n",
       "    </tr>\n",
       "    <tr>\n",
       "      <th>2</th>\n",
       "      <td>hispanic</td>\n",
       "      <td>0.135267</td>\n",
       "    </tr>\n",
       "    <tr>\n",
       "      <th>3</th>\n",
       "      <td>other/unknown</td>\n",
       "      <td>0.113628</td>\n",
       "    </tr>\n",
       "    <tr>\n",
       "      <th>4</th>\n",
       "      <td>white</td>\n",
       "      <td>0.092462</td>\n",
       "    </tr>\n",
       "  </tbody>\n",
       "</table>\n",
       "</div>"
      ],
      "text/plain": [
       "             subject_race  stop_rate\n",
       "0  asian/pacific islander   0.067687\n",
       "1                   black   0.315052\n",
       "2                hispanic   0.135267\n",
       "3           other/unknown   0.113628\n",
       "4                   white   0.092462"
      ]
     },
     "execution_count": 19,
     "metadata": {},
     "output_type": "execute_result"
    }
   ],
   "source": [
    "calc_stop_rates(phil_stops_2017, population_df, ['subject_race'])"
   ]
  },
  {
   "cell_type": "code",
   "execution_count": 20,
   "metadata": {},
   "outputs": [
    {
     "data": {
      "text/html": [
       "<div>\n",
       "<style scoped>\n",
       "    .dataframe tbody tr th:only-of-type {\n",
       "        vertical-align: middle;\n",
       "    }\n",
       "\n",
       "    .dataframe tbody tr th {\n",
       "        vertical-align: top;\n",
       "    }\n",
       "\n",
       "    .dataframe thead th {\n",
       "        text-align: right;\n",
       "    }\n",
       "</style>\n",
       "<table border=\"1\" class=\"dataframe\">\n",
       "  <thead>\n",
       "    <tr style=\"text-align: right;\">\n",
       "      <th></th>\n",
       "      <th>subject_race</th>\n",
       "      <th>search_rate</th>\n",
       "    </tr>\n",
       "  </thead>\n",
       "  <tbody>\n",
       "    <tr>\n",
       "      <th>0</th>\n",
       "      <td>asian/pacific islander</td>\n",
       "      <td>0.026119</td>\n",
       "    </tr>\n",
       "    <tr>\n",
       "      <th>1</th>\n",
       "      <td>black</td>\n",
       "      <td>0.060547</td>\n",
       "    </tr>\n",
       "    <tr>\n",
       "      <th>2</th>\n",
       "      <td>hispanic</td>\n",
       "      <td>0.051002</td>\n",
       "    </tr>\n",
       "    <tr>\n",
       "      <th>3</th>\n",
       "      <td>other/unknown</td>\n",
       "      <td>0.036873</td>\n",
       "    </tr>\n",
       "    <tr>\n",
       "      <th>4</th>\n",
       "      <td>white</td>\n",
       "      <td>0.040968</td>\n",
       "    </tr>\n",
       "  </tbody>\n",
       "</table>\n",
       "</div>"
      ],
      "text/plain": [
       "             subject_race  search_rate\n",
       "0  asian/pacific islander     0.026119\n",
       "1                   black     0.060547\n",
       "2                hispanic     0.051002\n",
       "3           other/unknown     0.036873\n",
       "4                   white     0.040968"
      ]
     },
     "execution_count": 20,
     "metadata": {},
     "output_type": "execute_result"
    }
   ],
   "source": [
    "calc_search_rates(phil_stops_2017, ['subject_race'])"
   ]
  },
  {
   "cell_type": "code",
   "execution_count": 21,
   "metadata": {},
   "outputs": [
    {
     "data": {
      "text/html": [
       "<div>\n",
       "<style scoped>\n",
       "    .dataframe tbody tr th:only-of-type {\n",
       "        vertical-align: middle;\n",
       "    }\n",
       "\n",
       "    .dataframe tbody tr th {\n",
       "        vertical-align: top;\n",
       "    }\n",
       "\n",
       "    .dataframe thead th {\n",
       "        text-align: right;\n",
       "    }\n",
       "</style>\n",
       "<table border=\"1\" class=\"dataframe\">\n",
       "  <thead>\n",
       "    <tr style=\"text-align: right;\">\n",
       "      <th></th>\n",
       "      <th>subject_race</th>\n",
       "      <th>frisk_rate</th>\n",
       "    </tr>\n",
       "  </thead>\n",
       "  <tbody>\n",
       "    <tr>\n",
       "      <th>0</th>\n",
       "      <td>asian/pacific islander</td>\n",
       "      <td>0.018790</td>\n",
       "    </tr>\n",
       "    <tr>\n",
       "      <th>1</th>\n",
       "      <td>black</td>\n",
       "      <td>0.063624</td>\n",
       "    </tr>\n",
       "    <tr>\n",
       "      <th>2</th>\n",
       "      <td>hispanic</td>\n",
       "      <td>0.047102</td>\n",
       "    </tr>\n",
       "    <tr>\n",
       "      <th>3</th>\n",
       "      <td>other/unknown</td>\n",
       "      <td>0.034003</td>\n",
       "    </tr>\n",
       "    <tr>\n",
       "      <th>4</th>\n",
       "      <td>white</td>\n",
       "      <td>0.030593</td>\n",
       "    </tr>\n",
       "  </tbody>\n",
       "</table>\n",
       "</div>"
      ],
      "text/plain": [
       "             subject_race  frisk_rate\n",
       "0  asian/pacific islander    0.018790\n",
       "1                   black    0.063624\n",
       "2                hispanic    0.047102\n",
       "3           other/unknown    0.034003\n",
       "4                   white    0.030593"
      ]
     },
     "execution_count": 21,
     "metadata": {},
     "output_type": "execute_result"
    }
   ],
   "source": [
    "calc_frisk_rates(phil_stops_2017, ['subject_race'])"
   ]
  },
  {
   "cell_type": "code",
   "execution_count": 22,
   "metadata": {},
   "outputs": [
    {
     "name": "stderr",
     "output_type": "stream",
     "text": [
      "/anaconda3/envs/general/lib/python3.6/site-packages/ipykernel_launcher.py:1: SettingWithCopyWarning: \n",
      "A value is trying to be set on a copy of a slice from a DataFrame.\n",
      "Try using .loc[row_indexer,col_indexer] = value instead\n",
      "\n",
      "See the caveats in the documentation: http://pandas.pydata.org/pandas-docs/stable/indexing.html#indexing-view-versus-copy\n",
      "  \"\"\"Entry point for launching an IPython kernel.\n"
     ]
    },
    {
     "data": {
      "text/html": [
       "<div>\n",
       "<style scoped>\n",
       "    .dataframe tbody tr th:only-of-type {\n",
       "        vertical-align: middle;\n",
       "    }\n",
       "\n",
       "    .dataframe tbody tr th {\n",
       "        vertical-align: top;\n",
       "    }\n",
       "\n",
       "    .dataframe thead th {\n",
       "        text-align: right;\n",
       "    }\n",
       "</style>\n",
       "<table border=\"1\" class=\"dataframe\">\n",
       "  <thead>\n",
       "    <tr style=\"text-align: right;\">\n",
       "      <th></th>\n",
       "      <th>subject_race</th>\n",
       "      <th>hit_rate</th>\n",
       "    </tr>\n",
       "  </thead>\n",
       "  <tbody>\n",
       "    <tr>\n",
       "      <th>0</th>\n",
       "      <td>asian/pacific islander</td>\n",
       "      <td>0.244898</td>\n",
       "    </tr>\n",
       "    <tr>\n",
       "      <th>1</th>\n",
       "      <td>black</td>\n",
       "      <td>0.219520</td>\n",
       "    </tr>\n",
       "    <tr>\n",
       "      <th>2</th>\n",
       "      <td>hispanic</td>\n",
       "      <td>0.200654</td>\n",
       "    </tr>\n",
       "    <tr>\n",
       "      <th>3</th>\n",
       "      <td>other/unknown</td>\n",
       "      <td>0.173653</td>\n",
       "    </tr>\n",
       "    <tr>\n",
       "      <th>4</th>\n",
       "      <td>white</td>\n",
       "      <td>0.247472</td>\n",
       "    </tr>\n",
       "  </tbody>\n",
       "</table>\n",
       "</div>"
      ],
      "text/plain": [
       "             subject_race  hit_rate\n",
       "0  asian/pacific islander  0.244898\n",
       "1                   black  0.219520\n",
       "2                hispanic  0.200654\n",
       "3           other/unknown  0.173653\n",
       "4                   white  0.247472"
      ]
     },
     "execution_count": 22,
     "metadata": {},
     "output_type": "execute_result"
    }
   ],
   "source": [
    "phil_stops_2017['contraband_found'] = phil_stops_2017['contraband_found'].astype(float)\n",
    "calc_hit_rates(phil_stops_2017, ['subject_race'])"
   ]
  },
  {
   "cell_type": "code",
   "execution_count": 23,
   "metadata": {},
   "outputs": [
    {
     "data": {
      "text/html": [
       "<div>\n",
       "<style scoped>\n",
       "    .dataframe tbody tr th:only-of-type {\n",
       "        vertical-align: middle;\n",
       "    }\n",
       "\n",
       "    .dataframe tbody tr th {\n",
       "        vertical-align: top;\n",
       "    }\n",
       "\n",
       "    .dataframe thead th {\n",
       "        text-align: right;\n",
       "    }\n",
       "</style>\n",
       "<table border=\"1\" class=\"dataframe\">\n",
       "  <thead>\n",
       "    <tr style=\"text-align: right;\">\n",
       "      <th></th>\n",
       "      <th>subject_race</th>\n",
       "      <th>district</th>\n",
       "      <th>hit_rate</th>\n",
       "    </tr>\n",
       "  </thead>\n",
       "  <tbody>\n",
       "    <tr>\n",
       "      <th>0</th>\n",
       "      <td>asian/pacific islander</td>\n",
       "      <td>1.0</td>\n",
       "      <td>0.166667</td>\n",
       "    </tr>\n",
       "    <tr>\n",
       "      <th>1</th>\n",
       "      <td>asian/pacific islander</td>\n",
       "      <td>2.0</td>\n",
       "      <td>0.500000</td>\n",
       "    </tr>\n",
       "    <tr>\n",
       "      <th>2</th>\n",
       "      <td>asian/pacific islander</td>\n",
       "      <td>3.0</td>\n",
       "      <td>0.400000</td>\n",
       "    </tr>\n",
       "    <tr>\n",
       "      <th>3</th>\n",
       "      <td>asian/pacific islander</td>\n",
       "      <td>6.0</td>\n",
       "      <td>0.333333</td>\n",
       "    </tr>\n",
       "    <tr>\n",
       "      <th>4</th>\n",
       "      <td>asian/pacific islander</td>\n",
       "      <td>7.0</td>\n",
       "      <td>0.000000</td>\n",
       "    </tr>\n",
       "  </tbody>\n",
       "</table>\n",
       "</div>"
      ],
      "text/plain": [
       "             subject_race  district  hit_rate\n",
       "0  asian/pacific islander       1.0  0.166667\n",
       "1  asian/pacific islander       2.0  0.500000\n",
       "2  asian/pacific islander       3.0  0.400000\n",
       "3  asian/pacific islander       6.0  0.333333\n",
       "4  asian/pacific islander       7.0  0.000000"
      ]
     },
     "execution_count": 23,
     "metadata": {},
     "output_type": "execute_result"
    }
   ],
   "source": [
    "hit_rates = calc_hit_rates(phil_stops_2017, groupby_cols = ['subject_race', 'district'])\n",
    "hit_rates.head()"
   ]
  },
  {
   "cell_type": "code",
   "execution_count": 24,
   "metadata": {},
   "outputs": [
    {
     "data": {
      "text/html": [
       "<div>\n",
       "<style scoped>\n",
       "    .dataframe tbody tr th:only-of-type {\n",
       "        vertical-align: middle;\n",
       "    }\n",
       "\n",
       "    .dataframe tbody tr th {\n",
       "        vertical-align: top;\n",
       "    }\n",
       "\n",
       "    .dataframe thead th {\n",
       "        text-align: right;\n",
       "    }\n",
       "</style>\n",
       "<table border=\"1\" class=\"dataframe\">\n",
       "  <thead>\n",
       "    <tr style=\"text-align: right;\">\n",
       "      <th></th>\n",
       "      <th>district</th>\n",
       "      <th>white_hit_rate</th>\n",
       "      <th>minority_group</th>\n",
       "      <th>minority_hit_rate</th>\n",
       "    </tr>\n",
       "  </thead>\n",
       "  <tbody>\n",
       "    <tr>\n",
       "      <th>0</th>\n",
       "      <td>1.0</td>\n",
       "      <td>0.611111</td>\n",
       "      <td>black</td>\n",
       "      <td>0.185841</td>\n",
       "    </tr>\n",
       "    <tr>\n",
       "      <th>1</th>\n",
       "      <td>1.0</td>\n",
       "      <td>0.611111</td>\n",
       "      <td>hispanic</td>\n",
       "      <td>0.500000</td>\n",
       "    </tr>\n",
       "    <tr>\n",
       "      <th>2</th>\n",
       "      <td>2.0</td>\n",
       "      <td>0.363636</td>\n",
       "      <td>black</td>\n",
       "      <td>0.343915</td>\n",
       "    </tr>\n",
       "    <tr>\n",
       "      <th>3</th>\n",
       "      <td>2.0</td>\n",
       "      <td>0.363636</td>\n",
       "      <td>hispanic</td>\n",
       "      <td>0.246914</td>\n",
       "    </tr>\n",
       "    <tr>\n",
       "      <th>4</th>\n",
       "      <td>3.0</td>\n",
       "      <td>0.413333</td>\n",
       "      <td>black</td>\n",
       "      <td>0.250000</td>\n",
       "    </tr>\n",
       "  </tbody>\n",
       "</table>\n",
       "</div>"
      ],
      "text/plain": [
       "   district  white_hit_rate minority_group  minority_hit_rate\n",
       "0       1.0        0.611111          black           0.185841\n",
       "1       1.0        0.611111       hispanic           0.500000\n",
       "2       2.0        0.363636          black           0.343915\n",
       "3       2.0        0.363636       hispanic           0.246914\n",
       "4       3.0        0.413333          black           0.250000"
      ]
     },
     "execution_count": 24,
     "metadata": {},
     "output_type": "execute_result"
    }
   ],
   "source": [
    "hit_rates_comparison = compare_rates('hit_rate', hit_rates, 'white', ['black', 'hispanic'], 'subject_race')\n",
    "hit_rates_comparison.head()"
   ]
  },
  {
   "cell_type": "code",
   "execution_count": 25,
   "metadata": {},
   "outputs": [
    {
     "data": {
      "image/png": "[encoded data removed]",
      "text/plain": [
       "<Figure size 728x360 with 2 Axes>"
      ]
     },
     "metadata": {},
     "output_type": "display_data"
    }
   ],
   "source": [
    "plot_rates_comparison('hit_rate', hit_rates_comparison, 'white', 'minority_group', None)"
   ]
  },
  {
   "cell_type": "code",
   "execution_count": 26,
   "metadata": {},
   "outputs": [
    {
     "data": {
      "image/png": "[encoded data removed]",
      "text/plain": [
       "<Figure size 830.887x360 with 2 Axes>"
      ]
     },
     "metadata": {},
     "output_type": "display_data"
    }
   ],
   "source": [
    "hit_rates_comparison_with_size = hit_rates_comparison.merge(calc_group_size(phil_stops, ['district'], False))\n",
    "plot_rates_comparison('hit_rate', hit_rates_comparison_with_size, 'white', 'minority_group', 'n', marker_size_scale = 100)"
   ]
  },
  {
   "cell_type": "code",
   "execution_count": 27,
   "metadata": {},
   "outputs": [
    {
     "data": {
      "text/html": [
       "<div>\n",
       "<style scoped>\n",
       "    .dataframe tbody tr th:only-of-type {\n",
       "        vertical-align: middle;\n",
       "    }\n",
       "\n",
       "    .dataframe tbody tr th {\n",
       "        vertical-align: top;\n",
       "    }\n",
       "\n",
       "    .dataframe thead th {\n",
       "        text-align: right;\n",
       "    }\n",
       "</style>\n",
       "<table border=\"1\" class=\"dataframe\">\n",
       "  <thead>\n",
       "    <tr style=\"text-align: right;\">\n",
       "      <th></th>\n",
       "      <th>date</th>\n",
       "      <th>sunset</th>\n",
       "      <th>dusk</th>\n",
       "      <th>sunset_minute</th>\n",
       "      <th>dusk_minute</th>\n",
       "    </tr>\n",
       "  </thead>\n",
       "  <tbody>\n",
       "    <tr>\n",
       "      <th>145</th>\n",
       "      <td>2017-06-28</td>\n",
       "      <td>20:33:27</td>\n",
       "      <td>21:06:12</td>\n",
       "      <td>1233</td>\n",
       "      <td>1266</td>\n",
       "    </tr>\n",
       "    <tr>\n",
       "      <th>218</th>\n",
       "      <td>2017-12-08</td>\n",
       "      <td>16:35:22</td>\n",
       "      <td>17:05:39</td>\n",
       "      <td>995</td>\n",
       "      <td>1025</td>\n",
       "    </tr>\n",
       "  </tbody>\n",
       "</table>\n",
       "</div>"
      ],
      "text/plain": [
       "          date    sunset      dusk  sunset_minute  dusk_minute\n",
       "145 2017-06-28  20:33:27  21:06:12           1233         1266\n",
       "218 2017-12-08  16:35:22  17:05:39            995         1025"
      ]
     },
     "execution_count": 27,
     "metadata": {},
     "output_type": "execute_result"
    }
   ],
   "source": [
    "sunset_times_2017 = calc_sunset_times(phil_stops_2017, 39.9525839, -75.1652215, 'US/Eastern')\n",
    "sunset_times_2017[(sunset_times_2017['sunset'] == sunset_times_2017['sunset'].min()) | (sunset_times_2017['sunset'] == sunset_times_2017['sunset'].max())]"
   ]
  },
  {
   "cell_type": "code",
   "execution_count": 28,
   "metadata": {},
   "outputs": [],
   "source": [
    "vod_stops = get_veil_of_darkness_observations(phil_stops_2017, sunset_times_2017)"
   ]
  },
  {
   "cell_type": "code",
   "execution_count": 29,
   "metadata": {},
   "outputs": [
    {
     "data": {
      "text/html": [
       "<div>\n",
       "<style scoped>\n",
       "    .dataframe tbody tr th:only-of-type {\n",
       "        vertical-align: middle;\n",
       "    }\n",
       "\n",
       "    .dataframe tbody tr th {\n",
       "        vertical-align: top;\n",
       "    }\n",
       "\n",
       "    .dataframe thead th {\n",
       "        text-align: right;\n",
       "    }\n",
       "</style>\n",
       "<table border=\"1\" class=\"dataframe\">\n",
       "  <thead>\n",
       "    <tr style=\"text-align: right;\">\n",
       "      <th></th>\n",
       "      <th>raw_row_number</th>\n",
       "      <th>date</th>\n",
       "      <th>time</th>\n",
       "      <th>location</th>\n",
       "      <th>lat</th>\n",
       "      <th>lng</th>\n",
       "      <th>district</th>\n",
       "      <th>service_area</th>\n",
       "      <th>subject_age</th>\n",
       "      <th>subject_race</th>\n",
       "      <th>...</th>\n",
       "      <th>search_person</th>\n",
       "      <th>search_vehicle</th>\n",
       "      <th>year</th>\n",
       "      <th>sunset</th>\n",
       "      <th>dusk</th>\n",
       "      <th>sunset_minute</th>\n",
       "      <th>dusk_minute</th>\n",
       "      <th>minute</th>\n",
       "      <th>minutes_after_dark</th>\n",
       "      <th>is_dark</th>\n",
       "    </tr>\n",
       "  </thead>\n",
       "  <tbody>\n",
       "    <tr>\n",
       "      <th>0</th>\n",
       "      <td>1025649</td>\n",
       "      <td>2017-03-22</td>\n",
       "      <td>20:30:00</td>\n",
       "      <td>NaN</td>\n",
       "      <td>NaN</td>\n",
       "      <td>NaN</td>\n",
       "      <td>25.0</td>\n",
       "      <td>252.0</td>\n",
       "      <td>39.0</td>\n",
       "      <td>white</td>\n",
       "      <td>...</td>\n",
       "      <td>False</td>\n",
       "      <td>False</td>\n",
       "      <td>2017</td>\n",
       "      <td>19:14:01</td>\n",
       "      <td>19:41:02</td>\n",
       "      <td>1154</td>\n",
       "      <td>1181</td>\n",
       "      <td>1230</td>\n",
       "      <td>49</td>\n",
       "      <td>1</td>\n",
       "    </tr>\n",
       "    <tr>\n",
       "      <th>4</th>\n",
       "      <td>1025656</td>\n",
       "      <td>2017-03-22</td>\n",
       "      <td>19:50:00</td>\n",
       "      <td>NaN</td>\n",
       "      <td>NaN</td>\n",
       "      <td>NaN</td>\n",
       "      <td>25.0</td>\n",
       "      <td>252.0</td>\n",
       "      <td>42.0</td>\n",
       "      <td>black</td>\n",
       "      <td>...</td>\n",
       "      <td>False</td>\n",
       "      <td>False</td>\n",
       "      <td>2017</td>\n",
       "      <td>19:14:01</td>\n",
       "      <td>19:41:02</td>\n",
       "      <td>1154</td>\n",
       "      <td>1181</td>\n",
       "      <td>1190</td>\n",
       "      <td>9</td>\n",
       "      <td>1</td>\n",
       "    </tr>\n",
       "    <tr>\n",
       "      <th>5</th>\n",
       "      <td>1025657</td>\n",
       "      <td>2017-03-22</td>\n",
       "      <td>21:05:00</td>\n",
       "      <td>NaN</td>\n",
       "      <td>NaN</td>\n",
       "      <td>NaN</td>\n",
       "      <td>25.0</td>\n",
       "      <td>251.0</td>\n",
       "      <td>81.0</td>\n",
       "      <td>white</td>\n",
       "      <td>...</td>\n",
       "      <td>False</td>\n",
       "      <td>False</td>\n",
       "      <td>2017</td>\n",
       "      <td>19:14:01</td>\n",
       "      <td>19:41:02</td>\n",
       "      <td>1154</td>\n",
       "      <td>1181</td>\n",
       "      <td>1265</td>\n",
       "      <td>84</td>\n",
       "      <td>1</td>\n",
       "    </tr>\n",
       "    <tr>\n",
       "      <th>7</th>\n",
       "      <td>1025668</td>\n",
       "      <td>2017-03-22</td>\n",
       "      <td>20:05:00</td>\n",
       "      <td>NaN</td>\n",
       "      <td>NaN</td>\n",
       "      <td>NaN</td>\n",
       "      <td>25.0</td>\n",
       "      <td>253.0</td>\n",
       "      <td>24.0</td>\n",
       "      <td>black</td>\n",
       "      <td>...</td>\n",
       "      <td>False</td>\n",
       "      <td>False</td>\n",
       "      <td>2017</td>\n",
       "      <td>19:14:01</td>\n",
       "      <td>19:41:02</td>\n",
       "      <td>1154</td>\n",
       "      <td>1181</td>\n",
       "      <td>1205</td>\n",
       "      <td>24</td>\n",
       "      <td>1</td>\n",
       "    </tr>\n",
       "    <tr>\n",
       "      <th>8</th>\n",
       "      <td>1025669</td>\n",
       "      <td>2017-12-20</td>\n",
       "      <td>19:58:00</td>\n",
       "      <td>1000 BLOCK E HORTTER ST</td>\n",
       "      <td>40.065679</td>\n",
       "      <td>-75.170009</td>\n",
       "      <td>14.0</td>\n",
       "      <td>141.0</td>\n",
       "      <td>24.0</td>\n",
       "      <td>black</td>\n",
       "      <td>...</td>\n",
       "      <td>False</td>\n",
       "      <td>True</td>\n",
       "      <td>2017</td>\n",
       "      <td>16:38:03</td>\n",
       "      <td>17:08:36</td>\n",
       "      <td>998</td>\n",
       "      <td>1028</td>\n",
       "      <td>1198</td>\n",
       "      <td>170</td>\n",
       "      <td>1</td>\n",
       "    </tr>\n",
       "  </tbody>\n",
       "</table>\n",
       "<p>5 rows × 27 columns</p>\n",
       "</div>"
      ],
      "text/plain": [
       "   raw_row_number       date      time                 location        lat  \\\n",
       "0         1025649 2017-03-22  20:30:00                      NaN        NaN   \n",
       "4         1025656 2017-03-22  19:50:00                      NaN        NaN   \n",
       "5         1025657 2017-03-22  21:05:00                      NaN        NaN   \n",
       "7         1025668 2017-03-22  20:05:00                      NaN        NaN   \n",
       "8         1025669 2017-12-20  19:58:00  1000 BLOCK E HORTTER ST  40.065679   \n",
       "\n",
       "         lng  district  service_area  subject_age subject_race  ...  \\\n",
       "0        NaN      25.0         252.0         39.0        white  ...   \n",
       "4        NaN      25.0         252.0         42.0        black  ...   \n",
       "5        NaN      25.0         251.0         81.0        white  ...   \n",
       "7        NaN      25.0         253.0         24.0        black  ...   \n",
       "8 -75.170009      14.0         141.0         24.0        black  ...   \n",
       "\n",
       "  search_person search_vehicle  year    sunset      dusk  sunset_minute  \\\n",
       "0         False          False  2017  19:14:01  19:41:02           1154   \n",
       "4         False          False  2017  19:14:01  19:41:02           1154   \n",
       "5         False          False  2017  19:14:01  19:41:02           1154   \n",
       "7         False          False  2017  19:14:01  19:41:02           1154   \n",
       "8         False           True  2017  16:38:03  17:08:36            998   \n",
       "\n",
       "   dusk_minute  minute  minutes_after_dark  is_dark  \n",
       "0         1181    1230                  49        1  \n",
       "4         1181    1190                   9        1  \n",
       "5         1181    1265                  84        1  \n",
       "7         1181    1205                  24        1  \n",
       "8         1028    1198                 170        1  \n",
       "\n",
       "[5 rows x 27 columns]"
      ]
     },
     "execution_count": 29,
     "metadata": {},
     "output_type": "execute_result"
    }
   ],
   "source": [
    "vod_stops.head()"
   ]
  },
  {
   "cell_type": "code",
   "execution_count": 30,
   "metadata": {},
   "outputs": [
    {
     "name": "stderr",
     "output_type": "stream",
     "text": [
      "/Users/blin/Documents/ac221/project_clone/opp/calculations.py:331: FutureWarning: using a dict on a Series for aggregation\n",
      "is deprecated and will be removed in a future version\n",
      "  vod_count = vod_stops.groupby('is_dark')[vod_stops.columns.values[0]].agg({'total_count': 'count'})\n"
     ]
    },
    {
     "data": {
      "text/html": [
       "<div>\n",
       "<style scoped>\n",
       "    .dataframe tbody tr th:only-of-type {\n",
       "        vertical-align: middle;\n",
       "    }\n",
       "\n",
       "    .dataframe tbody tr th {\n",
       "        vertical-align: top;\n",
       "    }\n",
       "\n",
       "    .dataframe thead th {\n",
       "        text-align: right;\n",
       "    }\n",
       "</style>\n",
       "<table border=\"1\" class=\"dataframe\">\n",
       "  <thead>\n",
       "    <tr style=\"text-align: right;\">\n",
       "      <th>subject_race</th>\n",
       "      <th>asian/pacific islander</th>\n",
       "      <th>black</th>\n",
       "      <th>hispanic</th>\n",
       "      <th>other/unknown</th>\n",
       "      <th>white</th>\n",
       "    </tr>\n",
       "    <tr>\n",
       "      <th>is_dark</th>\n",
       "      <th></th>\n",
       "      <th></th>\n",
       "      <th></th>\n",
       "      <th></th>\n",
       "      <th></th>\n",
       "    </tr>\n",
       "  </thead>\n",
       "  <tbody>\n",
       "    <tr>\n",
       "      <th>0</th>\n",
       "      <td>0.020758</td>\n",
       "      <td>0.690080</td>\n",
       "      <td>0.125030</td>\n",
       "      <td>0.015448</td>\n",
       "      <td>0.148685</td>\n",
       "    </tr>\n",
       "    <tr>\n",
       "      <th>1</th>\n",
       "      <td>0.027970</td>\n",
       "      <td>0.643992</td>\n",
       "      <td>0.144682</td>\n",
       "      <td>0.016229</td>\n",
       "      <td>0.167127</td>\n",
       "    </tr>\n",
       "  </tbody>\n",
       "</table>\n",
       "</div>"
      ],
      "text/plain": [
       "subject_race  asian/pacific islander     black  hispanic  other/unknown  \\\n",
       "is_dark                                                                   \n",
       "0                           0.020758  0.690080  0.125030       0.015448   \n",
       "1                           0.027970  0.643992  0.144682       0.016229   \n",
       "\n",
       "subject_race     white  \n",
       "is_dark                 \n",
       "0             0.148685  \n",
       "1             0.167127  "
      ]
     },
     "execution_count": 30,
     "metadata": {},
     "output_type": "execute_result"
    }
   ],
   "source": [
    "vod_stops['time'] = vod_stops['time'].apply(lambda time: datetime.datetime.strptime(time, '%H:%M:%S').time())\n",
    "calc_vod_rate(vod_stops, '18:30', '18:45', 'subject_race', time_col = 'time')\n"
   ]
  },
  {
   "cell_type": "code",
   "execution_count": 31,
   "metadata": {},
   "outputs": [
    {
     "name": "stdout",
     "output_type": "stream",
     "text": [
      "                 Generalized Linear Model Regression Results                  \n",
      "==============================================================================\n",
      "Dep. Variable:           subject_race   No. Observations:                95858\n",
      "Model:                            GLM   Df Residuals:                    95851\n",
      "Model Family:                Binomial   Df Model:                            6\n",
      "Link Function:                  logit   Scale:                          1.0000\n",
      "Method:                          IRLS   Log-Likelihood:                -58902.\n",
      "Date:                Fri, 10 May 2019   Deviance:                   1.1780e+05\n",
      "Time:                        09:11:31   Pearson chi2:                 9.59e+04\n",
      "No. Iterations:                   100   Covariance Type:             nonrobust\n",
      "=====================================================================================\n",
      "                        coef    std err          z      P>|z|      [0.025      0.975]\n",
      "-------------------------------------------------------------------------------------\n",
      "is_dark              -0.1823      0.017    -11.009      0.000      -0.215      -0.150\n",
      "Intercept             0.7720      0.011     73.085      0.000       0.751       0.793\n",
      "cr(data, df=6)[0]    -0.1149      0.032     -3.591      0.000      -0.178      -0.052\n",
      "cr(data, df=6)[1]     0.0102      0.020      0.505      0.614      -0.029       0.050\n",
      "cr(data, df=6)[2]     0.0248      0.016      1.516      0.130      -0.007       0.057\n",
      "cr(data, df=6)[3]     0.2037      0.016     13.065      0.000       0.173       0.234\n",
      "cr(data, df=6)[4]     0.2768      0.018     15.327      0.000       0.241       0.312\n",
      "cr(data, df=6)[5]     0.3715      0.028     13.132      0.000       0.316       0.427\n",
      "=====================================================================================\n"
     ]
    }
   ],
   "source": [
    "is_black = (vod_stops['subject_race'] == 'black').astype(int)\n",
    "\n",
    "X = vod_stops[['is_dark']].merge(dmatrix(\"cr(data,df = 6)\", {\"data\": vod_stops['minute']}, return_type='dataframe'),\n",
    "                                left_index = True, right_index = True)\n",
    "\n",
    "logit_model = sm.GLM(is_black, X, family=sm.families.Binomial())\n",
    "logit_results = logit_model.fit()\n",
    "print(logit_results.summary())"
   ]
  },
  {
   "cell_type": "code",
   "execution_count": 32,
   "metadata": {},
   "outputs": [
    {
     "name": "stderr",
     "output_type": "stream",
     "text": [
      "/anaconda3/envs/general/lib/python3.6/site-packages/numpy/core/fromnumeric.py:52: FutureWarning: Method .ptp is deprecated and will be removed in a future version. Use numpy.ptp instead.\n",
      "  return getattr(obj, method)(*args, **kwds)\n"
     ]
    },
    {
     "name": "stdout",
     "output_type": "stream",
     "text": [
      "                 Generalized Linear Model Regression Results                  \n",
      "==============================================================================\n",
      "Dep. Variable:           subject_race   No. Observations:                95858\n",
      "Model:                            GLM   Df Residuals:                    95830\n",
      "Model Family:                Binomial   Df Model:                           27\n",
      "Link Function:                  logit   Scale:                          1.0000\n",
      "Method:                          IRLS   Log-Likelihood:                -43778.\n",
      "Date:                Fri, 10 May 2019   Deviance:                       87556.\n",
      "Time:                        09:11:39   Pearson chi2:                 9.58e+04\n",
      "No. Iterations:                   100   Covariance Type:             nonrobust\n",
      "=====================================================================================\n",
      "                        coef    std err          z      P>|z|      [0.025      0.975]\n",
      "-------------------------------------------------------------------------------------\n",
      "is_dark              -0.1555      0.020     -7.775      0.000      -0.195      -0.116\n",
      "Intercept             0.4903      0.015     33.054      0.000       0.461       0.519\n",
      "cr(data, df=6)[0]    -0.0899      0.039     -2.327      0.020      -0.166      -0.014\n",
      "cr(data, df=6)[1]     0.0343      0.024      1.404      0.160      -0.014       0.082\n",
      "cr(data, df=6)[2]     0.0115      0.020      0.581      0.561      -0.027       0.050\n",
      "cr(data, df=6)[3]     0.1264      0.019      6.673      0.000       0.089       0.164\n",
      "cr(data, df=6)[4]     0.1708      0.022      7.816      0.000       0.128       0.214\n",
      "cr(data, df=6)[5]     0.2372      0.034      6.988      0.000       0.171       0.304\n",
      "1.0                  -0.1164      0.050     -2.322      0.020      -0.215      -0.018\n",
      "2.0                  -0.5271      0.041    -12.993      0.000      -0.607      -0.448\n",
      "3.0                  -1.2019      0.043    -27.676      0.000      -1.287      -1.117\n",
      "5.0                  -1.5442      0.083    -18.532      0.000      -1.708      -1.381\n",
      "6.0                  -0.7220      0.058    -12.439      0.000      -0.836      -0.608\n",
      "7.0                  -1.8801      0.080    -23.606      0.000      -2.036      -1.724\n",
      "8.0                  -1.7533      0.068    -25.702      0.000      -1.887      -1.620\n",
      "9.0                  -0.6037      0.051    -11.730      0.000      -0.705      -0.503\n",
      "12.0                  1.8588      0.044     42.591      0.000       1.773       1.944\n",
      "14.0                  2.0497      0.040     51.465      0.000       1.972       2.128\n",
      "15.0                 -0.4458      0.033    -13.684      0.000      -0.510      -0.382\n",
      "16.0                  1.6323      0.066     24.704      0.000       1.503       1.762\n",
      "17.0                  0.7134      0.042     16.889      0.000       0.631       0.796\n",
      "18.0                  1.5277      0.039     38.977      0.000       1.451       1.605\n",
      "19.0                  1.8915      0.043     44.114      0.000       1.807       1.976\n",
      "22.0                  1.3130      0.032     41.056      0.000       1.250       1.376\n",
      "24.0                 -1.5358      0.027    -56.652      0.000      -1.589      -1.483\n",
      "25.0                 -0.9403      0.024    -39.538      0.000      -0.987      -0.894\n",
      "26.0                 -1.0784      0.045    -23.760      0.000      -1.167      -0.989\n",
      "35.0                  1.3528      0.033     41.014      0.000       1.288       1.417\n",
      "39.0                  1.6240      0.040     40.797      0.000       1.546       1.702\n",
      "77.0                 -1.1240      0.179     -6.296      0.000      -1.474      -0.774\n",
      "=====================================================================================\n"
     ]
    }
   ],
   "source": [
    "X = vod_stops[['is_dark']].merge(dmatrix(\"cr(data,df = 6)\", {\"data\": vod_stops['minute']}, return_type='dataframe'),\n",
    "                                left_index = True, right_index = True)\n",
    "\n",
    "X = X.merge(pd.get_dummies(vod_stops['district']), left_index = True, right_index = True)\n",
    "X = sm.add_constant(X)\n",
    "# X\n",
    "logit_model = sm.GLM(is_black, X, family=sm.families.Binomial())\n",
    "logit_results = logit_model.fit()\n",
    "print(logit_results.summary())"
   ]
  }
 ],
 "metadata": {
  "kernelspec": {
   "display_name": "general",
   "language": "python",
   "name": "general"
  },
  "language_info": {
   "codemirror_mode": {
    "name": "ipython",
    "version": 3
   },
   "file_extension": ".py",
   "mimetype": "text/x-python",
   "name": "python",
   "nbconvert_exporter": "python",
   "pygments_lexer": "ipython3",
   "version": "3.6.7"
  }
 },
 "nbformat": 4,
 "nbformat_minor": 2
}
