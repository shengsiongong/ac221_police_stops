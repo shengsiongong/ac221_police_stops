{
 "cells": [
  {
   "cell_type": "code",
   "execution_count": 1,
   "metadata": {},
   "outputs": [],
   "source": [
    "from astral import Astral, AstralGeocoder, Location\n",
    "\n",
    "import numpy as np\n",
    "import scipy.stats\n",
    "import matplotlib.pyplot as plt\n",
    "import seaborn as sns\n",
    "import pandas as pd\n",
    "import warnings\n",
    "warnings.filterwarnings('ignore')\n",
    "\n",
    "from sklearn.metrics import accuracy_score\n",
    "import statsmodels.api as sm\n",
    "\n",
    "from calculations import *\n",
    "from plotting import *\n",
    "\n",
    "import datetime\n",
    "\n",
    "#plt.style.use('ggplot')\n",
    "%matplotlib inline"
   ]
  },
  {
   "cell_type": "code",
   "execution_count": 2,
   "metadata": {},
   "outputs": [],
   "source": [
    "import pymc3 as pm\n",
    "from pymc3 import Normal, Binomial, sample, Model, MvNormal\n",
    "from pymc3.math import invlogit, dot, exp\n",
    "from theano import shared\n",
    "import theano.tensor as tt"
   ]
  },
  {
   "cell_type": "markdown",
   "metadata": {},
   "source": [
    "# Open Policing Project Tutorial"
   ]
  },
  {
   "cell_type": "markdown",
   "metadata": {},
   "source": [
    "## Introduction\n",
    "***"
   ]
  },
  {
   "cell_type": "markdown",
   "metadata": {},
   "source": [
    "In the US, an average of over 50,000 traffic stops are made by our police officers everyday. These are one of the most common interactions between the police and the public. Importantly, police officers are able to visually determine the physical characteristics of a driver (i.e. skin color in relation to race) before deciding to stop a driver. This is but one of the most common reflections of police bias. Police bias, whether implicit or explicit, has been a major ethical issue for a long time in our society. Depending on the severity of the charge,  this can have varying degrees of negative repercussions on the discriminated. For example, traffic citations have been [studied](https://www.thenewspaper.com/rlc/docs/2019/fl-ticketimpact.pdf) to have disproportionately negatively impacted low-income individuals, as they have a harder time to pay the fines. Thus, if there is police bias in deciding who to stop, then those who govern our society has unjustly decided to trap minority races in the cycle of poverty. While there have been existing studies on traffic stops in the US, the analysis has not been completed for all municipal and states. Given the huge diversity in the US, it is important that we hold every municipal or state accountable for potential racial discrimination.\n",
    "\n",
    "The [Stanford Open Policing Project](https://openpolicing.stanford.edu/) is a comprehensive study of potential racial discrimination in traffic stops. Using data from 21 state patrol agencies and 29 municipal police departments, the project found significant racial disparities in traffic stop policing and evidence that bias plays a role in these disparities. Importantly, they use a principled and comprehensive approach to prove the presence of police bias. The core analysis of the project is done in R. In order to make the open source nature of the project more readily available to everyone, we will replicate the analysis and tutorial in Python. We will not only show that their data is reproducible in Python, but will also extend their analysis to a Sacramento dataset. As each dataset will be different, we will provide more in-depth guidance for the reader to demonstrate the thought process at each step of the data analysis. This will also be highly useful for readers who do not have much experience with Python. However, for users who are mainly interested in analysis, we will also supplement the guidance code with functions that will make our analysis more easily replicable for other states/municpals.\n"
   ]
  },
  {
   "cell_type": "markdown",
   "metadata": {},
   "source": [
    "## Setup\n",
    "***"
   ]
  },
  {
   "cell_type": "markdown",
   "metadata": {},
   "source": [
    "We typically import all the relevant libraries and functions right at the start of our .py file or .ipynb notebook. All the required libraries should be available to you after you run the `setup.py` file available on the github repository. \n",
    "\n",
    "**Note**: Since we are in a .ipynb notebook, and we want to display our matplotlib graphs next to our code, we used a 'magic function' `%matplotlib inline` (prefixed with `%`), to set the backend of matplotlib to the 'inline' backend. There are tons of 'magic functions' in IPython and you can find out more [here](https://ipython.readthedocs.io/en/stable/interactive/tutorial.html#magics-explained)!"
   ]
  },
  {
   "cell_type": "markdown",
   "metadata": {},
   "source": [
    "## Covering the Basics\n",
    "***"
   ]
  },
  {
   "cell_type": "code",
   "execution_count": 3,
   "metadata": {},
   "outputs": [
    {
     "data": {
      "text/html": [
       "<div>\n",
       "<style scoped>\n",
       "    .dataframe tbody tr th:only-of-type {\n",
       "        vertical-align: middle;\n",
       "    }\n",
       "\n",
       "    .dataframe tbody tr th {\n",
       "        vertical-align: top;\n",
       "    }\n",
       "\n",
       "    .dataframe thead th {\n",
       "        text-align: right;\n",
       "    }\n",
       "</style>\n",
       "<table border=\"1\" class=\"dataframe\">\n",
       "  <thead>\n",
       "    <tr style=\"text-align: right;\">\n",
       "      <th></th>\n",
       "      <th>Idx</th>\n",
       "      <th>CitationNumber</th>\n",
       "      <th>EntryDate</th>\n",
       "      <th>StopType</th>\n",
       "      <th>StopDTS</th>\n",
       "      <th>StopCause</th>\n",
       "      <th>ViolationNumber</th>\n",
       "      <th>SpecialCondition</th>\n",
       "      <th>Race</th>\n",
       "      <th>Gender</th>\n",
       "      <th>...</th>\n",
       "      <th>ResultCitation</th>\n",
       "      <th>ResultArrest</th>\n",
       "      <th>ResultReport</th>\n",
       "      <th>ResultAdvised</th>\n",
       "      <th>ResultFC</th>\n",
       "      <th>CadCallNumber</th>\n",
       "      <th>DetentionDuration</th>\n",
       "      <th>OfficerAbra</th>\n",
       "      <th>LimitedLanguage</th>\n",
       "      <th>FID</th>\n",
       "    </tr>\n",
       "  </thead>\n",
       "  <tbody>\n",
       "    <tr>\n",
       "      <th>0</th>\n",
       "      <td>430490</td>\n",
       "      <td>NaN</td>\n",
       "      <td>2017-03-22T02:28:48.000Z</td>\n",
       "      <td>VEHICLE</td>\n",
       "      <td>2017-03-22T02:09:00.000Z</td>\n",
       "      <td>REGISTRATION OR REQUIRED EQUIPMENT VIOLATION</td>\n",
       "      <td>4000A</td>\n",
       "      <td>NOT APPLICABLE</td>\n",
       "      <td>ASIAN/PACIFIC ISLANDER</td>\n",
       "      <td>M</td>\n",
       "      <td>...</td>\n",
       "      <td>False</td>\n",
       "      <td>False</td>\n",
       "      <td>False</td>\n",
       "      <td>True</td>\n",
       "      <td>False</td>\n",
       "      <td>17-080525</td>\n",
       "      <td>10</td>\n",
       "      <td>4077</td>\n",
       "      <td>False</td>\n",
       "      <td>4001</td>\n",
       "    </tr>\n",
       "    <tr>\n",
       "      <th>1</th>\n",
       "      <td>430491</td>\n",
       "      <td>NaN</td>\n",
       "      <td>2017-03-22T02:47:35.000Z</td>\n",
       "      <td>VEHICLE</td>\n",
       "      <td>2017-03-22T02:10:00.000Z</td>\n",
       "      <td>REGISTRATION OR REQUIRED EQUIPMENT VIOLATION</td>\n",
       "      <td>4000(A) VC</td>\n",
       "      <td>NOT APPLICABLE</td>\n",
       "      <td>AFRICAN AMERICAN</td>\n",
       "      <td>F</td>\n",
       "      <td>...</td>\n",
       "      <td>False</td>\n",
       "      <td>False</td>\n",
       "      <td>False</td>\n",
       "      <td>True</td>\n",
       "      <td>False</td>\n",
       "      <td>17-080526</td>\n",
       "      <td>15</td>\n",
       "      <td>4183</td>\n",
       "      <td>False</td>\n",
       "      <td>4002</td>\n",
       "    </tr>\n",
       "    <tr>\n",
       "      <th>2</th>\n",
       "      <td>430492</td>\n",
       "      <td>NaN</td>\n",
       "      <td>2017-03-22T02:56:58.000Z</td>\n",
       "      <td>VEHICLE</td>\n",
       "      <td>2017-03-22T02:43:00.000Z</td>\n",
       "      <td>REGISTRATION OR REQUIRED EQUIPMENT VIOLATION</td>\n",
       "      <td>5200A</td>\n",
       "      <td>NOT APPLICABLE</td>\n",
       "      <td>AFRICAN AMERICAN</td>\n",
       "      <td>F</td>\n",
       "      <td>...</td>\n",
       "      <td>False</td>\n",
       "      <td>False</td>\n",
       "      <td>False</td>\n",
       "      <td>True</td>\n",
       "      <td>False</td>\n",
       "      <td>17-080553</td>\n",
       "      <td>10</td>\n",
       "      <td>4077</td>\n",
       "      <td>False</td>\n",
       "      <td>4003</td>\n",
       "    </tr>\n",
       "    <tr>\n",
       "      <th>3</th>\n",
       "      <td>430493</td>\n",
       "      <td>NaN</td>\n",
       "      <td>2017-03-22T03:00:28.000Z</td>\n",
       "      <td>VEHICLE</td>\n",
       "      <td>2017-03-15T01:38:00.000Z</td>\n",
       "      <td>REGISTRATION OR REQUIRED EQUIPMENT VIOLATION</td>\n",
       "      <td>4000A VC</td>\n",
       "      <td>NOT APPLICABLE</td>\n",
       "      <td>AFRICAN AMERICAN</td>\n",
       "      <td>F</td>\n",
       "      <td>...</td>\n",
       "      <td>False</td>\n",
       "      <td>False</td>\n",
       "      <td>False</td>\n",
       "      <td>True</td>\n",
       "      <td>False</td>\n",
       "      <td>17-073156</td>\n",
       "      <td>15</td>\n",
       "      <td>3477</td>\n",
       "      <td>False</td>\n",
       "      <td>4004</td>\n",
       "    </tr>\n",
       "    <tr>\n",
       "      <th>4</th>\n",
       "      <td>430494</td>\n",
       "      <td>NaN</td>\n",
       "      <td>2017-03-22T03:09:24.000Z</td>\n",
       "      <td>VEHICLE</td>\n",
       "      <td>2017-03-15T01:22:00.000Z</td>\n",
       "      <td>REGISTRATION OR REQUIRED EQUIPMENT VIOLATION</td>\n",
       "      <td>4000A VC</td>\n",
       "      <td>NOT APPLICABLE</td>\n",
       "      <td>HISPANIC</td>\n",
       "      <td>M</td>\n",
       "      <td>...</td>\n",
       "      <td>False</td>\n",
       "      <td>False</td>\n",
       "      <td>False</td>\n",
       "      <td>False</td>\n",
       "      <td>False</td>\n",
       "      <td>17-073141</td>\n",
       "      <td>5</td>\n",
       "      <td>3477</td>\n",
       "      <td>False</td>\n",
       "      <td>4005</td>\n",
       "    </tr>\n",
       "  </tbody>\n",
       "</table>\n",
       "<p>5 rows × 36 columns</p>\n",
       "</div>"
      ],
      "text/plain": [
       "      Idx CitationNumber                 EntryDate StopType  \\\n",
       "0  430490            NaN  2017-03-22T02:28:48.000Z  VEHICLE   \n",
       "1  430491            NaN  2017-03-22T02:47:35.000Z  VEHICLE   \n",
       "2  430492            NaN  2017-03-22T02:56:58.000Z  VEHICLE   \n",
       "3  430493            NaN  2017-03-22T03:00:28.000Z  VEHICLE   \n",
       "4  430494            NaN  2017-03-22T03:09:24.000Z  VEHICLE   \n",
       "\n",
       "                    StopDTS                                     StopCause  \\\n",
       "0  2017-03-22T02:09:00.000Z  REGISTRATION OR REQUIRED EQUIPMENT VIOLATION   \n",
       "1  2017-03-22T02:10:00.000Z  REGISTRATION OR REQUIRED EQUIPMENT VIOLATION   \n",
       "2  2017-03-22T02:43:00.000Z  REGISTRATION OR REQUIRED EQUIPMENT VIOLATION   \n",
       "3  2017-03-15T01:38:00.000Z  REGISTRATION OR REQUIRED EQUIPMENT VIOLATION   \n",
       "4  2017-03-15T01:22:00.000Z  REGISTRATION OR REQUIRED EQUIPMENT VIOLATION   \n",
       "\n",
       "  ViolationNumber SpecialCondition                    Race Gender  ...  \\\n",
       "0           4000A   NOT APPLICABLE  ASIAN/PACIFIC ISLANDER      M  ...   \n",
       "1      4000(A) VC   NOT APPLICABLE        AFRICAN AMERICAN      F  ...   \n",
       "2           5200A   NOT APPLICABLE        AFRICAN AMERICAN      F  ...   \n",
       "3        4000A VC   NOT APPLICABLE        AFRICAN AMERICAN      F  ...   \n",
       "4        4000A VC   NOT APPLICABLE                HISPANIC      M  ...   \n",
       "\n",
       "   ResultCitation ResultArrest  ResultReport  ResultAdvised  ResultFC  \\\n",
       "0           False        False         False           True     False   \n",
       "1           False        False         False           True     False   \n",
       "2           False        False         False           True     False   \n",
       "3           False        False         False           True     False   \n",
       "4           False        False         False          False     False   \n",
       "\n",
       "   CadCallNumber DetentionDuration OfficerAbra LimitedLanguage   FID  \n",
       "0      17-080525                10        4077           False  4001  \n",
       "1      17-080526                15        4183           False  4002  \n",
       "2      17-080553                10        4077           False  4003  \n",
       "3      17-073156                15        3477           False  4004  \n",
       "4      17-073141                 5        3477           False  4005  \n",
       "\n",
       "[5 rows x 36 columns]"
      ]
     },
     "execution_count": 3,
     "metadata": {},
     "output_type": "execute_result"
    }
   ],
   "source": [
    "# http://data.cityofsacramento.org/datasets/a8cb4c137c824e939dca586c6dc77da9_0/data\n",
    "sacramento_stops = pd.read_csv('data/sacramento_stops.csv')\n",
    "sacramento_stops.head()"
   ]
  },
  {
   "cell_type": "markdown",
   "metadata": {},
   "source": [
    "A `pandas` dataframe is basically what you would expect of a spreadsheet. Data is arranged in a tabular format, with each column representing a feature, and each row being a particular observation. It is often particularly important to understand the granularity of the data you are given, where granularity describes what each observation represents. Here, each observation is a police stop. The columns thus represent the details of a police stop, i.e. reason behind the stop, the race of the person stopped. In order to better understand the data, we get some quick summaries."
   ]
  },
  {
   "cell_type": "code",
   "execution_count": 4,
   "metadata": {},
   "outputs": [
    {
     "data": {
      "text/plain": [
       "((59235, 36),\n",
       " array(['Idx', 'CitationNumber', 'EntryDate', 'StopType', 'StopDTS',\n",
       "        'StopCause', 'ViolationNumber', 'SpecialCondition', 'Race',\n",
       "        'Gender', 'BirthYear', 'ExitVehicle', 'PassengerCount',\n",
       "        'SearchDriver', 'SearchPassenger', 'SearchVehicle', 'Authority',\n",
       "        'ConsentRequested', 'ConsentGranted', 'FSWeapons', 'FSDrugs',\n",
       "        'FSCash', 'FSVehicle', 'FSAlcohol', 'FSOtherProperty', 'FSNothing',\n",
       "        'ResultCitation', 'ResultArrest', 'ResultReport', 'ResultAdvised',\n",
       "        'ResultFC', 'CadCallNumber', 'DetentionDuration', 'OfficerAbra',\n",
       "        'LimitedLanguage', 'FID'], dtype=object))"
      ]
     },
     "execution_count": 4,
     "metadata": {},
     "output_type": "execute_result"
    }
   ],
   "source": [
    "sacramento_stops.shape, sacramento_stops.columns.values"
   ]
  },
  {
   "cell_type": "code",
   "execution_count": 5,
   "metadata": {},
   "outputs": [
    {
     "data": {
      "text/html": [
       "<div>\n",
       "<style scoped>\n",
       "    .dataframe tbody tr th:only-of-type {\n",
       "        vertical-align: middle;\n",
       "    }\n",
       "\n",
       "    .dataframe tbody tr th {\n",
       "        vertical-align: top;\n",
       "    }\n",
       "\n",
       "    .dataframe thead th {\n",
       "        text-align: right;\n",
       "    }\n",
       "</style>\n",
       "<table border=\"1\" class=\"dataframe\">\n",
       "  <thead>\n",
       "    <tr style=\"text-align: right;\">\n",
       "      <th></th>\n",
       "      <th>Idx</th>\n",
       "      <th>BirthYear</th>\n",
       "      <th>PassengerCount</th>\n",
       "      <th>DetentionDuration</th>\n",
       "      <th>OfficerAbra</th>\n",
       "      <th>FID</th>\n",
       "    </tr>\n",
       "  </thead>\n",
       "  <tbody>\n",
       "    <tr>\n",
       "      <th>count</th>\n",
       "      <td>59235.000000</td>\n",
       "      <td>59235.000000</td>\n",
       "      <td>59235.000000</td>\n",
       "      <td>59235.000000</td>\n",
       "      <td>59235.000000</td>\n",
       "      <td>59235.000000</td>\n",
       "    </tr>\n",
       "    <tr>\n",
       "      <th>mean</th>\n",
       "      <td>459747.654647</td>\n",
       "      <td>1982.200827</td>\n",
       "      <td>0.577648</td>\n",
       "      <td>12.090014</td>\n",
       "      <td>3806.103604</td>\n",
       "      <td>29618.000000</td>\n",
       "    </tr>\n",
       "    <tr>\n",
       "      <th>std</th>\n",
       "      <td>20073.005009</td>\n",
       "      <td>13.623040</td>\n",
       "      <td>1.974042</td>\n",
       "      <td>14.102620</td>\n",
       "      <td>899.490514</td>\n",
       "      <td>17099.815935</td>\n",
       "    </tr>\n",
       "    <tr>\n",
       "      <th>min</th>\n",
       "      <td>426190.000000</td>\n",
       "      <td>1900.000000</td>\n",
       "      <td>0.000000</td>\n",
       "      <td>0.000000</td>\n",
       "      <td>5.000000</td>\n",
       "      <td>1.000000</td>\n",
       "    </tr>\n",
       "    <tr>\n",
       "      <th>25%</th>\n",
       "      <td>442437.500000</td>\n",
       "      <td>1974.000000</td>\n",
       "      <td>0.000000</td>\n",
       "      <td>8.000000</td>\n",
       "      <td>3602.000000</td>\n",
       "      <td>14809.500000</td>\n",
       "    </tr>\n",
       "    <tr>\n",
       "      <th>50%</th>\n",
       "      <td>459246.000000</td>\n",
       "      <td>1986.000000</td>\n",
       "      <td>0.000000</td>\n",
       "      <td>10.000000</td>\n",
       "      <td>4094.000000</td>\n",
       "      <td>29618.000000</td>\n",
       "    </tr>\n",
       "    <tr>\n",
       "      <th>75%</th>\n",
       "      <td>477051.500000</td>\n",
       "      <td>1993.000000</td>\n",
       "      <td>1.000000</td>\n",
       "      <td>15.000000</td>\n",
       "      <td>4345.000000</td>\n",
       "      <td>44426.500000</td>\n",
       "    </tr>\n",
       "    <tr>\n",
       "      <th>max</th>\n",
       "      <td>495864.000000</td>\n",
       "      <td>2019.000000</td>\n",
       "      <td>425.000000</td>\n",
       "      <td>543.000000</td>\n",
       "      <td>5453.000000</td>\n",
       "      <td>59235.000000</td>\n",
       "    </tr>\n",
       "  </tbody>\n",
       "</table>\n",
       "</div>"
      ],
      "text/plain": [
       "                 Idx     BirthYear  PassengerCount  DetentionDuration  \\\n",
       "count   59235.000000  59235.000000    59235.000000       59235.000000   \n",
       "mean   459747.654647   1982.200827        0.577648          12.090014   \n",
       "std     20073.005009     13.623040        1.974042          14.102620   \n",
       "min    426190.000000   1900.000000        0.000000           0.000000   \n",
       "25%    442437.500000   1974.000000        0.000000           8.000000   \n",
       "50%    459246.000000   1986.000000        0.000000          10.000000   \n",
       "75%    477051.500000   1993.000000        1.000000          15.000000   \n",
       "max    495864.000000   2019.000000      425.000000         543.000000   \n",
       "\n",
       "        OfficerAbra           FID  \n",
       "count  59235.000000  59235.000000  \n",
       "mean    3806.103604  29618.000000  \n",
       "std      899.490514  17099.815935  \n",
       "min        5.000000      1.000000  \n",
       "25%     3602.000000  14809.500000  \n",
       "50%     4094.000000  29618.000000  \n",
       "75%     4345.000000  44426.500000  \n",
       "max     5453.000000  59235.000000  "
      ]
     },
     "execution_count": 5,
     "metadata": {},
     "output_type": "execute_result"
    }
   ],
   "source": [
    "sacramento_stops.describe() "
   ]
  },
  {
   "cell_type": "markdown",
   "metadata": {},
   "source": [
    "We started by looking at the shape of our dataframe. Our dataframe has 59235 rows, and 36 columsn. This means that there 59235 stops in our dataset, and there are 36 possible features, which we also listed out. The `.describe()` method is often a quick tool to (mainly) get the key statistics of the quantitative features in our data. This lets us find the average, standard deviation, range, etc. of the quantitative features. \n",
    "\n",
    "What is the date range that our data covers though? It is important to know the dates of analysis so that we can make better comparison with other states/muncipals. We note that the column for dates `StopDTS`, is not encoded in datetime format yet. There are other ways of converting strings to datetime format, but `pandas` has a very convenient `to_datetime()` function that does the job for us. With a datetime object, it is then extremely simple to extract various time information from our data, i.e. year, month, day, time. Here, we just extracted/separated the date and time objects.\n",
    "\n",
    "**Note**: When we deal with time data, it is important to note the appropriate timezone. This should usually be documented in a data dictionary, or a documentation of the dataset. Here, we note that times are in UTC."
   ]
  },
  {
   "cell_type": "code",
   "execution_count": 6,
   "metadata": {},
   "outputs": [],
   "source": [
    "# As according to the documentation of the dataset, times are in UTC. Keep that in mind when during veil of darkness\n",
    "sacramento_stops['date'] = pd.to_datetime(sacramento_stops['StopDTS']).apply(lambda date: date.date)\n",
    "sacramento_stops['time'] = pd.to_datetime(sacramento_stops['StopDTS']).apply(lambda date: date.time)"
   ]
  },
  {
   "cell_type": "code",
   "execution_count": 7,
   "metadata": {},
   "outputs": [
    {
     "data": {
      "text/plain": [
       "(datetime.date(2017, 2, 1), datetime.date(2019, 1, 1))"
      ]
     },
     "execution_count": 7,
     "metadata": {},
     "output_type": "execute_result"
    }
   ],
   "source": [
    "sacramento_stops['date'].min(), sacramento_stops['date'].max()"
   ]
  },
  {
   "cell_type": "markdown",
   "metadata": {},
   "source": [
    "It seems like the data is from February 1st 2017 to January 1st 2019. There are not alot of observations in 2019 given that it is only 1 day. As such, we decided to exclude the observations on January 1st 2019 in our analysi. This is a relatively straightforward process using standard `pandas` filtering mechanism shown below."
   ]
  },
  {
   "cell_type": "code",
   "execution_count": 8,
   "metadata": {},
   "outputs": [],
   "source": [
    "start_date = datetime.date(2017,2,1)\n",
    "stop_date = datetime.date(2019,1,1)\n",
    "sacramento_stops = sacramento_stops[(sacramento_stops['date'] >= start_date) & (sacramento_stops['date'] < stop_date)]"
   ]
  },
  {
   "cell_type": "markdown",
   "metadata": {},
   "source": [
    "For the purposes of our analysis, we want to filter out just the observations for vehicular stops. For this dataset, there are only vehicular stops data. However, you may find datasets with pedestrian stops data as well. It might then be interesting to do whole new analysis on pedestrian stops data."
   ]
  },
  {
   "cell_type": "code",
   "execution_count": 9,
   "metadata": {},
   "outputs": [
    {
     "data": {
      "text/plain": [
       "array(['VEHICLE'], dtype=object)"
      ]
     },
     "execution_count": 9,
     "metadata": {},
     "output_type": "execute_result"
    }
   ],
   "source": [
    "sacramento_stops.StopType.unique()"
   ]
  },
  {
   "cell_type": "markdown",
   "metadata": {},
   "source": [
    "In most of the datasets that you will find, some form of pre-processing is necessary before you can conduct any analysis on it. It can range from filtering dates to dealing with missing data. Importantly, you should have some form of understanding of the type of analysis intended for your data pre-processing. Let us start by identifying whether there is missing data or corrupted fields. It is easy to identify missing data in general with the `.isna()` function which returns a boolean if the row has a missing field. \n",
    "\n",
    "**Note**: If you wish to replace missing data, there are several ways of approaching the problem. You may just replace it with a 0, the mean of the field, etc. or you may just include an indicator column. There are even more principled ways of imputing missing values! However, there is no hard and fast rule, just remember to justify why you did it, and how do you think it will bias your results."
   ]
  },
  {
   "cell_type": "code",
   "execution_count": 10,
   "metadata": {},
   "outputs": [
    {
     "name": "stdout",
     "output_type": "stream",
     "text": [
      "CitationNumber has 39160 missing rows\n",
      "ViolationNumber has 95 missing rows\n",
      "ExitVehicle has 701 missing rows\n",
      "ConsentRequested has 28750 missing rows\n",
      "ConsentGranted has 55302 missing rows\n"
     ]
    }
   ],
   "source": [
    "# list missing data\n",
    "for col in sacramento_stops.columns:\n",
    "    missno = np.sum(sacramento_stops[col].isna())\n",
    "    if missno > 0:\n",
    "        print('{} has {} missing rows'.format(col, missno))"
   ]
  },
  {
   "cell_type": "markdown",
   "metadata": {},
   "source": [
    "Thankfully, it seems like we will not be using the fields with missing values for our analysis (for now). \n",
    "\n",
    "Dealing with corrupted fields is arguably even trickier. A corrupted field is basically a field that you may have reason to believe has been wrongly entered. If there is a well-documented data dictionary with clear constraints applied to each field, this might not be a big issue. However, it often takes plenty of time at staring at your data before you can identify corrupted fields. And there may not even be any issues with your data! \n",
    "\n",
    "For this particular dataset, we found that there were observations in which a search was not conducted, but there were contrabands found. This seems slightly contradictory. Although it is entirely possible that a person gives up their contraband without being searched, it is not particularly common and it would make our analysis trickier. We decided to remove those observations. \n",
    "\n",
    "**Note**: For the ease of analysis, we also grouped `SearchDriver`, `SearchPassenger`, and `SearchVehicle` together into one variable representing whether any search was conducted. We note that the race variable is specfically for the driver. As such, we only considered instances when at least one of the driver or the vehicle were searched as an indicator of whether any search was conducted. Intuitively, if only the passenger was searched, it does not make sense to correlate the race of the driver with the stop.  \n",
    "\n",
    "Similarly, we also grouped `FSAlcohol`, `FSCash`, `FSDrugs`, `FSOtherProperty`, `FSWeapons`, and `FSVehicle` together into one variable representing whether any contraband item was found. We note that not all datasets are so detailed about the type of contraband item that was confiscated. As such, we might do a subsequent analysis making use of the different types of contrabands."
   ]
  },
  {
   "cell_type": "code",
   "execution_count": 11,
   "metadata": {},
   "outputs": [
    {
     "data": {
      "text/plain": [
       "7874"
      ]
     },
     "execution_count": 11,
     "metadata": {},
     "output_type": "execute_result"
    }
   ],
   "source": [
    "# note that this is different from other analysis which includes SearchPassenger as well\n",
    "sacramento_stops['search_conducted'] = ((sacramento_stops['SearchDriver']) | (sacramento_stops['SearchVehicle']))\n",
    "sacramento_stops['search_conducted'].sum()"
   ]
  },
  {
   "cell_type": "code",
   "execution_count": 12,
   "metadata": {},
   "outputs": [
    {
     "data": {
      "text/plain": [
       "1558"
      ]
     },
     "execution_count": 12,
     "metadata": {},
     "output_type": "execute_result"
    }
   ],
   "source": [
    "sacramento_stops['contraband_found'] = ((sacramento_stops['FSAlcohol']) | (sacramento_stops['FSCash']) |\n",
    "                                       (sacramento_stops['FSDrugs']) | (sacramento_stops['FSOtherProperty']) |\n",
    "                                       (sacramento_stops['FSWeapons']) | (sacramento_stops['FSVehicle']))\n",
    "sacramento_stops['contraband_found'].sum()"
   ]
  },
  {
   "cell_type": "code",
   "execution_count": 13,
   "metadata": {},
   "outputs": [],
   "source": [
    "# Search not conducted, but contraband found. only 46 observations like these. Remove\n",
    "sacramento_stops = sacramento_stops[~((~sacramento_stops['search_conducted']) & (sacramento_stops['contraband_found']))]"
   ]
  },
  {
   "cell_type": "markdown",
   "metadata": {},
   "source": [
    "Now that we have cleaned our data, let us get a quick sense of the count and proportion of stops by race and/or year and month in Sacremento. We see that there are some of race categories that can be grouped together for the purposes of our analysis. Depending on the minority race of interest, this may be done differently."
   ]
  },
  {
   "cell_type": "code",
   "execution_count": 14,
   "metadata": {},
   "outputs": [
    {
     "data": {
      "text/plain": [
       "array(['ASIAN/PACIFIC ISLANDER', 'AFRICAN AMERICAN', 'HISPANIC', 'WHITE',\n",
       "       'OTHER/NOT APPARENT', 'ASIAN OTHER', 'UNKNOWN', 'NATIVE AMERICAN',\n",
       "       'MIXED RACE', 'CHINESE', 'AM. IND./AL. NATIVE', 'EAST INDIAN',\n",
       "       'ASIAN INDIAN', 'MIEN', 'HAWAIIAN', 'MIDDLE EASTERN',\n",
       "       'CUBAN/CARRIBEAN', 'PACIFIC ISLANDER', 'HMONG', 'FILIPINO',\n",
       "       'GUAMANIAN', 'VIETNAMESE', 'SAMOAN', 'ORIENTAL/ASIAN', 'CAMBODIAN',\n",
       "       'JAPANESE'], dtype=object)"
      ]
     },
     "execution_count": 14,
     "metadata": {},
     "output_type": "execute_result"
    }
   ],
   "source": [
    "sacramento_stops['Race'].unique()"
   ]
  },
  {
   "cell_type": "code",
   "execution_count": 15,
   "metadata": {},
   "outputs": [
    {
     "data": {
      "text/plain": [
       "array(['asian/pacific islander', 'african american', 'hispanic', 'white',\n",
       "       'other/unknown'], dtype=object)"
      ]
     },
     "execution_count": 15,
     "metadata": {},
     "output_type": "execute_result"
    }
   ],
   "source": [
    "# Convert to standardized names\n",
    "sacramento_stops['subject_race'] = sacramento_stops['Race'].str.lower()\n",
    "sacramento_stops['subject_race'] = sacramento_stops['subject_race'].replace({\n",
    "                                    'other/not apparent': 'other/unknown',\n",
    "                                    'asian other': 'asian/pacific islander',\n",
    "                                    'chinese': 'asian/pacific islander',\n",
    "                                    'east indian': 'asian/pacific islander',\n",
    "                                    'pacific islander': 'asian/pacific islander',\n",
    "                                    'vietnamese': 'asian/pacific islander',\n",
    "                                    'oriental/asian': 'asian/pacific islander',\n",
    "                                    'cambodian': 'asian/pacific islander',\n",
    "                                    'japanese': 'asian/pacific islander',\n",
    "                                    'asian indian': 'asian/pacific islander',\n",
    "                                    'hmong': 'asian/pacific islander',\n",
    "                                    'filipino': 'asian/pacific islander',\n",
    "                                    'mien': 'asian/pacific islander',\n",
    "                                    'hawaiian': 'asian/pacific islander',\n",
    "                                    'samoan': 'asian/pacific islander',\n",
    "                                    'guamanian': 'asian/pacific islander',\n",
    "                                    'mixed race': 'other/unknown',\n",
    "                                    'am. ind./al. native': 'other/unknown',\n",
    "                                    'middle eastern': 'other/unknown',\n",
    "                                    'cuban/carribean': 'hispanic',\n",
    "                                    'unknown': 'other/unknown',\n",
    "                                    'native american': 'other/unknown'\n",
    "                    })\n",
    "\n",
    "sacramento_stops['subject_race'].unique()"
   ]
  },
  {
   "cell_type": "markdown",
   "metadata": {},
   "source": [
    "In order to group the data by categories, we have to use a `.groupby()` function. The basic setup is `df.groupby([COLUMNS TO GROUP BY]).FUNC()` where we apply an aggregation function `FUNC()` across each of the grouped categories. "
   ]
  },
  {
   "cell_type": "code",
   "execution_count": 16,
   "metadata": {},
   "outputs": [
    {
     "data": {
      "text/html": [
       "<div>\n",
       "<style scoped>\n",
       "    .dataframe tbody tr th:only-of-type {\n",
       "        vertical-align: middle;\n",
       "    }\n",
       "\n",
       "    .dataframe tbody tr th {\n",
       "        vertical-align: top;\n",
       "    }\n",
       "\n",
       "    .dataframe thead th {\n",
       "        text-align: right;\n",
       "    }\n",
       "</style>\n",
       "<table border=\"1\" class=\"dataframe\">\n",
       "  <thead>\n",
       "    <tr style=\"text-align: right;\">\n",
       "      <th></th>\n",
       "      <th>year</th>\n",
       "      <th>month</th>\n",
       "      <th>n</th>\n",
       "      <th>prop</th>\n",
       "    </tr>\n",
       "  </thead>\n",
       "  <tbody>\n",
       "    <tr>\n",
       "      <th>0</th>\n",
       "      <td>2017</td>\n",
       "      <td>2</td>\n",
       "      <td>2332</td>\n",
       "      <td>0.039414</td>\n",
       "    </tr>\n",
       "    <tr>\n",
       "      <th>1</th>\n",
       "      <td>2017</td>\n",
       "      <td>3</td>\n",
       "      <td>2926</td>\n",
       "      <td>0.049453</td>\n",
       "    </tr>\n",
       "    <tr>\n",
       "      <th>2</th>\n",
       "      <td>2017</td>\n",
       "      <td>4</td>\n",
       "      <td>2466</td>\n",
       "      <td>0.041679</td>\n",
       "    </tr>\n",
       "    <tr>\n",
       "      <th>3</th>\n",
       "      <td>2017</td>\n",
       "      <td>5</td>\n",
       "      <td>1619</td>\n",
       "      <td>0.027363</td>\n",
       "    </tr>\n",
       "    <tr>\n",
       "      <th>4</th>\n",
       "      <td>2017</td>\n",
       "      <td>6</td>\n",
       "      <td>1956</td>\n",
       "      <td>0.033059</td>\n",
       "    </tr>\n",
       "    <tr>\n",
       "      <th>5</th>\n",
       "      <td>2017</td>\n",
       "      <td>7</td>\n",
       "      <td>2750</td>\n",
       "      <td>0.046479</td>\n",
       "    </tr>\n",
       "    <tr>\n",
       "      <th>6</th>\n",
       "      <td>2017</td>\n",
       "      <td>8</td>\n",
       "      <td>2718</td>\n",
       "      <td>0.045938</td>\n",
       "    </tr>\n",
       "    <tr>\n",
       "      <th>7</th>\n",
       "      <td>2017</td>\n",
       "      <td>9</td>\n",
       "      <td>2480</td>\n",
       "      <td>0.041915</td>\n",
       "    </tr>\n",
       "    <tr>\n",
       "      <th>8</th>\n",
       "      <td>2017</td>\n",
       "      <td>10</td>\n",
       "      <td>2756</td>\n",
       "      <td>0.046580</td>\n",
       "    </tr>\n",
       "    <tr>\n",
       "      <th>9</th>\n",
       "      <td>2017</td>\n",
       "      <td>11</td>\n",
       "      <td>2509</td>\n",
       "      <td>0.042405</td>\n",
       "    </tr>\n",
       "    <tr>\n",
       "      <th>10</th>\n",
       "      <td>2017</td>\n",
       "      <td>12</td>\n",
       "      <td>2846</td>\n",
       "      <td>0.048101</td>\n",
       "    </tr>\n",
       "    <tr>\n",
       "      <th>11</th>\n",
       "      <td>2018</td>\n",
       "      <td>1</td>\n",
       "      <td>3107</td>\n",
       "      <td>0.052512</td>\n",
       "    </tr>\n",
       "    <tr>\n",
       "      <th>12</th>\n",
       "      <td>2018</td>\n",
       "      <td>2</td>\n",
       "      <td>2837</td>\n",
       "      <td>0.047949</td>\n",
       "    </tr>\n",
       "    <tr>\n",
       "      <th>13</th>\n",
       "      <td>2018</td>\n",
       "      <td>3</td>\n",
       "      <td>2458</td>\n",
       "      <td>0.041543</td>\n",
       "    </tr>\n",
       "    <tr>\n",
       "      <th>14</th>\n",
       "      <td>2018</td>\n",
       "      <td>4</td>\n",
       "      <td>2210</td>\n",
       "      <td>0.037352</td>\n",
       "    </tr>\n",
       "    <tr>\n",
       "      <th>15</th>\n",
       "      <td>2018</td>\n",
       "      <td>5</td>\n",
       "      <td>2349</td>\n",
       "      <td>0.039701</td>\n",
       "    </tr>\n",
       "    <tr>\n",
       "      <th>16</th>\n",
       "      <td>2018</td>\n",
       "      <td>6</td>\n",
       "      <td>2029</td>\n",
       "      <td>0.034293</td>\n",
       "    </tr>\n",
       "    <tr>\n",
       "      <th>17</th>\n",
       "      <td>2018</td>\n",
       "      <td>7</td>\n",
       "      <td>2905</td>\n",
       "      <td>0.049098</td>\n",
       "    </tr>\n",
       "    <tr>\n",
       "      <th>18</th>\n",
       "      <td>2018</td>\n",
       "      <td>8</td>\n",
       "      <td>3297</td>\n",
       "      <td>0.055724</td>\n",
       "    </tr>\n",
       "    <tr>\n",
       "      <th>19</th>\n",
       "      <td>2018</td>\n",
       "      <td>9</td>\n",
       "      <td>2873</td>\n",
       "      <td>0.048557</td>\n",
       "    </tr>\n",
       "    <tr>\n",
       "      <th>20</th>\n",
       "      <td>2018</td>\n",
       "      <td>10</td>\n",
       "      <td>2399</td>\n",
       "      <td>0.040546</td>\n",
       "    </tr>\n",
       "    <tr>\n",
       "      <th>21</th>\n",
       "      <td>2018</td>\n",
       "      <td>11</td>\n",
       "      <td>2861</td>\n",
       "      <td>0.048355</td>\n",
       "    </tr>\n",
       "    <tr>\n",
       "      <th>22</th>\n",
       "      <td>2018</td>\n",
       "      <td>12</td>\n",
       "      <td>2484</td>\n",
       "      <td>0.041983</td>\n",
       "    </tr>\n",
       "  </tbody>\n",
       "</table>\n",
       "</div>"
      ],
      "text/plain": [
       "    year  month     n      prop\n",
       "0   2017      2  2332  0.039414\n",
       "1   2017      3  2926  0.049453\n",
       "2   2017      4  2466  0.041679\n",
       "3   2017      5  1619  0.027363\n",
       "4   2017      6  1956  0.033059\n",
       "5   2017      7  2750  0.046479\n",
       "6   2017      8  2718  0.045938\n",
       "7   2017      9  2480  0.041915\n",
       "8   2017     10  2756  0.046580\n",
       "9   2017     11  2509  0.042405\n",
       "10  2017     12  2846  0.048101\n",
       "11  2018      1  3107  0.052512\n",
       "12  2018      2  2837  0.047949\n",
       "13  2018      3  2458  0.041543\n",
       "14  2018      4  2210  0.037352\n",
       "15  2018      5  2349  0.039701\n",
       "16  2018      6  2029  0.034293\n",
       "17  2018      7  2905  0.049098\n",
       "18  2018      8  3297  0.055724\n",
       "19  2018      9  2873  0.048557\n",
       "20  2018     10  2399  0.040546\n",
       "21  2018     11  2861  0.048355\n",
       "22  2018     12  2484  0.041983"
      ]
     },
     "execution_count": 16,
     "metadata": {},
     "output_type": "execute_result"
    }
   ],
   "source": [
    "sacramento_stops['year'] = sacramento_stops['date'].apply(lambda date: date.year)\n",
    "sacramento_stops['month'] = sacramento_stops['date'].apply(lambda date: date.month)\n",
    "(sacramento_stops\n",
    " .groupby(['year', 'month'], as_index=False)['Idx']\n",
    " .agg({'n': len,\n",
    "       'prop': lambda x: len(x)/len(sacramento_stops)}))"
   ]
  },
  {
   "cell_type": "code",
   "execution_count": 17,
   "metadata": {},
   "outputs": [
    {
     "data": {
      "text/html": [
       "<div>\n",
       "<style scoped>\n",
       "    .dataframe tbody tr th:only-of-type {\n",
       "        vertical-align: middle;\n",
       "    }\n",
       "\n",
       "    .dataframe tbody tr th {\n",
       "        vertical-align: top;\n",
       "    }\n",
       "\n",
       "    .dataframe thead th {\n",
       "        text-align: right;\n",
       "    }\n",
       "</style>\n",
       "<table border=\"1\" class=\"dataframe\">\n",
       "  <thead>\n",
       "    <tr style=\"text-align: right;\">\n",
       "      <th></th>\n",
       "      <th>subject_race</th>\n",
       "      <th>n</th>\n",
       "      <th>prop</th>\n",
       "    </tr>\n",
       "  </thead>\n",
       "  <tbody>\n",
       "    <tr>\n",
       "      <th>0</th>\n",
       "      <td>african american</td>\n",
       "      <td>20184</td>\n",
       "      <td>0.341136</td>\n",
       "    </tr>\n",
       "    <tr>\n",
       "      <th>1</th>\n",
       "      <td>asian/pacific islander</td>\n",
       "      <td>4263</td>\n",
       "      <td>0.072050</td>\n",
       "    </tr>\n",
       "    <tr>\n",
       "      <th>2</th>\n",
       "      <td>hispanic</td>\n",
       "      <td>12833</td>\n",
       "      <td>0.216895</td>\n",
       "    </tr>\n",
       "    <tr>\n",
       "      <th>3</th>\n",
       "      <td>other/unknown</td>\n",
       "      <td>6014</td>\n",
       "      <td>0.101644</td>\n",
       "    </tr>\n",
       "    <tr>\n",
       "      <th>4</th>\n",
       "      <td>white</td>\n",
       "      <td>15873</td>\n",
       "      <td>0.268275</td>\n",
       "    </tr>\n",
       "  </tbody>\n",
       "</table>\n",
       "</div>"
      ],
      "text/plain": [
       "             subject_race      n      prop\n",
       "0        african american  20184  0.341136\n",
       "1  asian/pacific islander   4263  0.072050\n",
       "2                hispanic  12833  0.216895\n",
       "3           other/unknown   6014  0.101644\n",
       "4                   white  15873  0.268275"
      ]
     },
     "execution_count": 17,
     "metadata": {},
     "output_type": "execute_result"
    }
   ],
   "source": [
    "(sacramento_stops\n",
    " .groupby(['subject_race'], as_index=False)[sacramento_stops.columns.values[12]]\n",
    " .agg({'n': len,\n",
    "       'prop': lambda x: len(x)/len(sacramento_stops)}))\n"
   ]
  },
  {
   "cell_type": "code",
   "execution_count": 18,
   "metadata": {},
   "outputs": [
    {
     "data": {
      "text/html": [
       "<div>\n",
       "<style scoped>\n",
       "    .dataframe tbody tr th:only-of-type {\n",
       "        vertical-align: middle;\n",
       "    }\n",
       "\n",
       "    .dataframe tbody tr th {\n",
       "        vertical-align: top;\n",
       "    }\n",
       "\n",
       "    .dataframe thead th {\n",
       "        text-align: right;\n",
       "    }\n",
       "</style>\n",
       "<table border=\"1\" class=\"dataframe\">\n",
       "  <thead>\n",
       "    <tr style=\"text-align: right;\">\n",
       "      <th></th>\n",
       "      <th>subject_race</th>\n",
       "      <th>n</th>\n",
       "      <th>prop</th>\n",
       "    </tr>\n",
       "  </thead>\n",
       "  <tbody>\n",
       "    <tr>\n",
       "      <th>0</th>\n",
       "      <td>african american</td>\n",
       "      <td>20184</td>\n",
       "      <td>0.341136</td>\n",
       "    </tr>\n",
       "    <tr>\n",
       "      <th>1</th>\n",
       "      <td>asian/pacific islander</td>\n",
       "      <td>4263</td>\n",
       "      <td>0.072050</td>\n",
       "    </tr>\n",
       "    <tr>\n",
       "      <th>2</th>\n",
       "      <td>hispanic</td>\n",
       "      <td>12833</td>\n",
       "      <td>0.216895</td>\n",
       "    </tr>\n",
       "    <tr>\n",
       "      <th>3</th>\n",
       "      <td>other/unknown</td>\n",
       "      <td>6014</td>\n",
       "      <td>0.101644</td>\n",
       "    </tr>\n",
       "    <tr>\n",
       "      <th>4</th>\n",
       "      <td>white</td>\n",
       "      <td>15873</td>\n",
       "      <td>0.268275</td>\n",
       "    </tr>\n",
       "  </tbody>\n",
       "</table>\n",
       "</div>"
      ],
      "text/plain": [
       "             subject_race      n      prop\n",
       "0        african american  20184  0.341136\n",
       "1  asian/pacific islander   4263  0.072050\n",
       "2                hispanic  12833  0.216895\n",
       "3           other/unknown   6014  0.101644\n",
       "4                   white  15873  0.268275"
      ]
     },
     "execution_count": 18,
     "metadata": {},
     "output_type": "execute_result"
    }
   ],
   "source": [
    "from calculations import calc_group_size\n",
    "calc_group_size(sacramento_stops, 'subject_race')"
   ]
  },
  {
   "cell_type": "markdown",
   "metadata": {},
   "source": [
    "What if we wanted to check the number of stops by race and year? We could do a `groupby` function, but it would be difficult to interpret. Instead, let us plot a graph with `seaborn`. `seaborn` allows us to make plots with an implicit groupby through the parameter `hue`. Most of the seaborn plotting functions will have the parameter, which basically groups the data by a category before plotting. This allows us to represent a 3rd dimension in our plots, through different colors. You could of course do this with the basic `matplotlib`, but it is much easier with `seaborn`."
   ]
  },
  {
   "cell_type": "code",
   "execution_count": 19,
   "metadata": {},
   "outputs": [
    {
     "data": {
      "image/png": "[encoded data removed]",
      "text/plain": [
       "<Figure size 432x288 with 1 Axes>"
      ]
     },
     "metadata": {
      "needs_background": "light"
     },
     "output_type": "display_data"
    }
   ],
   "source": [
    "race_year_plot = calc_group_size(sacramento_stops, ['subject_race', 'year', 'month'])\n",
    "\n",
    "# in order to plot year and month, we make a new column compressing the information\n",
    "race_year_plot['year_month'] = race_year_plot['year'] + (race_year_plot['month']-1)/12.\n",
    "\n",
    "ax = sns.lineplot(x='year_month', y='prop', hue='subject_race', data=race_year_plot)\n",
    "ax.legend(loc = (1.05, 0.5))\n",
    "ax.set_title('proportion of stops over the years for each race');"
   ]
  },
  {
   "cell_type": "markdown",
   "metadata": {},
   "source": [
    "From this plot, it seems that for most of the races, the trend over the years has been pretty similar. We note that there seems to be a cyclical pattern where there seems to be a dip in traffic stops near the start of the year. This might be interesting for a different follow-up study. Importantly, we note that the proportion of stops has been largely higher for African Americans over the years, although it seems that the proportion of stops is higher for Whites in the last month of 2018. This does not necessarily mean much though, as it may simply be the case that there are more African Americans in Sacramento. Nonetheless, this is a good start for deeper analysis!"
   ]
  },
  {
   "cell_type": "markdown",
   "metadata": {},
   "source": [
    "## Benchmark Test\n",
    "***"
   ]
  },
  {
   "cell_type": "markdown",
   "metadata": {},
   "source": [
    "### Stop rates"
   ]
  },
  {
   "cell_type": "markdown",
   "metadata": {},
   "source": [
    "As we alluded to previously, in order to do a baseline comparison, we need to have the population proportions across racial demographics in Sacremento. Let us also just do the analysis for 2018. If you are doing the analysis for a different time period, note that you would have to scale the rates accordingly."
   ]
  },
  {
   "cell_type": "code",
   "execution_count": 20,
   "metadata": {},
   "outputs": [],
   "source": [
    "stops_2018 = sacramento_stops[sacramento_stops['date'].apply(lambda date: date.year == 2018)]"
   ]
  },
  {
   "cell_type": "code",
   "execution_count": 21,
   "metadata": {},
   "outputs": [
    {
     "data": {
      "text/html": [
       "<div>\n",
       "<style scoped>\n",
       "    .dataframe tbody tr th:only-of-type {\n",
       "        vertical-align: middle;\n",
       "    }\n",
       "\n",
       "    .dataframe tbody tr th {\n",
       "        vertical-align: top;\n",
       "    }\n",
       "\n",
       "    .dataframe thead th {\n",
       "        text-align: right;\n",
       "    }\n",
       "</style>\n",
       "<table border=\"1\" class=\"dataframe\">\n",
       "  <thead>\n",
       "    <tr style=\"text-align: right;\">\n",
       "      <th></th>\n",
       "      <th>subject_race</th>\n",
       "      <th>prop</th>\n",
       "      <th>num_people</th>\n",
       "    </tr>\n",
       "  </thead>\n",
       "  <tbody>\n",
       "    <tr>\n",
       "      <th>0</th>\n",
       "      <td>white</td>\n",
       "      <td>0.448</td>\n",
       "      <td>685715.520</td>\n",
       "    </tr>\n",
       "    <tr>\n",
       "      <th>1</th>\n",
       "      <td>african american</td>\n",
       "      <td>0.109</td>\n",
       "      <td>166837.035</td>\n",
       "    </tr>\n",
       "    <tr>\n",
       "      <th>2</th>\n",
       "      <td>hispanic</td>\n",
       "      <td>0.186</td>\n",
       "      <td>284694.390</td>\n",
       "    </tr>\n",
       "    <tr>\n",
       "      <th>3</th>\n",
       "      <td>asian/pacific islander</td>\n",
       "      <td>0.179</td>\n",
       "      <td>273980.085</td>\n",
       "    </tr>\n",
       "    <tr>\n",
       "      <th>4</th>\n",
       "      <td>other/unknown</td>\n",
       "      <td>0.077</td>\n",
       "      <td>117857.355</td>\n",
       "    </tr>\n",
       "  </tbody>\n",
       "</table>\n",
       "</div>"
      ],
      "text/plain": [
       "             subject_race   prop  num_people\n",
       "0                   white  0.448  685715.520\n",
       "1        african american  0.109  166837.035\n",
       "2                hispanic  0.186  284694.390\n",
       "3  asian/pacific islander  0.179  273980.085\n",
       "4           other/unknown  0.077  117857.355"
      ]
     },
     "execution_count": 21,
     "metadata": {},
     "output_type": "execute_result"
    }
   ],
   "source": [
    "#https://www.census.gov/quickfacts/fact/table/sacramentocountycalifornia,ca/PST045217\n",
    "sacramento_population_2018 = 1530615\n",
    "\n",
    "#White, Black, Hispanic\n",
    "sacramento_race_percentages = {\"white\": .448, \"african american\": .109 , \"hispanic\": .186, \n",
    "                              \"asian/pacific islander\": .179, 'other/unknown': 0.077}\n",
    "sacramento_race_demo = pd.DataFrame(sacramento_race_percentages, index=['prop']).T.reset_index()\n",
    "sacramento_race_demo.columns = ['subject_race', 'prop']\n",
    "sacramento_race_demo['num_people'] = sacramento_race_demo['prop']*sacramento_population_2018\n",
    "sacramento_race_demo"
   ]
  },
  {
   "cell_type": "markdown",
   "metadata": {},
   "source": [
    "Now that we have the population demographics in Sacremento, let us calculate the stop rate per capita for each race. We basically merge the dataframe with total number of stops for each demographic with the dataframe with the total number of residents in each demographic, and divide the two columns. The merge can be easily done with a `merge()` function. The exact details of a merge function requires us to go into detail about the differences between a left merge, right merge, inner merge, outer merge, etc. As such, we would not go into detail. Instead, we would encourage the reader to read the existing [documentation](https://pandas.pydata.org/pandas-docs/stable/reference/api/pandas.DataFrame.merge.html) for the `merge` function. Whenever you come across a new function, you should always read through the documentation to make sure you understand what the function does. In short, the `merge` function basically concatenates two dataframes across columns, based on a specific shared column. "
   ]
  },
  {
   "cell_type": "code",
   "execution_count": 22,
   "metadata": {},
   "outputs": [
    {
     "data": {
      "text/html": [
       "<div>\n",
       "<style scoped>\n",
       "    .dataframe tbody tr th:only-of-type {\n",
       "        vertical-align: middle;\n",
       "    }\n",
       "\n",
       "    .dataframe tbody tr th {\n",
       "        vertical-align: top;\n",
       "    }\n",
       "\n",
       "    .dataframe thead th {\n",
       "        text-align: right;\n",
       "    }\n",
       "</style>\n",
       "<table border=\"1\" class=\"dataframe\">\n",
       "  <thead>\n",
       "    <tr style=\"text-align: right;\">\n",
       "      <th></th>\n",
       "      <th>subject_race</th>\n",
       "      <th>stop_rate</th>\n",
       "    </tr>\n",
       "  </thead>\n",
       "  <tbody>\n",
       "    <tr>\n",
       "      <th>0</th>\n",
       "      <td>african american</td>\n",
       "      <td>0.062540</td>\n",
       "    </tr>\n",
       "    <tr>\n",
       "      <th>1</th>\n",
       "      <td>asian/pacific islander</td>\n",
       "      <td>0.008190</td>\n",
       "    </tr>\n",
       "    <tr>\n",
       "      <th>2</th>\n",
       "      <td>hispanic</td>\n",
       "      <td>0.024142</td>\n",
       "    </tr>\n",
       "    <tr>\n",
       "      <th>3</th>\n",
       "      <td>other/unknown</td>\n",
       "      <td>0.029756</td>\n",
       "    </tr>\n",
       "    <tr>\n",
       "      <th>4</th>\n",
       "      <td>white</td>\n",
       "      <td>0.012762</td>\n",
       "    </tr>\n",
       "  </tbody>\n",
       "</table>\n",
       "</div>"
      ],
      "text/plain": [
       "             subject_race  stop_rate\n",
       "0        african american   0.062540\n",
       "1  asian/pacific islander   0.008190\n",
       "2                hispanic   0.024142\n",
       "3           other/unknown   0.029756\n",
       "4                   white   0.012762"
      ]
     },
     "execution_count": 22,
     "metadata": {},
     "output_type": "execute_result"
    }
   ],
   "source": [
    "sacramento_stops_race = (stops_2018\n",
    "                         .groupby(['subject_race'], as_index=False)['Idx']\n",
    "                         .agg({'n': len}))\n",
    "\n",
    "sacramento_stop_rates = sacramento_stops_race.merge(sacramento_race_demo, how='left', on='subject_race')\n",
    "sacramento_stop_rates['stop_rate'] = sacramento_stop_rates ['n'] / sacramento_stop_rates ['num_people']\n",
    "sacramento_stop_rates.drop(['n', 'num_people', 'prop'], axis=1, inplace=True)\n",
    "sacramento_stop_rates"
   ]
  },
  {
   "cell_type": "code",
   "execution_count": 23,
   "metadata": {},
   "outputs": [
    {
     "data": {
      "text/html": [
       "<div>\n",
       "<style scoped>\n",
       "    .dataframe tbody tr th:only-of-type {\n",
       "        vertical-align: middle;\n",
       "    }\n",
       "\n",
       "    .dataframe tbody tr th {\n",
       "        vertical-align: top;\n",
       "    }\n",
       "\n",
       "    .dataframe thead th {\n",
       "        text-align: right;\n",
       "    }\n",
       "</style>\n",
       "<table border=\"1\" class=\"dataframe\">\n",
       "  <thead>\n",
       "    <tr style=\"text-align: right;\">\n",
       "      <th></th>\n",
       "      <th>subject_race</th>\n",
       "      <th>stop_rate</th>\n",
       "    </tr>\n",
       "  </thead>\n",
       "  <tbody>\n",
       "    <tr>\n",
       "      <th>0</th>\n",
       "      <td>african american</td>\n",
       "      <td>0.062540</td>\n",
       "    </tr>\n",
       "    <tr>\n",
       "      <th>1</th>\n",
       "      <td>asian/pacific islander</td>\n",
       "      <td>0.008190</td>\n",
       "    </tr>\n",
       "    <tr>\n",
       "      <th>2</th>\n",
       "      <td>hispanic</td>\n",
       "      <td>0.024142</td>\n",
       "    </tr>\n",
       "    <tr>\n",
       "      <th>3</th>\n",
       "      <td>other/unknown</td>\n",
       "      <td>0.029756</td>\n",
       "    </tr>\n",
       "    <tr>\n",
       "      <th>4</th>\n",
       "      <td>white</td>\n",
       "      <td>0.012762</td>\n",
       "    </tr>\n",
       "  </tbody>\n",
       "</table>\n",
       "</div>"
      ],
      "text/plain": [
       "             subject_race  stop_rate\n",
       "0        african american   0.062540\n",
       "1  asian/pacific islander   0.008190\n",
       "2                hispanic   0.024142\n",
       "3           other/unknown   0.029756\n",
       "4                   white   0.012762"
      ]
     },
     "execution_count": 23,
     "metadata": {},
     "output_type": "execute_result"
    }
   ],
   "source": [
    "from calculations import calc_stop_rates\n",
    "calc_stop_rates(stops_2018, sacramento_race_demo, ['subject_race'])"
   ]
  },
  {
   "cell_type": "markdown",
   "metadata": {},
   "source": [
    "Now we can make better statements about the stop rates for each race! It seems that black drivers are stopped at a rate almost 5 times higher than white drivers!"
   ]
  },
  {
   "cell_type": "markdown",
   "metadata": {},
   "source": [
    "### Search rates"
   ]
  },
  {
   "cell_type": "markdown",
   "metadata": {},
   "source": [
    "Let us do the same comparison and analysis for search rates. Instead of using the total population size as a baseline (as in stop rates), it makes sense to instead use the stopped population. As such, search rate is the proportion of stopped people who were subsequently searched. \n",
    "\n",
    "**Note**: Some states and municpals also include frisk rates. It may be worth your time to do a similar analysis on frisk rates as well."
   ]
  },
  {
   "cell_type": "code",
   "execution_count": 24,
   "metadata": {},
   "outputs": [
    {
     "data": {
      "text/html": [
       "<div>\n",
       "<style scoped>\n",
       "    .dataframe tbody tr th:only-of-type {\n",
       "        vertical-align: middle;\n",
       "    }\n",
       "\n",
       "    .dataframe tbody tr th {\n",
       "        vertical-align: top;\n",
       "    }\n",
       "\n",
       "    .dataframe thead th {\n",
       "        text-align: right;\n",
       "    }\n",
       "</style>\n",
       "<table border=\"1\" class=\"dataframe\">\n",
       "  <thead>\n",
       "    <tr style=\"text-align: right;\">\n",
       "      <th></th>\n",
       "      <th>subject_race</th>\n",
       "      <th>search_rate</th>\n",
       "    </tr>\n",
       "  </thead>\n",
       "  <tbody>\n",
       "    <tr>\n",
       "      <th>0</th>\n",
       "      <td>african american</td>\n",
       "      <td>0.206345</td>\n",
       "    </tr>\n",
       "    <tr>\n",
       "      <th>1</th>\n",
       "      <td>asian/pacific islander</td>\n",
       "      <td>0.070856</td>\n",
       "    </tr>\n",
       "    <tr>\n",
       "      <th>2</th>\n",
       "      <td>hispanic</td>\n",
       "      <td>0.150153</td>\n",
       "    </tr>\n",
       "    <tr>\n",
       "      <th>3</th>\n",
       "      <td>other/unknown</td>\n",
       "      <td>0.075278</td>\n",
       "    </tr>\n",
       "    <tr>\n",
       "      <th>4</th>\n",
       "      <td>white</td>\n",
       "      <td>0.076220</td>\n",
       "    </tr>\n",
       "  </tbody>\n",
       "</table>\n",
       "</div>"
      ],
      "text/plain": [
       "             subject_race  search_rate\n",
       "0        african american     0.206345\n",
       "1  asian/pacific islander     0.070856\n",
       "2                hispanic     0.150153\n",
       "3           other/unknown     0.075278\n",
       "4                   white     0.076220"
      ]
     },
     "execution_count": 24,
     "metadata": {},
     "output_type": "execute_result"
    }
   ],
   "source": [
    "(stops_2018\n",
    " .groupby('subject_race', as_index=False)['search_conducted']\n",
    " .agg({'search_rate': np.mean}))"
   ]
  },
  {
   "cell_type": "code",
   "execution_count": 25,
   "metadata": {},
   "outputs": [
    {
     "data": {
      "text/html": [
       "<div>\n",
       "<style scoped>\n",
       "    .dataframe tbody tr th:only-of-type {\n",
       "        vertical-align: middle;\n",
       "    }\n",
       "\n",
       "    .dataframe tbody tr th {\n",
       "        vertical-align: top;\n",
       "    }\n",
       "\n",
       "    .dataframe thead th {\n",
       "        text-align: right;\n",
       "    }\n",
       "</style>\n",
       "<table border=\"1\" class=\"dataframe\">\n",
       "  <thead>\n",
       "    <tr style=\"text-align: right;\">\n",
       "      <th></th>\n",
       "      <th>subject_race</th>\n",
       "      <th>search_rate</th>\n",
       "    </tr>\n",
       "  </thead>\n",
       "  <tbody>\n",
       "    <tr>\n",
       "      <th>0</th>\n",
       "      <td>african american</td>\n",
       "      <td>0.206345</td>\n",
       "    </tr>\n",
       "    <tr>\n",
       "      <th>1</th>\n",
       "      <td>asian/pacific islander</td>\n",
       "      <td>0.070856</td>\n",
       "    </tr>\n",
       "    <tr>\n",
       "      <th>2</th>\n",
       "      <td>hispanic</td>\n",
       "      <td>0.150153</td>\n",
       "    </tr>\n",
       "    <tr>\n",
       "      <th>3</th>\n",
       "      <td>other/unknown</td>\n",
       "      <td>0.075278</td>\n",
       "    </tr>\n",
       "    <tr>\n",
       "      <th>4</th>\n",
       "      <td>white</td>\n",
       "      <td>0.076220</td>\n",
       "    </tr>\n",
       "  </tbody>\n",
       "</table>\n",
       "</div>"
      ],
      "text/plain": [
       "             subject_race  search_rate\n",
       "0        african american     0.206345\n",
       "1  asian/pacific islander     0.070856\n",
       "2                hispanic     0.150153\n",
       "3           other/unknown     0.075278\n",
       "4                   white     0.076220"
      ]
     },
     "execution_count": 25,
     "metadata": {},
     "output_type": "execute_result"
    }
   ],
   "source": [
    "from calculations import calc_search_rates\n",
    "calc_search_rates(stops_2018, ['subject_race'])"
   ]
  },
  {
   "cell_type": "markdown",
   "metadata": {},
   "source": [
    "Similar to stop rates, it seems that black drivers are searched almost 3 times as much as white drivers! This seems ridiculous, but let us not make any conclusions without more principled approaches to understanding these statistics. "
   ]
  },
  {
   "cell_type": "markdown",
   "metadata": {},
   "source": [
    "### Caveats about the benchmark test"
   ]
  },
  {
   "cell_type": "markdown",
   "metadata": {},
   "source": [
    "The benchmark test is useful for some quick statistics, but it does not provide any evidence of discrimination. This is because we have not been comparing to the correct baseline. In particular, the stop rates need not necessarily suggest that black drivers have been disproportionately stopped. Some of you may have already noticed, but we have been calculating the rate with respect to the total population within each demographic when we should be calculating the rate with respect to the total number of individuals breaking traffic laws, or exhibiting other criminal behavior in their vehicles. Ideally, if we know that the number of black drivers stopped is disproportionate to the total number of offenders, then we would have strong evidence that there is racial discrimination. Unfortunately, there is no way to have a good measure of the total number of offenders. Using arrest rate would not be a good proxy as arrest rate could similarly be racially skewed as well. \n",
    "\n",
    "Search rates are perhaps a safer measure, and it is indeed as what we have observed. The ratio of stop rates for black and white drivers is considerably higher than the ratio of search rates for black and white drivers. Nonetheless, we should conduct more principled analysis of our data before we make any conclusions."
   ]
  },
  {
   "cell_type": "markdown",
   "metadata": {},
   "source": [
    "## Outcome Test\n",
    "***"
   ]
  },
  {
   "cell_type": "markdown",
   "metadata": {},
   "source": [
    "Following our observations in the benchmark test, it makes sense to analyze the search decision rather than the stop decision. A successful search is when the driver/vehicle is found to own contraband. We define the proportion of successful searches, by race, as the **hit rate**, or otherwise known as the contraband recovery rate. If there is a disproprotion in hit rate across different racial groups, we might have reason to believe that there is discrimination. "
   ]
  },
  {
   "cell_type": "code",
   "execution_count": 26,
   "metadata": {},
   "outputs": [
    {
     "data": {
      "text/html": [
       "<div>\n",
       "<style scoped>\n",
       "    .dataframe tbody tr th:only-of-type {\n",
       "        vertical-align: middle;\n",
       "    }\n",
       "\n",
       "    .dataframe tbody tr th {\n",
       "        vertical-align: top;\n",
       "    }\n",
       "\n",
       "    .dataframe thead th {\n",
       "        text-align: right;\n",
       "    }\n",
       "</style>\n",
       "<table border=\"1\" class=\"dataframe\">\n",
       "  <thead>\n",
       "    <tr style=\"text-align: right;\">\n",
       "      <th></th>\n",
       "      <th>subject_race</th>\n",
       "      <th>hit_rate</th>\n",
       "    </tr>\n",
       "  </thead>\n",
       "  <tbody>\n",
       "    <tr>\n",
       "      <th>0</th>\n",
       "      <td>african american</td>\n",
       "      <td>0.177891</td>\n",
       "    </tr>\n",
       "    <tr>\n",
       "      <th>1</th>\n",
       "      <td>asian/pacific islander</td>\n",
       "      <td>0.226415</td>\n",
       "    </tr>\n",
       "    <tr>\n",
       "      <th>2</th>\n",
       "      <td>hispanic</td>\n",
       "      <td>0.230620</td>\n",
       "    </tr>\n",
       "    <tr>\n",
       "      <th>3</th>\n",
       "      <td>other/unknown</td>\n",
       "      <td>0.166667</td>\n",
       "    </tr>\n",
       "    <tr>\n",
       "      <th>4</th>\n",
       "      <td>white</td>\n",
       "      <td>0.254873</td>\n",
       "    </tr>\n",
       "  </tbody>\n",
       "</table>\n",
       "</div>"
      ],
      "text/plain": [
       "             subject_race  hit_rate\n",
       "0        african american  0.177891\n",
       "1  asian/pacific islander  0.226415\n",
       "2                hispanic  0.230620\n",
       "3           other/unknown  0.166667\n",
       "4                   white  0.254873"
      ]
     },
     "execution_count": 26,
     "metadata": {},
     "output_type": "execute_result"
    }
   ],
   "source": [
    "# originally wrong, have to filter just those that were searched\n",
    "(stops_2018[stops_2018['search_conducted']]\n",
    " .groupby('subject_race', as_index=False)['contraband_found']\n",
    " .agg({'hit_rate': np.mean}))"
   ]
  },
  {
   "cell_type": "code",
   "execution_count": 27,
   "metadata": {},
   "outputs": [
    {
     "data": {
      "text/html": [
       "<div>\n",
       "<style scoped>\n",
       "    .dataframe tbody tr th:only-of-type {\n",
       "        vertical-align: middle;\n",
       "    }\n",
       "\n",
       "    .dataframe tbody tr th {\n",
       "        vertical-align: top;\n",
       "    }\n",
       "\n",
       "    .dataframe thead th {\n",
       "        text-align: right;\n",
       "    }\n",
       "</style>\n",
       "<table border=\"1\" class=\"dataframe\">\n",
       "  <thead>\n",
       "    <tr style=\"text-align: right;\">\n",
       "      <th></th>\n",
       "      <th>subject_race</th>\n",
       "      <th>hit_rate</th>\n",
       "    </tr>\n",
       "  </thead>\n",
       "  <tbody>\n",
       "    <tr>\n",
       "      <th>0</th>\n",
       "      <td>african american</td>\n",
       "      <td>0.177891</td>\n",
       "    </tr>\n",
       "    <tr>\n",
       "      <th>1</th>\n",
       "      <td>asian/pacific islander</td>\n",
       "      <td>0.226415</td>\n",
       "    </tr>\n",
       "    <tr>\n",
       "      <th>2</th>\n",
       "      <td>hispanic</td>\n",
       "      <td>0.230620</td>\n",
       "    </tr>\n",
       "    <tr>\n",
       "      <th>3</th>\n",
       "      <td>other/unknown</td>\n",
       "      <td>0.166667</td>\n",
       "    </tr>\n",
       "    <tr>\n",
       "      <th>4</th>\n",
       "      <td>white</td>\n",
       "      <td>0.254873</td>\n",
       "    </tr>\n",
       "  </tbody>\n",
       "</table>\n",
       "</div>"
      ],
      "text/plain": [
       "             subject_race  hit_rate\n",
       "0        african american  0.177891\n",
       "1  asian/pacific islander  0.226415\n",
       "2                hispanic  0.230620\n",
       "3           other/unknown  0.166667\n",
       "4                   white  0.254873"
      ]
     },
     "execution_count": 27,
     "metadata": {},
     "output_type": "execute_result"
    }
   ],
   "source": [
    "from calculations import calc_hit_rates\n",
    "calc_hit_rates(stops_2018, ['subject_race'])"
   ]
  },
  {
   "cell_type": "markdown",
   "metadata": {},
   "source": [
    "We see that hit rates are much lower for black drivers as compared to white drivers. However, this might be because the bar for stopping people (and thus searching them for contraband) is lower in certain police districts. So we should adjust for the locations to check if the disparity really reflect bias. This is indeed the approach taken by the Stanford Open Policing Project. \n",
    "\n",
    "However, in the case of the Sacremento dataset, we do not have the police districts data. However, we believe that controling based on the police officer might be just as, or even better, than using police district data. Police officers are assigned to specific police districts, and it is likely that they will stay within the same police district within a specific year. As such, they are reasonable proxies. Moreover, if we can check that police officers have huge disparity in hit rates across different racial groups, this might be even more compelling evidence that there is racial discrimination. "
   ]
  },
  {
   "cell_type": "markdown",
   "metadata": {},
   "source": [
    "### Adjusting for police officer"
   ]
  },
  {
   "cell_type": "code",
   "execution_count": 28,
   "metadata": {},
   "outputs": [
    {
     "data": {
      "text/html": [
       "<div>\n",
       "<style scoped>\n",
       "    .dataframe tbody tr th:only-of-type {\n",
       "        vertical-align: middle;\n",
       "    }\n",
       "\n",
       "    .dataframe tbody tr th {\n",
       "        vertical-align: top;\n",
       "    }\n",
       "\n",
       "    .dataframe thead th {\n",
       "        text-align: right;\n",
       "    }\n",
       "</style>\n",
       "<table border=\"1\" class=\"dataframe\">\n",
       "  <thead>\n",
       "    <tr style=\"text-align: right;\">\n",
       "      <th></th>\n",
       "      <th>subject_race</th>\n",
       "      <th>OfficerAbra</th>\n",
       "      <th>hit_rate</th>\n",
       "    </tr>\n",
       "  </thead>\n",
       "  <tbody>\n",
       "    <tr>\n",
       "      <th>0</th>\n",
       "      <td>african american</td>\n",
       "      <td>10</td>\n",
       "      <td>1.00</td>\n",
       "    </tr>\n",
       "    <tr>\n",
       "      <th>1</th>\n",
       "      <td>african american</td>\n",
       "      <td>45</td>\n",
       "      <td>0.00</td>\n",
       "    </tr>\n",
       "    <tr>\n",
       "      <th>2</th>\n",
       "      <td>african american</td>\n",
       "      <td>50</td>\n",
       "      <td>0.00</td>\n",
       "    </tr>\n",
       "    <tr>\n",
       "      <th>3</th>\n",
       "      <td>african american</td>\n",
       "      <td>153</td>\n",
       "      <td>0.25</td>\n",
       "    </tr>\n",
       "    <tr>\n",
       "      <th>4</th>\n",
       "      <td>african american</td>\n",
       "      <td>263</td>\n",
       "      <td>0.00</td>\n",
       "    </tr>\n",
       "  </tbody>\n",
       "</table>\n",
       "</div>"
      ],
      "text/plain": [
       "       subject_race  OfficerAbra  hit_rate\n",
       "0  african american           10      1.00\n",
       "1  african american           45      0.00\n",
       "2  african american           50      0.00\n",
       "3  african american          153      0.25\n",
       "4  african american          263      0.00"
      ]
     },
     "execution_count": 28,
     "metadata": {},
     "output_type": "execute_result"
    }
   ],
   "source": [
    "hit_rates = (stops_2018[stops_2018['search_conducted']]\n",
    "             .groupby(['subject_race', 'OfficerAbra'], as_index=False)['contraband_found']\n",
    "             .agg({'hit_rate': np.mean}))\n",
    "hit_rates.head()"
   ]
  },
  {
   "cell_type": "code",
   "execution_count": 29,
   "metadata": {},
   "outputs": [
    {
     "data": {
      "text/html": [
       "<div>\n",
       "<style scoped>\n",
       "    .dataframe tbody tr th:only-of-type {\n",
       "        vertical-align: middle;\n",
       "    }\n",
       "\n",
       "    .dataframe tbody tr th {\n",
       "        vertical-align: top;\n",
       "    }\n",
       "\n",
       "    .dataframe thead th {\n",
       "        text-align: right;\n",
       "    }\n",
       "</style>\n",
       "<table border=\"1\" class=\"dataframe\">\n",
       "  <thead>\n",
       "    <tr style=\"text-align: right;\">\n",
       "      <th></th>\n",
       "      <th>subject_race</th>\n",
       "      <th>OfficerAbra</th>\n",
       "      <th>hit_rate</th>\n",
       "    </tr>\n",
       "  </thead>\n",
       "  <tbody>\n",
       "    <tr>\n",
       "      <th>699</th>\n",
       "      <td>white</td>\n",
       "      <td>25</td>\n",
       "      <td>0.0</td>\n",
       "    </tr>\n",
       "  </tbody>\n",
       "</table>\n",
       "</div>"
      ],
      "text/plain": [
       "    subject_race  OfficerAbra  hit_rate\n",
       "699        white           25       0.0"
      ]
     },
     "execution_count": 29,
     "metadata": {},
     "output_type": "execute_result"
    }
   ],
   "source": [
    "hit_rates[hit_rates['OfficerAbra'] == 25]"
   ]
  },
  {
   "cell_type": "code",
   "execution_count": 30,
   "metadata": {},
   "outputs": [
    {
     "data": {
      "text/html": [
       "<div>\n",
       "<style scoped>\n",
       "    .dataframe tbody tr th:only-of-type {\n",
       "        vertical-align: middle;\n",
       "    }\n",
       "\n",
       "    .dataframe tbody tr th {\n",
       "        vertical-align: top;\n",
       "    }\n",
       "\n",
       "    .dataframe thead th {\n",
       "        text-align: right;\n",
       "    }\n",
       "</style>\n",
       "<table border=\"1\" class=\"dataframe\">\n",
       "  <thead>\n",
       "    <tr style=\"text-align: right;\">\n",
       "      <th></th>\n",
       "      <th>subject_race</th>\n",
       "      <th>OfficerAbra</th>\n",
       "      <th>hit_rate</th>\n",
       "    </tr>\n",
       "  </thead>\n",
       "  <tbody>\n",
       "    <tr>\n",
       "      <th>0</th>\n",
       "      <td>african american</td>\n",
       "      <td>10</td>\n",
       "      <td>1.00</td>\n",
       "    </tr>\n",
       "    <tr>\n",
       "      <th>1</th>\n",
       "      <td>african american</td>\n",
       "      <td>45</td>\n",
       "      <td>0.00</td>\n",
       "    </tr>\n",
       "    <tr>\n",
       "      <th>2</th>\n",
       "      <td>african american</td>\n",
       "      <td>50</td>\n",
       "      <td>0.00</td>\n",
       "    </tr>\n",
       "    <tr>\n",
       "      <th>3</th>\n",
       "      <td>african american</td>\n",
       "      <td>153</td>\n",
       "      <td>0.25</td>\n",
       "    </tr>\n",
       "    <tr>\n",
       "      <th>4</th>\n",
       "      <td>african american</td>\n",
       "      <td>263</td>\n",
       "      <td>0.00</td>\n",
       "    </tr>\n",
       "  </tbody>\n",
       "</table>\n",
       "</div>"
      ],
      "text/plain": [
       "       subject_race  OfficerAbra  hit_rate\n",
       "0  african american           10      1.00\n",
       "1  african american           45      0.00\n",
       "2  african american           50      0.00\n",
       "3  african american          153      0.25\n",
       "4  african american          263      0.00"
      ]
     },
     "execution_count": 30,
     "metadata": {},
     "output_type": "execute_result"
    }
   ],
   "source": [
    "calc_hit_rates(stops_2018, ['subject_race', 'OfficerAbra']).head()"
   ]
  },
  {
   "cell_type": "markdown",
   "metadata": {},
   "source": [
    "Especially because we are grouping based on the police officer, rather than police districts, we have a huge table that is hard to interpret. Let us plot the hit rates of minority racial groups as compared to white drivers. In order to do so, we would need to reshape our hit rate dataframe such that for each police officer, we have their hit rate on whites and also their hit rates on each of the minority races. This requires some imaginative reshaping that might not be very intuitive. However, the key thing to note is that there are 2 key functions that can reshape pandas dataframe: `pivot_table` and `melt`. They are essentially opposites. The former pivots a dataframe to a wide format; the latter unpivots a dataframe to a long format. We basically want to replicate white hit rates as an additional column for every instance of a minority hit rate. Take your time to try to understand the code, and read up the documentation if you are still not clear!"
   ]
  },
  {
   "cell_type": "code",
   "execution_count": 31,
   "metadata": {},
   "outputs": [
    {
     "data": {
      "text/html": [
       "<div>\n",
       "<style scoped>\n",
       "    .dataframe tbody tr th:only-of-type {\n",
       "        vertical-align: middle;\n",
       "    }\n",
       "\n",
       "    .dataframe tbody tr th {\n",
       "        vertical-align: top;\n",
       "    }\n",
       "\n",
       "    .dataframe thead th {\n",
       "        text-align: right;\n",
       "    }\n",
       "</style>\n",
       "<table border=\"1\" class=\"dataframe\">\n",
       "  <thead>\n",
       "    <tr style=\"text-align: right;\">\n",
       "      <th></th>\n",
       "      <th>OfficerAbra</th>\n",
       "      <th>white_hit_rate</th>\n",
       "      <th>minority_race</th>\n",
       "      <th>minority_hit_rate</th>\n",
       "    </tr>\n",
       "  </thead>\n",
       "  <tbody>\n",
       "    <tr>\n",
       "      <th>0</th>\n",
       "      <td>10</td>\n",
       "      <td>0.0</td>\n",
       "      <td>african american</td>\n",
       "      <td>1.0</td>\n",
       "    </tr>\n",
       "    <tr>\n",
       "      <th>1</th>\n",
       "      <td>10</td>\n",
       "      <td>0.0</td>\n",
       "      <td>hispanic</td>\n",
       "      <td>0.0</td>\n",
       "    </tr>\n",
       "    <tr>\n",
       "      <th>2</th>\n",
       "      <td>10</td>\n",
       "      <td>0.0</td>\n",
       "      <td>other/unknown</td>\n",
       "      <td>0.0</td>\n",
       "    </tr>\n",
       "    <tr>\n",
       "      <th>3</th>\n",
       "      <td>10</td>\n",
       "      <td>0.0</td>\n",
       "      <td>asian/pacific islander</td>\n",
       "      <td>0.0</td>\n",
       "    </tr>\n",
       "    <tr>\n",
       "      <th>4</th>\n",
       "      <td>25</td>\n",
       "      <td>0.0</td>\n",
       "      <td>hispanic</td>\n",
       "      <td>0.0</td>\n",
       "    </tr>\n",
       "  </tbody>\n",
       "</table>\n",
       "</div>"
      ],
      "text/plain": [
       "   OfficerAbra  white_hit_rate           minority_race  minority_hit_rate\n",
       "0           10             0.0        african american                1.0\n",
       "1           10             0.0                hispanic                0.0\n",
       "2           10             0.0           other/unknown                0.0\n",
       "3           10             0.0  asian/pacific islander                0.0\n",
       "4           25             0.0                hispanic                0.0"
      ]
     },
     "execution_count": 31,
     "metadata": {},
     "output_type": "execute_result"
    }
   ],
   "source": [
    "(pd\n",
    " .pivot_table(hit_rates, \n",
    "              index='OfficerAbra', \n",
    "              columns='subject_race', \n",
    "              values='hit_rate', \n",
    "              fill_value=0)\n",
    " .rename({'white': 'white_hit_rate'}, axis=1).reset_index()\n",
    " .melt(id_vars=['OfficerAbra', 'white_hit_rate'], \n",
    "       value_vars=['african american', 'asian/pacific islander', 'hispanic', 'other/unknown'],\n",
    "       value_name='minority_hit_rate')\n",
    " .sort_values('OfficerAbra')\n",
    " .reset_index(drop=True)\n",
    " .rename({'subject_race': 'minority_race'}, axis=1)).head()"
   ]
  },
  {
   "cell_type": "code",
   "execution_count": 32,
   "metadata": {},
   "outputs": [
    {
     "data": {
      "text/html": [
       "<div>\n",
       "<style scoped>\n",
       "    .dataframe tbody tr th:only-of-type {\n",
       "        vertical-align: middle;\n",
       "    }\n",
       "\n",
       "    .dataframe tbody tr th {\n",
       "        vertical-align: top;\n",
       "    }\n",
       "\n",
       "    .dataframe thead th {\n",
       "        text-align: right;\n",
       "    }\n",
       "</style>\n",
       "<table border=\"1\" class=\"dataframe\">\n",
       "  <thead>\n",
       "    <tr style=\"text-align: right;\">\n",
       "      <th></th>\n",
       "      <th>OfficerAbra</th>\n",
       "      <th>white_hit_rate</th>\n",
       "      <th>minority_group</th>\n",
       "      <th>minority_hit_rate</th>\n",
       "    </tr>\n",
       "  </thead>\n",
       "  <tbody>\n",
       "    <tr>\n",
       "      <th>0</th>\n",
       "      <td>10</td>\n",
       "      <td>0.0</td>\n",
       "      <td>african american</td>\n",
       "      <td>1.0</td>\n",
       "    </tr>\n",
       "    <tr>\n",
       "      <th>1</th>\n",
       "      <td>10</td>\n",
       "      <td>0.0</td>\n",
       "      <td>asian/pacific islander</td>\n",
       "      <td>0.0</td>\n",
       "    </tr>\n",
       "    <tr>\n",
       "      <th>2</th>\n",
       "      <td>10</td>\n",
       "      <td>0.0</td>\n",
       "      <td>other/unknown</td>\n",
       "      <td>0.0</td>\n",
       "    </tr>\n",
       "    <tr>\n",
       "      <th>3</th>\n",
       "      <td>10</td>\n",
       "      <td>0.0</td>\n",
       "      <td>hispanic</td>\n",
       "      <td>0.0</td>\n",
       "    </tr>\n",
       "    <tr>\n",
       "      <th>4</th>\n",
       "      <td>25</td>\n",
       "      <td>0.0</td>\n",
       "      <td>asian/pacific islander</td>\n",
       "      <td>0.0</td>\n",
       "    </tr>\n",
       "  </tbody>\n",
       "</table>\n",
       "</div>"
      ],
      "text/plain": [
       "   OfficerAbra  white_hit_rate          minority_group  minority_hit_rate\n",
       "0           10             0.0        african american                1.0\n",
       "1           10             0.0  asian/pacific islander                0.0\n",
       "2           10             0.0           other/unknown                0.0\n",
       "3           10             0.0                hispanic                0.0\n",
       "4           25             0.0  asian/pacific islander                0.0"
      ]
     },
     "execution_count": 32,
     "metadata": {},
     "output_type": "execute_result"
    }
   ],
   "source": [
    "from calculations import compare_rates\n",
    "\n",
    "hit_rates = compare_rates('hit_rate', \n",
    "                          hit_rates, \n",
    "                          'white', \n",
    "                          ['african american', 'hispanic', 'asian/pacific islander', 'other/unknown'], \n",
    "                          'subject_race')\n",
    "hit_rates.head()"
   ]
  },
  {
   "cell_type": "markdown",
   "metadata": {},
   "source": [
    "Now let us make some comparison plots! For these plots, we would not carry out a tutorial, as it would essentially be a `matplotlib` and `seaborn` tutorial, that could possibly be a stand-alone tutorial. If you are interested, you can take a look at the github code for more details. However, we are essentially using the `FacetGrid` function under `seaborn` to plot several scatterplots based on the minority group categories."
   ]
  },
  {
   "cell_type": "code",
   "execution_count": 33,
   "metadata": {},
   "outputs": [
    {
     "data": {
      "image/png": "[encoded data removed]",
      "text/plain": [
       "<Figure size 1448x360 with 4 Axes>"
      ]
     },
     "metadata": {},
     "output_type": "display_data"
    }
   ],
   "source": [
    "plot_rates_comparison('hit_rate', hit_rates, 'white', 'minority_group', None)"
   ]
  },
  {
   "cell_type": "markdown",
   "metadata": {},
   "source": [
    "What if the datapoints which are above the 45 degree line (i.e. where minority hit rate is equal to white hit rate) have most of the population within Sacremento? That might suggest that we should give those datapoints more weight. Intuitively, each police officer has different number of total searches. As such, we should include the total number of searches for each police officer as an additional dimension. This would similarly be the case if we were using police districts as well. Let us update our dataframe as well as our plots."
   ]
  },
  {
   "cell_type": "code",
   "execution_count": 34,
   "metadata": {},
   "outputs": [
    {
     "data": {
      "text/html": [
       "<div>\n",
       "<style scoped>\n",
       "    .dataframe tbody tr th:only-of-type {\n",
       "        vertical-align: middle;\n",
       "    }\n",
       "\n",
       "    .dataframe tbody tr th {\n",
       "        vertical-align: top;\n",
       "    }\n",
       "\n",
       "    .dataframe thead th {\n",
       "        text-align: right;\n",
       "    }\n",
       "</style>\n",
       "<table border=\"1\" class=\"dataframe\">\n",
       "  <thead>\n",
       "    <tr style=\"text-align: right;\">\n",
       "      <th></th>\n",
       "      <th>OfficerAbra</th>\n",
       "      <th>white_hit_rate</th>\n",
       "      <th>minority_group</th>\n",
       "      <th>minority_hit_rate</th>\n",
       "      <th>num_searches</th>\n",
       "    </tr>\n",
       "  </thead>\n",
       "  <tbody>\n",
       "    <tr>\n",
       "      <th>0</th>\n",
       "      <td>10</td>\n",
       "      <td>0.0</td>\n",
       "      <td>african american</td>\n",
       "      <td>1.0</td>\n",
       "      <td>1</td>\n",
       "    </tr>\n",
       "    <tr>\n",
       "      <th>1</th>\n",
       "      <td>10</td>\n",
       "      <td>0.0</td>\n",
       "      <td>asian/pacific islander</td>\n",
       "      <td>0.0</td>\n",
       "      <td>1</td>\n",
       "    </tr>\n",
       "    <tr>\n",
       "      <th>2</th>\n",
       "      <td>10</td>\n",
       "      <td>0.0</td>\n",
       "      <td>other/unknown</td>\n",
       "      <td>0.0</td>\n",
       "      <td>1</td>\n",
       "    </tr>\n",
       "    <tr>\n",
       "      <th>3</th>\n",
       "      <td>10</td>\n",
       "      <td>0.0</td>\n",
       "      <td>hispanic</td>\n",
       "      <td>0.0</td>\n",
       "      <td>1</td>\n",
       "    </tr>\n",
       "    <tr>\n",
       "      <th>4</th>\n",
       "      <td>25</td>\n",
       "      <td>0.0</td>\n",
       "      <td>asian/pacific islander</td>\n",
       "      <td>0.0</td>\n",
       "      <td>1</td>\n",
       "    </tr>\n",
       "  </tbody>\n",
       "</table>\n",
       "</div>"
      ],
      "text/plain": [
       "   OfficerAbra  white_hit_rate          minority_group  minority_hit_rate  \\\n",
       "0           10             0.0        african american                1.0   \n",
       "1           10             0.0  asian/pacific islander                0.0   \n",
       "2           10             0.0           other/unknown                0.0   \n",
       "3           10             0.0                hispanic                0.0   \n",
       "4           25             0.0  asian/pacific islander                0.0   \n",
       "\n",
       "   num_searches  \n",
       "0             1  \n",
       "1             1  \n",
       "2             1  \n",
       "3             1  \n",
       "4             1  "
      ]
     },
     "execution_count": 34,
     "metadata": {},
     "output_type": "execute_result"
    }
   ],
   "source": [
    "hit_rates_search = hit_rates.merge(calc_group_size(stops_2018[stops_2018['search_conducted']], ['OfficerAbra'], False), \n",
    "                                   how='left', on='OfficerAbra')\n",
    "hit_rates_search.rename({'n': 'num_searches'}, axis=1, inplace=True)\n",
    "hit_rates_search.head()"
   ]
  },
  {
   "cell_type": "code",
   "execution_count": 35,
   "metadata": {},
   "outputs": [
    {
     "data": {
      "image/png": "[encoded data removed]",
      "text/plain": [
       "<Figure size 1550.89x360 with 4 Axes>"
      ]
     },
     "metadata": {},
     "output_type": "display_data"
    }
   ],
   "source": [
    "plot_rates_comparison('hit_rate', \n",
    "                      hit_rates_search, \n",
    "                      'white', 'minority_group', 'num_searches', \n",
    "                      marker_size_scale = 0.8)"
   ]
  },
  {
   "cell_type": "markdown",
   "metadata": {},
   "source": [
    "Due to the huge disparity between the number of searches of each police officer, we decided to not bin the number of searches like in the Stanford Open Policy Project (which was with respect to police districts rather than police officers). This would allow us to better identify the outliers in our dataset. \n",
    "\n",
    "It would seem that there is a good spread of hit races across all demographics for most police officers. Interestingly, there seems to be a particular officer who largely hits on white drivers. Nonetheless, we notice that there is still a strong concentration of relatively large circles along the $0.0$ x-axis for black and hispanic drivers. This represents a relatively large number of police officers who have $0$ white hit rates and thus mostly black hit rates. "
   ]
  },
  {
   "cell_type": "markdown",
   "metadata": {},
   "source": [
    "### Caveats about the outcome test"
   ]
  },
  {
   "cell_type": "markdown",
   "metadata": {},
   "source": [
    "The outcome test is a relatively simple yet compelling way to demonstrate discrimination in an easily understood graph. However, as it only observes outcomes, they actually suffer from the problem of **intra-marginality**. This means that even without discrimination, there might be a disparity across racial groups because of a difference in risk distribution within racial groups. \n",
    "\n",
    "Suppose there are only 2 types of white drivers: those who have a 1% chance of carrying contraband, those who have a 80% chance of carrying contraband. Similarly, there are 2 types of black drivers: those who have a 1% chance of carrying contraband, those who have a 60% chance of carrying contraband. If race-neutral police officers only search drivers who have at least a 10% chance of carrying contraband, they will be successful 80% of the time with white drivers, and 60% of the time with black drivers. This is irregardless of the proportion within racial groups of carrying contraband! [https://5harad.com/papers/threshold-test.pdf]\n",
    "\n",
    "As such, we often use the threshold test, which circumvents the limitations of outcome tests by simultaneously estimating decision thresholds and risk distributions, in order to validate the outcome test. Before we try that out, there is another alternative to assessing bias in stop decisions known as the Veil of Darkness test. It was originally proposed by Grogger and Ridgeway in 2006."
   ]
  },
  {
   "cell_type": "markdown",
   "metadata": {},
   "source": [
    "## Threshold Test\n",
    "***"
   ]
  },
  {
   "cell_type": "code",
   "execution_count": 95,
   "metadata": {},
   "outputs": [
    {
     "data": {
      "text/html": [
       "<div>\n",
       "<style scoped>\n",
       "    .dataframe tbody tr th:only-of-type {\n",
       "        vertical-align: middle;\n",
       "    }\n",
       "\n",
       "    .dataframe tbody tr th {\n",
       "        vertical-align: top;\n",
       "    }\n",
       "\n",
       "    .dataframe thead th {\n",
       "        text-align: right;\n",
       "    }\n",
       "</style>\n",
       "<table border=\"1\" class=\"dataframe\">\n",
       "  <thead>\n",
       "    <tr style=\"text-align: right;\">\n",
       "      <th></th>\n",
       "      <th>OfficerAbra</th>\n",
       "      <th>subject_race</th>\n",
       "      <th>search_conducted</th>\n",
       "      <th>contraband_found</th>\n",
       "    </tr>\n",
       "  </thead>\n",
       "  <tbody>\n",
       "    <tr>\n",
       "      <th>0</th>\n",
       "      <td>0</td>\n",
       "      <td>0</td>\n",
       "      <td>0</td>\n",
       "      <td>0</td>\n",
       "    </tr>\n",
       "    <tr>\n",
       "      <th>1</th>\n",
       "      <td>0</td>\n",
       "      <td>1</td>\n",
       "      <td>0</td>\n",
       "      <td>0</td>\n",
       "    </tr>\n",
       "    <tr>\n",
       "      <th>2</th>\n",
       "      <td>0</td>\n",
       "      <td>2</td>\n",
       "      <td>0</td>\n",
       "      <td>0</td>\n",
       "    </tr>\n",
       "    <tr>\n",
       "      <th>3</th>\n",
       "      <td>0</td>\n",
       "      <td>2</td>\n",
       "      <td>0</td>\n",
       "      <td>0</td>\n",
       "    </tr>\n",
       "    <tr>\n",
       "      <th>4</th>\n",
       "      <td>0</td>\n",
       "      <td>1</td>\n",
       "      <td>0</td>\n",
       "      <td>0</td>\n",
       "    </tr>\n",
       "  </tbody>\n",
       "</table>\n",
       "</div>"
      ],
      "text/plain": [
       "   OfficerAbra  subject_race  search_conducted  contraband_found\n",
       "0            0             0                 0                 0\n",
       "1            0             1                 0                 0\n",
       "2            0             2                 0                 0\n",
       "3            0             2                 0                 0\n",
       "4            0             1                 0                 0"
      ]
     },
     "execution_count": 95,
     "metadata": {},
     "output_type": "execute_result"
    }
   ],
   "source": [
    "t_dat = stops_2018[stops_2018['subject_race']!='other/unknown'][['OfficerAbra','subject_race','search_conducted','contraband_found']]\n",
    "t_dat.reset_index(inplace=True, drop=True)\n",
    "\n",
    "# easier if encoded as categorical integers\n",
    "# trick such that values to be replaced are all strings\n",
    "t_dat['OfficerAbra'] = [str(i) for i in t_dat.OfficerAbra]\n",
    "t_dat.replace({'OfficerAbra': {val: i for i, val in enumerate(t_dat.OfficerAbra.unique())},\n",
    "                      'subject_race': {val: i for i, val in enumerate(t_dat.subject_race.unique())}},\n",
    "                      inplace=True)\n",
    "t_dat['search_conducted'] = [1 if i else 0 for i in t_dat['search_conducted']]\n",
    "t_dat['contraband_found'] = [1 if i else 0 for i in t_dat['contraband_found']]\n",
    "t_dat.head()"
   ]
  },
  {
   "cell_type": "code",
   "execution_count": 112,
   "metadata": {},
   "outputs": [
    {
     "ename": "TypeError",
     "evalue": "Name needs to be a string but got: 0",
     "output_type": "error",
     "traceback": [
      "\u001b[1;31m---------------------------------------------------------------------------\u001b[0m",
      "\u001b[1;31mTypeError\u001b[0m                                 Traceback (most recent call last)",
      "\u001b[1;32m<ipython-input-112-cefd16569bd4>\u001b[0m in \u001b[0;36m<module>\u001b[1;34m\u001b[0m\n\u001b[0;32m     27\u001b[0m \u001b[1;33m\u001b[0m\u001b[0m\n\u001b[0;32m     28\u001b[0m     \u001b[1;31m# draw race and officer specific threshold\u001b[0m\u001b[1;33m\u001b[0m\u001b[1;33m\u001b[0m\u001b[1;33m\u001b[0m\u001b[0m\n\u001b[1;32m---> 29\u001b[1;33m     \u001b[0mt_i_raw\u001b[0m \u001b[1;33m=\u001b[0m \u001b[0mpm\u001b[0m\u001b[1;33m.\u001b[0m\u001b[0mNormal\u001b[0m\u001b[1;33m(\u001b[0m\u001b[1;36m0\u001b[0m\u001b[1;33m,\u001b[0m \u001b[1;36m1\u001b[0m\u001b[1;33m)\u001b[0m\u001b[1;33m\u001b[0m\u001b[1;33m\u001b[0m\u001b[0m\n\u001b[0m\u001b[0;32m     30\u001b[0m     \u001b[1;31m# check this again\u001b[0m\u001b[1;33m\u001b[0m\u001b[1;33m\u001b[0m\u001b[1;33m\u001b[0m\u001b[0m\n\u001b[0;32m     31\u001b[0m     t_i = pm.Deterministic('t_i', pm.math.invlogit(mu_t_r[t_dat['subject_race']] +\\\n",
      "\u001b[1;32m~\\Anaconda3\\envs\\ac221\\lib\\site-packages\\pymc3\\distributions\\distribution.py\u001b[0m in \u001b[0;36m__new__\u001b[1;34m(cls, name, *args, **kwargs)\u001b[0m\n\u001b[0;32m     42\u001b[0m             \u001b[1;32mreturn\u001b[0m \u001b[0mmodel\u001b[0m\u001b[1;33m.\u001b[0m\u001b[0mVar\u001b[0m\u001b[1;33m(\u001b[0m\u001b[0mname\u001b[0m\u001b[1;33m,\u001b[0m \u001b[0mdist\u001b[0m\u001b[1;33m,\u001b[0m \u001b[0mdata\u001b[0m\u001b[1;33m,\u001b[0m \u001b[0mtotal_size\u001b[0m\u001b[1;33m)\u001b[0m\u001b[1;33m\u001b[0m\u001b[1;33m\u001b[0m\u001b[0m\n\u001b[0;32m     43\u001b[0m         \u001b[1;32melse\u001b[0m\u001b[1;33m:\u001b[0m\u001b[1;33m\u001b[0m\u001b[1;33m\u001b[0m\u001b[0m\n\u001b[1;32m---> 44\u001b[1;33m             \u001b[1;32mraise\u001b[0m \u001b[0mTypeError\u001b[0m\u001b[1;33m(\u001b[0m\u001b[1;34m\"Name needs to be a string but got: {}\"\u001b[0m\u001b[1;33m.\u001b[0m\u001b[0mformat\u001b[0m\u001b[1;33m(\u001b[0m\u001b[0mname\u001b[0m\u001b[1;33m)\u001b[0m\u001b[1;33m)\u001b[0m\u001b[1;33m\u001b[0m\u001b[1;33m\u001b[0m\u001b[0m\n\u001b[0m\u001b[0;32m     45\u001b[0m \u001b[1;33m\u001b[0m\u001b[0m\n\u001b[0;32m     46\u001b[0m     \u001b[1;32mdef\u001b[0m \u001b[0m__getnewargs__\u001b[0m\u001b[1;33m(\u001b[0m\u001b[0mself\u001b[0m\u001b[1;33m)\u001b[0m\u001b[1;33m:\u001b[0m\u001b[1;33m\u001b[0m\u001b[1;33m\u001b[0m\u001b[0m\n",
      "\u001b[1;31mTypeError\u001b[0m: Name needs to be a string but got: 0"
     ]
    }
   ],
   "source": [
    "from pymc3.math import switch\n",
    "with pm.Model() as threshold:\n",
    "    \n",
    "    # officer hyperparameters\n",
    "    # change from _d to _o at the end\n",
    "    mu_phi_d = pm.Normal('mu_phi_d', 0, 2)\n",
    "    sigma_phi_d = pm.HalfNormal('sigma_phi_d', 2)\n",
    "    phi_d_raw = pm.Normal('phi_d_raw', 0, 1, shape=len(t_dat.OfficerAbra.unique())) # check for shape specification\n",
    "    # with original code, we should set officer with most stops as 0\n",
    "    phi_d = mu_phi_d+sigma_phi_d*phi_d_raw\n",
    "    #phi_d = pm.Deterministic('phi_d', mu_phi_d+sigma_phi_d*phi_d_raw)\n",
    "    \n",
    "    mu_lambda_d = pm.Normal('mu_lambda_d', 0, 2)\n",
    "    sigma_lambda_d = pm.HalfNormal('sigma_lambda_d', 2)\n",
    "    lambda_d_raw = pm.Normal('lambda_d_raw', 0, 1, shape=len(t_dat.OfficerAbra.unique())) # check for shape specification\n",
    "    # with original code, we should set officer with most stops as 0\n",
    "    lambda_d = mu_lambda_d+sigma_lambda_d*lambda_d_raw\n",
    "    #lambda_d = pm.Deterministic('lambda_d', mu_lambda_d+sigma_lambda_d*lambda_d_raw)\n",
    "    \n",
    "    # race hyperparameters\n",
    "    phi_r = pm.Normal('phi_r', 0, 2, shape=4) # 4 races\n",
    "    lambda_r = pm.Normal('lambda_r', 0, 2, shape=4) # 4 races\n",
    "    \n",
    "    # threshold hyperparameters, one for each race\n",
    "    sigma_t_r = pm.HalfNormal('sigma_t_r', 2, shape=4) \n",
    "    mu_t_r = pm.Normal('mu_t_r', 0, 2, shape=4) \n",
    "    \n",
    "    # draw race and officer specific threshold\n",
    "    t_i_raw = pm.Normal('t_i_raw', 0, 1)\n",
    "    # check this again\n",
    "    t_i = pm.Deterministic('t_i', pm.math.invlogit(mu_t_r[t_dat['subject_race']] +\\\n",
    "                                                   t_i_raw*sigma_t_r[t_dat['subject_race']]))\n",
    "    \n",
    "    # signal distribution parameters\n",
    "    phi_i = pm.math.invlogit(phi_r[t_dat['subject_race']] + phi_d[t_dat['OfficerAbra']])\n",
    "    #phi_i = pm.Deterministic('phi_rd', pm.math.invlogit(phi_r[t_dat['subject_race']] +\\\n",
    "                                                         #phi_d[t_dat['OfficerAbra']]))\n",
    "    lambda_i = pm.math.exp(lambda_r[t_dat['subject_race']] + lambda_d[t_dat['OfficerAbra']])\n",
    "    #lambda_i = pm.Deterministic('lambda_rd', pm.math.exp(lambda_r[t_dat['subject_race']] +\\\n",
    "                                                          #lambda_d[t_dat['OfficerAbra']]))\n",
    "    \n",
    "    # transform to beta parameters\n",
    "    alpha = pm.Deterministic('alpha', lambda_i*phi_i)\n",
    "    beta = pm.Deterministic('beta', lambda_i*(1-phi_i))\n",
    "    \n",
    "\n",
    "    search_signal = pm.Beta('search_signal', alpha, beta, shape=t_dat.shape[0])\n",
    "    searched = switch(search_signal >= t_i[t_dat['subject_race']], 0, 1)\n",
    "    hit = pm.Bernoulli('hit', p=searched*search_signal, observed=t_dat['contraband_found'])\n",
    "    \n",
    "    \n",
    "    \n",
    "    "
   ]
  },
  {
   "cell_type": "code",
   "execution_count": null,
   "metadata": {},
   "outputs": [],
   "source": [
    "with threshold:\n",
    "    step = pm.NUTS()\n",
    "    trace = pm.sample(draws=5000, step=step, tune=2000)"
   ]
  },
  {
   "cell_type": "code",
   "execution_count": 113,
   "metadata": {},
   "outputs": [
    {
     "data": {
      "text/html": [
       "<div>\n",
       "<style scoped>\n",
       "    .dataframe tbody tr th:only-of-type {\n",
       "        vertical-align: middle;\n",
       "    }\n",
       "\n",
       "    .dataframe tbody tr th {\n",
       "        vertical-align: top;\n",
       "    }\n",
       "\n",
       "    .dataframe thead th {\n",
       "        text-align: right;\n",
       "    }\n",
       "</style>\n",
       "<table border=\"1\" class=\"dataframe\">\n",
       "  <thead>\n",
       "    <tr style=\"text-align: right;\">\n",
       "      <th></th>\n",
       "      <th>OfficerAbra</th>\n",
       "      <th>subject_race</th>\n",
       "      <th>num_stops</th>\n",
       "      <th>num_searches</th>\n",
       "      <th>num_hits</th>\n",
       "      <th>search_rate</th>\n",
       "      <th>hit_rate</th>\n",
       "    </tr>\n",
       "  </thead>\n",
       "  <tbody>\n",
       "    <tr>\n",
       "      <th>0</th>\n",
       "      <td>10</td>\n",
       "      <td>african american</td>\n",
       "      <td>1</td>\n",
       "      <td>1.0</td>\n",
       "      <td>1.0</td>\n",
       "      <td>1.0</td>\n",
       "      <td>1.0</td>\n",
       "    </tr>\n",
       "    <tr>\n",
       "      <th>1</th>\n",
       "      <td>25</td>\n",
       "      <td>white</td>\n",
       "      <td>1</td>\n",
       "      <td>1.0</td>\n",
       "      <td>0.0</td>\n",
       "      <td>1.0</td>\n",
       "      <td>0.0</td>\n",
       "    </tr>\n",
       "    <tr>\n",
       "      <th>2</th>\n",
       "      <td>32</td>\n",
       "      <td>hispanic</td>\n",
       "      <td>1</td>\n",
       "      <td>1.0</td>\n",
       "      <td>0.0</td>\n",
       "      <td>1.0</td>\n",
       "      <td>0.0</td>\n",
       "    </tr>\n",
       "    <tr>\n",
       "      <th>3</th>\n",
       "      <td>45</td>\n",
       "      <td>african american</td>\n",
       "      <td>3</td>\n",
       "      <td>3.0</td>\n",
       "      <td>0.0</td>\n",
       "      <td>1.0</td>\n",
       "      <td>0.0</td>\n",
       "    </tr>\n",
       "    <tr>\n",
       "      <th>4</th>\n",
       "      <td>50</td>\n",
       "      <td>african american</td>\n",
       "      <td>5</td>\n",
       "      <td>1.0</td>\n",
       "      <td>0.0</td>\n",
       "      <td>0.2</td>\n",
       "      <td>0.0</td>\n",
       "    </tr>\n",
       "  </tbody>\n",
       "</table>\n",
       "</div>"
      ],
      "text/plain": [
       "   OfficerAbra      subject_race  num_stops  num_searches  num_hits  \\\n",
       "0           10  african american          1           1.0       1.0   \n",
       "1           25             white          1           1.0       0.0   \n",
       "2           32          hispanic          1           1.0       0.0   \n",
       "3           45  african american          3           3.0       0.0   \n",
       "4           50  african american          5           1.0       0.0   \n",
       "\n",
       "   search_rate  hit_rate  \n",
       "0          1.0       1.0  \n",
       "1          1.0       0.0  \n",
       "2          1.0       0.0  \n",
       "3          1.0       0.0  \n",
       "4          0.2       0.0  "
      ]
     },
     "execution_count": 113,
     "metadata": {},
     "output_type": "execute_result"
    }
   ],
   "source": [
    "threshold_dat = (stops_2018[stops_2018['subject_race']!='other/unknown'] # for ease of analysis, drop other/unknown, and select only \n",
    "                 .groupby(['OfficerAbra', 'subject_race'], as_index=False)\n",
    "                 .agg({'Idx': 'count', # num of stops\n",
    "                       'search_conducted': 'sum', # num of searches\n",
    "                       'contraband_found': 'mean'})\n",
    "                 .rename({'Idx': 'num_stops',\n",
    "                          'search_conducted': 'num_searches',\n",
    "                          'contraband_found': 'num_hits'}, axis=1)) # num of hits\n",
    "\n",
    "threshold_dat = threshold_dat[threshold_dat['num_searches']!=0] # only those with searches\n",
    "threshold_dat['search_rate'] = threshold_dat['num_searches'] / threshold_dat['num_stops']\n",
    "threshold_dat['hit_rate'] = threshold_dat['num_hits'] / threshold_dat['num_searches']\n",
    "threshold_dat.sort_values('OfficerAbra')\n",
    "threshold_dat.reset_index(drop=True, inplace=True)\n",
    "threshold_dat.head()"
   ]
  },
  {
   "cell_type": "code",
   "execution_count": 114,
   "metadata": {},
   "outputs": [
    {
     "data": {
      "text/html": [
       "<div>\n",
       "<style scoped>\n",
       "    .dataframe tbody tr th:only-of-type {\n",
       "        vertical-align: middle;\n",
       "    }\n",
       "\n",
       "    .dataframe tbody tr th {\n",
       "        vertical-align: top;\n",
       "    }\n",
       "\n",
       "    .dataframe thead th {\n",
       "        text-align: right;\n",
       "    }\n",
       "</style>\n",
       "<table border=\"1\" class=\"dataframe\">\n",
       "  <thead>\n",
       "    <tr style=\"text-align: right;\">\n",
       "      <th></th>\n",
       "      <th>OfficerAbra</th>\n",
       "      <th>subject_race</th>\n",
       "      <th>num_stops</th>\n",
       "      <th>num_searches</th>\n",
       "      <th>num_hits</th>\n",
       "      <th>search_rate</th>\n",
       "      <th>hit_rate</th>\n",
       "    </tr>\n",
       "  </thead>\n",
       "  <tbody>\n",
       "    <tr>\n",
       "      <th>0</th>\n",
       "      <td>0</td>\n",
       "      <td>0</td>\n",
       "      <td>1</td>\n",
       "      <td>1.0</td>\n",
       "      <td>1.0</td>\n",
       "      <td>1.0</td>\n",
       "      <td>1.0</td>\n",
       "    </tr>\n",
       "    <tr>\n",
       "      <th>1</th>\n",
       "      <td>1</td>\n",
       "      <td>1</td>\n",
       "      <td>1</td>\n",
       "      <td>1.0</td>\n",
       "      <td>0.0</td>\n",
       "      <td>1.0</td>\n",
       "      <td>0.0</td>\n",
       "    </tr>\n",
       "    <tr>\n",
       "      <th>2</th>\n",
       "      <td>2</td>\n",
       "      <td>2</td>\n",
       "      <td>1</td>\n",
       "      <td>1.0</td>\n",
       "      <td>0.0</td>\n",
       "      <td>1.0</td>\n",
       "      <td>0.0</td>\n",
       "    </tr>\n",
       "    <tr>\n",
       "      <th>3</th>\n",
       "      <td>3</td>\n",
       "      <td>0</td>\n",
       "      <td>3</td>\n",
       "      <td>3.0</td>\n",
       "      <td>0.0</td>\n",
       "      <td>1.0</td>\n",
       "      <td>0.0</td>\n",
       "    </tr>\n",
       "    <tr>\n",
       "      <th>4</th>\n",
       "      <td>4</td>\n",
       "      <td>0</td>\n",
       "      <td>5</td>\n",
       "      <td>1.0</td>\n",
       "      <td>0.0</td>\n",
       "      <td>0.2</td>\n",
       "      <td>0.0</td>\n",
       "    </tr>\n",
       "  </tbody>\n",
       "</table>\n",
       "</div>"
      ],
      "text/plain": [
       "   OfficerAbra  subject_race  num_stops  num_searches  num_hits  search_rate  \\\n",
       "0            0             0          1           1.0       1.0          1.0   \n",
       "1            1             1          1           1.0       0.0          1.0   \n",
       "2            2             2          1           1.0       0.0          1.0   \n",
       "3            3             0          3           3.0       0.0          1.0   \n",
       "4            4             0          5           1.0       0.0          0.2   \n",
       "\n",
       "   hit_rate  \n",
       "0       1.0  \n",
       "1       0.0  \n",
       "2       0.0  \n",
       "3       0.0  \n",
       "4       0.0  "
      ]
     },
     "execution_count": 114,
     "metadata": {},
     "output_type": "execute_result"
    }
   ],
   "source": [
    "# easier if subject_race and OfficerAbra were encoded as categorical integers\n",
    "# trick such that values to be replaced are all strings\n",
    "threshold_dat['OfficerAbra'] = [str(i) for i in threshold_dat.OfficerAbra]\n",
    "threshold_dat.replace({'OfficerAbra': {val: i for i, val in enumerate(threshold_dat.OfficerAbra.unique())},\n",
    "                      'subject_race': {val: i for i, val in enumerate(threshold_dat.subject_race.unique())}},\n",
    "                      inplace=True)\n",
    "threshold_dat.head()"
   ]
  },
  {
   "cell_type": "code",
   "execution_count": 115,
   "metadata": {},
   "outputs": [
    {
     "data": {
      "text/html": [
       "<div>\n",
       "<style scoped>\n",
       "    .dataframe tbody tr th:only-of-type {\n",
       "        vertical-align: middle;\n",
       "    }\n",
       "\n",
       "    .dataframe tbody tr th {\n",
       "        vertical-align: top;\n",
       "    }\n",
       "\n",
       "    .dataframe thead th {\n",
       "        text-align: right;\n",
       "    }\n",
       "</style>\n",
       "<table border=\"1\" class=\"dataframe\">\n",
       "  <thead>\n",
       "    <tr style=\"text-align: right;\">\n",
       "      <th></th>\n",
       "      <th>OfficerAbra</th>\n",
       "      <th>num_stops</th>\n",
       "    </tr>\n",
       "  </thead>\n",
       "  <tbody>\n",
       "    <tr>\n",
       "      <th>0</th>\n",
       "      <td>140</td>\n",
       "      <td>1405</td>\n",
       "    </tr>\n",
       "    <tr>\n",
       "      <th>1</th>\n",
       "      <td>84</td>\n",
       "      <td>1160</td>\n",
       "    </tr>\n",
       "    <tr>\n",
       "      <th>2</th>\n",
       "      <td>53</td>\n",
       "      <td>1118</td>\n",
       "    </tr>\n",
       "    <tr>\n",
       "      <th>3</th>\n",
       "      <td>41</td>\n",
       "      <td>748</td>\n",
       "    </tr>\n",
       "    <tr>\n",
       "      <th>4</th>\n",
       "      <td>148</td>\n",
       "      <td>353</td>\n",
       "    </tr>\n",
       "  </tbody>\n",
       "</table>\n",
       "</div>"
      ],
      "text/plain": [
       "   OfficerAbra  num_stops\n",
       "0          140       1405\n",
       "1           84       1160\n",
       "2           53       1118\n",
       "3           41        748\n",
       "4          148        353"
      ]
     },
     "execution_count": 115,
     "metadata": {},
     "output_type": "execute_result"
    }
   ],
   "source": [
    "sorted_officers = (threshold_dat\n",
    "                   .groupby(['OfficerAbra'], as_index=False)\n",
    "                   .agg({'num_stops': 'sum'})\n",
    "                   .sort_values('num_stops', ascending=False)\n",
    "                   .reset_index(drop=True))\n",
    "sorted_officers.head()"
   ]
  },
  {
   "cell_type": "code",
   "execution_count": 119,
   "metadata": {},
   "outputs": [
    {
     "ename": "AttributeError",
     "evalue": "'FreeRV' object has no attribute 'logcdf'",
     "output_type": "error",
     "traceback": [
      "\u001b[1;31m---------------------------------------------------------------------------\u001b[0m",
      "\u001b[1;31mAttributeError\u001b[0m                            Traceback (most recent call last)",
      "\u001b[1;32m<ipython-input-119-985beee61f41>\u001b[0m in \u001b[0;36m<module>\u001b[1;34m\u001b[0m\n\u001b[0;32m     46\u001b[0m     \u001b[1;31m#hit_rate = pm.Deterministic('hit_rate', 1-hit_rate_raw.log_cdf(t_i) / 1-search_rate_raw.log_cdf(t_i) * alpha / (alpha+beta)\u001b[0m\u001b[1;33m\u001b[0m\u001b[1;33m\u001b[0m\u001b[1;33m\u001b[0m\u001b[0m\n\u001b[0;32m     47\u001b[0m                                \u001b[1;31m#, observed=threshold_dat['hit_rate'])\u001b[0m\u001b[1;33m\u001b[0m\u001b[1;33m\u001b[0m\u001b[1;33m\u001b[0m\u001b[0m\n\u001b[1;32m---> 48\u001b[1;33m     \u001b[0msearch_signal\u001b[0m \u001b[1;33m=\u001b[0m \u001b[0mpm\u001b[0m\u001b[1;33m.\u001b[0m\u001b[0mBeta\u001b[0m\u001b[1;33m(\u001b[0m\u001b[1;34m'search_signal'\u001b[0m\u001b[1;33m,\u001b[0m \u001b[0malpha\u001b[0m\u001b[1;33m,\u001b[0m \u001b[0mbeta\u001b[0m\u001b[1;33m,\u001b[0m \u001b[0mshape\u001b[0m\u001b[1;33m=\u001b[0m\u001b[0mthreshold_dat\u001b[0m\u001b[1;33m.\u001b[0m\u001b[0mshape\u001b[0m\u001b[1;33m[\u001b[0m\u001b[1;36m0\u001b[0m\u001b[1;33m]\u001b[0m\u001b[1;33m,\u001b[0m \u001b[0mtransform\u001b[0m\u001b[1;33m=\u001b[0m\u001b[1;32mNone\u001b[0m\u001b[1;33m)\u001b[0m\u001b[1;33m.\u001b[0m\u001b[0mlogcdf\u001b[0m\u001b[1;33m(\u001b[0m\u001b[0mt_i\u001b[0m\u001b[1;33m)\u001b[0m\u001b[1;33m\u001b[0m\u001b[1;33m\u001b[0m\u001b[0m\n\u001b[0m\u001b[0;32m     49\u001b[0m     \u001b[0msearched\u001b[0m \u001b[1;33m=\u001b[0m \u001b[0mswitch\u001b[0m\u001b[1;33m(\u001b[0m\u001b[0msearch_signal\u001b[0m \u001b[1;33m>=\u001b[0m \u001b[0mt_i\u001b[0m\u001b[1;33m,\u001b[0m \u001b[1;36m0\u001b[0m\u001b[1;33m,\u001b[0m \u001b[1;36m1\u001b[0m\u001b[1;33m)\u001b[0m\u001b[1;33m\u001b[0m\u001b[1;33m\u001b[0m\u001b[0m\n\u001b[0;32m     50\u001b[0m     \u001b[0msearch_rate\u001b[0m \u001b[1;33m=\u001b[0m \u001b[0mpm\u001b[0m\u001b[1;33m.\u001b[0m\u001b[0mDeterministic\u001b[0m\u001b[1;33m(\u001b[0m\u001b[1;34m'search_rate'\u001b[0m\u001b[1;33m,\u001b[0m \u001b[0mbeta_ccdf\u001b[0m\u001b[1;33m(\u001b[0m\u001b[0mt_i\u001b[0m\u001b[1;33m,\u001b[0m \u001b[0malpha\u001b[0m\u001b[1;33m,\u001b[0m \u001b[0mbeta\u001b[0m\u001b[1;33m)\u001b[0m\u001b[1;33m,\u001b[0m \u001b[0mobserved\u001b[0m\u001b[1;33m=\u001b[0m\u001b[0mthreshold_dat\u001b[0m\u001b[1;33m[\u001b[0m\u001b[1;34m'search_rate'\u001b[0m\u001b[1;33m]\u001b[0m\u001b[1;33m)\u001b[0m\u001b[1;33m\u001b[0m\u001b[1;33m\u001b[0m\u001b[0m\n",
      "\u001b[1;31mAttributeError\u001b[0m: 'FreeRV' object has no attribute 'logcdf'"
     ]
    }
   ],
   "source": [
    "from pymc3.math import switch\n",
    "with pm.Model() as threshold:\n",
    "    \n",
    "    # officer hyperparameters\n",
    "    # change from _d to _o at the end\n",
    "    mu_phi_d = pm.Normal('mu_phi_d', 0, 2)\n",
    "    sigma_phi_d = pm.HalfNormal('sigma_phi_d', 2)\n",
    "    phi_d_raw = pm.Normal('phi_d_raw', 0, 1, shape=len(sorted_officers.OfficerAbra)) # check for shape specification\n",
    "    # with original code, we should set officer with most stops as 0\n",
    "    phi_d = pm.Deterministic('phi_d', mu_phi_d+sigma_phi_d*phi_d_raw)\n",
    "    \n",
    "    mu_lambda_d = pm.Normal('mu_lambda_d', 0, 2)\n",
    "    sigma_lambda_d = pm.HalfNormal('sigma_lambda_d', 2)\n",
    "    lambda_d_raw = pm.Normal('lambda_d_raw', 0, 1, shape=len(sorted_officers.OfficerAbra)) # check for shape specification\n",
    "    # with original code, we should set officer with most stops as 0\n",
    "    lambda_d = pm.Deterministic('lambda_d', mu_lambda_d+sigma_lambda_d*lambda_d_raw)\n",
    "    \n",
    "    # race hyperparameters\n",
    "    phi_r = pm.Normal('phi_r', 0, 2, shape=4) # 4 races\n",
    "    lambda_r = pm.Normal('lambda_r', 0, 2, shape=4) # 4 races\n",
    "    \n",
    "    # threshold hyperparameters, one for each race\n",
    "    sigma_t_r = pm.HalfNormal('sigma_t_r', 2, shape=4) \n",
    "    mu_t_r = pm.Normal('mu_t_r', 0, 2, shape=4) \n",
    "    \n",
    "    # draw race and officer specific threshold\n",
    "    t_i_raw = pm.Normal('t_i_raw', 0, 1)\n",
    "    # check this again\n",
    "    t_i = pm.Deterministic('t_i', pm.math.invlogit(mu_t_r[threshold_dat['subject_race']] + t_i_raw*sigma_t_r[threshold_dat['subject_race']]))\n",
    "    \n",
    "    # signal distribution parameters\n",
    "    phi_i = pm.Deterministic('phi_rd', pm.math.invlogit(phi_r[threshold_dat['subject_race']] +\\\n",
    "                                                         phi_d[threshold_dat['OfficerAbra']]))\n",
    "    lambda_i = pm.Deterministic('lambda_rd', pm.math.exp(lambda_r[threshold_dat['subject_race']] +\\\n",
    "                                                          lambda_d[threshold_dat['OfficerAbra']]))\n",
    "    \n",
    "    # transform to beta parameters\n",
    "    alpha = pm.Deterministic('alpha', lambda_i*phi_i)\n",
    "    beta = pm.Deterministic('beta', lambda_i*(1-phi_i))\n",
    "    \n",
    "    # reformulate to speed up process\n",
    "    #search_rate_raw = pm.Beta('search_rate_raw', alpha, beta)\n",
    "    #search_rate = pm.Deterministic('search_rate', 1-search_rate_raw.log_cdf(t_i), observed=threshold_dat['search_rate'])\n",
    "    \n",
    "    #hit_rate_raw = pm.Beta('hit_rate_raw', alpha+1, beta)\n",
    "    #hit_rate = pm.Deterministic('hit_rate', 1-hit_rate_raw.log_cdf(t_i) / 1-search_rate_raw.log_cdf(t_i) * alpha / (alpha+beta)\n",
    "                               #, observed=threshold_dat['hit_rate'])\n",
    "    search_signal = pm.Beta('search_signal', alpha, beta, shape=threshold_dat.shape[0], transform=None).logcdf(t_i)\n",
    "    searched = switch(search_signal >= t_i, 0, 1)\n",
    "    search_rate = pm.Deterministic('search_rate', beta_ccdf(t_i, alpha, beta), observed=threshold_dat['search_rate'])\n",
    "    hit_rate = pm.Deterministic('hit_rate', beta_conditional_mean(t_i, alpha, beta), observed=threshold_dat['hit_rate'])\n",
    "    \n",
    "    \n",
    "    \n",
    "    # draw search and hit observations\n",
    "    #s = pm.Binomial('num_searches', np.sum(threshold_dat.num_stops), search_rate) # out of n number of stops, how many were searched?\n",
    "    #h = pm.Binomial('num_hits', np.sum(threshold_dat.num_searches), hit_rate) # out of n number of searches, how many were hit?\n",
    "    \n",
    "    \n",
    "    "
   ]
  },
  {
   "cell_type": "code",
   "execution_count": null,
   "metadata": {},
   "outputs": [],
   "source": []
  },
  {
   "cell_type": "markdown",
   "metadata": {},
   "source": [
    "## Veil of Darkness test\n",
    "***"
   ]
  },
  {
   "cell_type": "markdown",
   "metadata": {},
   "source": [
    "The Veil of Darkness test works on the hypothesis that police officers who are racial profiling are less likely to identify a driver's race when it is dark. As such, under this hypothesis, we would expect that if stops made after dark had a smaller proportion of black drivers than during daytime, it might be evidence that at least some police officers are racial profiling drivers. Nonetheless, there are many things that can be correlated with time, i.e. enforcement patterns, driving schedule. As such, we would only compare within an inter-twilight period.\n",
    "\n",
    "The inter-twilight period is essentially the period of time between the earliest dusk time and the latest dusk time (within the period of interest). As the 30 minute period between sunset and dusk has ambiguous daylight, we filter out stops in those times. \n",
    "\n",
    "This allows us to compare times that had daylight at some point in the studied period but were dark at another point in the studied period. Intuitively, we would be able to compare the same group of drivers and police officers, and thus observe the effect of darkness of police stop decisions. \n",
    "\n",
    "We have written a function `calc_sunset_times` that taps on the `astral` package to calculate both the sunset and dusk times given a specific longitude and latitude. "
   ]
  },
  {
   "cell_type": "code",
   "execution_count": 37,
   "metadata": {},
   "outputs": [
    {
     "data": {
      "text/html": [
       "<div>\n",
       "<style scoped>\n",
       "    .dataframe tbody tr th:only-of-type {\n",
       "        vertical-align: middle;\n",
       "    }\n",
       "\n",
       "    .dataframe tbody tr th {\n",
       "        vertical-align: top;\n",
       "    }\n",
       "\n",
       "    .dataframe thead th {\n",
       "        text-align: right;\n",
       "    }\n",
       "</style>\n",
       "<table border=\"1\" class=\"dataframe\">\n",
       "  <thead>\n",
       "    <tr style=\"text-align: right;\">\n",
       "      <th></th>\n",
       "      <th>date</th>\n",
       "      <th>sunset</th>\n",
       "      <th>dusk</th>\n",
       "      <th>sunset_minute</th>\n",
       "      <th>dusk_minute</th>\n",
       "    </tr>\n",
       "  </thead>\n",
       "  <tbody>\n",
       "    <tr>\n",
       "      <th>0</th>\n",
       "      <td>2018-01-04</td>\n",
       "      <td>00:57:25</td>\n",
       "      <td>01:27:00</td>\n",
       "      <td>57</td>\n",
       "      <td>87</td>\n",
       "    </tr>\n",
       "    <tr>\n",
       "      <th>1</th>\n",
       "      <td>2018-01-03</td>\n",
       "      <td>00:56:34</td>\n",
       "      <td>01:26:11</td>\n",
       "      <td>56</td>\n",
       "      <td>86</td>\n",
       "    </tr>\n",
       "    <tr>\n",
       "      <th>2</th>\n",
       "      <td>2018-01-05</td>\n",
       "      <td>00:58:17</td>\n",
       "      <td>01:27:50</td>\n",
       "      <td>58</td>\n",
       "      <td>87</td>\n",
       "    </tr>\n",
       "    <tr>\n",
       "      <th>3</th>\n",
       "      <td>2018-01-06</td>\n",
       "      <td>00:59:11</td>\n",
       "      <td>01:28:41</td>\n",
       "      <td>59</td>\n",
       "      <td>88</td>\n",
       "    </tr>\n",
       "    <tr>\n",
       "      <th>4</th>\n",
       "      <td>2018-01-07</td>\n",
       "      <td>01:00:05</td>\n",
       "      <td>01:29:33</td>\n",
       "      <td>60</td>\n",
       "      <td>89</td>\n",
       "    </tr>\n",
       "  </tbody>\n",
       "</table>\n",
       "</div>"
      ],
      "text/plain": [
       "         date    sunset      dusk  sunset_minute  dusk_minute\n",
       "0  2018-01-04  00:57:25  01:27:00             57           87\n",
       "1  2018-01-03  00:56:34  01:26:11             56           86\n",
       "2  2018-01-05  00:58:17  01:27:50             58           87\n",
       "3  2018-01-06  00:59:11  01:28:41             59           88\n",
       "4  2018-01-07  01:00:05  01:29:33             60           89"
      ]
     },
     "execution_count": 37,
     "metadata": {},
     "output_type": "execute_result"
    }
   ],
   "source": [
    "sacramento_lat = 38.5816\n",
    "sacramento_long = -121.4944\n",
    "\n",
    "# calculate sunset and dusk times in sacremento\n",
    "from calculations import calc_sunset_times\n",
    "sunset_time = calc_sunset_times(stops_2018, sacramento_lat, sacramento_long, 'UTC')\n",
    "sunset_time.head()"
   ]
  },
  {
   "cell_type": "code",
   "execution_count": null,
   "metadata": {},
   "outputs": [],
   "source": []
  }
 ],
 "metadata": {
  "kernelspec": {
   "display_name": "Python [conda env:ac221]",
   "language": "python",
   "name": "conda-env-ac221-py"
  },
  "language_info": {
   "codemirror_mode": {
    "name": "ipython",
    "version": 3
   },
   "file_extension": ".py",
   "mimetype": "text/x-python",
   "name": "python",
   "nbconvert_exporter": "python",
   "pygments_lexer": "ipython3",
   "version": "3.7.3"
  }
 },
 "nbformat": 4,
 "nbformat_minor": 2
}
