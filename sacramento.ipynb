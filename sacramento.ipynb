{
 "cells": [
  {
   "cell_type": "code",
   "execution_count": 1,
   "metadata": {},
   "outputs": [],
   "source": [
    "import pandas as pd\n",
    "from sklearn.metrics import accuracy_score\n",
    "import statsmodels.api as sm\n",
    "from patsy import dmatrix\n",
    "\n",
    "import calculations \n",
    "import plotting\n",
    "\n",
    "%matplotlib inline"
   ]
  },
  {
   "cell_type": "code",
   "execution_count": 4,
   "metadata": {},
   "outputs": [
    {
     "data": {
      "text/html": [
       "<div>\n",
       "<style scoped>\n",
       "    .dataframe tbody tr th:only-of-type {\n",
       "        vertical-align: middle;\n",
       "    }\n",
       "\n",
       "    .dataframe tbody tr th {\n",
       "        vertical-align: top;\n",
       "    }\n",
       "\n",
       "    .dataframe thead th {\n",
       "        text-align: right;\n",
       "    }\n",
       "</style>\n",
       "<table border=\"1\" class=\"dataframe\">\n",
       "  <thead>\n",
       "    <tr style=\"text-align: right;\">\n",
       "      <th></th>\n",
       "      <th>Idx</th>\n",
       "      <th>CitationNumber</th>\n",
       "      <th>EntryDate</th>\n",
       "      <th>StopType</th>\n",
       "      <th>StopDTS</th>\n",
       "      <th>StopCause</th>\n",
       "      <th>ViolationNumber</th>\n",
       "      <th>SpecialCondition</th>\n",
       "      <th>Race</th>\n",
       "      <th>Gender</th>\n",
       "      <th>...</th>\n",
       "      <th>ResultCitation</th>\n",
       "      <th>ResultArrest</th>\n",
       "      <th>ResultReport</th>\n",
       "      <th>ResultAdvised</th>\n",
       "      <th>ResultFC</th>\n",
       "      <th>CadCallNumber</th>\n",
       "      <th>DetentionDuration</th>\n",
       "      <th>OfficerAbra</th>\n",
       "      <th>LimitedLanguage</th>\n",
       "      <th>FID</th>\n",
       "    </tr>\n",
       "  </thead>\n",
       "  <tbody>\n",
       "    <tr>\n",
       "      <th>0</th>\n",
       "      <td>430490</td>\n",
       "      <td>NaN</td>\n",
       "      <td>2017-03-22T02:28:48.000Z</td>\n",
       "      <td>VEHICLE</td>\n",
       "      <td>2017-03-22T02:09:00.000Z</td>\n",
       "      <td>REGISTRATION OR REQUIRED EQUIPMENT VIOLATION</td>\n",
       "      <td>4000A</td>\n",
       "      <td>NOT APPLICABLE</td>\n",
       "      <td>ASIAN/PACIFIC ISLANDER</td>\n",
       "      <td>M</td>\n",
       "      <td>...</td>\n",
       "      <td>False</td>\n",
       "      <td>False</td>\n",
       "      <td>False</td>\n",
       "      <td>True</td>\n",
       "      <td>False</td>\n",
       "      <td>17-080525</td>\n",
       "      <td>10</td>\n",
       "      <td>4077</td>\n",
       "      <td>False</td>\n",
       "      <td>4001</td>\n",
       "    </tr>\n",
       "    <tr>\n",
       "      <th>1</th>\n",
       "      <td>430491</td>\n",
       "      <td>NaN</td>\n",
       "      <td>2017-03-22T02:47:35.000Z</td>\n",
       "      <td>VEHICLE</td>\n",
       "      <td>2017-03-22T02:10:00.000Z</td>\n",
       "      <td>REGISTRATION OR REQUIRED EQUIPMENT VIOLATION</td>\n",
       "      <td>4000(A) VC</td>\n",
       "      <td>NOT APPLICABLE</td>\n",
       "      <td>AFRICAN AMERICAN</td>\n",
       "      <td>F</td>\n",
       "      <td>...</td>\n",
       "      <td>False</td>\n",
       "      <td>False</td>\n",
       "      <td>False</td>\n",
       "      <td>True</td>\n",
       "      <td>False</td>\n",
       "      <td>17-080526</td>\n",
       "      <td>15</td>\n",
       "      <td>4183</td>\n",
       "      <td>False</td>\n",
       "      <td>4002</td>\n",
       "    </tr>\n",
       "    <tr>\n",
       "      <th>2</th>\n",
       "      <td>430492</td>\n",
       "      <td>NaN</td>\n",
       "      <td>2017-03-22T02:56:58.000Z</td>\n",
       "      <td>VEHICLE</td>\n",
       "      <td>2017-03-22T02:43:00.000Z</td>\n",
       "      <td>REGISTRATION OR REQUIRED EQUIPMENT VIOLATION</td>\n",
       "      <td>5200A</td>\n",
       "      <td>NOT APPLICABLE</td>\n",
       "      <td>AFRICAN AMERICAN</td>\n",
       "      <td>F</td>\n",
       "      <td>...</td>\n",
       "      <td>False</td>\n",
       "      <td>False</td>\n",
       "      <td>False</td>\n",
       "      <td>True</td>\n",
       "      <td>False</td>\n",
       "      <td>17-080553</td>\n",
       "      <td>10</td>\n",
       "      <td>4077</td>\n",
       "      <td>False</td>\n",
       "      <td>4003</td>\n",
       "    </tr>\n",
       "    <tr>\n",
       "      <th>3</th>\n",
       "      <td>430493</td>\n",
       "      <td>NaN</td>\n",
       "      <td>2017-03-22T03:00:28.000Z</td>\n",
       "      <td>VEHICLE</td>\n",
       "      <td>2017-03-15T01:38:00.000Z</td>\n",
       "      <td>REGISTRATION OR REQUIRED EQUIPMENT VIOLATION</td>\n",
       "      <td>4000A VC</td>\n",
       "      <td>NOT APPLICABLE</td>\n",
       "      <td>AFRICAN AMERICAN</td>\n",
       "      <td>F</td>\n",
       "      <td>...</td>\n",
       "      <td>False</td>\n",
       "      <td>False</td>\n",
       "      <td>False</td>\n",
       "      <td>True</td>\n",
       "      <td>False</td>\n",
       "      <td>17-073156</td>\n",
       "      <td>15</td>\n",
       "      <td>3477</td>\n",
       "      <td>False</td>\n",
       "      <td>4004</td>\n",
       "    </tr>\n",
       "    <tr>\n",
       "      <th>4</th>\n",
       "      <td>430494</td>\n",
       "      <td>NaN</td>\n",
       "      <td>2017-03-22T03:09:24.000Z</td>\n",
       "      <td>VEHICLE</td>\n",
       "      <td>2017-03-15T01:22:00.000Z</td>\n",
       "      <td>REGISTRATION OR REQUIRED EQUIPMENT VIOLATION</td>\n",
       "      <td>4000A VC</td>\n",
       "      <td>NOT APPLICABLE</td>\n",
       "      <td>HISPANIC</td>\n",
       "      <td>M</td>\n",
       "      <td>...</td>\n",
       "      <td>False</td>\n",
       "      <td>False</td>\n",
       "      <td>False</td>\n",
       "      <td>False</td>\n",
       "      <td>False</td>\n",
       "      <td>17-073141</td>\n",
       "      <td>5</td>\n",
       "      <td>3477</td>\n",
       "      <td>False</td>\n",
       "      <td>4005</td>\n",
       "    </tr>\n",
       "  </tbody>\n",
       "</table>\n",
       "<p>5 rows × 36 columns</p>\n",
       "</div>"
      ],
      "text/plain": [
       "      Idx CitationNumber                 EntryDate StopType  \\\n",
       "0  430490            NaN  2017-03-22T02:28:48.000Z  VEHICLE   \n",
       "1  430491            NaN  2017-03-22T02:47:35.000Z  VEHICLE   \n",
       "2  430492            NaN  2017-03-22T02:56:58.000Z  VEHICLE   \n",
       "3  430493            NaN  2017-03-22T03:00:28.000Z  VEHICLE   \n",
       "4  430494            NaN  2017-03-22T03:09:24.000Z  VEHICLE   \n",
       "\n",
       "                    StopDTS                                     StopCause  \\\n",
       "0  2017-03-22T02:09:00.000Z  REGISTRATION OR REQUIRED EQUIPMENT VIOLATION   \n",
       "1  2017-03-22T02:10:00.000Z  REGISTRATION OR REQUIRED EQUIPMENT VIOLATION   \n",
       "2  2017-03-22T02:43:00.000Z  REGISTRATION OR REQUIRED EQUIPMENT VIOLATION   \n",
       "3  2017-03-15T01:38:00.000Z  REGISTRATION OR REQUIRED EQUIPMENT VIOLATION   \n",
       "4  2017-03-15T01:22:00.000Z  REGISTRATION OR REQUIRED EQUIPMENT VIOLATION   \n",
       "\n",
       "  ViolationNumber SpecialCondition                    Race Gender  ...  \\\n",
       "0           4000A   NOT APPLICABLE  ASIAN/PACIFIC ISLANDER      M  ...   \n",
       "1      4000(A) VC   NOT APPLICABLE        AFRICAN AMERICAN      F  ...   \n",
       "2           5200A   NOT APPLICABLE        AFRICAN AMERICAN      F  ...   \n",
       "3        4000A VC   NOT APPLICABLE        AFRICAN AMERICAN      F  ...   \n",
       "4        4000A VC   NOT APPLICABLE                HISPANIC      M  ...   \n",
       "\n",
       "   ResultCitation ResultArrest  ResultReport  ResultAdvised  ResultFC  \\\n",
       "0           False        False         False           True     False   \n",
       "1           False        False         False           True     False   \n",
       "2           False        False         False           True     False   \n",
       "3           False        False         False           True     False   \n",
       "4           False        False         False          False     False   \n",
       "\n",
       "   CadCallNumber DetentionDuration OfficerAbra LimitedLanguage   FID  \n",
       "0      17-080525                10        4077           False  4001  \n",
       "1      17-080526                15        4183           False  4002  \n",
       "2      17-080553                10        4077           False  4003  \n",
       "3      17-073156                15        3477           False  4004  \n",
       "4      17-073141                 5        3477           False  4005  \n",
       "\n",
       "[5 rows x 36 columns]"
      ]
     },
     "execution_count": 4,
     "metadata": {},
     "output_type": "execute_result"
    }
   ],
   "source": [
    "sacramento_stops = pd.read_csv('data/sacramento_stops.csv')\n",
    "sacramento_stops.head()\n",
    "#https://www.cityofsacramento.org/-/media/Corporate/Files/Police/Transparency/VSDF/Understanding-Vehicle-Stop-Data-Fields-and-Points-of-Collection.pdf?la=en"
   ]
  },
  {
   "cell_type": "code",
   "execution_count": 5,
   "metadata": {},
   "outputs": [
    {
     "data": {
      "text/plain": [
       "59235"
      ]
     },
     "execution_count": 5,
     "metadata": {},
     "output_type": "execute_result"
    }
   ],
   "source": [
    "len(sacramento_stops)"
   ]
  },
  {
   "cell_type": "code",
   "execution_count": 6,
   "metadata": {},
   "outputs": [
    {
     "data": {
      "text/plain": [
       "Index(['Idx', 'CitationNumber', 'EntryDate', 'StopType', 'StopDTS',\n",
       "       'StopCause', 'ViolationNumber', 'SpecialCondition', 'Race', 'Gender',\n",
       "       'BirthYear', 'ExitVehicle', 'PassengerCount', 'SearchDriver',\n",
       "       'SearchPassenger', 'SearchVehicle', 'Authority', 'ConsentRequested',\n",
       "       'ConsentGranted', 'FSWeapons', 'FSDrugs', 'FSCash', 'FSVehicle',\n",
       "       'FSAlcohol', 'FSOtherProperty', 'FSNothing', 'ResultCitation',\n",
       "       'ResultArrest', 'ResultReport', 'ResultAdvised', 'ResultFC',\n",
       "       'CadCallNumber', 'DetentionDuration', 'OfficerAbra', 'LimitedLanguage',\n",
       "       'FID'],\n",
       "      dtype='object')"
      ]
     },
     "execution_count": 6,
     "metadata": {},
     "output_type": "execute_result"
    }
   ],
   "source": [
    "sacramento_stops.columns"
   ]
  },
  {
   "cell_type": "code",
   "execution_count": 7,
   "metadata": {},
   "outputs": [
    {
     "data": {
      "text/html": [
       "<div>\n",
       "<style scoped>\n",
       "    .dataframe tbody tr th:only-of-type {\n",
       "        vertical-align: middle;\n",
       "    }\n",
       "\n",
       "    .dataframe tbody tr th {\n",
       "        vertical-align: top;\n",
       "    }\n",
       "\n",
       "    .dataframe thead th {\n",
       "        text-align: right;\n",
       "    }\n",
       "</style>\n",
       "<table border=\"1\" class=\"dataframe\">\n",
       "  <thead>\n",
       "    <tr style=\"text-align: right;\">\n",
       "      <th></th>\n",
       "      <th>date</th>\n",
       "      <th>time</th>\n",
       "    </tr>\n",
       "  </thead>\n",
       "  <tbody>\n",
       "    <tr>\n",
       "      <th>0</th>\n",
       "      <td>2017-03-22</td>\n",
       "      <td>02:09:00</td>\n",
       "    </tr>\n",
       "    <tr>\n",
       "      <th>1</th>\n",
       "      <td>2017-03-22</td>\n",
       "      <td>02:10:00</td>\n",
       "    </tr>\n",
       "    <tr>\n",
       "      <th>2</th>\n",
       "      <td>2017-03-22</td>\n",
       "      <td>02:43:00</td>\n",
       "    </tr>\n",
       "    <tr>\n",
       "      <th>3</th>\n",
       "      <td>2017-03-15</td>\n",
       "      <td>01:38:00</td>\n",
       "    </tr>\n",
       "    <tr>\n",
       "      <th>4</th>\n",
       "      <td>2017-03-15</td>\n",
       "      <td>01:22:00</td>\n",
       "    </tr>\n",
       "  </tbody>\n",
       "</table>\n",
       "</div>"
      ],
      "text/plain": [
       "         date      time\n",
       "0  2017-03-22  02:09:00\n",
       "1  2017-03-22  02:10:00\n",
       "2  2017-03-22  02:43:00\n",
       "3  2017-03-15  01:38:00\n",
       "4  2017-03-15  01:22:00"
      ]
     },
     "execution_count": 7,
     "metadata": {},
     "output_type": "execute_result"
    }
   ],
   "source": [
    "#As according to the documentation of the dataset, times are in UTC. Keep that in mind when during veil of darkness\n",
    "sacramento_stops['date'] = pd.to_datetime(sacramento_stops['StopDTS']).apply(lambda date: date.date)\n",
    "sacramento_stops['time'] = pd.to_datetime(sacramento_stops['StopDTS']).apply(lambda date: date.time())\n",
    "\n",
    "sacramento_stops[['date', 'time']].head()"
   ]
  },
  {
   "cell_type": "code",
   "execution_count": 8,
   "metadata": {},
   "outputs": [
    {
     "data": {
      "text/plain": [
       "datetime.date(2017, 2, 1)"
      ]
     },
     "execution_count": 8,
     "metadata": {},
     "output_type": "execute_result"
    }
   ],
   "source": [
    "sacramento_stops['date'].min()"
   ]
  },
  {
   "cell_type": "code",
   "execution_count": 9,
   "metadata": {},
   "outputs": [
    {
     "data": {
      "text/plain": [
       "datetime.date(2019, 1, 1)"
      ]
     },
     "execution_count": 9,
     "metadata": {},
     "output_type": "execute_result"
    }
   ],
   "source": [
    "sacramento_stops['date'].max()"
   ]
  },
  {
   "cell_type": "code",
   "execution_count": 10,
   "metadata": {},
   "outputs": [
    {
     "data": {
      "text/plain": [
       "array(['ASIAN/PACIFIC ISLANDER', 'AFRICAN AMERICAN', 'HISPANIC', 'WHITE',\n",
       "       'OTHER/NOT APPARENT', 'ASIAN OTHER', 'UNKNOWN', 'NATIVE AMERICAN',\n",
       "       'MIXED RACE', 'CHINESE', 'AM. IND./AL. NATIVE', 'EAST INDIAN',\n",
       "       'ASIAN INDIAN', 'MIEN', 'HAWAIIAN', 'MIDDLE EASTERN',\n",
       "       'CUBAN/CARRIBEAN', 'PACIFIC ISLANDER', 'HMONG', 'FILIPINO',\n",
       "       'GUAMANIAN', 'VIETNAMESE', 'SAMOAN', 'ORIENTAL/ASIAN', 'CAMBODIAN',\n",
       "       'JAPANESE'], dtype=object)"
      ]
     },
     "execution_count": 10,
     "metadata": {},
     "output_type": "execute_result"
    }
   ],
   "source": [
    "sacramento_stops['Race'].unique()"
   ]
  },
  {
   "cell_type": "code",
   "execution_count": 11,
   "metadata": {},
   "outputs": [
    {
     "data": {
      "text/plain": [
       "array(['asian/pacific islander', 'african american', 'hispanic', 'white',\n",
       "       'other', 'unknown', 'native american', 'mixed race',\n",
       "       'am. ind./al. native', 'middle eastern', 'cuban/carribean',\n",
       "       'guamanian'], dtype=object)"
      ]
     },
     "execution_count": 11,
     "metadata": {},
     "output_type": "execute_result"
    }
   ],
   "source": [
    "#Convert to standardized names\n",
    "sacramento_stops['subject_race'] = sacramento_stops['Race'].str.lower()\n",
    "sacramento_stops['subject_race'] = sacramento_stops['subject_race'].replace({\n",
    "                                    'other/not apparent': 'other',\n",
    "                                    'asian other': 'asian/pacific islander',\n",
    "                                    'chinese': 'asian/pacific islander',\n",
    "                                    'east indian': 'asian/pacific islander',\n",
    "                                    'pacific islander': 'asian/pacific islander',\n",
    "                                    'vietnamese': 'asian/pacific islander',\n",
    "                                    'oriental/asian': 'asian/pacific islander',\n",
    "                                    'cambodian': 'asian/pacific islander',\n",
    "                                    'japanese': 'asian/pacific islander',\n",
    "                                    'asian indian': 'asian/pacific islander',\n",
    "                                    'hmong': 'asian/pacific islander',\n",
    "                                    'filipino': 'asian/pacific islander',\n",
    "                                    'mien': 'asian/pacific islander',\n",
    "                                    'hawaiian': 'asian/pacific islander',\n",
    "                                    'samoan': 'asian/pacific islander'\n",
    "                    })\n",
    "\n",
    "sacramento_stops['subject_race'].unique()"
   ]
  },
  {
   "cell_type": "code",
   "execution_count": 12,
   "metadata": {},
   "outputs": [
    {
     "data": {
      "text/plain": [
       "7979"
      ]
     },
     "execution_count": 12,
     "metadata": {},
     "output_type": "execute_result"
    }
   ],
   "source": [
    "sacramento_stops['search_conducted'] = ((sacramento_stops['SearchDriver']) | (sacramento_stops['SearchPassenger']) |\n",
    "                                        (sacramento_stops['SearchVehicle']))\n",
    "\n",
    "sacramento_stops['search_conducted'].sum()"
   ]
  },
  {
   "cell_type": "code",
   "execution_count": 13,
   "metadata": {},
   "outputs": [
    {
     "name": "stdout",
     "output_type": "stream",
     "text": [
      "33\n"
     ]
    }
   ],
   "source": [
    "sacramento_stops['contraband_found'] = ((sacramento_stops['FSAlcohol']) | (sacramento_stops['FSCash']) |\n",
    "                                       (sacramento_stops['FSDrugs']) | (sacramento_stops['FSOtherProperty']) |\n",
    "                                       (sacramento_stops['FSWeapons']) | (sacramento_stops['FSVehicle']))\n",
    "\n",
    "#Search not conducted, but contraband found. only 33 observations like these. Possibly data entry\n",
    "#error or that these were obvious contrabands without the need for research? Remove these observations.\n",
    "print(len(sacramento_stops[((~sacramento_stops['search_conducted']) & (sacramento_stops['contraband_found']))]))\n",
    "sacramento_stops = sacramento_stops[~((~sacramento_stops['search_conducted']) & (sacramento_stops['contraband_found']))]"
   ]
  },
  {
   "cell_type": "code",
   "execution_count": 14,
   "metadata": {},
   "outputs": [
    {
     "data": {
      "text/plain": [
       "array(['VEHICLE'], dtype=object)"
      ]
     },
     "execution_count": 14,
     "metadata": {},
     "output_type": "execute_result"
    }
   ],
   "source": [
    "sacramento_stops['StopType'].unique()"
   ]
  },
  {
   "cell_type": "code",
   "execution_count": 15,
   "metadata": {},
   "outputs": [
    {
     "name": "stdout",
     "output_type": "stream",
     "text": [
      "Idx 0\n",
      "CitationNumber 39146\n",
      "EntryDate 0\n",
      "StopType 0\n",
      "StopDTS 0\n",
      "StopCause 0\n",
      "ViolationNumber 95\n",
      "SpecialCondition 0\n",
      "Race 0\n",
      "Gender 0\n",
      "BirthYear 0\n",
      "ExitVehicle 701\n",
      "PassengerCount 0\n",
      "SearchDriver 0\n",
      "SearchPassenger 0\n",
      "SearchVehicle 0\n",
      "Authority 0\n",
      "ConsentRequested 28751\n",
      "ConsentGranted 55293\n",
      "FSWeapons 0\n",
      "FSDrugs 0\n",
      "FSCash 0\n",
      "FSVehicle 0\n",
      "FSAlcohol 0\n",
      "FSOtherProperty 0\n",
      "FSNothing 0\n",
      "ResultCitation 0\n",
      "ResultArrest 0\n",
      "ResultReport 0\n",
      "ResultAdvised 0\n",
      "ResultFC 0\n",
      "CadCallNumber 0\n",
      "DetentionDuration 0\n",
      "OfficerAbra 0\n",
      "LimitedLanguage 0\n",
      "FID 0\n",
      "date 0\n",
      "time 0\n",
      "subject_race 0\n",
      "search_conducted 0\n",
      "contraband_found 0\n"
     ]
    }
   ],
   "source": [
    "for col in sacramento_stops.columns:\n",
    "    print(col, sacramento_stops[col].isna().sum())"
   ]
  },
  {
   "cell_type": "code",
   "execution_count": 16,
   "metadata": {},
   "outputs": [],
   "source": [
    "stops_2018 = sacramento_stops[sacramento_stops['date'].apply(lambda date: date.year == 2018)]"
   ]
  },
  {
   "cell_type": "code",
   "execution_count": 17,
   "metadata": {},
   "outputs": [
    {
     "data": {
      "text/plain": [
       "31820"
      ]
     },
     "execution_count": 17,
     "metadata": {},
     "output_type": "execute_result"
    }
   ],
   "source": [
    "len(stops_2018)"
   ]
  },
  {
   "cell_type": "code",
   "execution_count": 18,
   "metadata": {},
   "outputs": [
    {
     "data": {
      "text/html": [
       "<div>\n",
       "<style scoped>\n",
       "    .dataframe tbody tr th:only-of-type {\n",
       "        vertical-align: middle;\n",
       "    }\n",
       "\n",
       "    .dataframe tbody tr th {\n",
       "        vertical-align: top;\n",
       "    }\n",
       "\n",
       "    .dataframe thead th {\n",
       "        text-align: right;\n",
       "    }\n",
       "</style>\n",
       "<table border=\"1\" class=\"dataframe\">\n",
       "  <thead>\n",
       "    <tr style=\"text-align: right;\">\n",
       "      <th></th>\n",
       "      <th>subject_race</th>\n",
       "      <th>n</th>\n",
       "      <th>prop</th>\n",
       "    </tr>\n",
       "  </thead>\n",
       "  <tbody>\n",
       "    <tr>\n",
       "      <th>0</th>\n",
       "      <td>african american</td>\n",
       "      <td>10438</td>\n",
       "      <td>0.328033</td>\n",
       "    </tr>\n",
       "    <tr>\n",
       "      <th>1</th>\n",
       "      <td>am. ind./al. native</td>\n",
       "      <td>40</td>\n",
       "      <td>0.001257</td>\n",
       "    </tr>\n",
       "    <tr>\n",
       "      <th>2</th>\n",
       "      <td>asian/pacific islander</td>\n",
       "      <td>2232</td>\n",
       "      <td>0.070145</td>\n",
       "    </tr>\n",
       "    <tr>\n",
       "      <th>3</th>\n",
       "      <td>cuban/carribean</td>\n",
       "      <td>4</td>\n",
       "      <td>0.000126</td>\n",
       "    </tr>\n",
       "    <tr>\n",
       "      <th>4</th>\n",
       "      <td>guamanian</td>\n",
       "      <td>12</td>\n",
       "      <td>0.000377</td>\n",
       "    </tr>\n",
       "    <tr>\n",
       "      <th>5</th>\n",
       "      <td>hispanic</td>\n",
       "      <td>6872</td>\n",
       "      <td>0.215965</td>\n",
       "    </tr>\n",
       "    <tr>\n",
       "      <th>6</th>\n",
       "      <td>middle eastern</td>\n",
       "      <td>11</td>\n",
       "      <td>0.000346</td>\n",
       "    </tr>\n",
       "    <tr>\n",
       "      <th>7</th>\n",
       "      <td>mixed race</td>\n",
       "      <td>787</td>\n",
       "      <td>0.024733</td>\n",
       "    </tr>\n",
       "    <tr>\n",
       "      <th>8</th>\n",
       "      <td>native american</td>\n",
       "      <td>22</td>\n",
       "      <td>0.000691</td>\n",
       "    </tr>\n",
       "    <tr>\n",
       "      <th>9</th>\n",
       "      <td>other</td>\n",
       "      <td>1763</td>\n",
       "      <td>0.055405</td>\n",
       "    </tr>\n",
       "    <tr>\n",
       "      <th>10</th>\n",
       "      <td>unknown</td>\n",
       "      <td>885</td>\n",
       "      <td>0.027813</td>\n",
       "    </tr>\n",
       "    <tr>\n",
       "      <th>11</th>\n",
       "      <td>white</td>\n",
       "      <td>8754</td>\n",
       "      <td>0.275110</td>\n",
       "    </tr>\n",
       "  </tbody>\n",
       "</table>\n",
       "</div>"
      ],
      "text/plain": [
       "              subject_race      n      prop\n",
       "0         african american  10438  0.328033\n",
       "1      am. ind./al. native     40  0.001257\n",
       "2   asian/pacific islander   2232  0.070145\n",
       "3          cuban/carribean      4  0.000126\n",
       "4                guamanian     12  0.000377\n",
       "5                 hispanic   6872  0.215965\n",
       "6           middle eastern     11  0.000346\n",
       "7               mixed race    787  0.024733\n",
       "8          native american     22  0.000691\n",
       "9                    other   1763  0.055405\n",
       "10                 unknown    885  0.027813\n",
       "11                   white   8754  0.275110"
      ]
     },
     "execution_count": 18,
     "metadata": {},
     "output_type": "execute_result"
    }
   ],
   "source": [
    "calculations.calc_group_size(stops_2018, ['subject_race'])"
   ]
  },
  {
   "cell_type": "code",
   "execution_count": 19,
   "metadata": {},
   "outputs": [
    {
     "data": {
      "text/html": [
       "<div>\n",
       "<style scoped>\n",
       "    .dataframe tbody tr th:only-of-type {\n",
       "        vertical-align: middle;\n",
       "    }\n",
       "\n",
       "    .dataframe tbody tr th {\n",
       "        vertical-align: top;\n",
       "    }\n",
       "\n",
       "    .dataframe thead th {\n",
       "        text-align: right;\n",
       "    }\n",
       "</style>\n",
       "<table border=\"1\" class=\"dataframe\">\n",
       "  <thead>\n",
       "    <tr style=\"text-align: right;\">\n",
       "      <th></th>\n",
       "      <th>subject_race</th>\n",
       "      <th>num_people</th>\n",
       "    </tr>\n",
       "  </thead>\n",
       "  <tbody>\n",
       "    <tr>\n",
       "      <th>0</th>\n",
       "      <td>white</td>\n",
       "      <td>685715.520</td>\n",
       "    </tr>\n",
       "    <tr>\n",
       "      <th>1</th>\n",
       "      <td>african american</td>\n",
       "      <td>166837.035</td>\n",
       "    </tr>\n",
       "    <tr>\n",
       "      <th>2</th>\n",
       "      <td>hispanic</td>\n",
       "      <td>356633.295</td>\n",
       "    </tr>\n",
       "    <tr>\n",
       "      <th>3</th>\n",
       "      <td>asian/pacific islander</td>\n",
       "      <td>273980.085</td>\n",
       "    </tr>\n",
       "  </tbody>\n",
       "</table>\n",
       "</div>"
      ],
      "text/plain": [
       "             subject_race  num_people\n",
       "0                   white  685715.520\n",
       "1        african american  166837.035\n",
       "2                hispanic  356633.295\n",
       "3  asian/pacific islander  273980.085"
      ]
     },
     "execution_count": 19,
     "metadata": {},
     "output_type": "execute_result"
    }
   ],
   "source": [
    "#https://www.census.gov/quickfacts/fact/table/sacramentocountycalifornia,ca/PST045217\n",
    "\n",
    "sacramento_population_2017 = 1530615\n",
    "#White, Black, Hispanic, Asian/Pacific Islander\n",
    "sacramento_race_percentages = {\"white\": .448, \"african american\": .109 , \"hispanic\": .233, \n",
    "                              \"asian/pacific islander\": .179}\n",
    "sacramento_race_count =  pd.DataFrame(sacramento_race_percentages.items())\n",
    "sacramento_race_count.columns = ['subject_race', 'num_people']\n",
    "sacramento_race_count['num_people'] =  sacramento_race_count['num_people'] * sacramento_population_2017 \n",
    "sacramento_race_count"
   ]
  },
  {
   "cell_type": "code",
   "execution_count": 20,
   "metadata": {},
   "outputs": [
    {
     "data": {
      "text/html": [
       "<div>\n",
       "<style scoped>\n",
       "    .dataframe tbody tr th:only-of-type {\n",
       "        vertical-align: middle;\n",
       "    }\n",
       "\n",
       "    .dataframe tbody tr th {\n",
       "        vertical-align: top;\n",
       "    }\n",
       "\n",
       "    .dataframe thead th {\n",
       "        text-align: right;\n",
       "    }\n",
       "</style>\n",
       "<table border=\"1\" class=\"dataframe\">\n",
       "  <thead>\n",
       "    <tr style=\"text-align: right;\">\n",
       "      <th></th>\n",
       "      <th>subject_race</th>\n",
       "      <th>stop_rate</th>\n",
       "    </tr>\n",
       "  </thead>\n",
       "  <tbody>\n",
       "    <tr>\n",
       "      <th>0</th>\n",
       "      <td>african american</td>\n",
       "      <td>0.062564</td>\n",
       "    </tr>\n",
       "    <tr>\n",
       "      <th>2</th>\n",
       "      <td>asian/pacific islander</td>\n",
       "      <td>0.008147</td>\n",
       "    </tr>\n",
       "    <tr>\n",
       "      <th>5</th>\n",
       "      <td>hispanic</td>\n",
       "      <td>0.019269</td>\n",
       "    </tr>\n",
       "    <tr>\n",
       "      <th>11</th>\n",
       "      <td>white</td>\n",
       "      <td>0.012766</td>\n",
       "    </tr>\n",
       "  </tbody>\n",
       "</table>\n",
       "</div>"
      ],
      "text/plain": [
       "              subject_race  stop_rate\n",
       "0         african american   0.062564\n",
       "2   asian/pacific islander   0.008147\n",
       "5                 hispanic   0.019269\n",
       "11                   white   0.012766"
      ]
     },
     "execution_count": 20,
     "metadata": {},
     "output_type": "execute_result"
    }
   ],
   "source": [
    "calculations.calc_stop_rates(stops_2018, sacramento_race_count, ['subject_race'])"
   ]
  },
  {
   "cell_type": "code",
   "execution_count": 21,
   "metadata": {},
   "outputs": [
    {
     "data": {
      "text/html": [
       "<div>\n",
       "<style scoped>\n",
       "    .dataframe tbody tr th:only-of-type {\n",
       "        vertical-align: middle;\n",
       "    }\n",
       "\n",
       "    .dataframe tbody tr th {\n",
       "        vertical-align: top;\n",
       "    }\n",
       "\n",
       "    .dataframe thead th {\n",
       "        text-align: right;\n",
       "    }\n",
       "</style>\n",
       "<table border=\"1\" class=\"dataframe\">\n",
       "  <thead>\n",
       "    <tr style=\"text-align: right;\">\n",
       "      <th></th>\n",
       "      <th>subject_race</th>\n",
       "      <th>search_rate</th>\n",
       "    </tr>\n",
       "  </thead>\n",
       "  <tbody>\n",
       "    <tr>\n",
       "      <th>0</th>\n",
       "      <td>african american</td>\n",
       "      <td>0.207607</td>\n",
       "    </tr>\n",
       "    <tr>\n",
       "      <th>1</th>\n",
       "      <td>am. ind./al. native</td>\n",
       "      <td>0.025000</td>\n",
       "    </tr>\n",
       "    <tr>\n",
       "      <th>2</th>\n",
       "      <td>asian/pacific islander</td>\n",
       "      <td>0.072133</td>\n",
       "    </tr>\n",
       "    <tr>\n",
       "      <th>3</th>\n",
       "      <td>cuban/carribean</td>\n",
       "      <td>0.000000</td>\n",
       "    </tr>\n",
       "    <tr>\n",
       "      <th>4</th>\n",
       "      <td>guamanian</td>\n",
       "      <td>0.000000</td>\n",
       "    </tr>\n",
       "    <tr>\n",
       "      <th>5</th>\n",
       "      <td>hispanic</td>\n",
       "      <td>0.152357</td>\n",
       "    </tr>\n",
       "    <tr>\n",
       "      <th>6</th>\n",
       "      <td>middle eastern</td>\n",
       "      <td>0.000000</td>\n",
       "    </tr>\n",
       "    <tr>\n",
       "      <th>7</th>\n",
       "      <td>mixed race</td>\n",
       "      <td>0.000000</td>\n",
       "    </tr>\n",
       "    <tr>\n",
       "      <th>8</th>\n",
       "      <td>native american</td>\n",
       "      <td>0.181818</td>\n",
       "    </tr>\n",
       "    <tr>\n",
       "      <th>9</th>\n",
       "      <td>other</td>\n",
       "      <td>0.146909</td>\n",
       "    </tr>\n",
       "    <tr>\n",
       "      <th>10</th>\n",
       "      <td>unknown</td>\n",
       "      <td>0.005650</td>\n",
       "    </tr>\n",
       "    <tr>\n",
       "      <th>11</th>\n",
       "      <td>white</td>\n",
       "      <td>0.077793</td>\n",
       "    </tr>\n",
       "  </tbody>\n",
       "</table>\n",
       "</div>"
      ],
      "text/plain": [
       "              subject_race  search_rate\n",
       "0         african american     0.207607\n",
       "1      am. ind./al. native     0.025000\n",
       "2   asian/pacific islander     0.072133\n",
       "3          cuban/carribean     0.000000\n",
       "4                guamanian     0.000000\n",
       "5                 hispanic     0.152357\n",
       "6           middle eastern     0.000000\n",
       "7               mixed race     0.000000\n",
       "8          native american     0.181818\n",
       "9                    other     0.146909\n",
       "10                 unknown     0.005650\n",
       "11                   white     0.077793"
      ]
     },
     "execution_count": 21,
     "metadata": {},
     "output_type": "execute_result"
    }
   ],
   "source": [
    "calculations.calc_search_rates(stops_2018, ['subject_race'])"
   ]
  },
  {
   "cell_type": "code",
   "execution_count": 22,
   "metadata": {},
   "outputs": [
    {
     "data": {
      "text/html": [
       "<div>\n",
       "<style scoped>\n",
       "    .dataframe tbody tr th:only-of-type {\n",
       "        vertical-align: middle;\n",
       "    }\n",
       "\n",
       "    .dataframe tbody tr th {\n",
       "        vertical-align: top;\n",
       "    }\n",
       "\n",
       "    .dataframe thead th {\n",
       "        text-align: right;\n",
       "    }\n",
       "</style>\n",
       "<table border=\"1\" class=\"dataframe\">\n",
       "  <thead>\n",
       "    <tr style=\"text-align: right;\">\n",
       "      <th></th>\n",
       "      <th>subject_race</th>\n",
       "      <th>hit_rate</th>\n",
       "    </tr>\n",
       "  </thead>\n",
       "  <tbody>\n",
       "    <tr>\n",
       "      <th>0</th>\n",
       "      <td>african american</td>\n",
       "      <td>0.178588</td>\n",
       "    </tr>\n",
       "    <tr>\n",
       "      <th>1</th>\n",
       "      <td>am. ind./al. native</td>\n",
       "      <td>0.000000</td>\n",
       "    </tr>\n",
       "    <tr>\n",
       "      <th>2</th>\n",
       "      <td>asian/pacific islander</td>\n",
       "      <td>0.223602</td>\n",
       "    </tr>\n",
       "    <tr>\n",
       "      <th>3</th>\n",
       "      <td>hispanic</td>\n",
       "      <td>0.230181</td>\n",
       "    </tr>\n",
       "    <tr>\n",
       "      <th>4</th>\n",
       "      <td>native american</td>\n",
       "      <td>0.000000</td>\n",
       "    </tr>\n",
       "    <tr>\n",
       "      <th>5</th>\n",
       "      <td>other</td>\n",
       "      <td>0.173745</td>\n",
       "    </tr>\n",
       "    <tr>\n",
       "      <th>6</th>\n",
       "      <td>unknown</td>\n",
       "      <td>0.000000</td>\n",
       "    </tr>\n",
       "    <tr>\n",
       "      <th>7</th>\n",
       "      <td>white</td>\n",
       "      <td>0.254038</td>\n",
       "    </tr>\n",
       "  </tbody>\n",
       "</table>\n",
       "</div>"
      ],
      "text/plain": [
       "             subject_race  hit_rate\n",
       "0        african american  0.178588\n",
       "1     am. ind./al. native  0.000000\n",
       "2  asian/pacific islander  0.223602\n",
       "3                hispanic  0.230181\n",
       "4         native american  0.000000\n",
       "5                   other  0.173745\n",
       "6                 unknown  0.000000\n",
       "7                   white  0.254038"
      ]
     },
     "execution_count": 22,
     "metadata": {},
     "output_type": "execute_result"
    }
   ],
   "source": [
    "calculations.calc_hit_rates(stops_2018, ['subject_race'])"
   ]
  },
  {
   "cell_type": "code",
   "execution_count": 23,
   "metadata": {},
   "outputs": [],
   "source": [
    "# #Lot of officers with small number of stops. Get rid of them\n",
    "# officers_counts = stops_2018['OfficerAbra'].value_counts()\n",
    "# officers = list(officers_counts[officers_counts > 200].index)\n",
    "# stops_2018 = stops_2018[stops_2018['OfficerAbra'].isin(officers)]\n",
    "# len(stops_2018)"
   ]
  },
  {
   "cell_type": "code",
   "execution_count": 24,
   "metadata": {},
   "outputs": [
    {
     "data": {
      "text/html": [
       "<div>\n",
       "<style scoped>\n",
       "    .dataframe tbody tr th:only-of-type {\n",
       "        vertical-align: middle;\n",
       "    }\n",
       "\n",
       "    .dataframe tbody tr th {\n",
       "        vertical-align: top;\n",
       "    }\n",
       "\n",
       "    .dataframe thead th {\n",
       "        text-align: right;\n",
       "    }\n",
       "</style>\n",
       "<table border=\"1\" class=\"dataframe\">\n",
       "  <thead>\n",
       "    <tr style=\"text-align: right;\">\n",
       "      <th></th>\n",
       "      <th>subject_race</th>\n",
       "      <th>OfficerAbra</th>\n",
       "      <th>hit_rate</th>\n",
       "    </tr>\n",
       "  </thead>\n",
       "  <tbody>\n",
       "    <tr>\n",
       "      <th>0</th>\n",
       "      <td>african american</td>\n",
       "      <td>10</td>\n",
       "      <td>1.00</td>\n",
       "    </tr>\n",
       "    <tr>\n",
       "      <th>1</th>\n",
       "      <td>african american</td>\n",
       "      <td>45</td>\n",
       "      <td>0.00</td>\n",
       "    </tr>\n",
       "    <tr>\n",
       "      <th>2</th>\n",
       "      <td>african american</td>\n",
       "      <td>50</td>\n",
       "      <td>0.00</td>\n",
       "    </tr>\n",
       "    <tr>\n",
       "      <th>3</th>\n",
       "      <td>african american</td>\n",
       "      <td>153</td>\n",
       "      <td>0.25</td>\n",
       "    </tr>\n",
       "    <tr>\n",
       "      <th>4</th>\n",
       "      <td>african american</td>\n",
       "      <td>263</td>\n",
       "      <td>0.00</td>\n",
       "    </tr>\n",
       "  </tbody>\n",
       "</table>\n",
       "</div>"
      ],
      "text/plain": [
       "       subject_race  OfficerAbra  hit_rate\n",
       "0  african american           10      1.00\n",
       "1  african american           45      0.00\n",
       "2  african american           50      0.00\n",
       "3  african american          153      0.25\n",
       "4  african american          263      0.00"
      ]
     },
     "execution_count": 24,
     "metadata": {},
     "output_type": "execute_result"
    }
   ],
   "source": [
    "hit_rates = calculations.calc_hit_rates(stops_2018, ['subject_race', 'OfficerAbra'])\n",
    "hit_rates.head()"
   ]
  },
  {
   "cell_type": "code",
   "execution_count": 25,
   "metadata": {},
   "outputs": [
    {
     "ename": "AttributeError",
     "evalue": "module 'calculations' has no attribute 'compare_hit_rates'",
     "output_type": "error",
     "traceback": [
      "\u001b[0;31m---------------------------------------------------------------------------\u001b[0m",
      "\u001b[0;31mAttributeError\u001b[0m                            Traceback (most recent call last)",
      "\u001b[0;32m<ipython-input-25-0e12a357780a>\u001b[0m in \u001b[0;36m<module>\u001b[0;34m\u001b[0m\n\u001b[0;32m----> 1\u001b[0;31m \u001b[0mhit_rates_comparison\u001b[0m \u001b[0;34m=\u001b[0m \u001b[0mcalculations\u001b[0m\u001b[0;34m.\u001b[0m\u001b[0mcompare_hit_rates\u001b[0m\u001b[0;34m(\u001b[0m\u001b[0mhit_rates\u001b[0m\u001b[0;34m,\u001b[0m \u001b[0;34m'white'\u001b[0m\u001b[0;34m,\u001b[0m \u001b[0;34m[\u001b[0m\u001b[0;34m'african american'\u001b[0m\u001b[0;34m,\u001b[0m \u001b[0;34m'hispanic'\u001b[0m\u001b[0;34m,\u001b[0m \u001b[0;34m'asian/pacific islander'\u001b[0m\u001b[0;34m]\u001b[0m\u001b[0;34m,\u001b[0m \u001b[0;34m'subject_race'\u001b[0m\u001b[0;34m)\u001b[0m\u001b[0;34m\u001b[0m\u001b[0;34m\u001b[0m\u001b[0m\n\u001b[0m\u001b[1;32m      2\u001b[0m \u001b[0mhit_rates_comparison\u001b[0m\u001b[0;34m.\u001b[0m\u001b[0mhead\u001b[0m\u001b[0;34m(\u001b[0m\u001b[0;34m)\u001b[0m\u001b[0;34m\u001b[0m\u001b[0;34m\u001b[0m\u001b[0m\n",
      "\u001b[0;31mAttributeError\u001b[0m: module 'calculations' has no attribute 'compare_hit_rates'"
     ]
    }
   ],
   "source": [
    "hit_rates_comparison = calculations.compare_rates(hit_rates, 'white', ['african american', 'hispanic', 'asian/pacific islander'], 'subject_race')\n",
    "hit_rates_comparison.head()"
   ]
  },
  {
   "cell_type": "code",
   "execution_count": 24,
   "metadata": {},
   "outputs": [
    {
     "data": {
      "image/png": "[encoded data removed]",
      "text/plain": [
       "<Figure size 1088x360 with 3 Axes>"
      ]
     },
     "metadata": {
      "needs_background": "light"
     },
     "output_type": "display_data"
    }
   ],
   "source": [
    "plotting.plot_hit_rates_comparison(hit_rates_comparison, 'minority_group', None)"
   ]
  },
  {
   "cell_type": "code",
   "execution_count": 25,
   "metadata": {},
   "outputs": [
    {
     "data": {
      "image/png": "[encoded data removed]",
      "text/plain": [
       "<Figure size 1088x360 with 3 Axes>"
      ]
     },
     "metadata": {
      "needs_background": "light"
     },
     "output_type": "display_data"
    }
   ],
   "source": [
    "hit_rates_comparison_with_size = hit_rates_comparison.merge(calculations.calc_group_size(stops_2018, ['OfficerAbra'], False))\n",
    "plotting.plot_hit_rates_comparison(hit_rates_comparison_with_size, 'minority_group', 'n', 5)"
   ]
  },
  {
   "cell_type": "code",
   "execution_count": 26,
   "metadata": {},
   "outputs": [
    {
     "data": {
      "text/html": [
       "<div>\n",
       "<style scoped>\n",
       "    .dataframe tbody tr th:only-of-type {\n",
       "        vertical-align: middle;\n",
       "    }\n",
       "\n",
       "    .dataframe tbody tr th {\n",
       "        vertical-align: top;\n",
       "    }\n",
       "\n",
       "    .dataframe thead th {\n",
       "        text-align: right;\n",
       "    }\n",
       "</style>\n",
       "<table border=\"1\" class=\"dataframe\">\n",
       "  <thead>\n",
       "    <tr style=\"text-align: right;\">\n",
       "      <th></th>\n",
       "      <th>date</th>\n",
       "      <th>sunset</th>\n",
       "      <th>dusk</th>\n",
       "      <th>sunset_minute</th>\n",
       "      <th>dusk_minute</th>\n",
       "    </tr>\n",
       "  </thead>\n",
       "  <tbody>\n",
       "    <tr>\n",
       "      <th>178</th>\n",
       "      <td>2018-06-29</td>\n",
       "      <td>03:34:26</td>\n",
       "      <td>04:06:12</td>\n",
       "      <td>214</td>\n",
       "      <td>246</td>\n",
       "    </tr>\n",
       "    <tr>\n",
       "      <th>198</th>\n",
       "      <td>2018-06-28</td>\n",
       "      <td>03:34:26</td>\n",
       "      <td>04:06:13</td>\n",
       "      <td>214</td>\n",
       "      <td>246</td>\n",
       "    </tr>\n",
       "    <tr>\n",
       "      <th>345</th>\n",
       "      <td>2018-12-07</td>\n",
       "      <td>00:44:37</td>\n",
       "      <td>01:14:09</td>\n",
       "      <td>44</td>\n",
       "      <td>74</td>\n",
       "    </tr>\n",
       "    <tr>\n",
       "      <th>356</th>\n",
       "      <td>2018-12-08</td>\n",
       "      <td>00:44:37</td>\n",
       "      <td>01:14:11</td>\n",
       "      <td>44</td>\n",
       "      <td>74</td>\n",
       "    </tr>\n",
       "  </tbody>\n",
       "</table>\n",
       "</div>"
      ],
      "text/plain": [
       "           date    sunset      dusk  sunset_minute  dusk_minute\n",
       "178  2018-06-29  03:34:26  04:06:12            214          246\n",
       "198  2018-06-28  03:34:26  04:06:13            214          246\n",
       "345  2018-12-07  00:44:37  01:14:09             44           74\n",
       "356  2018-12-08  00:44:37  01:14:11             44           74"
      ]
     },
     "execution_count": 26,
     "metadata": {},
     "output_type": "execute_result"
    }
   ],
   "source": [
    "sacramento_lat = 38.5816\n",
    "sacramento_long = -121.4944\n",
    "\n",
    "sunset_times_2018 = calculations.calc_sunset_times(stops_2018, sacramento_lat, sacramento_long, 'UTC')\n",
    "sunset_times_2018[(sunset_times_2018['sunset'] == sunset_times_2018['sunset'].min()) | (sunset_times_2018['sunset'] == sunset_times_2018['sunset'].max())]"
   ]
  },
  {
   "cell_type": "code",
   "execution_count": 27,
   "metadata": {},
   "outputs": [],
   "source": [
    "vod_stops = calculations.get_veil_of_darkness_observations(stops_2018, sunset_times_2018)"
   ]
  },
  {
   "cell_type": "code",
   "execution_count": 28,
   "metadata": {},
   "outputs": [
    {
     "data": {
      "text/plain": [
       "is_dark\n",
       "0    0.400000\n",
       "1    0.375969\n",
       "Name: is_african american, dtype: float64"
      ]
     },
     "execution_count": 28,
     "metadata": {},
     "output_type": "execute_result"
    }
   ],
   "source": [
    "calculations.calc_vod_rate(vod_stops, '03:30', '03:45', 'african american', 'subject_race')"
   ]
  },
  {
   "cell_type": "code",
   "execution_count": 29,
   "metadata": {},
   "outputs": [
    {
     "name": "stdout",
     "output_type": "stream",
     "text": [
      "                 Generalized Linear Model Regression Results                  \n",
      "==============================================================================\n",
      "Dep. Variable:           subject_race   No. Observations:                 3929\n",
      "Model:                            GLM   Df Residuals:                     3922\n",
      "Model Family:                Binomial   Df Model:                            6\n",
      "Link Function:                  logit   Scale:                          1.0000\n",
      "Method:                          IRLS   Log-Likelihood:                -2602.1\n",
      "Date:                Mon, 15 Apr 2019   Deviance:                       5204.3\n",
      "Time:                        08:52:56   Pearson chi2:                 3.93e+03\n",
      "No. Iterations:                     4   Covariance Type:             nonrobust\n",
      "=====================================================================================\n",
      "                        coef    std err          z      P>|z|      [0.025      0.975]\n",
      "-------------------------------------------------------------------------------------\n",
      "is_dark              -0.0779      0.080     -0.979      0.328      -0.234       0.078\n",
      "Intercept            -0.3882      0.054     -7.247      0.000      -0.493      -0.283\n",
      "cr(data, df=6)[0]    -0.3302      0.127     -2.608      0.009      -0.578      -0.082\n",
      "cr(data, df=6)[1]    -0.0346      0.078     -0.442      0.658      -0.188       0.119\n",
      "cr(data, df=6)[2]    -0.0790      0.075     -1.053      0.292      -0.226       0.068\n",
      "cr(data, df=6)[3]    -0.0474      0.081     -0.585      0.558      -0.206       0.111\n",
      "cr(data, df=6)[4]    -0.0451      0.099     -0.457      0.648      -0.239       0.148\n",
      "cr(data, df=6)[5]     0.1481      0.159      0.932      0.352      -0.164       0.460\n",
      "=====================================================================================\n"
     ]
    }
   ],
   "source": [
    "is_black = (vod_stops['subject_race'] == 'african american').astype(int)\n",
    "X = vod_stops[['is_dark']].merge(dmatrix(\"cr(data,df = 6)\", {\"data\": vod_stops['minute']}, return_type='dataframe'),\n",
    "                                left_index = True, right_index = True)\n",
    "# X = sm.add_constant(X)\n",
    "# X\n",
    "logit_model = sm.GLM(is_black, X, family=sm.families.Binomial())\n",
    "logit_results = logit_model.fit()\n",
    "print(logit_results.summary())"
   ]
  },
  {
   "cell_type": "code",
   "execution_count": 30,
   "metadata": {},
   "outputs": [
    {
     "data": {
      "text/plain": [
       "0.622295749554594"
      ]
     },
     "execution_count": 30,
     "metadata": {},
     "output_type": "execute_result"
    }
   ],
   "source": [
    "accuracy_score(is_black.values, (logit_results.predict(X) > 0.5).astype(int).values)"
   ]
  },
  {
   "cell_type": "code",
   "execution_count": 31,
   "metadata": {},
   "outputs": [
    {
     "name": "stderr",
     "output_type": "stream",
     "text": [
      "/anaconda3/envs/general/lib/python3.6/site-packages/statsmodels/genmod/families/family.py:879: RuntimeWarning: invalid value encountered in true_divide\n",
      "  endog_mu = self._clean(endog / mu)\n",
      "/anaconda3/envs/general/lib/python3.6/site-packages/statsmodels/genmod/families/family.py:880: RuntimeWarning: invalid value encountered in true_divide\n",
      "  n_endog_mu = self._clean((1. - endog) / (1. - mu))\n",
      "/anaconda3/envs/general/lib/python3.6/site-packages/statsmodels/genmod/families/family.py:879: RuntimeWarning: divide by zero encountered in true_divide\n",
      "  endog_mu = self._clean(endog / mu)\n",
      "/anaconda3/envs/general/lib/python3.6/site-packages/statsmodels/genmod/families/family.py:880: RuntimeWarning: divide by zero encountered in true_divide\n",
      "  n_endog_mu = self._clean((1. - endog) / (1. - mu))\n"
     ]
    },
    {
     "name": "stdout",
     "output_type": "stream",
     "text": [
      "                 Generalized Linear Model Regression Results                  \n",
      "==============================================================================\n",
      "Dep. Variable:           subject_race   No. Observations:                 3929\n",
      "Model:                            GLM   Df Residuals:                     3651\n",
      "Model Family:                Binomial   Df Model:                          277\n",
      "Link Function:                  logit   Scale:                          1.0000\n",
      "Method:                          IRLS   Log-Likelihood:                    nan\n",
      "Date:                Mon, 15 Apr 2019   Deviance:                          nan\n",
      "Time:                        08:54:11   Pearson chi2:                 7.26e+18\n",
      "No. Iterations:                   100   Covariance Type:             nonrobust\n",
      "=====================================================================================\n",
      "                        coef    std err          z      P>|z|      [0.025      0.975]\n",
      "-------------------------------------------------------------------------------------\n",
      "is_dark           -6.905e+12    2.9e+06  -2.38e+06      0.000    -6.9e+12    -6.9e+12\n",
      "Intercept         -7.285e+14   2.53e+06  -2.88e+08      0.000   -7.28e+14   -7.28e+14\n",
      "cr(data, df=6)[0] -1.798e+14   4.27e+06  -4.21e+07      0.000    -1.8e+14    -1.8e+14\n",
      "cr(data, df=6)[1] -7.455e+13   2.68e+06  -2.78e+07      0.000   -7.45e+13   -7.45e+13\n",
      "cr(data, df=6)[2]  -1.31e+14   2.55e+06  -5.14e+07      0.000   -1.31e+14   -1.31e+14\n",
      "cr(data, df=6)[3] -1.948e+14   2.76e+06  -7.05e+07      0.000   -1.95e+14   -1.95e+14\n",
      "cr(data, df=6)[4] -1.509e+14    3.4e+06  -4.44e+07      0.000   -1.51e+14   -1.51e+14\n",
      "cr(data, df=6)[5]  2.671e+12   5.46e+06   4.89e+05      0.000    2.67e+12    2.67e+12\n",
      "10                -4.682e+14   3.36e+07   -1.4e+07      0.000   -4.68e+14   -4.68e+14\n",
      "25                -2.135e+15    6.7e+07  -3.19e+07      0.000   -2.14e+15   -2.14e+15\n",
      "50                 1.679e+14   3.35e+07   5.01e+06      0.000    1.68e+14    1.68e+14\n",
      "122               -3.023e+15   6.69e+07  -4.52e+07      0.000   -3.02e+15   -3.02e+15\n",
      "285                6.291e+15   6.69e+07    9.4e+07      0.000    6.29e+15    6.29e+15\n",
      "301               -1.456e+15   6.69e+07  -2.17e+07      0.000   -1.46e+15   -1.46e+15\n",
      "317                9.783e+14   3.35e+07   2.92e+07      0.000    9.78e+14    9.78e+14\n",
      "364                5.667e+15   6.69e+07   8.47e+07      0.000    5.67e+15    5.67e+15\n",
      "400               -2.603e+15   4.73e+07   -5.5e+07      0.000    -2.6e+15    -2.6e+15\n",
      "472                8.482e+14   2.54e+07   3.34e+07      0.000    8.48e+14    8.48e+14\n",
      "658               -1.073e+15   1.45e+07  -7.42e+07      0.000   -1.07e+15   -1.07e+15\n",
      "688               -4.398e+15      3e+07  -1.46e+08      0.000    -4.4e+15    -4.4e+15\n",
      "689               -1.143e+15   2.13e+07  -5.38e+07      0.000   -1.14e+15   -1.14e+15\n",
      "713                7.607e+14   1.64e+07   4.64e+07      0.000    7.61e+14    7.61e+14\n",
      "732                6.548e+14   3.36e+07   1.95e+07      0.000    6.55e+14    6.55e+14\n",
      "813               -9.909e+14   2.38e+07  -4.17e+07      0.000   -9.91e+14   -9.91e+14\n",
      "869               -9.921e+14      3e+07   -3.3e+07      0.000   -9.92e+14   -9.92e+14\n",
      "898               -2.516e+15   6.69e+07  -3.76e+07      0.000   -2.52e+15   -2.52e+15\n",
      "899                2.947e+15   4.74e+07   6.22e+07      0.000    2.95e+15    2.95e+15\n",
      "990                4.505e+15   6.69e+07   6.73e+07      0.000    4.51e+15    4.51e+15\n",
      "996               -3.092e+15   6.69e+07  -4.62e+07      0.000   -3.09e+15   -3.09e+15\n",
      "1046               2.751e+15   4.74e+07   5.81e+07      0.000    2.75e+15    2.75e+15\n",
      "1066              -5.372e+15    6.7e+07  -8.02e+07      0.000   -5.37e+15   -5.37e+15\n",
      "3016               2.581e+15   2.13e+07   1.21e+08      0.000    2.58e+15    2.58e+15\n",
      "3019              -2.231e+15   3.87e+07  -5.77e+07      0.000   -2.23e+15   -2.23e+15\n",
      "3070              -8.805e+14   9.19e+06  -9.58e+07      0.000   -8.81e+14   -8.81e+14\n",
      "3129               9.097e+14   7.22e+06   1.26e+08      0.000     9.1e+14     9.1e+14\n",
      "3154              -2.318e+15    6.7e+07  -3.46e+07      0.000   -2.32e+15   -2.32e+15\n",
      "3162              -3.856e+15   3.35e+07  -1.15e+08      0.000   -3.86e+15   -3.86e+15\n",
      "3168              -2.825e+14   2.24e+07  -1.26e+07      0.000   -2.82e+14   -2.82e+14\n",
      "3218               1.067e+15   3.35e+07   3.18e+07      0.000    1.07e+15    1.07e+15\n",
      "3266              -2.394e+14   3.35e+07  -7.14e+06      0.000   -2.39e+14   -2.39e+14\n",
      "3279               6.482e+14   3.01e+07   2.16e+07      0.000    6.48e+14    6.48e+14\n",
      "3344                4.03e+15    6.7e+07   6.02e+07      0.000    4.03e+15    4.03e+15\n",
      "3348               1.611e+15   6.13e+06   2.63e+08      0.000    1.61e+15    1.61e+15\n",
      "3386              -5.902e+15    6.7e+07  -8.81e+07      0.000    -5.9e+15    -5.9e+15\n",
      "3391              -5.388e+15   4.74e+07  -1.14e+08      0.000   -5.39e+15   -5.39e+15\n",
      "3393              -6.182e+15   2.38e+07   -2.6e+08      0.000   -6.18e+15   -6.18e+15\n",
      "3399              -2.993e+15   6.69e+07  -4.47e+07      0.000   -2.99e+15   -2.99e+15\n",
      "3418              -1.755e+15   3.87e+07  -4.54e+07      0.000   -1.76e+15   -1.76e+15\n",
      "3432               4.428e+14   4.74e+07   9.35e+06      0.000    4.43e+14    4.43e+14\n",
      "3436              -3.117e+15   4.74e+07  -6.58e+07      0.000   -3.12e+15   -3.12e+15\n",
      "3442              -2.593e+15   2.74e+07  -9.46e+07      0.000   -2.59e+15   -2.59e+15\n",
      "3443               3.897e+14      3e+07    1.3e+07      0.000     3.9e+14     3.9e+14\n",
      "3519               5.447e+14   2.13e+07   2.56e+07      0.000    5.45e+14    5.45e+14\n",
      "3538              -4.052e+13   3.36e+07  -1.21e+06      0.000   -4.05e+13   -4.05e+13\n",
      "3548              -2.324e+15      3e+07  -7.74e+07      0.000   -2.32e+15   -2.32e+15\n",
      "3558               7.812e+14   3.35e+07   2.33e+07      0.000    7.81e+14    7.81e+14\n",
      "3574               1.287e+15   1.22e+07   1.05e+08      0.000    1.29e+15    1.29e+15\n",
      "3602              -4.253e+14   4.73e+07  -8.98e+06      0.000   -4.25e+14   -4.25e+14\n",
      "3628               2.872e+14   3.36e+07   8.56e+06      0.000    2.87e+14    2.87e+14\n",
      "3667               2.143e+15   9.54e+06   2.25e+08      0.000    2.14e+15    2.14e+15\n",
      "3671               2.213e+13   1.19e+07   1.86e+06      0.000    2.21e+13    2.21e+13\n",
      "3683               5.353e+14   3.87e+07   1.38e+07      0.000    5.35e+14    5.35e+14\n",
      "3684               2.293e+15   1.08e+07   2.12e+08      0.000    2.29e+15    2.29e+15\n",
      "3727              -3.499e+14   6.69e+07  -5.23e+06      0.000    -3.5e+14    -3.5e+14\n",
      "3772               6.876e+15    6.7e+07   1.03e+08      0.000    6.88e+15    6.88e+15\n",
      "3790               6.843e+14   1.07e+07   6.38e+07      0.000    6.84e+14    6.84e+14\n",
      "3794               9.338e+14   3.35e+07   2.78e+07      0.000    9.34e+14    9.34e+14\n",
      "3801              -1.899e+15    6.7e+07  -2.84e+07      0.000    -1.9e+15    -1.9e+15\n",
      "3809              -1.391e+16   4.74e+07  -2.94e+08      0.000   -1.39e+16   -1.39e+16\n",
      "3841              -1.285e+16   4.74e+07  -2.71e+08      0.000   -1.28e+16   -1.28e+16\n",
      "3858               1.227e+15   2.38e+07   5.16e+07      0.000    1.23e+15    1.23e+15\n",
      "3861              -4.778e+15   6.69e+07  -7.14e+07      0.000   -4.78e+15   -4.78e+15\n",
      "3862              -1.457e+15   2.74e+07  -5.31e+07      0.000   -1.46e+15   -1.46e+15\n",
      "3864              -2.129e+15    6.7e+07  -3.18e+07      0.000   -2.13e+15   -2.13e+15\n",
      "3865               8.062e+14   1.42e+07    5.7e+07      0.000    8.06e+14    8.06e+14\n",
      "3903              -8.932e+14   2.74e+07  -3.26e+07      0.000   -8.93e+14   -8.93e+14\n",
      "3918              -4.963e+15   6.69e+07  -7.41e+07      0.000   -4.96e+15   -4.96e+15\n",
      "3919              -1.115e+15   2.13e+07  -5.24e+07      0.000   -1.12e+15   -1.12e+15\n",
      "3920               2.669e+15   4.74e+07   5.64e+07      0.000    2.67e+15    2.67e+15\n",
      "3922              -1.916e+15   1.38e+07  -1.38e+08      0.000   -1.92e+15   -1.92e+15\n",
      "3947              -5.393e+14   3.87e+07  -1.39e+07      0.000   -5.39e+14   -5.39e+14\n",
      "3951              -5.458e+14   1.95e+07  -2.81e+07      0.000   -5.46e+14   -5.46e+14\n",
      "3975               1.702e+16   4.74e+07   3.59e+08      0.000     1.7e+16     1.7e+16\n",
      "3980               5.674e+14   1.59e+07   3.56e+07      0.000    5.67e+14    5.67e+14\n",
      "3991              -3.132e+13      3e+07  -1.04e+06      0.000   -3.13e+13   -3.13e+13\n",
      "4013               -9.92e+14    6.7e+07  -1.48e+07      0.000   -9.92e+14   -9.92e+14\n",
      "4016               -3.53e+15   6.69e+07  -5.27e+07      0.000   -3.53e+15   -3.53e+15\n",
      "4017               8.175e+14   1.69e+07   4.85e+07      0.000    8.17e+14    8.17e+14\n",
      "4028               5.328e+14   9.14e+06   5.83e+07      0.000    5.33e+14    5.33e+14\n",
      "4065              -1.053e+15   8.11e+06   -1.3e+08      0.000   -1.05e+15   -1.05e+15\n",
      "4069              -1.975e+15   2.03e+07  -9.73e+07      0.000   -1.97e+15   -1.97e+15\n",
      "4072              -4.618e+15   6.69e+07   -6.9e+07      0.000   -4.62e+15   -4.62e+15\n",
      "4075              -1.184e+15   1.26e+07  -9.39e+07      0.000   -1.18e+15   -1.18e+15\n",
      "4076               2.097e+15   1.95e+07   1.08e+08      0.000     2.1e+15     2.1e+15\n",
      "4077               -7.77e+14   1.22e+07  -6.36e+07      0.000   -7.77e+14   -7.77e+14\n",
      "4082               4.574e+15   6.69e+07   6.83e+07      0.000    4.57e+15    4.57e+15\n",
      "4083              -2.587e+15   1.69e+07  -1.53e+08      0.000   -2.59e+15   -2.59e+15\n",
      "4086               3.271e+15   4.74e+07    6.9e+07      0.000    3.27e+15    3.27e+15\n",
      "4090               2.592e+15   1.59e+07   1.63e+08      0.000    2.59e+15    2.59e+15\n",
      "4093              -3.215e+14   1.01e+07  -3.19e+07      0.000   -3.22e+14   -3.22e+14\n",
      "4094               1.737e+15    1.8e+07   9.63e+07      0.000    1.74e+15    1.74e+15\n",
      "4095               2.293e+15   3.35e+07   6.84e+07      0.000    2.29e+15    2.29e+15\n",
      "4101               3.007e+15   2.74e+07    1.1e+08      0.000    3.01e+15    3.01e+15\n",
      "4106              -3.897e+15   3.35e+07  -1.16e+08      0.000    -3.9e+15    -3.9e+15\n",
      "4107               5.328e+14   6.69e+07   7.96e+06      0.000    5.33e+14    5.33e+14\n",
      "4110              -6.206e+14   6.69e+07  -9.27e+06      0.000   -6.21e+14   -6.21e+14\n",
      "4111               9.337e+14   9.81e+06   9.52e+07      0.000    9.34e+14    9.34e+14\n",
      "4112               1.921e+15   3.35e+07   5.73e+07      0.000    1.92e+15    1.92e+15\n",
      "4114               1.412e+15   8.47e+06   1.67e+08      0.000    1.41e+15    1.41e+15\n",
      "4115               2.399e+15   4.74e+07   5.06e+07      0.000     2.4e+15     2.4e+15\n",
      "4119              -4.338e+15   6.69e+07  -6.48e+07      0.000   -4.34e+15   -4.34e+15\n",
      "4121               2.701e+15   2.54e+07   1.06e+08      0.000     2.7e+15     2.7e+15\n",
      "4127               4.761e+14   3.35e+07   1.42e+07      0.000    4.76e+14    4.76e+14\n",
      "4128               3.842e+15   7.06e+06   5.44e+08      0.000    3.84e+15    3.84e+15\n",
      "4130               2.541e+15   1.44e+07   1.76e+08      0.000    2.54e+15    2.54e+15\n",
      "4133               8.529e+14   1.69e+07   5.06e+07      0.000    8.53e+14    8.53e+14\n",
      "4134               4.941e+14      3e+07   1.65e+07      0.000    4.94e+14    4.94e+14\n",
      "4137              -2.688e+15   1.14e+07  -2.36e+08      0.000   -2.69e+15   -2.69e+15\n",
      "4138              -2.072e+14   1.23e+07  -1.69e+07      0.000   -2.07e+14   -2.07e+14\n",
      "4154               1.805e+15   6.69e+07    2.7e+07      0.000    1.81e+15    1.81e+15\n",
      "4160              -1.856e+15   1.12e+07  -1.65e+08      0.000   -1.86e+15   -1.86e+15\n",
      "4164              -1.537e+14   3.87e+07  -3.97e+06      0.000   -1.54e+14   -1.54e+14\n",
      "4166               1.378e+15   1.06e+07    1.3e+08      0.000    1.38e+15    1.38e+15\n",
      "4175               7.123e+14   1.69e+07   4.22e+07      0.000    7.12e+14    7.12e+14\n",
      "4176              -1.695e+15   9.72e+06  -1.74e+08      0.000   -1.69e+15   -1.69e+15\n",
      "4180              -1.663e+15   1.41e+07  -1.18e+08      0.000   -1.66e+15   -1.66e+15\n",
      "4183              -1.084e+15   1.48e+07  -7.34e+07      0.000   -1.08e+15   -1.08e+15\n",
      "4187               2.202e+15   2.54e+07   8.68e+07      0.000     2.2e+15     2.2e+15\n",
      "4188              -9.301e+14   1.36e+07  -6.85e+07      0.000    -9.3e+14    -9.3e+14\n",
      "4190              -1.093e+15   3.87e+07  -2.82e+07      0.000   -1.09e+15   -1.09e+15\n",
      "4192               8.508e+14   3.07e+06   2.77e+08      0.000    8.51e+14    8.51e+14\n",
      "4195              -1.272e+15   2.54e+07  -5.01e+07      0.000   -1.27e+15   -1.27e+15\n",
      "4199              -8.107e+14   9.29e+06  -8.73e+07      0.000   -8.11e+14   -8.11e+14\n",
      "4203                3.08e+15   9.92e+06    3.1e+08      0.000    3.08e+15    3.08e+15\n",
      "4211               -1.59e+15   1.64e+07  -9.71e+07      0.000   -1.59e+15   -1.59e+15\n",
      "4213                2.63e+15   4.73e+07   5.55e+07      0.000    2.63e+15    2.63e+15\n",
      "4214               9.262e+14   4.74e+07   1.95e+07      0.000    9.26e+14    9.26e+14\n",
      "4215               7.942e+14      3e+07   2.65e+07      0.000    7.94e+14    7.94e+14\n",
      "4232               3.045e+15   3.87e+07   7.87e+07      0.000    3.04e+15    3.04e+15\n",
      "4234              -3.268e+15    6.7e+07  -4.88e+07      0.000   -3.27e+15   -3.27e+15\n",
      "4236                2.72e+15   3.35e+07   8.11e+07      0.000    2.72e+15    2.72e+15\n",
      "4237              -6.829e+14   7.94e+06  -8.61e+07      0.000   -6.83e+14   -6.83e+14\n",
      "4239              -1.584e+15      3e+07  -5.27e+07      0.000   -1.58e+15   -1.58e+15\n",
      "4242              -2.286e+14      3e+07  -7.61e+06      0.000   -2.29e+14   -2.29e+14\n",
      "4246               6.596e+14   1.51e+07   4.36e+07      0.000     6.6e+14     6.6e+14\n",
      "4256               1.089e+15   9.38e+06   1.16e+08      0.000    1.09e+15    1.09e+15\n",
      "4257               4.617e+14   1.33e+07   3.47e+07      0.000    4.62e+14    4.62e+14\n",
      "4264               4.165e+14    1.8e+07   2.31e+07      0.000    4.17e+14    4.17e+14\n",
      "4265               2.717e+15   2.38e+07   1.14e+08      0.000    2.72e+15    2.72e+15\n",
      "4266               1.253e+15   9.29e+06   1.35e+08      0.000    1.25e+15    1.25e+15\n",
      "4267              -6.797e+15   4.73e+07  -1.44e+08      0.000    -6.8e+15    -6.8e+15\n",
      "4269               8.576e+14   1.12e+07   7.64e+07      0.000    8.58e+14    8.58e+14\n",
      "4270              -1.046e+15   2.03e+07  -5.15e+07      0.000   -1.05e+15   -1.05e+15\n",
      "4275                2.99e+15   9.53e+06   3.14e+08      0.000    2.99e+15    2.99e+15\n",
      "4276              -3.695e+15    1.2e+07  -3.07e+08      0.000   -3.69e+15   -3.69e+15\n",
      "4279               -2.13e+15   8.47e+06  -2.52e+08      0.000   -2.13e+15   -2.13e+15\n",
      "4281              -3.672e+15   1.06e+07  -3.48e+08      0.000   -3.67e+15   -3.67e+15\n",
      "4282               3.844e+14   8.92e+06   4.31e+07      0.000    3.84e+14    3.84e+14\n",
      "4283               1.868e+15   4.74e+07   3.94e+07      0.000    1.87e+15    1.87e+15\n",
      "4284              -9.926e+14    1.6e+07  -6.22e+07      0.000   -9.93e+14   -9.93e+14\n",
      "4286               3.386e+15      3e+07   1.13e+08      0.000    3.39e+15    3.39e+15\n",
      "4287               1.075e+15   1.94e+07   5.53e+07      0.000    1.07e+15    1.07e+15\n",
      "4289              -2.323e+15   1.36e+07  -1.71e+08      0.000   -2.32e+15   -2.32e+15\n",
      "4290               5.355e+15    6.7e+07      8e+07      0.000    5.35e+15    5.35e+15\n",
      "4294              -1.527e+15   1.41e+07  -1.08e+08      0.000   -1.53e+15   -1.53e+15\n",
      "4297               1.483e+15   2.13e+07   6.97e+07      0.000    1.48e+15    1.48e+15\n",
      "4303               2.679e+15   1.44e+07   1.86e+08      0.000    2.68e+15    2.68e+15\n",
      "4307               5.268e+15   6.69e+07   7.87e+07      0.000    5.27e+15    5.27e+15\n",
      "4331               6.567e+14   3.35e+07   1.96e+07      0.000    6.57e+14    6.57e+14\n",
      "4344               1.952e+15   1.38e+07   1.41e+08      0.000    1.95e+15    1.95e+15\n",
      "4345              -1.481e+14   1.64e+07  -9.02e+06      0.000   -1.48e+14   -1.48e+14\n",
      "4346               1.395e+15   2.24e+07   6.22e+07      0.000    1.39e+15    1.39e+15\n",
      "4347               9.576e+14   2.38e+07   4.03e+07      0.000    9.58e+14    9.58e+14\n",
      "4351              -1.303e+15   4.74e+07  -2.75e+07      0.000    -1.3e+15    -1.3e+15\n",
      "4352              -3.199e+15      3e+07  -1.07e+08      0.000    -3.2e+15    -3.2e+15\n",
      "4353              -1.124e+15   1.74e+07  -6.46e+07      0.000   -1.12e+15   -1.12e+15\n",
      "4360                1.67e+15      3e+07   5.56e+07      0.000    1.67e+15    1.67e+15\n",
      "4365               3.948e+14   1.87e+07   2.11e+07      0.000    3.95e+14    3.95e+14\n",
      "4367              -1.771e+15   3.87e+07  -4.58e+07      0.000   -1.77e+15   -1.77e+15\n",
      "4371               9.464e+14   3.87e+07   2.44e+07      0.000    9.46e+14    9.46e+14\n",
      "4375               1.031e+15   2.13e+07   4.84e+07      0.000    1.03e+15    1.03e+15\n",
      "4376              -1.346e+14   1.81e+07  -7.46e+06      0.000   -1.35e+14   -1.35e+14\n",
      "4377               2.486e+15    1.8e+07   1.38e+08      0.000    2.49e+15    2.49e+15\n",
      "4383               1.026e+15      3e+07   3.42e+07      0.000    1.03e+15    1.03e+15\n",
      "4384              -2.343e+15   2.38e+07  -9.86e+07      0.000   -2.34e+15   -2.34e+15\n",
      "4385               1.244e+15   1.69e+07   7.37e+07      0.000    1.24e+15    1.24e+15\n",
      "4386              -1.323e+15   1.48e+07  -8.92e+07      0.000   -1.32e+15   -1.32e+15\n",
      "4388               7.672e+15    6.7e+07   1.15e+08      0.000    7.67e+15    7.67e+15\n",
      "4399               2.631e+15   2.38e+07   1.11e+08      0.000    2.63e+15    2.63e+15\n",
      "4400              -3.022e+14   1.74e+07  -1.74e+07      0.000   -3.02e+14   -3.02e+14\n",
      "4401               1.296e+15   2.54e+07   5.11e+07      0.000     1.3e+15     1.3e+15\n",
      "4403              -1.808e+15   3.87e+07  -4.67e+07      0.000   -1.81e+15   -1.81e+15\n",
      "4405               2.566e+15   3.87e+07   6.63e+07      0.000    2.57e+15    2.57e+15\n",
      "4408               3.454e+15   2.24e+07   1.54e+08      0.000    3.45e+15    3.45e+15\n",
      "4409              -2.163e+15   2.74e+07  -7.89e+07      0.000   -2.16e+15   -2.16e+15\n",
      "4411               8.797e+13   2.54e+07   3.46e+06      0.000     8.8e+13     8.8e+13\n",
      "4415               1.257e+15   2.13e+07   5.91e+07      0.000    1.26e+15    1.26e+15\n",
      "4417               7.894e+14      3e+07   2.63e+07      0.000    7.89e+14    7.89e+14\n",
      "4421               1.108e+15   3.35e+07    3.3e+07      0.000    1.11e+15    1.11e+15\n",
      "4425              -1.186e+15   8.46e+06   -1.4e+08      0.000   -1.19e+15   -1.19e+15\n",
      "4426               8.695e+14   2.24e+07   3.88e+07      0.000    8.69e+14    8.69e+14\n",
      "4434               -1.41e+15   4.74e+07  -2.98e+07      0.000   -1.41e+15   -1.41e+15\n",
      "4438                1.65e+15   1.11e+07   1.49e+08      0.000    1.65e+15    1.65e+15\n",
      "4439               -6.68e+13   1.15e+07  -5.79e+06      0.000   -6.68e+13   -6.68e+13\n",
      "4442                2.78e+15   1.87e+07   1.49e+08      0.000    2.78e+15    2.78e+15\n",
      "4443               1.348e+15   8.78e+06   1.54e+08      0.000    1.35e+15    1.35e+15\n",
      "4444               1.613e+15   2.13e+07   7.57e+07      0.000    1.61e+15    1.61e+15\n",
      "4445               1.589e+15   2.74e+07   5.79e+07      0.000    1.59e+15    1.59e+15\n",
      "4446               2.296e+15   1.24e+07   1.85e+08      0.000     2.3e+15     2.3e+15\n",
      "4447               2.966e+15      3e+07   9.89e+07      0.000    2.97e+15    2.97e+15\n",
      "4449               1.468e+15   2.75e+07   5.34e+07      0.000    1.47e+15    1.47e+15\n",
      "4450              -1.453e+15   1.44e+07  -1.01e+08      0.000   -1.45e+15   -1.45e+15\n",
      "4451               7.952e+14   1.31e+07   6.09e+07      0.000    7.95e+14    7.95e+14\n",
      "4452              -1.942e+14   2.13e+07  -9.12e+06      0.000   -1.94e+14   -1.94e+14\n",
      "4461              -8.613e+14    6.7e+07  -1.29e+07      0.000   -8.61e+14   -8.61e+14\n",
      "4479               2.703e+15   2.13e+07   1.27e+08      0.000     2.7e+15     2.7e+15\n",
      "4480               1.146e+15   1.08e+07   1.06e+08      0.000    1.15e+15    1.15e+15\n",
      "4486              -1.134e+15   2.54e+07  -4.46e+07      0.000   -1.13e+15   -1.13e+15\n",
      "4487              -2.019e+15   4.74e+07  -4.26e+07      0.000   -2.02e+15   -2.02e+15\n",
      "4489              -6.964e+14   1.38e+07  -5.03e+07      0.000   -6.96e+14   -6.96e+14\n",
      "4490              -4.733e+14   1.15e+07  -4.11e+07      0.000   -4.73e+14   -4.73e+14\n",
      "4494              -2.476e+14   3.87e+07   -6.4e+06      0.000   -2.48e+14   -2.48e+14\n",
      "4495               7.983e+15   6.69e+07   1.19e+08      0.000    7.98e+15    7.98e+15\n",
      "4496              -7.167e+14   2.74e+07  -2.62e+07      0.000   -7.17e+14   -7.17e+14\n",
      "4497               1.949e+14   1.38e+07   1.41e+07      0.000    1.95e+14    1.95e+14\n",
      "4499               5.682e+14   1.12e+07   5.06e+07      0.000    5.68e+14    5.68e+14\n",
      "4500              -3.344e+15   3.35e+07  -9.97e+07      0.000   -3.34e+15   -3.34e+15\n",
      "4503               5.253e+13   2.74e+07   1.92e+06      0.000    5.25e+13    5.25e+13\n",
      "4505               1.562e+14   1.17e+07   1.34e+07      0.000    1.56e+14    1.56e+14\n",
      "4506              -1.211e+15   2.38e+07  -5.09e+07      0.000   -1.21e+15   -1.21e+15\n",
      "4507                2.94e+14   1.94e+07   1.51e+07      0.000    2.94e+14    2.94e+14\n",
      "4508               2.001e+14   1.87e+07   1.07e+07      0.000       2e+14       2e+14\n",
      "4509              -1.088e+15   2.54e+07  -4.28e+07      0.000   -1.09e+15   -1.09e+15\n",
      "4510              -3.781e+14   2.74e+07  -1.38e+07      0.000   -3.78e+14   -3.78e+14\n",
      "4511              -5.646e+14   2.74e+07  -2.06e+07      0.000   -5.65e+14   -5.65e+14\n",
      "4512              -3.061e+15   6.69e+07  -4.57e+07      0.000   -3.06e+15   -3.06e+15\n",
      "4514               7.995e+14   2.54e+07   3.15e+07      0.000       8e+14       8e+14\n",
      "4516               2.763e+15   4.74e+07   5.83e+07      0.000    2.76e+15    2.76e+15\n",
      "4527               1.132e+15   8.49e+06   1.33e+08      0.000    1.13e+15    1.13e+15\n",
      "4536               4.099e+15    6.7e+07   6.12e+07      0.000     4.1e+15     4.1e+15\n",
      "4538              -9.903e+14   1.06e+07  -9.37e+07      0.000    -9.9e+14    -9.9e+14\n",
      "4540              -1.974e+15   1.69e+07  -1.17e+08      0.000   -1.97e+15   -1.97e+15\n",
      "4543               2.676e+15   4.74e+07   5.65e+07      0.000    2.68e+15    2.68e+15\n",
      "4546              -1.424e+15   1.24e+07  -1.15e+08      0.000   -1.42e+15   -1.42e+15\n",
      "4548              -9.914e+14   3.87e+07  -2.56e+07      0.000   -9.91e+14   -9.91e+14\n",
      "4551               1.125e+14   2.38e+07   4.73e+06      0.000    1.12e+14    1.12e+14\n",
      "4552              -3.902e+15   6.69e+07  -5.83e+07      0.000    -3.9e+15    -3.9e+15\n",
      "4553              -7.605e+13   2.74e+07  -2.77e+06      0.000    -7.6e+13    -7.6e+13\n",
      "4555               1.311e+15   2.24e+07   5.85e+07      0.000    1.31e+15    1.31e+15\n",
      "4556               6.673e+15    6.7e+07   9.96e+07      0.000    6.67e+15    6.67e+15\n",
      "4560               2.915e+15   3.36e+07   8.69e+07      0.000    2.91e+15    2.91e+15\n",
      "4561              -1.885e+15   1.95e+07  -9.69e+07      0.000   -1.89e+15   -1.89e+15\n",
      "4564              -1.564e+15   1.04e+07   -1.5e+08      0.000   -1.56e+15   -1.56e+15\n",
      "4566              -1.258e+14   2.38e+07  -5.29e+06      0.000   -1.26e+14   -1.26e+14\n",
      "4567               1.314e+15   1.38e+07    9.5e+07      0.000    1.31e+15    1.31e+15\n",
      "4568              -1.066e+15   4.74e+07  -2.25e+07      0.000   -1.07e+15   -1.07e+15\n",
      "4570               2.622e+15   2.38e+07    1.1e+08      0.000    2.62e+15    2.62e+15\n",
      "4571               -4.54e+15   3.87e+07  -1.17e+08      0.000   -4.54e+15   -4.54e+15\n",
      "4579              -1.629e+15   2.54e+07  -6.41e+07      0.000   -1.63e+15   -1.63e+15\n",
      "4585              -3.193e+15   3.87e+07  -8.26e+07      0.000   -3.19e+15   -3.19e+15\n",
      "4590              -2.764e+15   3.87e+07  -7.14e+07      0.000   -2.76e+15   -2.76e+15\n",
      "4606               2.548e+15   2.54e+07      1e+08      0.000    2.55e+15    2.55e+15\n",
      "4611               2.451e+14      3e+07   8.17e+06      0.000    2.45e+14    2.45e+14\n",
      "4612              -9.327e+14   2.54e+07  -3.67e+07      0.000   -9.33e+14   -9.33e+14\n",
      "4613               7.025e+14   3.36e+07   2.09e+07      0.000    7.03e+14    7.03e+14\n",
      "4620               2.263e+15      1e+07   2.26e+08      0.000    2.26e+15    2.26e+15\n",
      "4621               1.625e+15   1.94e+07   8.36e+07      0.000    1.62e+15    1.62e+15\n",
      "4622              -2.136e+15   2.74e+07  -7.78e+07      0.000   -2.14e+15   -2.14e+15\n",
      "4624              -8.387e+14   3.87e+07  -2.17e+07      0.000   -8.39e+14   -8.39e+14\n",
      "4625              -2.633e+15      3e+07  -8.77e+07      0.000   -2.63e+15   -2.63e+15\n",
      "4626              -3.685e+15   6.69e+07   -5.5e+07      0.000   -3.68e+15   -3.68e+15\n",
      "4627              -1.167e+14      3e+07  -3.89e+06      0.000   -1.17e+14   -1.17e+14\n",
      "4628              -2.541e+15    6.7e+07   -3.8e+07      0.000   -2.54e+15   -2.54e+15\n",
      "4630              -2.751e+15   3.87e+07   -7.1e+07      0.000   -2.75e+15   -2.75e+15\n",
      "4632               4.924e+15   4.74e+07   1.04e+08      0.000    4.92e+15    4.92e+15\n",
      "4633              -3.231e+15   3.35e+07  -9.63e+07      0.000   -3.23e+15   -3.23e+15\n",
      "4635              -4.075e+15   6.69e+07  -6.09e+07      0.000   -4.07e+15   -4.07e+15\n",
      "4641               8.481e+14   4.74e+07   1.79e+07      0.000    8.48e+14    8.48e+14\n",
      "4642               5.961e+14   2.54e+07   2.35e+07      0.000    5.96e+14    5.96e+14\n",
      "4927              -2.396e+15   6.69e+07  -3.58e+07      0.000    -2.4e+15    -2.4e+15\n",
      "=====================================================================================\n"
     ]
    },
    {
     "name": "stderr",
     "output_type": "stream",
     "text": [
      "/anaconda3/envs/general/lib/python3.6/site-packages/statsmodels/genmod/families/family.py:932: RuntimeWarning: divide by zero encountered in true_divide\n",
      "  special.gammaln(n - y + 1) + y * np.log(mu / (1 - mu)) +\n",
      "/anaconda3/envs/general/lib/python3.6/site-packages/statsmodels/genmod/families/family.py:932: RuntimeWarning: divide by zero encountered in log\n",
      "  special.gammaln(n - y + 1) + y * np.log(mu / (1 - mu)) +\n",
      "/anaconda3/envs/general/lib/python3.6/site-packages/statsmodels/genmod/families/family.py:932: RuntimeWarning: invalid value encountered in multiply\n",
      "  special.gammaln(n - y + 1) + y * np.log(mu / (1 - mu)) +\n",
      "/anaconda3/envs/general/lib/python3.6/site-packages/statsmodels/genmod/families/family.py:933: RuntimeWarning: divide by zero encountered in log\n",
      "  n * np.log(1 - mu)) * var_weights\n",
      "/anaconda3/envs/general/lib/python3.6/site-packages/statsmodels/genmod/families/family.py:933: RuntimeWarning: invalid value encountered in add\n",
      "  n * np.log(1 - mu)) * var_weights\n"
     ]
    }
   ],
   "source": [
    "X = vod_stops[['is_dark']].merge(dmatrix(\"cr(data,df = 6)\", {\"data\": vod_stops['minute']}, return_type='dataframe'),\n",
    "                                left_index = True, right_index = True)\n",
    "X = X.merge(pd.get_dummies(vod_stops['OfficerAbra']), left_index = True, right_index = True)\n",
    "logit_model = sm.GLM(is_black, X, family=sm.families.Binomial())\n",
    "logit_results = logit_model.fit()\n",
    "print(logit_results.summary())"
   ]
  },
  {
   "cell_type": "code",
   "execution_count": 32,
   "metadata": {},
   "outputs": [
    {
     "name": "stdout",
     "output_type": "stream",
     "text": [
      "                 Generalized Linear Model Regression Results                  \n",
      "==============================================================================\n",
      "Dep. Variable:           subject_race   No. Observations:                 3929\n",
      "Model:                            GLM   Df Residuals:                     3922\n",
      "Model Family:                Binomial   Df Model:                            6\n",
      "Link Function:                  logit   Scale:                          1.0000\n",
      "Method:                          IRLS   Log-Likelihood:                -2096.4\n",
      "Date:                Mon, 15 Apr 2019   Deviance:                       4192.9\n",
      "Time:                        08:54:30   Pearson chi2:                 3.93e+03\n",
      "No. Iterations:                     5   Covariance Type:             nonrobust\n",
      "=====================================================================================\n",
      "                        coef    std err          z      P>|z|      [0.025      0.975]\n",
      "-------------------------------------------------------------------------------------\n",
      "is_dark              -0.0460      0.092     -0.503      0.615      -0.225       0.133\n",
      "Intercept            -1.0548      0.063    -16.808      0.000      -1.178      -0.932\n",
      "cr(data, df=6)[0]    -0.0314      0.143     -0.219      0.826      -0.313       0.250\n",
      "cr(data, df=6)[1]    -0.3229      0.093     -3.463      0.001      -0.506      -0.140\n",
      "cr(data, df=6)[2]    -0.0430      0.087     -0.495      0.621      -0.213       0.127\n",
      "cr(data, df=6)[3]     0.0217      0.092      0.237      0.813      -0.158       0.201\n",
      "cr(data, df=6)[4]    -0.1286      0.116     -1.112      0.266      -0.355       0.098\n",
      "cr(data, df=6)[5]    -0.5505      0.202     -2.732      0.006      -0.945      -0.156\n",
      "=====================================================================================\n"
     ]
    }
   ],
   "source": [
    "is_hispanic = (vod_stops['subject_race'] == 'hispanic').astype(int)\n",
    "X = vod_stops[['is_dark']].merge(dmatrix(\"cr(data,df = 6)\", {\"data\": vod_stops['minute']}, return_type='dataframe'),\n",
    "                                left_index = True, right_index = True)\n",
    "# X = sm.add_constant(X)\n",
    "# X\n",
    "logit_model = sm.GLM(is_hispanic, X, family=sm.families.Binomial())\n",
    "logit_results = logit_model.fit()\n",
    "print(logit_results.summary())"
   ]
  },
  {
   "cell_type": "code",
   "execution_count": null,
   "metadata": {},
   "outputs": [],
   "source": []
  }
 ],
 "metadata": {
  "kernelspec": {
   "display_name": "general",
   "language": "python",
   "name": "general"
  },
  "language_info": {
   "codemirror_mode": {
    "name": "ipython",
    "version": 3
   },
   "file_extension": ".py",
   "mimetype": "text/x-python",
   "name": "python",
   "nbconvert_exporter": "python",
   "pygments_lexer": "ipython3",
   "version": "3.6.7"
  }
 },
 "nbformat": 4,
 "nbformat_minor": 2
}
