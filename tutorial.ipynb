{
 "cells": [
  {
   "cell_type": "code",
   "execution_count": 1,
   "metadata": {},
   "outputs": [],
   "source": [
    "import pandas as pd\n",
    "import seaborn as sns\n",
    "import matplotlib.pyplot as plt\n",
    "from astral import Astral, AstralGeocoder, Location\n",
    "\n",
    "from sklearn.metrics import accuracy_score\n",
    "import statsmodels.api as sm\n",
    "\n",
    "\n",
    "\n",
    "import datetime\n",
    "%matplotlib inline"
   ]
  },
  {
   "cell_type": "code",
   "execution_count": 2,
   "metadata": {},
   "outputs": [],
   "source": [
    "phil_stops = pd.read_csv('data/philadelpha_stops.csv')"
   ]
  },
  {
   "cell_type": "code",
   "execution_count": 3,
   "metadata": {},
   "outputs": [
    {
     "data": {
      "text/html": [
       "<div>\n",
       "<style scoped>\n",
       "    .dataframe tbody tr th:only-of-type {\n",
       "        vertical-align: middle;\n",
       "    }\n",
       "\n",
       "    .dataframe tbody tr th {\n",
       "        vertical-align: top;\n",
       "    }\n",
       "\n",
       "    .dataframe thead th {\n",
       "        text-align: right;\n",
       "    }\n",
       "</style>\n",
       "<table border=\"1\" class=\"dataframe\">\n",
       "  <thead>\n",
       "    <tr style=\"text-align: right;\">\n",
       "      <th></th>\n",
       "      <th>raw_row_number</th>\n",
       "      <th>date</th>\n",
       "      <th>time</th>\n",
       "      <th>location</th>\n",
       "      <th>lat</th>\n",
       "      <th>lng</th>\n",
       "      <th>district</th>\n",
       "      <th>service_area</th>\n",
       "      <th>subject_age</th>\n",
       "      <th>subject_race</th>\n",
       "      <th>subject_sex</th>\n",
       "      <th>type</th>\n",
       "      <th>arrest_made</th>\n",
       "      <th>outcome</th>\n",
       "      <th>contraband_found</th>\n",
       "      <th>frisk_performed</th>\n",
       "      <th>search_conducted</th>\n",
       "      <th>search_person</th>\n",
       "      <th>search_vehicle</th>\n",
       "    </tr>\n",
       "  </thead>\n",
       "  <tbody>\n",
       "    <tr>\n",
       "      <th>0</th>\n",
       "      <td>1</td>\n",
       "      <td>2014-09-27</td>\n",
       "      <td>20:05:00</td>\n",
       "      <td>5600 BLOCK BROOMALL ST</td>\n",
       "      <td>39.943742</td>\n",
       "      <td>-75.232790</td>\n",
       "      <td>12.0</td>\n",
       "      <td>124.0</td>\n",
       "      <td>24.0</td>\n",
       "      <td>black</td>\n",
       "      <td>male</td>\n",
       "      <td>pedestrian</td>\n",
       "      <td>False</td>\n",
       "      <td>NaN</td>\n",
       "      <td>NaN</td>\n",
       "      <td>False</td>\n",
       "      <td>False</td>\n",
       "      <td>False</td>\n",
       "      <td>False</td>\n",
       "    </tr>\n",
       "    <tr>\n",
       "      <th>1</th>\n",
       "      <td>2</td>\n",
       "      <td>2014-09-27</td>\n",
       "      <td>19:27:00</td>\n",
       "      <td>5200 BLOCK PENTRIDGE ST</td>\n",
       "      <td>39.945217</td>\n",
       "      <td>-75.224756</td>\n",
       "      <td>12.0</td>\n",
       "      <td>124.0</td>\n",
       "      <td>58.0</td>\n",
       "      <td>black</td>\n",
       "      <td>male</td>\n",
       "      <td>pedestrian</td>\n",
       "      <td>False</td>\n",
       "      <td>NaN</td>\n",
       "      <td>NaN</td>\n",
       "      <td>False</td>\n",
       "      <td>False</td>\n",
       "      <td>False</td>\n",
       "      <td>False</td>\n",
       "    </tr>\n",
       "    <tr>\n",
       "      <th>2</th>\n",
       "      <td>3</td>\n",
       "      <td>2014-09-27</td>\n",
       "      <td>19:27:00</td>\n",
       "      <td>5200 BLOCK PENTRIDGE ST</td>\n",
       "      <td>39.945217</td>\n",
       "      <td>-75.224756</td>\n",
       "      <td>12.0</td>\n",
       "      <td>124.0</td>\n",
       "      <td>31.0</td>\n",
       "      <td>black</td>\n",
       "      <td>male</td>\n",
       "      <td>pedestrian</td>\n",
       "      <td>False</td>\n",
       "      <td>NaN</td>\n",
       "      <td>NaN</td>\n",
       "      <td>False</td>\n",
       "      <td>False</td>\n",
       "      <td>False</td>\n",
       "      <td>False</td>\n",
       "    </tr>\n",
       "    <tr>\n",
       "      <th>3</th>\n",
       "      <td>4</td>\n",
       "      <td>2014-09-27</td>\n",
       "      <td>20:38:00</td>\n",
       "      <td>4900 BLOCK KINGSESSING AV</td>\n",
       "      <td>39.943045</td>\n",
       "      <td>-75.215211</td>\n",
       "      <td>12.0</td>\n",
       "      <td>123.0</td>\n",
       "      <td>29.0</td>\n",
       "      <td>black</td>\n",
       "      <td>male</td>\n",
       "      <td>vehicular</td>\n",
       "      <td>False</td>\n",
       "      <td>NaN</td>\n",
       "      <td>NaN</td>\n",
       "      <td>False</td>\n",
       "      <td>False</td>\n",
       "      <td>False</td>\n",
       "      <td>False</td>\n",
       "    </tr>\n",
       "    <tr>\n",
       "      <th>4</th>\n",
       "      <td>5</td>\n",
       "      <td>2014-10-24</td>\n",
       "      <td>03:00:00</td>\n",
       "      <td>1800 BLOCK WALNUT ST</td>\n",
       "      <td>39.950203</td>\n",
       "      <td>-75.171467</td>\n",
       "      <td>9.0</td>\n",
       "      <td>92.0</td>\n",
       "      <td>35.0</td>\n",
       "      <td>black</td>\n",
       "      <td>male</td>\n",
       "      <td>pedestrian</td>\n",
       "      <td>False</td>\n",
       "      <td>NaN</td>\n",
       "      <td>NaN</td>\n",
       "      <td>False</td>\n",
       "      <td>False</td>\n",
       "      <td>False</td>\n",
       "      <td>False</td>\n",
       "    </tr>\n",
       "  </tbody>\n",
       "</table>\n",
       "</div>"
      ],
      "text/plain": [
       "   raw_row_number        date      time                   location        lat  \\\n",
       "0               1  2014-09-27  20:05:00     5600 BLOCK BROOMALL ST  39.943742   \n",
       "1               2  2014-09-27  19:27:00    5200 BLOCK PENTRIDGE ST  39.945217   \n",
       "2               3  2014-09-27  19:27:00    5200 BLOCK PENTRIDGE ST  39.945217   \n",
       "3               4  2014-09-27  20:38:00  4900 BLOCK KINGSESSING AV  39.943045   \n",
       "4               5  2014-10-24  03:00:00       1800 BLOCK WALNUT ST  39.950203   \n",
       "\n",
       "         lng  district  service_area  subject_age subject_race subject_sex  \\\n",
       "0 -75.232790      12.0         124.0         24.0        black        male   \n",
       "1 -75.224756      12.0         124.0         58.0        black        male   \n",
       "2 -75.224756      12.0         124.0         31.0        black        male   \n",
       "3 -75.215211      12.0         123.0         29.0        black        male   \n",
       "4 -75.171467       9.0          92.0         35.0        black        male   \n",
       "\n",
       "         type  arrest_made outcome contraband_found  frisk_performed  \\\n",
       "0  pedestrian        False     NaN              NaN            False   \n",
       "1  pedestrian        False     NaN              NaN            False   \n",
       "2  pedestrian        False     NaN              NaN            False   \n",
       "3   vehicular        False     NaN              NaN            False   \n",
       "4  pedestrian        False     NaN              NaN            False   \n",
       "\n",
       "   search_conducted  search_person  search_vehicle  \n",
       "0             False          False           False  \n",
       "1             False          False           False  \n",
       "2             False          False           False  \n",
       "3             False          False           False  \n",
       "4             False          False           False  "
      ]
     },
     "execution_count": 3,
     "metadata": {},
     "output_type": "execute_result"
    }
   ],
   "source": [
    "phil_stops.head()"
   ]
  },
  {
   "cell_type": "code",
   "execution_count": 4,
   "metadata": {},
   "outputs": [
    {
     "data": {
      "text/plain": [
       "Index(['raw_row_number', 'date', 'time', 'location', 'lat', 'lng', 'district',\n",
       "       'service_area', 'subject_age', 'subject_race', 'subject_sex', 'type',\n",
       "       'arrest_made', 'outcome', 'contraband_found', 'frisk_performed',\n",
       "       'search_conducted', 'search_person', 'search_vehicle'],\n",
       "      dtype='object')"
      ]
     },
     "execution_count": 4,
     "metadata": {},
     "output_type": "execute_result"
    }
   ],
   "source": [
    "phil_stops.columns"
   ]
  },
  {
   "cell_type": "code",
   "execution_count": 5,
   "metadata": {},
   "outputs": [
    {
     "data": {
      "text/plain": [
       "1891916"
      ]
     },
     "execution_count": 5,
     "metadata": {},
     "output_type": "execute_result"
    }
   ],
   "source": [
    "len(phil_stops)"
   ]
  },
  {
   "cell_type": "code",
   "execution_count": 6,
   "metadata": {},
   "outputs": [],
   "source": [
    "phil_stops['date'] = pd.to_datetime(phil_stops['date'])"
   ]
  },
  {
   "cell_type": "code",
   "execution_count": 7,
   "metadata": {},
   "outputs": [
    {
     "data": {
      "text/plain": [
       "Timestamp('2014-01-01 00:00:00')"
      ]
     },
     "execution_count": 7,
     "metadata": {},
     "output_type": "execute_result"
    }
   ],
   "source": [
    "phil_stops['date'].min()"
   ]
  },
  {
   "cell_type": "code",
   "execution_count": 8,
   "metadata": {},
   "outputs": [
    {
     "data": {
      "text/plain": [
       "Timestamp('2018-04-14 00:00:00')"
      ]
     },
     "execution_count": 8,
     "metadata": {},
     "output_type": "execute_result"
    }
   ],
   "source": [
    "phil_stops['date'].max()"
   ]
  },
  {
   "cell_type": "code",
   "execution_count": 9,
   "metadata": {},
   "outputs": [],
   "source": [
    "get_year = lambda date: date.year\n",
    "phil_stops['year'] = phil_stops['date'].apply(get_year)\n",
    "phil_stops = phil_stops[(phil_stops['year'] >= 2014) & (phil_stops['year'] <= 2017)]"
   ]
  },
  {
   "cell_type": "code",
   "execution_count": 10,
   "metadata": {},
   "outputs": [
    {
     "data": {
      "text/plain": [
       "(Timestamp('2014-01-01 00:00:00'), Timestamp('2017-12-31 00:00:00'), 1782092)"
      ]
     },
     "execution_count": 10,
     "metadata": {},
     "output_type": "execute_result"
    }
   ],
   "source": [
    "(phil_stops['date'].min(), phil_stops['date'].max(), len(phil_stops))"
   ]
  },
  {
   "cell_type": "code",
   "execution_count": 11,
   "metadata": {},
   "outputs": [
    {
     "data": {
      "text/plain": [
       "0    pedestrian\n",
       "1    pedestrian\n",
       "2    pedestrian\n",
       "3     vehicular\n",
       "4    pedestrian\n",
       "5    pedestrian\n",
       "6     vehicular\n",
       "7    pedestrian\n",
       "8    pedestrian\n",
       "9     vehicular\n",
       "Name: type, dtype: object"
      ]
     },
     "execution_count": 11,
     "metadata": {},
     "output_type": "execute_result"
    }
   ],
   "source": [
    "phil_stops['type'].head(10)"
   ]
  },
  {
   "cell_type": "code",
   "execution_count": 12,
   "metadata": {},
   "outputs": [
    {
     "data": {
      "text/plain": [
       "1090441"
      ]
     },
     "execution_count": 12,
     "metadata": {},
     "output_type": "execute_result"
    }
   ],
   "source": [
    "phil_stops = phil_stops[phil_stops['type'] == 'vehicular']\n",
    "len(phil_stops)"
   ]
  },
  {
   "cell_type": "code",
   "execution_count": 13,
   "metadata": {},
   "outputs": [
    {
     "data": {
      "text/plain": [
       "year\n",
       "2014    219071\n",
       "2015    285914\n",
       "2016    288306\n",
       "2017    297150\n",
       "dtype: int64"
      ]
     },
     "execution_count": 13,
     "metadata": {},
     "output_type": "execute_result"
    }
   ],
   "source": [
    "phil_stops.groupby('year').size()"
   ]
  },
  {
   "cell_type": "code",
   "execution_count": 14,
   "metadata": {},
   "outputs": [],
   "source": [
    "def calc_group_size(stops_df, groupby_cols, include_prop = True):\n",
    "    groupby = phil_stops.groupby(groupby_cols).size().to_frame().reset_index()\n",
    "    groupby.columns = list(groupby_cols) + ['n']\n",
    "    if include_prop:\n",
    "        groupby['prop'] = groupby['n'] / len(stops_df)\n",
    "    return groupby"
   ]
  },
  {
   "cell_type": "code",
   "execution_count": 15,
   "metadata": {},
   "outputs": [
    {
     "data": {
      "text/html": [
       "<div>\n",
       "<style scoped>\n",
       "    .dataframe tbody tr th:only-of-type {\n",
       "        vertical-align: middle;\n",
       "    }\n",
       "\n",
       "    .dataframe tbody tr th {\n",
       "        vertical-align: top;\n",
       "    }\n",
       "\n",
       "    .dataframe thead th {\n",
       "        text-align: right;\n",
       "    }\n",
       "</style>\n",
       "<table border=\"1\" class=\"dataframe\">\n",
       "  <thead>\n",
       "    <tr style=\"text-align: right;\">\n",
       "      <th></th>\n",
       "      <th>subject_race</th>\n",
       "      <th>n</th>\n",
       "      <th>prop</th>\n",
       "    </tr>\n",
       "  </thead>\n",
       "  <tbody>\n",
       "    <tr>\n",
       "      <th>0</th>\n",
       "      <td>asian/pacific islander</td>\n",
       "      <td>31197</td>\n",
       "      <td>0.028610</td>\n",
       "    </tr>\n",
       "    <tr>\n",
       "      <th>1</th>\n",
       "      <td>black</td>\n",
       "      <td>714772</td>\n",
       "      <td>0.655489</td>\n",
       "    </tr>\n",
       "    <tr>\n",
       "      <th>2</th>\n",
       "      <td>hispanic</td>\n",
       "      <td>112950</td>\n",
       "      <td>0.103582</td>\n",
       "    </tr>\n",
       "    <tr>\n",
       "      <th>3</th>\n",
       "      <td>other/unknown</td>\n",
       "      <td>15109</td>\n",
       "      <td>0.013856</td>\n",
       "    </tr>\n",
       "    <tr>\n",
       "      <th>4</th>\n",
       "      <td>white</td>\n",
       "      <td>216413</td>\n",
       "      <td>0.198464</td>\n",
       "    </tr>\n",
       "  </tbody>\n",
       "</table>\n",
       "</div>"
      ],
      "text/plain": [
       "             subject_race       n      prop\n",
       "0  asian/pacific islander   31197  0.028610\n",
       "1                   black  714772  0.655489\n",
       "2                hispanic  112950  0.103582\n",
       "3           other/unknown   15109  0.013856\n",
       "4                   white  216413  0.198464"
      ]
     },
     "execution_count": 15,
     "metadata": {},
     "output_type": "execute_result"
    }
   ],
   "source": [
    "calc_group_size(phil_stops, ['subject_race'])"
   ]
  },
  {
   "cell_type": "code",
   "execution_count": 16,
   "metadata": {},
   "outputs": [
    {
     "data": {
      "text/html": [
       "<div>\n",
       "<style scoped>\n",
       "    .dataframe tbody tr th:only-of-type {\n",
       "        vertical-align: middle;\n",
       "    }\n",
       "\n",
       "    .dataframe tbody tr th {\n",
       "        vertical-align: top;\n",
       "    }\n",
       "\n",
       "    .dataframe thead th {\n",
       "        text-align: right;\n",
       "    }\n",
       "</style>\n",
       "<table border=\"1\" class=\"dataframe\">\n",
       "  <thead>\n",
       "    <tr style=\"text-align: right;\">\n",
       "      <th></th>\n",
       "      <th>year</th>\n",
       "      <th>subject_race</th>\n",
       "      <th>n</th>\n",
       "      <th>prop</th>\n",
       "    </tr>\n",
       "  </thead>\n",
       "  <tbody>\n",
       "    <tr>\n",
       "      <th>0</th>\n",
       "      <td>2014</td>\n",
       "      <td>asian/pacific islander</td>\n",
       "      <td>7317</td>\n",
       "      <td>0.006710</td>\n",
       "    </tr>\n",
       "    <tr>\n",
       "      <th>1</th>\n",
       "      <td>2014</td>\n",
       "      <td>black</td>\n",
       "      <td>134192</td>\n",
       "      <td>0.123062</td>\n",
       "    </tr>\n",
       "    <tr>\n",
       "      <th>2</th>\n",
       "      <td>2014</td>\n",
       "      <td>hispanic</td>\n",
       "      <td>23036</td>\n",
       "      <td>0.021125</td>\n",
       "    </tr>\n",
       "    <tr>\n",
       "      <th>3</th>\n",
       "      <td>2014</td>\n",
       "      <td>other/unknown</td>\n",
       "      <td>2631</td>\n",
       "      <td>0.002413</td>\n",
       "    </tr>\n",
       "    <tr>\n",
       "      <th>4</th>\n",
       "      <td>2014</td>\n",
       "      <td>white</td>\n",
       "      <td>51895</td>\n",
       "      <td>0.047591</td>\n",
       "    </tr>\n",
       "    <tr>\n",
       "      <th>5</th>\n",
       "      <td>2015</td>\n",
       "      <td>asian/pacific islander</td>\n",
       "      <td>8613</td>\n",
       "      <td>0.007899</td>\n",
       "    </tr>\n",
       "    <tr>\n",
       "      <th>6</th>\n",
       "      <td>2015</td>\n",
       "      <td>black</td>\n",
       "      <td>183067</td>\n",
       "      <td>0.167883</td>\n",
       "    </tr>\n",
       "    <tr>\n",
       "      <th>7</th>\n",
       "      <td>2015</td>\n",
       "      <td>hispanic</td>\n",
       "      <td>30105</td>\n",
       "      <td>0.027608</td>\n",
       "    </tr>\n",
       "    <tr>\n",
       "      <th>8</th>\n",
       "      <td>2015</td>\n",
       "      <td>other/unknown</td>\n",
       "      <td>3793</td>\n",
       "      <td>0.003478</td>\n",
       "    </tr>\n",
       "    <tr>\n",
       "      <th>9</th>\n",
       "      <td>2015</td>\n",
       "      <td>white</td>\n",
       "      <td>60336</td>\n",
       "      <td>0.055332</td>\n",
       "    </tr>\n",
       "    <tr>\n",
       "      <th>10</th>\n",
       "      <td>2016</td>\n",
       "      <td>asian/pacific islander</td>\n",
       "      <td>7763</td>\n",
       "      <td>0.007119</td>\n",
       "    </tr>\n",
       "    <tr>\n",
       "      <th>11</th>\n",
       "      <td>2016</td>\n",
       "      <td>black</td>\n",
       "      <td>193093</td>\n",
       "      <td>0.177078</td>\n",
       "    </tr>\n",
       "    <tr>\n",
       "      <th>12</th>\n",
       "      <td>2016</td>\n",
       "      <td>hispanic</td>\n",
       "      <td>29810</td>\n",
       "      <td>0.027338</td>\n",
       "    </tr>\n",
       "    <tr>\n",
       "      <th>13</th>\n",
       "      <td>2016</td>\n",
       "      <td>other/unknown</td>\n",
       "      <td>4156</td>\n",
       "      <td>0.003811</td>\n",
       "    </tr>\n",
       "    <tr>\n",
       "      <th>14</th>\n",
       "      <td>2016</td>\n",
       "      <td>white</td>\n",
       "      <td>53484</td>\n",
       "      <td>0.049048</td>\n",
       "    </tr>\n",
       "    <tr>\n",
       "      <th>15</th>\n",
       "      <td>2017</td>\n",
       "      <td>asian/pacific islander</td>\n",
       "      <td>7504</td>\n",
       "      <td>0.006882</td>\n",
       "    </tr>\n",
       "    <tr>\n",
       "      <th>16</th>\n",
       "      <td>2017</td>\n",
       "      <td>black</td>\n",
       "      <td>204420</td>\n",
       "      <td>0.187465</td>\n",
       "    </tr>\n",
       "    <tr>\n",
       "      <th>17</th>\n",
       "      <td>2017</td>\n",
       "      <td>hispanic</td>\n",
       "      <td>29999</td>\n",
       "      <td>0.027511</td>\n",
       "    </tr>\n",
       "    <tr>\n",
       "      <th>18</th>\n",
       "      <td>2017</td>\n",
       "      <td>other/unknown</td>\n",
       "      <td>4529</td>\n",
       "      <td>0.004153</td>\n",
       "    </tr>\n",
       "    <tr>\n",
       "      <th>19</th>\n",
       "      <td>2017</td>\n",
       "      <td>white</td>\n",
       "      <td>50698</td>\n",
       "      <td>0.046493</td>\n",
       "    </tr>\n",
       "  </tbody>\n",
       "</table>\n",
       "</div>"
      ],
      "text/plain": [
       "    year            subject_race       n      prop\n",
       "0   2014  asian/pacific islander    7317  0.006710\n",
       "1   2014                   black  134192  0.123062\n",
       "2   2014                hispanic   23036  0.021125\n",
       "3   2014           other/unknown    2631  0.002413\n",
       "4   2014                   white   51895  0.047591\n",
       "5   2015  asian/pacific islander    8613  0.007899\n",
       "6   2015                   black  183067  0.167883\n",
       "7   2015                hispanic   30105  0.027608\n",
       "8   2015           other/unknown    3793  0.003478\n",
       "9   2015                   white   60336  0.055332\n",
       "10  2016  asian/pacific islander    7763  0.007119\n",
       "11  2016                   black  193093  0.177078\n",
       "12  2016                hispanic   29810  0.027338\n",
       "13  2016           other/unknown    4156  0.003811\n",
       "14  2016                   white   53484  0.049048\n",
       "15  2017  asian/pacific islander    7504  0.006882\n",
       "16  2017                   black  204420  0.187465\n",
       "17  2017                hispanic   29999  0.027511\n",
       "18  2017           other/unknown    4529  0.004153\n",
       "19  2017                   white   50698  0.046493"
      ]
     },
     "execution_count": 16,
     "metadata": {},
     "output_type": "execute_result"
    }
   ],
   "source": [
    "groupby_year_and_race = calc_group_size(phil_stops, ['year', 'subject_race'])\n",
    "groupby_year_and_race"
   ]
  },
  {
   "cell_type": "code",
   "execution_count": 17,
   "metadata": {},
   "outputs": [
    {
     "data": {
      "image/png": "[encoded data removed]",
      "text/plain": [
       "<Figure size 432x288 with 1 Axes>"
      ]
     },
     "metadata": {
      "needs_background": "light"
     },
     "output_type": "display_data"
    }
   ],
   "source": [
    "ax = sns.lineplot(x = 'year', y = 'n', hue = 'subject_race', data = groupby_year_and_race);\n",
    "ax.legend(loc = (1.05, 0.5));"
   ]
  },
  {
   "cell_type": "code",
   "execution_count": 18,
   "metadata": {},
   "outputs": [
    {
     "data": {
      "text/html": [
       "<div>\n",
       "<style scoped>\n",
       "    .dataframe tbody tr th:only-of-type {\n",
       "        vertical-align: middle;\n",
       "    }\n",
       "\n",
       "    .dataframe tbody tr th {\n",
       "        vertical-align: top;\n",
       "    }\n",
       "\n",
       "    .dataframe thead th {\n",
       "        text-align: right;\n",
       "    }\n",
       "</style>\n",
       "<table border=\"1\" class=\"dataframe\">\n",
       "  <thead>\n",
       "    <tr style=\"text-align: right;\">\n",
       "      <th></th>\n",
       "      <th>subject_race</th>\n",
       "      <th>num_people</th>\n",
       "    </tr>\n",
       "  </thead>\n",
       "  <tbody>\n",
       "    <tr>\n",
       "      <th>0</th>\n",
       "      <td>asian/pacific islander</td>\n",
       "      <td>110864</td>\n",
       "    </tr>\n",
       "    <tr>\n",
       "      <th>1</th>\n",
       "      <td>black</td>\n",
       "      <td>648846</td>\n",
       "    </tr>\n",
       "    <tr>\n",
       "      <th>2</th>\n",
       "      <td>hispanic</td>\n",
       "      <td>221777</td>\n",
       "    </tr>\n",
       "    <tr>\n",
       "      <th>3</th>\n",
       "      <td>other/unknown</td>\n",
       "      <td>39858</td>\n",
       "    </tr>\n",
       "    <tr>\n",
       "      <th>4</th>\n",
       "      <td>white</td>\n",
       "      <td>548312</td>\n",
       "    </tr>\n",
       "  </tbody>\n",
       "</table>\n",
       "</div>"
      ],
      "text/plain": [
       "             subject_race  num_people\n",
       "0  asian/pacific islander      110864\n",
       "1                   black      648846\n",
       "2                hispanic      221777\n",
       "3           other/unknown       39858\n",
       "4                   white      548312"
      ]
     },
     "execution_count": 18,
     "metadata": {},
     "output_type": "execute_result"
    }
   ],
   "source": [
    "population_df = pd.DataFrame({'asian/pacific islander': 110864, 'black': 648846, 'hispanic': 221777, 'other/unknown': 39858,\n",
    "                'white': 548312}.items())\n",
    "population_df.columns = ['subject_race', 'num_people']\n",
    "population_df"
   ]
  },
  {
   "cell_type": "code",
   "execution_count": 19,
   "metadata": {},
   "outputs": [],
   "source": [
    "phil_stops_2017 = phil_stops[phil_stops['year'] == 2017]"
   ]
  },
  {
   "cell_type": "code",
   "execution_count": 20,
   "metadata": {},
   "outputs": [],
   "source": [
    "def calc_stop_rates(stops_df, population_df, groupby_cols):\n",
    "    groupby_df = stops_df.groupby(groupby_cols).size().reset_index()\n",
    "    groupby_df.columns = groupby_cols + ['n']\n",
    "    merged = groupby_df.merge(population_df, on ='subject_race')\n",
    "    merged['stop_rate'] = merged['n'] / merged['num_people']\n",
    "    return merged[['subject_race', 'stop_rate']]"
   ]
  },
  {
   "cell_type": "code",
   "execution_count": 21,
   "metadata": {},
   "outputs": [
    {
     "data": {
      "text/html": [
       "<div>\n",
       "<style scoped>\n",
       "    .dataframe tbody tr th:only-of-type {\n",
       "        vertical-align: middle;\n",
       "    }\n",
       "\n",
       "    .dataframe tbody tr th {\n",
       "        vertical-align: top;\n",
       "    }\n",
       "\n",
       "    .dataframe thead th {\n",
       "        text-align: right;\n",
       "    }\n",
       "</style>\n",
       "<table border=\"1\" class=\"dataframe\">\n",
       "  <thead>\n",
       "    <tr style=\"text-align: right;\">\n",
       "      <th></th>\n",
       "      <th>subject_race</th>\n",
       "      <th>stop_rate</th>\n",
       "    </tr>\n",
       "  </thead>\n",
       "  <tbody>\n",
       "    <tr>\n",
       "      <th>0</th>\n",
       "      <td>asian/pacific islander</td>\n",
       "      <td>0.067687</td>\n",
       "    </tr>\n",
       "    <tr>\n",
       "      <th>1</th>\n",
       "      <td>black</td>\n",
       "      <td>0.315052</td>\n",
       "    </tr>\n",
       "    <tr>\n",
       "      <th>2</th>\n",
       "      <td>hispanic</td>\n",
       "      <td>0.135267</td>\n",
       "    </tr>\n",
       "    <tr>\n",
       "      <th>3</th>\n",
       "      <td>other/unknown</td>\n",
       "      <td>0.113628</td>\n",
       "    </tr>\n",
       "    <tr>\n",
       "      <th>4</th>\n",
       "      <td>white</td>\n",
       "      <td>0.092462</td>\n",
       "    </tr>\n",
       "  </tbody>\n",
       "</table>\n",
       "</div>"
      ],
      "text/plain": [
       "             subject_race  stop_rate\n",
       "0  asian/pacific islander   0.067687\n",
       "1                   black   0.315052\n",
       "2                hispanic   0.135267\n",
       "3           other/unknown   0.113628\n",
       "4                   white   0.092462"
      ]
     },
     "execution_count": 21,
     "metadata": {},
     "output_type": "execute_result"
    }
   ],
   "source": [
    "calc_stop_rates(phil_stops_2017, population_df, ['subject_race'])"
   ]
  },
  {
   "cell_type": "code",
   "execution_count": 22,
   "metadata": {},
   "outputs": [],
   "source": [
    "def calc_search_rates(stops_df, groupby_cols):\n",
    "    groupby_df = stops_df.groupby(groupby_cols)['search_conducted'].mean().reset_index()\n",
    "    groupby_df.columns = groupby_cols + ['search_rate']\n",
    "    return groupby_df"
   ]
  },
  {
   "cell_type": "code",
   "execution_count": 23,
   "metadata": {},
   "outputs": [
    {
     "data": {
      "text/html": [
       "<div>\n",
       "<style scoped>\n",
       "    .dataframe tbody tr th:only-of-type {\n",
       "        vertical-align: middle;\n",
       "    }\n",
       "\n",
       "    .dataframe tbody tr th {\n",
       "        vertical-align: top;\n",
       "    }\n",
       "\n",
       "    .dataframe thead th {\n",
       "        text-align: right;\n",
       "    }\n",
       "</style>\n",
       "<table border=\"1\" class=\"dataframe\">\n",
       "  <thead>\n",
       "    <tr style=\"text-align: right;\">\n",
       "      <th></th>\n",
       "      <th>subject_race</th>\n",
       "      <th>search_rate</th>\n",
       "    </tr>\n",
       "  </thead>\n",
       "  <tbody>\n",
       "    <tr>\n",
       "      <th>0</th>\n",
       "      <td>asian/pacific islander</td>\n",
       "      <td>0.026119</td>\n",
       "    </tr>\n",
       "    <tr>\n",
       "      <th>1</th>\n",
       "      <td>black</td>\n",
       "      <td>0.060547</td>\n",
       "    </tr>\n",
       "    <tr>\n",
       "      <th>2</th>\n",
       "      <td>hispanic</td>\n",
       "      <td>0.051002</td>\n",
       "    </tr>\n",
       "    <tr>\n",
       "      <th>3</th>\n",
       "      <td>other/unknown</td>\n",
       "      <td>0.036873</td>\n",
       "    </tr>\n",
       "    <tr>\n",
       "      <th>4</th>\n",
       "      <td>white</td>\n",
       "      <td>0.040968</td>\n",
       "    </tr>\n",
       "  </tbody>\n",
       "</table>\n",
       "</div>"
      ],
      "text/plain": [
       "             subject_race  search_rate\n",
       "0  asian/pacific islander     0.026119\n",
       "1                   black     0.060547\n",
       "2                hispanic     0.051002\n",
       "3           other/unknown     0.036873\n",
       "4                   white     0.040968"
      ]
     },
     "execution_count": 23,
     "metadata": {},
     "output_type": "execute_result"
    }
   ],
   "source": [
    "calc_search_rates(phil_stops_2017, ['subject_race'])"
   ]
  },
  {
   "cell_type": "code",
   "execution_count": 24,
   "metadata": {},
   "outputs": [],
   "source": [
    "def calc_frisk_rates(stops_df, groupby_cols):\n",
    "    groupby_df = stops_df.groupby(groupby_cols)['frisk_performed'].mean().reset_index()\n",
    "    groupby_df.columns = groupby_cols + ['frisk_rate']\n",
    "    return groupby_df"
   ]
  },
  {
   "cell_type": "code",
   "execution_count": 25,
   "metadata": {},
   "outputs": [
    {
     "data": {
      "text/html": [
       "<div>\n",
       "<style scoped>\n",
       "    .dataframe tbody tr th:only-of-type {\n",
       "        vertical-align: middle;\n",
       "    }\n",
       "\n",
       "    .dataframe tbody tr th {\n",
       "        vertical-align: top;\n",
       "    }\n",
       "\n",
       "    .dataframe thead th {\n",
       "        text-align: right;\n",
       "    }\n",
       "</style>\n",
       "<table border=\"1\" class=\"dataframe\">\n",
       "  <thead>\n",
       "    <tr style=\"text-align: right;\">\n",
       "      <th></th>\n",
       "      <th>subject_race</th>\n",
       "      <th>frisk_rate</th>\n",
       "    </tr>\n",
       "  </thead>\n",
       "  <tbody>\n",
       "    <tr>\n",
       "      <th>0</th>\n",
       "      <td>asian/pacific islander</td>\n",
       "      <td>0.018790</td>\n",
       "    </tr>\n",
       "    <tr>\n",
       "      <th>1</th>\n",
       "      <td>black</td>\n",
       "      <td>0.063624</td>\n",
       "    </tr>\n",
       "    <tr>\n",
       "      <th>2</th>\n",
       "      <td>hispanic</td>\n",
       "      <td>0.047102</td>\n",
       "    </tr>\n",
       "    <tr>\n",
       "      <th>3</th>\n",
       "      <td>other/unknown</td>\n",
       "      <td>0.034003</td>\n",
       "    </tr>\n",
       "    <tr>\n",
       "      <th>4</th>\n",
       "      <td>white</td>\n",
       "      <td>0.030593</td>\n",
       "    </tr>\n",
       "  </tbody>\n",
       "</table>\n",
       "</div>"
      ],
      "text/plain": [
       "             subject_race  frisk_rate\n",
       "0  asian/pacific islander    0.018790\n",
       "1                   black    0.063624\n",
       "2                hispanic    0.047102\n",
       "3           other/unknown    0.034003\n",
       "4                   white    0.030593"
      ]
     },
     "execution_count": 25,
     "metadata": {},
     "output_type": "execute_result"
    }
   ],
   "source": [
    "calc_frisk_rates(phil_stops_2017, ['subject_race'])"
   ]
  },
  {
   "cell_type": "code",
   "execution_count": 26,
   "metadata": {},
   "outputs": [],
   "source": [
    "def calc_hit_rates(stops_df, groupby_cols):\n",
    "    groupby_df = stops_df.groupby(groupby_cols)['contraband_found'].mean().reset_index()\n",
    "    groupby_df = groupby_df.dropna()\n",
    "    groupby_df = groupby_df.reset_index(drop = True)\n",
    "    groupby_df.columns = groupby_cols + ['hit_rate']\n",
    "    return groupby_df"
   ]
  },
  {
   "cell_type": "code",
   "execution_count": 27,
   "metadata": {},
   "outputs": [
    {
     "name": "stderr",
     "output_type": "stream",
     "text": [
      "/anaconda3/envs/general/lib/python3.6/site-packages/ipykernel_launcher.py:1: SettingWithCopyWarning: \n",
      "A value is trying to be set on a copy of a slice from a DataFrame.\n",
      "Try using .loc[row_indexer,col_indexer] = value instead\n",
      "\n",
      "See the caveats in the documentation: http://pandas.pydata.org/pandas-docs/stable/indexing.html#indexing-view-versus-copy\n",
      "  \"\"\"Entry point for launching an IPython kernel.\n"
     ]
    },
    {
     "data": {
      "text/html": [
       "<div>\n",
       "<style scoped>\n",
       "    .dataframe tbody tr th:only-of-type {\n",
       "        vertical-align: middle;\n",
       "    }\n",
       "\n",
       "    .dataframe tbody tr th {\n",
       "        vertical-align: top;\n",
       "    }\n",
       "\n",
       "    .dataframe thead th {\n",
       "        text-align: right;\n",
       "    }\n",
       "</style>\n",
       "<table border=\"1\" class=\"dataframe\">\n",
       "  <thead>\n",
       "    <tr style=\"text-align: right;\">\n",
       "      <th></th>\n",
       "      <th>subject_race</th>\n",
       "      <th>hit_rate</th>\n",
       "    </tr>\n",
       "  </thead>\n",
       "  <tbody>\n",
       "    <tr>\n",
       "      <th>0</th>\n",
       "      <td>asian/pacific islander</td>\n",
       "      <td>0.244898</td>\n",
       "    </tr>\n",
       "    <tr>\n",
       "      <th>1</th>\n",
       "      <td>black</td>\n",
       "      <td>0.219520</td>\n",
       "    </tr>\n",
       "    <tr>\n",
       "      <th>2</th>\n",
       "      <td>hispanic</td>\n",
       "      <td>0.200654</td>\n",
       "    </tr>\n",
       "    <tr>\n",
       "      <th>3</th>\n",
       "      <td>other/unknown</td>\n",
       "      <td>0.173653</td>\n",
       "    </tr>\n",
       "    <tr>\n",
       "      <th>4</th>\n",
       "      <td>white</td>\n",
       "      <td>0.247472</td>\n",
       "    </tr>\n",
       "  </tbody>\n",
       "</table>\n",
       "</div>"
      ],
      "text/plain": [
       "             subject_race  hit_rate\n",
       "0  asian/pacific islander  0.244898\n",
       "1                   black  0.219520\n",
       "2                hispanic  0.200654\n",
       "3           other/unknown  0.173653\n",
       "4                   white  0.247472"
      ]
     },
     "execution_count": 27,
     "metadata": {},
     "output_type": "execute_result"
    }
   ],
   "source": [
    "phil_stops_2017['contraband_found'] = phil_stops_2017['contraband_found'].astype(float)\n",
    "calc_hit_rates(phil_stops_2017, ['subject_race'])"
   ]
  },
  {
   "cell_type": "code",
   "execution_count": 28,
   "metadata": {},
   "outputs": [
    {
     "data": {
      "text/html": [
       "<div>\n",
       "<style scoped>\n",
       "    .dataframe tbody tr th:only-of-type {\n",
       "        vertical-align: middle;\n",
       "    }\n",
       "\n",
       "    .dataframe tbody tr th {\n",
       "        vertical-align: top;\n",
       "    }\n",
       "\n",
       "    .dataframe thead th {\n",
       "        text-align: right;\n",
       "    }\n",
       "</style>\n",
       "<table border=\"1\" class=\"dataframe\">\n",
       "  <thead>\n",
       "    <tr style=\"text-align: right;\">\n",
       "      <th></th>\n",
       "      <th>subject_race</th>\n",
       "      <th>district</th>\n",
       "      <th>hit_rate</th>\n",
       "    </tr>\n",
       "  </thead>\n",
       "  <tbody>\n",
       "    <tr>\n",
       "      <th>0</th>\n",
       "      <td>asian/pacific islander</td>\n",
       "      <td>1.0</td>\n",
       "      <td>0.166667</td>\n",
       "    </tr>\n",
       "    <tr>\n",
       "      <th>1</th>\n",
       "      <td>asian/pacific islander</td>\n",
       "      <td>2.0</td>\n",
       "      <td>0.500000</td>\n",
       "    </tr>\n",
       "    <tr>\n",
       "      <th>2</th>\n",
       "      <td>asian/pacific islander</td>\n",
       "      <td>3.0</td>\n",
       "      <td>0.400000</td>\n",
       "    </tr>\n",
       "    <tr>\n",
       "      <th>3</th>\n",
       "      <td>asian/pacific islander</td>\n",
       "      <td>6.0</td>\n",
       "      <td>0.333333</td>\n",
       "    </tr>\n",
       "    <tr>\n",
       "      <th>4</th>\n",
       "      <td>asian/pacific islander</td>\n",
       "      <td>7.0</td>\n",
       "      <td>0.000000</td>\n",
       "    </tr>\n",
       "  </tbody>\n",
       "</table>\n",
       "</div>"
      ],
      "text/plain": [
       "             subject_race  district  hit_rate\n",
       "0  asian/pacific islander       1.0  0.166667\n",
       "1  asian/pacific islander       2.0  0.500000\n",
       "2  asian/pacific islander       3.0  0.400000\n",
       "3  asian/pacific islander       6.0  0.333333\n",
       "4  asian/pacific islander       7.0  0.000000"
      ]
     },
     "execution_count": 28,
     "metadata": {},
     "output_type": "execute_result"
    }
   ],
   "source": [
    "hit_rates = calc_hit_rates(phil_stops_2017, groupby_cols = ['subject_race', 'district'])\n",
    "hit_rates.head()"
   ]
  },
  {
   "cell_type": "code",
   "execution_count": 29,
   "metadata": {},
   "outputs": [],
   "source": [
    "def compare_hit_rates(hit_rates, minority_races, index_cols):\n",
    "    hit_rates = hit_rates[hit_rates['subject_race'].isin(['white'] + minority_races)]\n",
    "    hit_rates = hit_rates.set_index(list(index_cols) + ['subject_race'])['hit_rate'].unstack(fill_value = 0)\n",
    "    hit_rates = hit_rates.rename(columns = {'white': 'white_hit_rate'}).reset_index()\n",
    "    hit_rates = hit_rates.melt(id_vars = list(index_cols) + ['white_hit_rate'])\n",
    "    hit_rates = hit_rates.rename(columns = {'subject_race': 'minority_race', 'value': 'minority_hit_rate'})\n",
    "    hit_rates = hit_rates.sort_values(by = 'district')\n",
    "    return hit_rates.reset_index(drop = True)\n",
    "\n",
    "def plot_hit_rates_comparison(hit_rates_comparison, marker_size_col, marker_size_scale = 500):\n",
    "    g = sns.FacetGrid(hit_rates_comparison, col=\"minority_race\", height = 5)\n",
    "    g.map(plt.grid)\n",
    "    g.map_dataframe(plt.plot, [0, 1], [0,1], 'r--', color = 'black')\n",
    "    if marker_size_col is not None:\n",
    "        g.map(plt.scatter, \"white_hit_rate\", \"minority_hit_rate\", color = 'black', facecolors = 'none', \n",
    "                            s = hit_rates_comparison[marker_size_col] / marker_size_scale).set(\n",
    "                            xlim=(-0.05,1.05) , ylim=(-0.05,1.05), xlabel = 'White hit rate', ylabel = 'Minority hit rate')\n",
    "    else:\n",
    "        g.map(plt.scatter, \"white_hit_rate\", \"minority_hit_rate\", color = 'black').set(\n",
    "                            xlim=(-0.05,1.05) , ylim=(-0.05,1.05), xlabel = 'White hit rate', ylabel = 'Minority hit rate')\n",
    "    g.add_legend();"
   ]
  },
  {
   "cell_type": "code",
   "execution_count": 30,
   "metadata": {},
   "outputs": [
    {
     "data": {
      "text/html": [
       "<div>\n",
       "<style scoped>\n",
       "    .dataframe tbody tr th:only-of-type {\n",
       "        vertical-align: middle;\n",
       "    }\n",
       "\n",
       "    .dataframe tbody tr th {\n",
       "        vertical-align: top;\n",
       "    }\n",
       "\n",
       "    .dataframe thead th {\n",
       "        text-align: right;\n",
       "    }\n",
       "</style>\n",
       "<table border=\"1\" class=\"dataframe\">\n",
       "  <thead>\n",
       "    <tr style=\"text-align: right;\">\n",
       "      <th></th>\n",
       "      <th>district</th>\n",
       "      <th>white_hit_rate</th>\n",
       "      <th>minority_race</th>\n",
       "      <th>minority_hit_rate</th>\n",
       "    </tr>\n",
       "  </thead>\n",
       "  <tbody>\n",
       "    <tr>\n",
       "      <th>0</th>\n",
       "      <td>1.0</td>\n",
       "      <td>0.611111</td>\n",
       "      <td>black</td>\n",
       "      <td>0.185841</td>\n",
       "    </tr>\n",
       "    <tr>\n",
       "      <th>1</th>\n",
       "      <td>1.0</td>\n",
       "      <td>0.611111</td>\n",
       "      <td>hispanic</td>\n",
       "      <td>0.500000</td>\n",
       "    </tr>\n",
       "    <tr>\n",
       "      <th>2</th>\n",
       "      <td>2.0</td>\n",
       "      <td>0.363636</td>\n",
       "      <td>black</td>\n",
       "      <td>0.343915</td>\n",
       "    </tr>\n",
       "    <tr>\n",
       "      <th>3</th>\n",
       "      <td>2.0</td>\n",
       "      <td>0.363636</td>\n",
       "      <td>hispanic</td>\n",
       "      <td>0.246914</td>\n",
       "    </tr>\n",
       "    <tr>\n",
       "      <th>4</th>\n",
       "      <td>3.0</td>\n",
       "      <td>0.413333</td>\n",
       "      <td>black</td>\n",
       "      <td>0.250000</td>\n",
       "    </tr>\n",
       "  </tbody>\n",
       "</table>\n",
       "</div>"
      ],
      "text/plain": [
       "   district  white_hit_rate minority_race  minority_hit_rate\n",
       "0       1.0        0.611111         black           0.185841\n",
       "1       1.0        0.611111      hispanic           0.500000\n",
       "2       2.0        0.363636         black           0.343915\n",
       "3       2.0        0.363636      hispanic           0.246914\n",
       "4       3.0        0.413333         black           0.250000"
      ]
     },
     "execution_count": 30,
     "metadata": {},
     "output_type": "execute_result"
    }
   ],
   "source": [
    "hit_rates_comparison = compare_hit_rates(hit_rates, ['black', 'hispanic'], ['district'])\n",
    "hit_rates_comparison.head()"
   ]
  },
  {
   "cell_type": "code",
   "execution_count": 31,
   "metadata": {},
   "outputs": [
    {
     "data": {
      "image/png": "[encoded data removed]",
      "text/plain": [
       "<Figure size 728x360 with 2 Axes>"
      ]
     },
     "metadata": {
      "needs_background": "light"
     },
     "output_type": "display_data"
    }
   ],
   "source": [
    "plot_hit_rates_comparison(hit_rates_comparison, None)"
   ]
  },
  {
   "cell_type": "code",
   "execution_count": 32,
   "metadata": {},
   "outputs": [
    {
     "data": {
      "image/png": "[encoded data removed]",
      "text/plain": [
       "<Figure size 728x360 with 2 Axes>"
      ]
     },
     "metadata": {
      "needs_background": "light"
     },
     "output_type": "display_data"
    }
   ],
   "source": [
    "hit_rates_comparison_with_size = hit_rates_comparison.merge(calc_group_size(phil_stops, ['district'], False))\n",
    "plot_hit_rates_comparison(hit_rates_comparison_with_size, 'n')"
   ]
  },
  {
   "cell_type": "code",
   "execution_count": 45,
   "metadata": {},
   "outputs": [],
   "source": [
    "def calc_sunset_times(stops_df, latitude, longitude, timezone):\n",
    "    l = Location()\n",
    "    l.solar_depression = 'civil'\n",
    "    l.latitude = latitude\n",
    "    l.longitude = longitude\n",
    "    l.timezone = timezone\n",
    "    l.elevation = 0   \n",
    "    unique_dates = list(stops_df['date'].unique())\n",
    "    sunset = [l.sun(pd.Timestamp(date), local = True)['sunset'].time() for date in unique_dates]\n",
    "    dusk = [l.sun(pd.Timestamp(date), local = True)['dusk'].time() for date in unique_dates]\n",
    "    sunset_minutes = [time.hour * 60 + time.minute for time in sunset]\n",
    "    dusk_minutes = [time.hour * 60 + time.minute for time in dusk]\n",
    "    sunset_times = pd.DataFrame(zip(unique_dates, sunset, dusk, sunset_minutes, dusk_minutes))\n",
    "    sunset_times.columns = ['date', 'sunset', 'dusk', 'sunset_minute', 'dusk_minute']\n",
    "    return sunset_times\n"
   ]
  },
  {
   "cell_type": "code",
   "execution_count": 52,
   "metadata": {},
   "outputs": [
    {
     "data": {
      "text/html": [
       "<div>\n",
       "<style scoped>\n",
       "    .dataframe tbody tr th:only-of-type {\n",
       "        vertical-align: middle;\n",
       "    }\n",
       "\n",
       "    .dataframe tbody tr th {\n",
       "        vertical-align: top;\n",
       "    }\n",
       "\n",
       "    .dataframe thead th {\n",
       "        text-align: right;\n",
       "    }\n",
       "</style>\n",
       "<table border=\"1\" class=\"dataframe\">\n",
       "  <thead>\n",
       "    <tr style=\"text-align: right;\">\n",
       "      <th></th>\n",
       "      <th>date</th>\n",
       "      <th>sunset</th>\n",
       "      <th>dusk</th>\n",
       "      <th>sunset_minute</th>\n",
       "      <th>dusk_minute</th>\n",
       "    </tr>\n",
       "  </thead>\n",
       "  <tbody>\n",
       "    <tr>\n",
       "      <th>145</th>\n",
       "      <td>2017-06-28</td>\n",
       "      <td>20:33:27</td>\n",
       "      <td>21:06:12</td>\n",
       "      <td>1233</td>\n",
       "      <td>1266</td>\n",
       "    </tr>\n",
       "    <tr>\n",
       "      <th>218</th>\n",
       "      <td>2017-12-08</td>\n",
       "      <td>16:35:22</td>\n",
       "      <td>17:05:39</td>\n",
       "      <td>995</td>\n",
       "      <td>1025</td>\n",
       "    </tr>\n",
       "  </tbody>\n",
       "</table>\n",
       "</div>"
      ],
      "text/plain": [
       "          date    sunset      dusk  sunset_minute  dusk_minute\n",
       "145 2017-06-28  20:33:27  21:06:12           1233         1266\n",
       "218 2017-12-08  16:35:22  17:05:39            995         1025"
      ]
     },
     "execution_count": 52,
     "metadata": {},
     "output_type": "execute_result"
    }
   ],
   "source": [
    "sunset_times_2017 = calc_sunset_times(phil_stops_2017, 39.9525839, -75.1652215, 'US/Eastern')\n",
    "sunset_times_2017[(sunset_times_2017['sunset'] == sunset_times_2017['sunset'].min()) | (sunset_times_2017['sunset'] == sunset_times_2017['sunset'].max())]"
   ]
  },
  {
   "cell_type": "code",
   "execution_count": 138,
   "metadata": {},
   "outputs": [],
   "source": [
    "def get_veil_of_darkness_observations(stops_df, sunset_times):\n",
    "    stops_df = stops_df.copy()\n",
    "    merged = stops_df.merge(sunset_times, on = 'date')\n",
    "    times = merged['time'].apply(lambda time: datetime.datetime.strptime(time, '%H:%M:%S').time())\n",
    "    merged['minute'] = times.apply(lambda time: time.hour * 60 + time.minute)\n",
    "    merged['minutes_after_dark'] = merged['minute'] - merged['dusk_minute']\n",
    "    merged['is_dark'] = (merged['minute'] > merged['dusk_minute']).astype(int)\n",
    "    min_dusk_minute = merged['dusk_minute'].min()\n",
    "    max_dusk_minute = merged['dusk_minute'].max()\n",
    "    # Filter to get only the intertwilight period\n",
    "    merged = merged[(merged['minute'] > min_dusk_minute) & (merged['minute'] < max_dusk_minute)] \n",
    "    # Remove ambigous period between sunset and dusk\n",
    "    merged = merged[~((merged['minute'] > merged['sunset_minute']) &\\\n",
    "                        (merged['minute'] < merged['dusk_minute']))]\n",
    "    return merged"
   ]
  },
  {
   "cell_type": "code",
   "execution_count": 139,
   "metadata": {},
   "outputs": [],
   "source": [
    "vod_stops = get_veil_of_darkness_observations(phil_stops_2017, sunset_times_2017)"
   ]
  },
  {
   "cell_type": "code",
   "execution_count": 140,
   "metadata": {},
   "outputs": [
    {
     "data": {
      "text/html": [
       "<div>\n",
       "<style scoped>\n",
       "    .dataframe tbody tr th:only-of-type {\n",
       "        vertical-align: middle;\n",
       "    }\n",
       "\n",
       "    .dataframe tbody tr th {\n",
       "        vertical-align: top;\n",
       "    }\n",
       "\n",
       "    .dataframe thead th {\n",
       "        text-align: right;\n",
       "    }\n",
       "</style>\n",
       "<table border=\"1\" class=\"dataframe\">\n",
       "  <thead>\n",
       "    <tr style=\"text-align: right;\">\n",
       "      <th></th>\n",
       "      <th>raw_row_number</th>\n",
       "      <th>date</th>\n",
       "      <th>time</th>\n",
       "      <th>location</th>\n",
       "      <th>lat</th>\n",
       "      <th>lng</th>\n",
       "      <th>district</th>\n",
       "      <th>service_area</th>\n",
       "      <th>subject_age</th>\n",
       "      <th>subject_race</th>\n",
       "      <th>...</th>\n",
       "      <th>search_person</th>\n",
       "      <th>search_vehicle</th>\n",
       "      <th>year</th>\n",
       "      <th>sunset</th>\n",
       "      <th>dusk</th>\n",
       "      <th>sunset_minute</th>\n",
       "      <th>dusk_minute</th>\n",
       "      <th>minute</th>\n",
       "      <th>minutes_after_dark</th>\n",
       "      <th>is_dark</th>\n",
       "    </tr>\n",
       "  </thead>\n",
       "  <tbody>\n",
       "    <tr>\n",
       "      <th>0</th>\n",
       "      <td>1025649</td>\n",
       "      <td>2017-03-22</td>\n",
       "      <td>20:30:00</td>\n",
       "      <td>NaN</td>\n",
       "      <td>NaN</td>\n",
       "      <td>NaN</td>\n",
       "      <td>25.0</td>\n",
       "      <td>252.0</td>\n",
       "      <td>39.0</td>\n",
       "      <td>white</td>\n",
       "      <td>...</td>\n",
       "      <td>False</td>\n",
       "      <td>False</td>\n",
       "      <td>2017</td>\n",
       "      <td>19:14:01</td>\n",
       "      <td>19:41:02</td>\n",
       "      <td>1154</td>\n",
       "      <td>1181</td>\n",
       "      <td>1230</td>\n",
       "      <td>49</td>\n",
       "      <td>1</td>\n",
       "    </tr>\n",
       "    <tr>\n",
       "      <th>2</th>\n",
       "      <td>1025656</td>\n",
       "      <td>2017-03-22</td>\n",
       "      <td>19:50:00</td>\n",
       "      <td>NaN</td>\n",
       "      <td>NaN</td>\n",
       "      <td>NaN</td>\n",
       "      <td>25.0</td>\n",
       "      <td>252.0</td>\n",
       "      <td>42.0</td>\n",
       "      <td>black</td>\n",
       "      <td>...</td>\n",
       "      <td>False</td>\n",
       "      <td>False</td>\n",
       "      <td>2017</td>\n",
       "      <td>19:14:01</td>\n",
       "      <td>19:41:02</td>\n",
       "      <td>1154</td>\n",
       "      <td>1181</td>\n",
       "      <td>1190</td>\n",
       "      <td>9</td>\n",
       "      <td>1</td>\n",
       "    </tr>\n",
       "    <tr>\n",
       "      <th>3</th>\n",
       "      <td>1025657</td>\n",
       "      <td>2017-03-22</td>\n",
       "      <td>21:05:00</td>\n",
       "      <td>NaN</td>\n",
       "      <td>NaN</td>\n",
       "      <td>NaN</td>\n",
       "      <td>25.0</td>\n",
       "      <td>251.0</td>\n",
       "      <td>81.0</td>\n",
       "      <td>white</td>\n",
       "      <td>...</td>\n",
       "      <td>False</td>\n",
       "      <td>False</td>\n",
       "      <td>2017</td>\n",
       "      <td>19:14:01</td>\n",
       "      <td>19:41:02</td>\n",
       "      <td>1154</td>\n",
       "      <td>1181</td>\n",
       "      <td>1265</td>\n",
       "      <td>84</td>\n",
       "      <td>1</td>\n",
       "    </tr>\n",
       "    <tr>\n",
       "      <th>5</th>\n",
       "      <td>1025668</td>\n",
       "      <td>2017-03-22</td>\n",
       "      <td>20:05:00</td>\n",
       "      <td>NaN</td>\n",
       "      <td>NaN</td>\n",
       "      <td>NaN</td>\n",
       "      <td>25.0</td>\n",
       "      <td>253.0</td>\n",
       "      <td>24.0</td>\n",
       "      <td>black</td>\n",
       "      <td>...</td>\n",
       "      <td>False</td>\n",
       "      <td>False</td>\n",
       "      <td>2017</td>\n",
       "      <td>19:14:01</td>\n",
       "      <td>19:41:02</td>\n",
       "      <td>1154</td>\n",
       "      <td>1181</td>\n",
       "      <td>1205</td>\n",
       "      <td>24</td>\n",
       "      <td>1</td>\n",
       "    </tr>\n",
       "    <tr>\n",
       "      <th>10</th>\n",
       "      <td>1037653</td>\n",
       "      <td>2017-03-22</td>\n",
       "      <td>18:40:00</td>\n",
       "      <td>100 BLOCK S 60TH ST</td>\n",
       "      <td>39.960437</td>\n",
       "      <td>-75.241136</td>\n",
       "      <td>18.0</td>\n",
       "      <td>181.0</td>\n",
       "      <td>28.0</td>\n",
       "      <td>black</td>\n",
       "      <td>...</td>\n",
       "      <td>False</td>\n",
       "      <td>False</td>\n",
       "      <td>2017</td>\n",
       "      <td>19:14:01</td>\n",
       "      <td>19:41:02</td>\n",
       "      <td>1154</td>\n",
       "      <td>1181</td>\n",
       "      <td>1120</td>\n",
       "      <td>-61</td>\n",
       "      <td>0</td>\n",
       "    </tr>\n",
       "  </tbody>\n",
       "</table>\n",
       "<p>5 rows × 27 columns</p>\n",
       "</div>"
      ],
      "text/plain": [
       "    raw_row_number       date      time             location        lat  \\\n",
       "0          1025649 2017-03-22  20:30:00                  NaN        NaN   \n",
       "2          1025656 2017-03-22  19:50:00                  NaN        NaN   \n",
       "3          1025657 2017-03-22  21:05:00                  NaN        NaN   \n",
       "5          1025668 2017-03-22  20:05:00                  NaN        NaN   \n",
       "10         1037653 2017-03-22  18:40:00  100 BLOCK S 60TH ST  39.960437   \n",
       "\n",
       "          lng  district  service_area  subject_age subject_race  ...  \\\n",
       "0         NaN      25.0         252.0         39.0        white  ...   \n",
       "2         NaN      25.0         252.0         42.0        black  ...   \n",
       "3         NaN      25.0         251.0         81.0        white  ...   \n",
       "5         NaN      25.0         253.0         24.0        black  ...   \n",
       "10 -75.241136      18.0         181.0         28.0        black  ...   \n",
       "\n",
       "   search_person search_vehicle  year    sunset      dusk  sunset_minute  \\\n",
       "0          False          False  2017  19:14:01  19:41:02           1154   \n",
       "2          False          False  2017  19:14:01  19:41:02           1154   \n",
       "3          False          False  2017  19:14:01  19:41:02           1154   \n",
       "5          False          False  2017  19:14:01  19:41:02           1154   \n",
       "10         False          False  2017  19:14:01  19:41:02           1154   \n",
       "\n",
       "    dusk_minute  minute  minutes_after_dark  is_dark  \n",
       "0          1181    1230                  49        1  \n",
       "2          1181    1190                   9        1  \n",
       "3          1181    1265                  84        1  \n",
       "5          1181    1205                  24        1  \n",
       "10         1181    1120                 -61        0  \n",
       "\n",
       "[5 rows x 27 columns]"
      ]
     },
     "execution_count": 140,
     "metadata": {},
     "output_type": "execute_result"
    }
   ],
   "source": [
    "vod_stops.head()"
   ]
  },
  {
   "cell_type": "code",
   "execution_count": 141,
   "metadata": {},
   "outputs": [
    {
     "data": {
      "text/plain": [
       "(80334, 27)"
      ]
     },
     "execution_count": 141,
     "metadata": {},
     "output_type": "execute_result"
    }
   ],
   "source": [
    "vod_stops[(vod_stops['subject_race'] == 'white') | (vod_stops['subject_race'] == 'black')].shape"
   ]
  },
  {
   "cell_type": "code",
   "execution_count": 143,
   "metadata": {},
   "outputs": [],
   "source": [
    "def calc_vod_rate_of_minority(vod_stops, start_time, end_time, minority_race):\n",
    "    vod_stops = vod_stops.copy()\n",
    "    vod_stops = vod_stops[(vod_stops['time'] > start_time) & (vod_stops['time'] < end_time)]\n",
    "#     vod_stops = vod_stops[vod_stops['subject_race'].isin(['white', minority_race])]\n",
    "    vod_stops['is_{}'.format(minority_race)] = (vod_stops['subject_race'] == minority_race).astype(int)\n",
    "    groupby = vod_stops.groupby(['is_dark'])['is_{}'.format(minority_race)].mean()\n",
    "    return groupby\n"
   ]
  },
  {
   "cell_type": "code",
   "execution_count": 144,
   "metadata": {},
   "outputs": [
    {
     "data": {
      "text/plain": [
       "is_dark\n",
       "0    0.693128\n",
       "1    0.644799\n",
       "Name: is_black, dtype: float64"
      ]
     },
     "execution_count": 144,
     "metadata": {},
     "output_type": "execute_result"
    }
   ],
   "source": [
    "calc_vod_rate_of_minority(vod_stops, '18:30', '18:45', 'black')"
   ]
  },
  {
   "cell_type": "code",
   "execution_count": 159,
   "metadata": {},
   "outputs": [
    {
     "name": "stdout",
     "output_type": "stream",
     "text": [
      "                 Generalized Linear Model Regression Results                  \n",
      "==============================================================================\n",
      "Dep. Variable:           subject_race   No. Observations:                95094\n",
      "Model:                            GLM   Df Residuals:                    95091\n",
      "Model Family:                Binomial   Df Model:                            2\n",
      "Link Function:                  logit   Scale:                          1.0000\n",
      "Method:                          IRLS   Log-Likelihood:                -58425.\n",
      "Date:                Thu, 11 Apr 2019   Deviance:                   1.1685e+05\n",
      "Time:                        10:09:43   Pearson chi2:                 9.51e+04\n",
      "No. Iterations:                     5   Covariance Type:             nonrobust\n",
      "==============================================================================\n",
      "                 coef    std err          z      P>|z|      [0.025      0.975]\n",
      "------------------------------------------------------------------------------\n",
      "const         -1.3475      0.138     -9.742      0.000      -1.619      -1.076\n",
      "is_dark       -0.1822      0.017    -11.039      0.000      -0.214      -0.150\n",
      "minute         0.0020      0.000     15.902      0.000       0.002       0.002\n",
      "==============================================================================\n"
     ]
    },
    {
     "name": "stderr",
     "output_type": "stream",
     "text": [
      "/anaconda3/envs/general/lib/python3.6/site-packages/numpy/core/fromnumeric.py:2389: FutureWarning: Method .ptp is deprecated and will be removed in a future version. Use numpy.ptp instead.\n",
      "  return ptp(axis=axis, out=out, **kwargs)\n"
     ]
    }
   ],
   "source": [
    "is_black = (vod_stops['subject_race'] == 'black').astype(int)\n",
    "X = vod_stops[['is_dark', 'minute']]\n",
    "X = sm.add_constant(X)\n",
    "# X\n",
    "logit_model = sm.GLM(is_black, X, family=sm.families.Binomial())\n",
    "logit_results = logit_model.fit()\n",
    "print(logit_results.summary())"
   ]
  },
  {
   "cell_type": "code",
   "execution_count": 160,
   "metadata": {},
   "outputs": [
    {
     "data": {
      "text/plain": [
       "0.6940921614402591"
      ]
     },
     "execution_count": 160,
     "metadata": {},
     "output_type": "execute_result"
    }
   ],
   "source": [
    "accuracy_score(is_black.values, (logit_results.predict(X) > 0.5).astype(int).values)"
   ]
  },
  {
   "cell_type": "code",
   "execution_count": 161,
   "metadata": {},
   "outputs": [
    {
     "name": "stdout",
     "output_type": "stream",
     "text": [
      "                 Generalized Linear Model Regression Results                  \n",
      "==============================================================================\n",
      "Dep. Variable:           subject_race   No. Observations:                95094\n",
      "Model:                            GLM   Df Residuals:                    95070\n",
      "Model Family:                Binomial   Df Model:                           23\n",
      "Link Function:                  logit   Scale:                          1.0000\n",
      "Method:                          IRLS   Log-Likelihood:                -43426.\n",
      "Date:                Thu, 11 Apr 2019   Deviance:                       86853.\n",
      "Time:                        10:09:47   Pearson chi2:                 9.51e+04\n",
      "No. Iterations:                     5   Covariance Type:             nonrobust\n",
      "==============================================================================\n",
      "                 coef    std err          z      P>|z|      [0.025      0.975]\n",
      "------------------------------------------------------------------------------\n",
      "const         -0.7040      0.161     -4.376      0.000      -1.019      -0.389\n",
      "is_dark       -0.1547      0.020     -7.769      0.000      -0.194      -0.116\n",
      "minute         0.0012      0.000      7.748      0.000       0.001       0.001\n",
      "1.0           -0.1627      0.051     -3.189      0.001      -0.263      -0.063\n",
      "2.0           -0.5818      0.042    -14.012      0.000      -0.663      -0.500\n",
      "3.0           -1.2525      0.044    -28.222      0.000      -1.340      -1.166\n",
      "5.0           -1.5999      0.084    -19.022      0.000      -1.765      -1.435\n",
      "6.0           -0.7790      0.059    -13.214      0.000      -0.895      -0.663\n",
      "7.0           -1.9309      0.080    -24.098      0.000      -2.088      -1.774\n",
      "8.0           -1.8096      0.069    -26.241      0.000      -1.945      -1.674\n",
      "9.0           -0.6585      0.052    -12.664      0.000      -0.760      -0.557\n",
      "12.0           1.8077      0.045     40.584      0.000       1.720       1.895\n",
      "14.0           1.9920      0.041     48.650      0.000       1.912       2.072\n",
      "15.0          -0.5056      0.033    -15.181      0.000      -0.571      -0.440\n",
      "16.0           1.5705      0.067     23.542      0.000       1.440       1.701\n",
      "17.0           0.6578      0.043     15.275      0.000       0.573       0.742\n",
      "18.0           1.4766      0.040     36.682      0.000       1.398       1.556\n",
      "19.0           1.8331      0.043     42.318      0.000       1.748       1.918\n",
      "22.0           1.2607      0.033     37.926      0.000       1.196       1.326\n",
      "24.0          -1.5890      0.028    -56.098      0.000      -1.645      -1.534\n",
      "25.0          -0.9961      0.025    -39.422      0.000      -1.046      -0.947\n",
      "26.0          -1.1219      0.046    -24.437      0.000      -1.212      -1.032\n",
      "35.0           1.2966      0.034     38.370      0.000       1.230       1.363\n",
      "39.0           1.5666      0.041     38.422      0.000       1.487       1.647\n",
      "77.0          -1.1780      0.181     -6.524      0.000      -1.532      -0.824\n",
      "==============================================================================\n"
     ]
    }
   ],
   "source": [
    "X = vod_stops[['is_dark', 'minute']]\n",
    "X = X.merge(pd.get_dummies(vod_stops['district']), left_index = True, right_index = True)\n",
    "X = sm.add_constant(X)\n",
    "# X\n",
    "logit_model = sm.GLM(is_black, X, family=sm.families.Binomial())\n",
    "logit_results = logit_model.fit()\n",
    "print(logit_results.summary())"
   ]
  },
  {
   "cell_type": "code",
   "execution_count": 162,
   "metadata": {},
   "outputs": [
    {
     "data": {
      "text/plain": [
       "0.7918480661240457"
      ]
     },
     "execution_count": 162,
     "metadata": {},
     "output_type": "execute_result"
    }
   ],
   "source": [
    "accuracy_score(is_black.values, (logit_results.predict(X) > 0.5).astype(int).values)"
   ]
  },
  {
   "cell_type": "code",
   "execution_count": 38,
   "metadata": {},
   "outputs": [],
   "source": [
    "# from pytz import all_timezones\n",
    "# for timezone in all_timezones:\n",
    "# #     print(timezone)"
   ]
  },
  {
   "cell_type": "code",
   "execution_count": null,
   "metadata": {},
   "outputs": [],
   "source": []
  }
 ],
 "metadata": {
  "kernelspec": {
   "display_name": "general",
   "language": "python",
   "name": "general"
  },
  "language_info": {
   "codemirror_mode": {
    "name": "ipython",
    "version": 3
   },
   "file_extension": ".py",
   "mimetype": "text/x-python",
   "name": "python",
   "nbconvert_exporter": "python",
   "pygments_lexer": "ipython3",
   "version": "3.6.8"
  }
 },
 "nbformat": 4,
 "nbformat_minor": 2
}
