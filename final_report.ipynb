{
 "cells": [
  {
   "cell_type": "markdown",
   "metadata": {},
   "source": [
    "# Open Policing Project "
   ]
  },
  {
   "cell_type": "markdown",
   "metadata": {},
   "source": [
    "## Abstract\n",
    "***"
   ]
  },
  {
   "cell_type": "markdown",
   "metadata": {},
   "source": [
    "In the US, an average of over 50,000 traffic stops are made by our police officers everyday. These are one of the most common interactions between the police and the public. Importantly, police officers are able to visually determine the physical characteristics of a driver (i.e. skin color in relation to race) before deciding to stop a driver. This is but one of the most common reflections of police bias. Police bias, whether implicit or explicit, has been a major ethical issue for a long time in our society. Depending on the severity of the charge,  this can have varying degrees of negative repercussions on the discriminated. For example, traffic citations have been [studied](https://www.thenewspaper.com/rlc/docs/2019/fl-ticketimpact.pdf) to have disproportionately negatively impacted low-income individuals, as they have a harder time to pay the fines. Thus, if there is police bias in deciding who to stop, then those who govern our society has unjustly decided to trap minority races in the cycle of poverty. This has already been see While there have been existing studies on traffic stops in the US, the analysis has not been completed for all municipal and states. Given the huge diversity in the US, it is important that we hold every municipal or state accountable for potential racial discrimination. \n",
    "\n",
    "The [Stanford Open Policing Project](https://openpolicing.stanford.edu/) is a comprehensive study of potential racial discrimination in traffic stops. Using data from 21 state patrol agencies and 29 municipal police departments, the project found significant racial disparities in traffic stop policing and evidence that bias plays a role in these disparities. Importantly, they use a principled and comprehensive approach to prove the presence of police bias. The core analysis of the project is done in R. In order to make the open source nature of the project more readily available to everyone, we will replicate the analysis and tutorial in Python. We will not only show that their findings are reproducible in Python, but also extend their analysis to police stops in Sacramento, California. In particular, we selected Sacramento since it is the state capital of California. As one of the more liberal states in the U.S, California should represent a lower bound on the extent of racial bias in the U.S. We provide a more in-depth guidance for the Sacramento dataset for the reader to demonstrate the thought process at each step of the data analysis. This will also be highly useful for readers who do not have much experience with Python. However, for users who are mainly interested in analysis, we also supplement the guidance code with functions that will make our analysis more easily replicable for other states/municpals. Furthermore, we also extend their analysis to find gender bias, as addressing potential gender bias is just as important as addressing race bias in order to ensure a just society.\n",
    "\n",
    "We found some evidence of racial bias against primarily African American and Hispanic drivers. We also conduct similar analysis to look for gender bias, finding some evidence of bias against male drivers."
   ]
  },
  {
   "cell_type": "markdown",
   "metadata": {},
   "source": [
    "## Methodology\n",
    "***"
   ]
  },
  {
   "cell_type": "markdown",
   "metadata": {},
   "source": [
    "We start with a baseline **benchmark test** by comparing stop rates per capita. By accounting for population demographics for each race, we can account for rate disparities that result from differences in population sizes. \n",
    "\n",
    "The **Veil of Darkness (VOD) test** works on the hypothesis that police officers who are racial or gender profiling are less likely to identify a driver's race when it is dark. By looking only at times that had daylight at some point in the studied period but were dark at another point in the studied period, we can compare for differences in stop rates when it is dark versus when it is not dark, controlling for time-related factors. For robustness, we ran a logistic regression for each minority group measuring the impact of darkness on the indicator of whether a person is in the minority group. We can then look at the coefficient on the indicator of darkness, known as the ‘coefficient of darkness’ to assess the presence of racial or gender profiling.\n",
    "\n",
    "We conducted an **outcome test** which analyzes the search decision rather than the stop decision. We look at the proportion of successful searches, by minority groups, known as the hit rate. The original study believed that different police districts may have different bars for stopping people and therefore controlled for police districts. As we do not have police districts data for each police stop, we decided to condition on police officers instead. This is not only a good proxy for police districts, but may also be more informative given that minority group profiling probably occurs on an individual rather than district level. If police officers have huge disparity in hit rates across different minority groups, this would be compelling evidence of racial discrimination. However, the outcome test is flawed because it suffers from the problem of intra-marginality. Even without discrimination, there might be a rates disparity across minority groups because of a difference in risk distribution within groups. \n",
    "\n",
    "The **threshold test** circumvents the limitations of outcome tests by simultaneously estimating decision thresholds and risk distributions, in order to validate the outcome test. We construct a hierarchical Bayesian latent variable model by assuming that search and hit rates result from an evaluation of minority group and police-specific signals against minority group and police-specific threshold values. When police officers stop a driver, they form their own probabilities, $p_i$ that the stopped driver has contrabands based on the driver’s minority group and their own individual judgement. They also have an individual threshold $t_i$ for each minority group for deciding when to search a stopped driver. If $p_i ≥ t_i$ they decide to search the stopped driver. The success of the search is then a draw from a $Bernoulli~(p_i)$ distribution. If there is a significant difference in thresholds across groups, we may have reason to believe that there is minority group profiling. \n",
    "\n",
    "\n",
    "<img src=\"image/bayesian_model.png\" width=\"400\">\n",
    "\n",
    "\n",
    "Our code for these tests can be found in the files `calculations.py` and `plotting.py`. More details about each test is included in our analysis of the Sacramento dataset."
   ]
  },
  {
   "cell_type": "markdown",
   "metadata": {},
   "source": [
    "## Reproducing Stanford Open Policing Project's Work\n",
    "***"
   ]
  },
  {
   "cell_type": "markdown",
   "metadata": {},
   "source": [
    "Here we summarize the other notebooks of this project.\n",
    "\n",
    "Link to [Philadelphia Data Analysis Tutorial](philadelphia_notebook.ipynb)\n",
    "\n",
    "This notebook follows through the Stanford Open Policing Project tutorial (https://openpolicing.stanford.edu/tutorials/) in order to ensure that our Python implementation of the different tests used to measure police bias results in the same or similar results on the tutorial dataset. This allows us to make sure that our understanding of the different tests is correct. We found that we were able to almost reproduce the tutorial in Python almost perfectly. The only concern we had was that Python (in particular the `seaborn` and `matplotlib` packages) do not flexibilities in their plotting functions like R's `ggplot` does, so our plots are not as visually appealing compared to theirs. We also did see some very minor differences in the Veil of Darkness test; upon further investigation, this seems to due to a minor difference on how sunset and dusk times are calculated in the Python package `astral` and the R package `suncalc`. However, this does not change the analysis in any significant way. Therefore, we believe that we have correctly implemented the tests in Python. However, one caution is that we are not able to test the threshold test through this method; however, since we will be using the [stan file](https://github.com/5harad/threshold-test/blob/master/src/model.stan) written directly by the authors of the paper of the threshold test, and we read both the paper and the stan file to make sure that they make sense, we have no reason to believe that the model is wrong. \n",
    "\n",
    "Link to [Reproducing Stanford Open Policing Project Findings](reproduce_stanford.ipynb)\n",
    "\n",
    "Since the focus of this project is not reproducing the finding, but coming up with our own analyses, we did not spend a lot of time on this part, but we spent enough time to produce some results. We did not conduct the threshold test in the reproduction because Bayesian modeling is quite an expensive and timely procedure, and we simply did not have the time or resources to conduct the threshold test for every dataset. However, their basic Stan file on Github seems to be the same as the one provided by the authors of the threshold test paper, with the variables renamed. Thus we do not have any reason to believe that they are conducting the threshold test wrong.  We focused on reproducing the stop rates, search rates, arrest rates, and hit rates of the cities used in their work. The project on their Github repo provides a CSV file containing geographic information for the cities used in their work and also a CSV file containing demographic information for every city/town from the American Community Survey (ACS) of the Census Bureau for the year 2017. We did some minor cleaning/preprocessing work in a [seperate notebook](make_city_attributes_csv.ipynb) to make one CSV containing both the demographic and geographic information of the relevant cities. Then, it becomes trivial to write a script to conduct the necessary analysis for each city. We found that we were able to reproduce the findings on the website somewhat. In general, while we do see the the same patterns as their findings, we do see some obvious differences. For example, below is the difference in search rates.\n",
    "\n",
    "### Our Search Rates\n",
    "\n",
    "<img src=\"image/search_rates.png\" width=\"800\">\n",
    "\n",
    "\n",
    "### Corresponding Findings Search Rates\n",
    "\n",
    "<table><tr>\n",
    "    <td> <img src=\"image/hispanic_search_rates_findings.png\" width=\"400\"> </td>\n",
    "    <td> <img src=\"image/black_search_rates_findings.png\" width=\"400\"> </td>\n",
    "</tr></table>\n",
    "\n",
    "\n",
    "It seems like that we have a lot more points than the findings do, implying that the findngs removed quite some number of points. If we ignore all the zero search rates that the two plots would be pretty similar. If the points were removed because there may be too few samples for that point, then there's valid justification. However, we looked at both the corresponding paper (https://5harad.com/papers/100M-stops.pdf) and the code they wrote to conduct their analysis to see if there is anywhere where they justified or even mentioned removing data points, but we could not find such comments. It is rather concerning that points were removed without justification, since it may be the case that the points were removed because they did not support the authors' beliefs. While it is probably the case that the authors just removed the points with too few samples, they should still state somewhere explictly about removing them, especially if their findings could potentially impact the way the public perceives the police and the way the police conduct their stops. \n",
    "\n"
   ]
  },
  {
   "cell_type": "markdown",
   "metadata": {},
   "source": [
    "## Analysis\n",
    "***"
   ]
  },
  {
   "cell_type": "markdown",
   "metadata": {},
   "source": [
    "Now we start conducting our analysis on the Sacramento dataset. Note that we styled it in the fashion of a tutorial similar to the one by the Stanford Open Policing Project to promote the open source nature of the project and make it more readily available to everyone. We can included code below to toggle on/off the raw code."
   ]
  },
  {
   "cell_type": "markdown",
   "metadata": {},
   "source": [
    "## Setup\n",
    "***"
   ]
  },
  {
   "cell_type": "code",
   "execution_count": 1,
   "metadata": {},
   "outputs": [
    {
     "data": {
      "text/html": [
       "<script>\n",
       "code_show=true; \n",
       "function code_toggle() {\n",
       " if (code_show){\n",
       " $('div.input').hide();\n",
       " } else {\n",
       " $('div.input').show();\n",
       " }\n",
       " code_show = !code_show\n",
       "} \n",
       "$( document ).ready(code_toggle);\n",
       "</script>\n",
       "<form action=\"javascript:code_toggle()\"><input type=\"submit\" value=\"Click here to toggle on/off the raw code.\"></form>"
      ],
      "text/plain": [
       "<IPython.core.display.HTML object>"
      ]
     },
     "execution_count": 1,
     "metadata": {},
     "output_type": "execute_result"
    }
   ],
   "source": [
    "from IPython.display import HTML\n",
    "\n",
    "HTML('''<script>\n",
    "code_show=true; \n",
    "function code_toggle() {\n",
    " if (code_show){\n",
    " $('div.input').hide();\n",
    " } else {\n",
    " $('div.input').show();\n",
    " }\n",
    " code_show = !code_show\n",
    "} \n",
    "$( document ).ready(code_toggle);\n",
    "</script>\n",
    "<form action=\"javascript:code_toggle()\"><input type=\"submit\" value=\"Click here to toggle on/off the raw code.\"></form>''')"
   ]
  },
  {
   "cell_type": "code",
   "execution_count": 2,
   "metadata": {},
   "outputs": [],
   "source": [
    "import os\n",
    "from astral import Astral, AstralGeocoder, Location\n",
    "import numpy as np\n",
    "import scipy.stats\n",
    "import matplotlib.pyplot as plt\n",
    "import seaborn as sns\n",
    "import pandas as pd\n",
    "import warnings\n",
    "warnings.filterwarnings('ignore')\n",
    "import statsmodels.api as sm\n",
    "from calculations import *\n",
    "from plotting import *\n",
    "from patsy import dmatrix\n",
    "import datetime\n",
    "import pystan\n",
    "import pickle\n",
    "%matplotlib inline"
   ]
  },
  {
   "cell_type": "markdown",
   "metadata": {},
   "source": [
    "We typically import all the relevant libraries and functions right at the start of our .py file or .ipynb notebook. All the required libraries should be available to you after you install the necessary packages, which can be found in `requirements.txt`. All the packages can be installed easily using `pip` through the command in a terminal\n",
    "\n",
    "```\n",
    "pip install -r requirements.txt\n",
    "```\n",
    "\n",
    "**Note**: Since we are in a .ipynb notebook, and we want to display our matplotlib graphs next to our code, we used a 'magic function' `%matplotlib inline` (prefixed with `%`), to set the backend of matplotlib to the 'inline' backend. There are tons of 'magic functions' in IPython and you can find out more [here](https://ipython.readthedocs.io/en/stable/interactive/tutorial.html#magics-explained)!"
   ]
  },
  {
   "cell_type": "markdown",
   "metadata": {},
   "source": [
    "## Covering the Basics\n",
    "***"
   ]
  },
  {
   "cell_type": "code",
   "execution_count": 3,
   "metadata": {},
   "outputs": [
    {
     "data": {
      "text/html": [
       "<div>\n",
       "<style scoped>\n",
       "    .dataframe tbody tr th:only-of-type {\n",
       "        vertical-align: middle;\n",
       "    }\n",
       "\n",
       "    .dataframe tbody tr th {\n",
       "        vertical-align: top;\n",
       "    }\n",
       "\n",
       "    .dataframe thead th {\n",
       "        text-align: right;\n",
       "    }\n",
       "</style>\n",
       "<table border=\"1\" class=\"dataframe\">\n",
       "  <thead>\n",
       "    <tr style=\"text-align: right;\">\n",
       "      <th></th>\n",
       "      <th>Idx</th>\n",
       "      <th>CitationNumber</th>\n",
       "      <th>EntryDate</th>\n",
       "      <th>StopType</th>\n",
       "      <th>StopDTS</th>\n",
       "      <th>StopCause</th>\n",
       "      <th>ViolationNumber</th>\n",
       "      <th>SpecialCondition</th>\n",
       "      <th>Race</th>\n",
       "      <th>Gender</th>\n",
       "      <th>...</th>\n",
       "      <th>ResultCitation</th>\n",
       "      <th>ResultArrest</th>\n",
       "      <th>ResultReport</th>\n",
       "      <th>ResultAdvised</th>\n",
       "      <th>ResultFC</th>\n",
       "      <th>CadCallNumber</th>\n",
       "      <th>DetentionDuration</th>\n",
       "      <th>OfficerAbra</th>\n",
       "      <th>LimitedLanguage</th>\n",
       "      <th>FID</th>\n",
       "    </tr>\n",
       "  </thead>\n",
       "  <tbody>\n",
       "    <tr>\n",
       "      <th>0</th>\n",
       "      <td>430490</td>\n",
       "      <td>NaN</td>\n",
       "      <td>2017-03-22T02:28:48.000Z</td>\n",
       "      <td>VEHICLE</td>\n",
       "      <td>2017-03-22T02:09:00.000Z</td>\n",
       "      <td>REGISTRATION OR REQUIRED EQUIPMENT VIOLATION</td>\n",
       "      <td>4000A</td>\n",
       "      <td>NOT APPLICABLE</td>\n",
       "      <td>ASIAN/PACIFIC ISLANDER</td>\n",
       "      <td>M</td>\n",
       "      <td>...</td>\n",
       "      <td>False</td>\n",
       "      <td>False</td>\n",
       "      <td>False</td>\n",
       "      <td>True</td>\n",
       "      <td>False</td>\n",
       "      <td>17-080525</td>\n",
       "      <td>10</td>\n",
       "      <td>4077</td>\n",
       "      <td>False</td>\n",
       "      <td>4001</td>\n",
       "    </tr>\n",
       "    <tr>\n",
       "      <th>1</th>\n",
       "      <td>430491</td>\n",
       "      <td>NaN</td>\n",
       "      <td>2017-03-22T02:47:35.000Z</td>\n",
       "      <td>VEHICLE</td>\n",
       "      <td>2017-03-22T02:10:00.000Z</td>\n",
       "      <td>REGISTRATION OR REQUIRED EQUIPMENT VIOLATION</td>\n",
       "      <td>4000(A) VC</td>\n",
       "      <td>NOT APPLICABLE</td>\n",
       "      <td>AFRICAN AMERICAN</td>\n",
       "      <td>F</td>\n",
       "      <td>...</td>\n",
       "      <td>False</td>\n",
       "      <td>False</td>\n",
       "      <td>False</td>\n",
       "      <td>True</td>\n",
       "      <td>False</td>\n",
       "      <td>17-080526</td>\n",
       "      <td>15</td>\n",
       "      <td>4183</td>\n",
       "      <td>False</td>\n",
       "      <td>4002</td>\n",
       "    </tr>\n",
       "    <tr>\n",
       "      <th>2</th>\n",
       "      <td>430492</td>\n",
       "      <td>NaN</td>\n",
       "      <td>2017-03-22T02:56:58.000Z</td>\n",
       "      <td>VEHICLE</td>\n",
       "      <td>2017-03-22T02:43:00.000Z</td>\n",
       "      <td>REGISTRATION OR REQUIRED EQUIPMENT VIOLATION</td>\n",
       "      <td>5200A</td>\n",
       "      <td>NOT APPLICABLE</td>\n",
       "      <td>AFRICAN AMERICAN</td>\n",
       "      <td>F</td>\n",
       "      <td>...</td>\n",
       "      <td>False</td>\n",
       "      <td>False</td>\n",
       "      <td>False</td>\n",
       "      <td>True</td>\n",
       "      <td>False</td>\n",
       "      <td>17-080553</td>\n",
       "      <td>10</td>\n",
       "      <td>4077</td>\n",
       "      <td>False</td>\n",
       "      <td>4003</td>\n",
       "    </tr>\n",
       "    <tr>\n",
       "      <th>3</th>\n",
       "      <td>430493</td>\n",
       "      <td>NaN</td>\n",
       "      <td>2017-03-22T03:00:28.000Z</td>\n",
       "      <td>VEHICLE</td>\n",
       "      <td>2017-03-15T01:38:00.000Z</td>\n",
       "      <td>REGISTRATION OR REQUIRED EQUIPMENT VIOLATION</td>\n",
       "      <td>4000A VC</td>\n",
       "      <td>NOT APPLICABLE</td>\n",
       "      <td>AFRICAN AMERICAN</td>\n",
       "      <td>F</td>\n",
       "      <td>...</td>\n",
       "      <td>False</td>\n",
       "      <td>False</td>\n",
       "      <td>False</td>\n",
       "      <td>True</td>\n",
       "      <td>False</td>\n",
       "      <td>17-073156</td>\n",
       "      <td>15</td>\n",
       "      <td>3477</td>\n",
       "      <td>False</td>\n",
       "      <td>4004</td>\n",
       "    </tr>\n",
       "    <tr>\n",
       "      <th>4</th>\n",
       "      <td>430494</td>\n",
       "      <td>NaN</td>\n",
       "      <td>2017-03-22T03:09:24.000Z</td>\n",
       "      <td>VEHICLE</td>\n",
       "      <td>2017-03-15T01:22:00.000Z</td>\n",
       "      <td>REGISTRATION OR REQUIRED EQUIPMENT VIOLATION</td>\n",
       "      <td>4000A VC</td>\n",
       "      <td>NOT APPLICABLE</td>\n",
       "      <td>HISPANIC</td>\n",
       "      <td>M</td>\n",
       "      <td>...</td>\n",
       "      <td>False</td>\n",
       "      <td>False</td>\n",
       "      <td>False</td>\n",
       "      <td>False</td>\n",
       "      <td>False</td>\n",
       "      <td>17-073141</td>\n",
       "      <td>5</td>\n",
       "      <td>3477</td>\n",
       "      <td>False</td>\n",
       "      <td>4005</td>\n",
       "    </tr>\n",
       "  </tbody>\n",
       "</table>\n",
       "<p>5 rows × 36 columns</p>\n",
       "</div>"
      ],
      "text/plain": [
       "      Idx CitationNumber                 EntryDate StopType  \\\n",
       "0  430490            NaN  2017-03-22T02:28:48.000Z  VEHICLE   \n",
       "1  430491            NaN  2017-03-22T02:47:35.000Z  VEHICLE   \n",
       "2  430492            NaN  2017-03-22T02:56:58.000Z  VEHICLE   \n",
       "3  430493            NaN  2017-03-22T03:00:28.000Z  VEHICLE   \n",
       "4  430494            NaN  2017-03-22T03:09:24.000Z  VEHICLE   \n",
       "\n",
       "                    StopDTS                                     StopCause  \\\n",
       "0  2017-03-22T02:09:00.000Z  REGISTRATION OR REQUIRED EQUIPMENT VIOLATION   \n",
       "1  2017-03-22T02:10:00.000Z  REGISTRATION OR REQUIRED EQUIPMENT VIOLATION   \n",
       "2  2017-03-22T02:43:00.000Z  REGISTRATION OR REQUIRED EQUIPMENT VIOLATION   \n",
       "3  2017-03-15T01:38:00.000Z  REGISTRATION OR REQUIRED EQUIPMENT VIOLATION   \n",
       "4  2017-03-15T01:22:00.000Z  REGISTRATION OR REQUIRED EQUIPMENT VIOLATION   \n",
       "\n",
       "  ViolationNumber SpecialCondition                    Race Gender  ...  \\\n",
       "0           4000A   NOT APPLICABLE  ASIAN/PACIFIC ISLANDER      M  ...   \n",
       "1      4000(A) VC   NOT APPLICABLE        AFRICAN AMERICAN      F  ...   \n",
       "2           5200A   NOT APPLICABLE        AFRICAN AMERICAN      F  ...   \n",
       "3        4000A VC   NOT APPLICABLE        AFRICAN AMERICAN      F  ...   \n",
       "4        4000A VC   NOT APPLICABLE                HISPANIC      M  ...   \n",
       "\n",
       "   ResultCitation ResultArrest  ResultReport  ResultAdvised  ResultFC  \\\n",
       "0           False        False         False           True     False   \n",
       "1           False        False         False           True     False   \n",
       "2           False        False         False           True     False   \n",
       "3           False        False         False           True     False   \n",
       "4           False        False         False          False     False   \n",
       "\n",
       "   CadCallNumber DetentionDuration OfficerAbra LimitedLanguage   FID  \n",
       "0      17-080525                10        4077           False  4001  \n",
       "1      17-080526                15        4183           False  4002  \n",
       "2      17-080553                10        4077           False  4003  \n",
       "3      17-073156                15        3477           False  4004  \n",
       "4      17-073141                 5        3477           False  4005  \n",
       "\n",
       "[5 rows x 36 columns]"
      ]
     },
     "execution_count": 3,
     "metadata": {},
     "output_type": "execute_result"
    }
   ],
   "source": [
    "# http://data.cityofsacramento.org/datasets/a8cb4c137c824e939dca586c6dc77da9_0/data\n",
    "sacramento_stops = pd.read_csv('data/sacramento_stops.csv')\n",
    "sacramento_stops.head()"
   ]
  },
  {
   "cell_type": "markdown",
   "metadata": {},
   "source": [
    "A `pandas` dataframe is basically what you would expect of a spreadsheet. Data is arranged in a tabular format, with each column representing a feature, and each row being a particular observation. It is often particularly important to understand the granularity of the data you are given, where granularity describes what each observation represents. Here, each observation is a police stop. The columns thus represent the details of a police stop, i.e. reason behind the stop, the race of the person stopped. The meaning of each column can be found in this [link](https://www.cityofsacramento.org/-/media/Corporate/Files/Police/Transparency/VSDF/Understanding-Vehicle-Stop-Data-Fields-and-Points-of-Collection.pdf?la=en).\n",
    "\n",
    "In order to better understand the data, we get some quick summaries."
   ]
  },
  {
   "cell_type": "code",
   "execution_count": 4,
   "metadata": {},
   "outputs": [
    {
     "data": {
      "text/plain": [
       "((59235, 36),\n",
       " array(['Idx', 'CitationNumber', 'EntryDate', 'StopType', 'StopDTS',\n",
       "        'StopCause', 'ViolationNumber', 'SpecialCondition', 'Race',\n",
       "        'Gender', 'BirthYear', 'ExitVehicle', 'PassengerCount',\n",
       "        'SearchDriver', 'SearchPassenger', 'SearchVehicle', 'Authority',\n",
       "        'ConsentRequested', 'ConsentGranted', 'FSWeapons', 'FSDrugs',\n",
       "        'FSCash', 'FSVehicle', 'FSAlcohol', 'FSOtherProperty', 'FSNothing',\n",
       "        'ResultCitation', 'ResultArrest', 'ResultReport', 'ResultAdvised',\n",
       "        'ResultFC', 'CadCallNumber', 'DetentionDuration', 'OfficerAbra',\n",
       "        'LimitedLanguage', 'FID'], dtype=object))"
      ]
     },
     "execution_count": 4,
     "metadata": {},
     "output_type": "execute_result"
    }
   ],
   "source": [
    "sacramento_stops.shape, sacramento_stops.columns.values"
   ]
  },
  {
   "cell_type": "code",
   "execution_count": 5,
   "metadata": {},
   "outputs": [
    {
     "data": {
      "text/html": [
       "<div>\n",
       "<style scoped>\n",
       "    .dataframe tbody tr th:only-of-type {\n",
       "        vertical-align: middle;\n",
       "    }\n",
       "\n",
       "    .dataframe tbody tr th {\n",
       "        vertical-align: top;\n",
       "    }\n",
       "\n",
       "    .dataframe thead th {\n",
       "        text-align: right;\n",
       "    }\n",
       "</style>\n",
       "<table border=\"1\" class=\"dataframe\">\n",
       "  <thead>\n",
       "    <tr style=\"text-align: right;\">\n",
       "      <th></th>\n",
       "      <th>Idx</th>\n",
       "      <th>BirthYear</th>\n",
       "      <th>PassengerCount</th>\n",
       "      <th>DetentionDuration</th>\n",
       "      <th>OfficerAbra</th>\n",
       "      <th>FID</th>\n",
       "    </tr>\n",
       "  </thead>\n",
       "  <tbody>\n",
       "    <tr>\n",
       "      <th>count</th>\n",
       "      <td>59235.000000</td>\n",
       "      <td>59235.000000</td>\n",
       "      <td>59235.000000</td>\n",
       "      <td>59235.000000</td>\n",
       "      <td>59235.000000</td>\n",
       "      <td>59235.000000</td>\n",
       "    </tr>\n",
       "    <tr>\n",
       "      <th>mean</th>\n",
       "      <td>459747.654647</td>\n",
       "      <td>1982.200827</td>\n",
       "      <td>0.577648</td>\n",
       "      <td>12.090014</td>\n",
       "      <td>3806.103604</td>\n",
       "      <td>29618.000000</td>\n",
       "    </tr>\n",
       "    <tr>\n",
       "      <th>std</th>\n",
       "      <td>20073.005009</td>\n",
       "      <td>13.623040</td>\n",
       "      <td>1.974042</td>\n",
       "      <td>14.102620</td>\n",
       "      <td>899.490514</td>\n",
       "      <td>17099.815935</td>\n",
       "    </tr>\n",
       "    <tr>\n",
       "      <th>min</th>\n",
       "      <td>426190.000000</td>\n",
       "      <td>1900.000000</td>\n",
       "      <td>0.000000</td>\n",
       "      <td>0.000000</td>\n",
       "      <td>5.000000</td>\n",
       "      <td>1.000000</td>\n",
       "    </tr>\n",
       "    <tr>\n",
       "      <th>25%</th>\n",
       "      <td>442437.500000</td>\n",
       "      <td>1974.000000</td>\n",
       "      <td>0.000000</td>\n",
       "      <td>8.000000</td>\n",
       "      <td>3602.000000</td>\n",
       "      <td>14809.500000</td>\n",
       "    </tr>\n",
       "    <tr>\n",
       "      <th>50%</th>\n",
       "      <td>459246.000000</td>\n",
       "      <td>1986.000000</td>\n",
       "      <td>0.000000</td>\n",
       "      <td>10.000000</td>\n",
       "      <td>4094.000000</td>\n",
       "      <td>29618.000000</td>\n",
       "    </tr>\n",
       "    <tr>\n",
       "      <th>75%</th>\n",
       "      <td>477051.500000</td>\n",
       "      <td>1993.000000</td>\n",
       "      <td>1.000000</td>\n",
       "      <td>15.000000</td>\n",
       "      <td>4345.000000</td>\n",
       "      <td>44426.500000</td>\n",
       "    </tr>\n",
       "    <tr>\n",
       "      <th>max</th>\n",
       "      <td>495864.000000</td>\n",
       "      <td>2019.000000</td>\n",
       "      <td>425.000000</td>\n",
       "      <td>543.000000</td>\n",
       "      <td>5453.000000</td>\n",
       "      <td>59235.000000</td>\n",
       "    </tr>\n",
       "  </tbody>\n",
       "</table>\n",
       "</div>"
      ],
      "text/plain": [
       "                 Idx     BirthYear  PassengerCount  DetentionDuration  \\\n",
       "count   59235.000000  59235.000000    59235.000000       59235.000000   \n",
       "mean   459747.654647   1982.200827        0.577648          12.090014   \n",
       "std     20073.005009     13.623040        1.974042          14.102620   \n",
       "min    426190.000000   1900.000000        0.000000           0.000000   \n",
       "25%    442437.500000   1974.000000        0.000000           8.000000   \n",
       "50%    459246.000000   1986.000000        0.000000          10.000000   \n",
       "75%    477051.500000   1993.000000        1.000000          15.000000   \n",
       "max    495864.000000   2019.000000      425.000000         543.000000   \n",
       "\n",
       "        OfficerAbra           FID  \n",
       "count  59235.000000  59235.000000  \n",
       "mean    3806.103604  29618.000000  \n",
       "std      899.490514  17099.815935  \n",
       "min        5.000000      1.000000  \n",
       "25%     3602.000000  14809.500000  \n",
       "50%     4094.000000  29618.000000  \n",
       "75%     4345.000000  44426.500000  \n",
       "max     5453.000000  59235.000000  "
      ]
     },
     "execution_count": 5,
     "metadata": {},
     "output_type": "execute_result"
    }
   ],
   "source": [
    "sacramento_stops.describe() "
   ]
  },
  {
   "cell_type": "markdown",
   "metadata": {},
   "source": [
    "We started by looking at the shape of our dataframe. Our dataframe has 59235 rows, and 36 columns. This means that there 59235 stops in our dataset, and there are 36 possible features, which we also listed out. The `.describe()` method is often a quick tool to (mainly) get the key statistics of the quantitative features in our data. This lets us find the average, standard deviation, range, etc. of the quantitative features. \n",
    "\n",
    "What is the date range that our data covers though? It is important to know the dates of analysis so that we can make better comparison with other states/muncipals. We note that the column for dates `StopDTS`, is not encoded in datetime format yet. There are other ways of converting strings to datetime format, but `pandas` has a very convenient `to_datetime()` function that does the job for us. With a datetime object, it is then extremely simple to extract various time information from our data, i.e. year, month, day, time. Here, we just extracted/separated the date and time objects.\n",
    "\n",
    "**Note**: When we deal with time data, it is important to note the appropriate timezone. This should usually be documented in a data dictionary, or a documentation of the dataset. Here, we note that times are in UTC."
   ]
  },
  {
   "cell_type": "code",
   "execution_count": 6,
   "metadata": {},
   "outputs": [],
   "source": [
    "# As according to the documentation of the dataset, times are in UTC. Keep that in mind when during veil of darkness\n",
    "sacramento_stops['date'] = pd.to_datetime(sacramento_stops['StopDTS']).apply(lambda date: date.date)\n",
    "sacramento_stops['time'] = pd.to_datetime(sacramento_stops['StopDTS']).apply(lambda date: date.time)"
   ]
  },
  {
   "cell_type": "code",
   "execution_count": 7,
   "metadata": {},
   "outputs": [
    {
     "data": {
      "text/plain": [
       "(datetime.date(2017, 2, 1), datetime.date(2019, 1, 1))"
      ]
     },
     "execution_count": 7,
     "metadata": {},
     "output_type": "execute_result"
    }
   ],
   "source": [
    "sacramento_stops['date'].min(), sacramento_stops['date'].max()"
   ]
  },
  {
   "cell_type": "markdown",
   "metadata": {},
   "source": [
    "It seems like the data is from February 1st 2017 to January 1st 2019. There are not alot of observations in 2019 given that it is only 1 day. As such, we decided to exclude the observations on January 1st 2019 in our analysi. This is a relatively straightforward process using standard `pandas` filtering mechanism shown below."
   ]
  },
  {
   "cell_type": "code",
   "execution_count": 8,
   "metadata": {},
   "outputs": [],
   "source": [
    "start_date = datetime.date(2017,2,1)\n",
    "stop_date = datetime.date(2019,1,1)\n",
    "sacramento_stops = sacramento_stops[(sacramento_stops['date'] >= start_date) & (sacramento_stops['date'] < stop_date)]"
   ]
  },
  {
   "cell_type": "markdown",
   "metadata": {},
   "source": [
    "For the purposes of our analysis, we want to filter out just the observations for vehicular stops. For this dataset, there are only vehicular stops data. However, you may find datasets with pedestrian stops data as well. It might then be interesting to do whole new analysis on pedestrian stops data."
   ]
  },
  {
   "cell_type": "code",
   "execution_count": 9,
   "metadata": {},
   "outputs": [
    {
     "data": {
      "text/plain": [
       "array(['VEHICLE'], dtype=object)"
      ]
     },
     "execution_count": 9,
     "metadata": {},
     "output_type": "execute_result"
    }
   ],
   "source": [
    "sacramento_stops.StopType.unique()"
   ]
  },
  {
   "cell_type": "markdown",
   "metadata": {},
   "source": [
    "In most of the datasets that you will find, some form of pre-processing is necessary before you can conduct any analysis on it. It can range from filtering dates to dealing with missing data. Importantly, you should have some form of understanding of the type of analysis intended for your data pre-processing. Let us start by identifying whether there is missing data or corrupted fields. It is easy to identify missing data in general with the `.isna()` function which returns a boolean if the row has a missing field. \n",
    "\n",
    "**Note**: If you wish to replace missing data, there are several ways of approaching the problem. You may just replace it with a 0, the mean of the field, etc. or you may just include an indicator column. There are even more principled ways of imputing missing values! However, there is no hard and fast rule, just remember to justify why you did it, and how do you think it will bias your results."
   ]
  },
  {
   "cell_type": "code",
   "execution_count": 10,
   "metadata": {},
   "outputs": [
    {
     "name": "stdout",
     "output_type": "stream",
     "text": [
      "CitationNumber has 39160 missing rows\n",
      "ViolationNumber has 95 missing rows\n",
      "ExitVehicle has 701 missing rows\n",
      "ConsentRequested has 28750 missing rows\n",
      "ConsentGranted has 55302 missing rows\n"
     ]
    }
   ],
   "source": [
    "# list missing data\n",
    "for col in sacramento_stops.columns:\n",
    "    missno = np.sum(sacramento_stops[col].isna())\n",
    "    if missno > 0:\n",
    "        print('{} has {} missing rows'.format(col, missno))"
   ]
  },
  {
   "cell_type": "markdown",
   "metadata": {},
   "source": [
    "Thankfully, it seems like we will not be using the fields with missing values for our analysis (for now). \n",
    "\n",
    "Dealing with corrupted fields is arguably even trickier. A corrupted field is basically a field that you may have reason to believe has been wrongly entered. If there is a well-documented data dictionary with clear constraints applied to each field, this might not be a big issue. However, it often takes plenty of time at staring at your data before you can identify corrupted fields. And there may not even be any issues with your data! \n",
    "\n",
    "For this particular dataset, we found that there were observations in which a search was not conducted, but there were contrabands found. This seems slightly contradictory. Although it is entirely possible that a person gives up their contraband without being searched, it is not particularly common and it would make our analysis trickier. We decided to remove those observations. \n",
    "\n",
    "**Note**: For the ease of analysis, we also grouped `SearchDriver` and `SearchVehicle` together into one variable representing whether a search was conducted. We note that the race variable is specfically for the driver. As such, we only considered instances when at least one of the driver or the vehicle were searched as an indicator of whether any search was conducted. Intuitively, if only the passenger was searched, it does not make sense to correlate the race of the driver with the stop.  \n",
    "\n",
    "Similarly, we also grouped `FSAlcohol`, `FSCash`, `FSDrugs`, `FSOtherProperty`, `FSWeapons`, and `FSVehicle` together into one variable representing whether any contraband item was found. We note that not all datasets are so detailed about the type of contraband item that was confiscated. As such, we might do a subsequent analysis making use of the different types of contrabands."
   ]
  },
  {
   "cell_type": "code",
   "execution_count": 11,
   "metadata": {},
   "outputs": [
    {
     "data": {
      "text/plain": [
       "7874"
      ]
     },
     "execution_count": 11,
     "metadata": {},
     "output_type": "execute_result"
    }
   ],
   "source": [
    "# note that this is different from other analysis which includes SearchPassenger as well\n",
    "sacramento_stops['search_conducted'] = ((sacramento_stops['SearchDriver']) | (sacramento_stops['SearchVehicle']))\n",
    "sacramento_stops['search_conducted'].sum()"
   ]
  },
  {
   "cell_type": "code",
   "execution_count": 12,
   "metadata": {},
   "outputs": [
    {
     "data": {
      "text/plain": [
       "1558"
      ]
     },
     "execution_count": 12,
     "metadata": {},
     "output_type": "execute_result"
    }
   ],
   "source": [
    "sacramento_stops['contraband_found'] = ((sacramento_stops['FSAlcohol']) | (sacramento_stops['FSCash']) |\n",
    "                                       (sacramento_stops['FSDrugs']) | (sacramento_stops['FSOtherProperty']) |\n",
    "                                       (sacramento_stops['FSWeapons']) | (sacramento_stops['FSVehicle']))\n",
    "sacramento_stops['contraband_found'].sum()"
   ]
  },
  {
   "cell_type": "code",
   "execution_count": 13,
   "metadata": {},
   "outputs": [
    {
     "name": "stdout",
     "output_type": "stream",
     "text": [
      "46\n"
     ]
    }
   ],
   "source": [
    "# Search not conducted, but contraband found. only 46 observations like these. Remove\n",
    "print(len(sacramento_stops[((~sacramento_stops['search_conducted']) & (sacramento_stops['contraband_found']))]))\n",
    "sacramento_stops = sacramento_stops[~((~sacramento_stops['search_conducted']) & (sacramento_stops['contraband_found']))]"
   ]
  },
  {
   "cell_type": "markdown",
   "metadata": {},
   "source": [
    "Now that we have cleaned our data, let us get a quick sense of the count and proportion of stops by race and/or year and month in Sacremento. We see that there are some of race categories that can be grouped together for the purposes of our analysis. Depending on the minority race of interest, this may be done differently."
   ]
  },
  {
   "cell_type": "code",
   "execution_count": 14,
   "metadata": {},
   "outputs": [
    {
     "data": {
      "text/plain": [
       "array(['ASIAN/PACIFIC ISLANDER', 'AFRICAN AMERICAN', 'HISPANIC', 'WHITE',\n",
       "       'OTHER/NOT APPARENT', 'ASIAN OTHER', 'UNKNOWN', 'NATIVE AMERICAN',\n",
       "       'MIXED RACE', 'CHINESE', 'AM. IND./AL. NATIVE', 'EAST INDIAN',\n",
       "       'ASIAN INDIAN', 'MIEN', 'HAWAIIAN', 'MIDDLE EASTERN',\n",
       "       'CUBAN/CARRIBEAN', 'PACIFIC ISLANDER', 'HMONG', 'FILIPINO',\n",
       "       'GUAMANIAN', 'VIETNAMESE', 'SAMOAN', 'ORIENTAL/ASIAN', 'CAMBODIAN',\n",
       "       'JAPANESE'], dtype=object)"
      ]
     },
     "execution_count": 14,
     "metadata": {},
     "output_type": "execute_result"
    }
   ],
   "source": [
    "sacramento_stops['Race'].unique()"
   ]
  },
  {
   "cell_type": "code",
   "execution_count": 15,
   "metadata": {},
   "outputs": [
    {
     "data": {
      "text/plain": [
       "array(['asian/pacific islander', 'african american', 'hispanic', 'white',\n",
       "       'other/unknown'], dtype=object)"
      ]
     },
     "execution_count": 15,
     "metadata": {},
     "output_type": "execute_result"
    }
   ],
   "source": [
    "# Convert to standardized names\n",
    "sacramento_stops['subject_race'] = sacramento_stops['Race'].str.lower()\n",
    "sacramento_stops['subject_race'] = sacramento_stops['subject_race'].replace({\n",
    "                                    'other/not apparent': 'other/unknown',\n",
    "                                    'asian other': 'asian/pacific islander',\n",
    "                                    'chinese': 'asian/pacific islander',\n",
    "                                    'east indian': 'asian/pacific islander',\n",
    "                                    'pacific islander': 'asian/pacific islander',\n",
    "                                    'vietnamese': 'asian/pacific islander',\n",
    "                                    'oriental/asian': 'asian/pacific islander',\n",
    "                                    'cambodian': 'asian/pacific islander',\n",
    "                                    'japanese': 'asian/pacific islander',\n",
    "                                    'asian indian': 'asian/pacific islander',\n",
    "                                    'hmong': 'asian/pacific islander',\n",
    "                                    'filipino': 'asian/pacific islander',\n",
    "                                    'mien': 'asian/pacific islander',\n",
    "                                    'hawaiian': 'asian/pacific islander',\n",
    "                                    'samoan': 'asian/pacific islander',\n",
    "                                    'guamanian': 'asian/pacific islander',\n",
    "                                    'mixed race': 'other/unknown',\n",
    "                                    'am. ind./al. native': 'other/unknown',\n",
    "                                    'middle eastern': 'other/unknown',\n",
    "                                    'cuban/carribean': 'hispanic',\n",
    "                                    'unknown': 'other/unknown',\n",
    "                                    'native american': 'other/unknown'\n",
    "                    })\n",
    "\n",
    "sacramento_stops['subject_race'].unique()"
   ]
  },
  {
   "cell_type": "markdown",
   "metadata": {},
   "source": [
    "In order to group the data by categories, we have to use a `.groupby()` function. The basic setup is `df.groupby([COLUMNS TO GROUP BY]).FUNC()` where we apply an aggregation function `FUNC()` across each of the grouped categories. "
   ]
  },
  {
   "cell_type": "code",
   "execution_count": 16,
   "metadata": {},
   "outputs": [
    {
     "data": {
      "text/html": [
       "<div>\n",
       "<style scoped>\n",
       "    .dataframe tbody tr th:only-of-type {\n",
       "        vertical-align: middle;\n",
       "    }\n",
       "\n",
       "    .dataframe tbody tr th {\n",
       "        vertical-align: top;\n",
       "    }\n",
       "\n",
       "    .dataframe thead th {\n",
       "        text-align: right;\n",
       "    }\n",
       "</style>\n",
       "<table border=\"1\" class=\"dataframe\">\n",
       "  <thead>\n",
       "    <tr style=\"text-align: right;\">\n",
       "      <th></th>\n",
       "      <th>year</th>\n",
       "      <th>month</th>\n",
       "      <th>n</th>\n",
       "      <th>prop</th>\n",
       "    </tr>\n",
       "  </thead>\n",
       "  <tbody>\n",
       "    <tr>\n",
       "      <th>0</th>\n",
       "      <td>2017</td>\n",
       "      <td>2</td>\n",
       "      <td>2332</td>\n",
       "      <td>0.039414</td>\n",
       "    </tr>\n",
       "    <tr>\n",
       "      <th>1</th>\n",
       "      <td>2017</td>\n",
       "      <td>3</td>\n",
       "      <td>2926</td>\n",
       "      <td>0.049453</td>\n",
       "    </tr>\n",
       "    <tr>\n",
       "      <th>2</th>\n",
       "      <td>2017</td>\n",
       "      <td>4</td>\n",
       "      <td>2466</td>\n",
       "      <td>0.041679</td>\n",
       "    </tr>\n",
       "    <tr>\n",
       "      <th>3</th>\n",
       "      <td>2017</td>\n",
       "      <td>5</td>\n",
       "      <td>1619</td>\n",
       "      <td>0.027363</td>\n",
       "    </tr>\n",
       "    <tr>\n",
       "      <th>4</th>\n",
       "      <td>2017</td>\n",
       "      <td>6</td>\n",
       "      <td>1956</td>\n",
       "      <td>0.033059</td>\n",
       "    </tr>\n",
       "    <tr>\n",
       "      <th>5</th>\n",
       "      <td>2017</td>\n",
       "      <td>7</td>\n",
       "      <td>2750</td>\n",
       "      <td>0.046479</td>\n",
       "    </tr>\n",
       "    <tr>\n",
       "      <th>6</th>\n",
       "      <td>2017</td>\n",
       "      <td>8</td>\n",
       "      <td>2718</td>\n",
       "      <td>0.045938</td>\n",
       "    </tr>\n",
       "    <tr>\n",
       "      <th>7</th>\n",
       "      <td>2017</td>\n",
       "      <td>9</td>\n",
       "      <td>2480</td>\n",
       "      <td>0.041915</td>\n",
       "    </tr>\n",
       "    <tr>\n",
       "      <th>8</th>\n",
       "      <td>2017</td>\n",
       "      <td>10</td>\n",
       "      <td>2756</td>\n",
       "      <td>0.046580</td>\n",
       "    </tr>\n",
       "    <tr>\n",
       "      <th>9</th>\n",
       "      <td>2017</td>\n",
       "      <td>11</td>\n",
       "      <td>2509</td>\n",
       "      <td>0.042405</td>\n",
       "    </tr>\n",
       "    <tr>\n",
       "      <th>10</th>\n",
       "      <td>2017</td>\n",
       "      <td>12</td>\n",
       "      <td>2846</td>\n",
       "      <td>0.048101</td>\n",
       "    </tr>\n",
       "    <tr>\n",
       "      <th>11</th>\n",
       "      <td>2018</td>\n",
       "      <td>1</td>\n",
       "      <td>3107</td>\n",
       "      <td>0.052512</td>\n",
       "    </tr>\n",
       "    <tr>\n",
       "      <th>12</th>\n",
       "      <td>2018</td>\n",
       "      <td>2</td>\n",
       "      <td>2837</td>\n",
       "      <td>0.047949</td>\n",
       "    </tr>\n",
       "    <tr>\n",
       "      <th>13</th>\n",
       "      <td>2018</td>\n",
       "      <td>3</td>\n",
       "      <td>2458</td>\n",
       "      <td>0.041543</td>\n",
       "    </tr>\n",
       "    <tr>\n",
       "      <th>14</th>\n",
       "      <td>2018</td>\n",
       "      <td>4</td>\n",
       "      <td>2210</td>\n",
       "      <td>0.037352</td>\n",
       "    </tr>\n",
       "    <tr>\n",
       "      <th>15</th>\n",
       "      <td>2018</td>\n",
       "      <td>5</td>\n",
       "      <td>2349</td>\n",
       "      <td>0.039701</td>\n",
       "    </tr>\n",
       "    <tr>\n",
       "      <th>16</th>\n",
       "      <td>2018</td>\n",
       "      <td>6</td>\n",
       "      <td>2029</td>\n",
       "      <td>0.034293</td>\n",
       "    </tr>\n",
       "    <tr>\n",
       "      <th>17</th>\n",
       "      <td>2018</td>\n",
       "      <td>7</td>\n",
       "      <td>2905</td>\n",
       "      <td>0.049098</td>\n",
       "    </tr>\n",
       "    <tr>\n",
       "      <th>18</th>\n",
       "      <td>2018</td>\n",
       "      <td>8</td>\n",
       "      <td>3297</td>\n",
       "      <td>0.055724</td>\n",
       "    </tr>\n",
       "    <tr>\n",
       "      <th>19</th>\n",
       "      <td>2018</td>\n",
       "      <td>9</td>\n",
       "      <td>2873</td>\n",
       "      <td>0.048557</td>\n",
       "    </tr>\n",
       "    <tr>\n",
       "      <th>20</th>\n",
       "      <td>2018</td>\n",
       "      <td>10</td>\n",
       "      <td>2399</td>\n",
       "      <td>0.040546</td>\n",
       "    </tr>\n",
       "    <tr>\n",
       "      <th>21</th>\n",
       "      <td>2018</td>\n",
       "      <td>11</td>\n",
       "      <td>2861</td>\n",
       "      <td>0.048355</td>\n",
       "    </tr>\n",
       "    <tr>\n",
       "      <th>22</th>\n",
       "      <td>2018</td>\n",
       "      <td>12</td>\n",
       "      <td>2484</td>\n",
       "      <td>0.041983</td>\n",
       "    </tr>\n",
       "  </tbody>\n",
       "</table>\n",
       "</div>"
      ],
      "text/plain": [
       "    year  month     n      prop\n",
       "0   2017      2  2332  0.039414\n",
       "1   2017      3  2926  0.049453\n",
       "2   2017      4  2466  0.041679\n",
       "3   2017      5  1619  0.027363\n",
       "4   2017      6  1956  0.033059\n",
       "5   2017      7  2750  0.046479\n",
       "6   2017      8  2718  0.045938\n",
       "7   2017      9  2480  0.041915\n",
       "8   2017     10  2756  0.046580\n",
       "9   2017     11  2509  0.042405\n",
       "10  2017     12  2846  0.048101\n",
       "11  2018      1  3107  0.052512\n",
       "12  2018      2  2837  0.047949\n",
       "13  2018      3  2458  0.041543\n",
       "14  2018      4  2210  0.037352\n",
       "15  2018      5  2349  0.039701\n",
       "16  2018      6  2029  0.034293\n",
       "17  2018      7  2905  0.049098\n",
       "18  2018      8  3297  0.055724\n",
       "19  2018      9  2873  0.048557\n",
       "20  2018     10  2399  0.040546\n",
       "21  2018     11  2861  0.048355\n",
       "22  2018     12  2484  0.041983"
      ]
     },
     "execution_count": 16,
     "metadata": {},
     "output_type": "execute_result"
    }
   ],
   "source": [
    "sacramento_stops['year'] = sacramento_stops['date'].apply(lambda date: date.year)\n",
    "sacramento_stops['month'] = sacramento_stops['date'].apply(lambda date: date.month)\n",
    "(sacramento_stops\n",
    " .groupby(['year', 'month'], as_index=False)['Idx']\n",
    " .agg({'n': len,\n",
    "       'prop': lambda x: len(x)/len(sacramento_stops)}))"
   ]
  },
  {
   "cell_type": "code",
   "execution_count": 17,
   "metadata": {},
   "outputs": [
    {
     "data": {
      "text/html": [
       "<div>\n",
       "<style scoped>\n",
       "    .dataframe tbody tr th:only-of-type {\n",
       "        vertical-align: middle;\n",
       "    }\n",
       "\n",
       "    .dataframe tbody tr th {\n",
       "        vertical-align: top;\n",
       "    }\n",
       "\n",
       "    .dataframe thead th {\n",
       "        text-align: right;\n",
       "    }\n",
       "</style>\n",
       "<table border=\"1\" class=\"dataframe\">\n",
       "  <thead>\n",
       "    <tr style=\"text-align: right;\">\n",
       "      <th></th>\n",
       "      <th>subject_race</th>\n",
       "      <th>n</th>\n",
       "      <th>prop</th>\n",
       "    </tr>\n",
       "  </thead>\n",
       "  <tbody>\n",
       "    <tr>\n",
       "      <th>0</th>\n",
       "      <td>african american</td>\n",
       "      <td>20184</td>\n",
       "      <td>0.341136</td>\n",
       "    </tr>\n",
       "    <tr>\n",
       "      <th>1</th>\n",
       "      <td>asian/pacific islander</td>\n",
       "      <td>4263</td>\n",
       "      <td>0.072050</td>\n",
       "    </tr>\n",
       "    <tr>\n",
       "      <th>2</th>\n",
       "      <td>hispanic</td>\n",
       "      <td>12833</td>\n",
       "      <td>0.216895</td>\n",
       "    </tr>\n",
       "    <tr>\n",
       "      <th>3</th>\n",
       "      <td>other/unknown</td>\n",
       "      <td>6014</td>\n",
       "      <td>0.101644</td>\n",
       "    </tr>\n",
       "    <tr>\n",
       "      <th>4</th>\n",
       "      <td>white</td>\n",
       "      <td>15873</td>\n",
       "      <td>0.268275</td>\n",
       "    </tr>\n",
       "  </tbody>\n",
       "</table>\n",
       "</div>"
      ],
      "text/plain": [
       "             subject_race      n      prop\n",
       "0        african american  20184  0.341136\n",
       "1  asian/pacific islander   4263  0.072050\n",
       "2                hispanic  12833  0.216895\n",
       "3           other/unknown   6014  0.101644\n",
       "4                   white  15873  0.268275"
      ]
     },
     "execution_count": 17,
     "metadata": {},
     "output_type": "execute_result"
    }
   ],
   "source": [
    "(sacramento_stops\n",
    " .groupby(['subject_race'], as_index=False)[sacramento_stops.columns.values[12]]\n",
    " .agg({'n': len,\n",
    "       'prop': lambda x: len(x)/len(sacramento_stops)}))\n"
   ]
  },
  {
   "cell_type": "markdown",
   "metadata": {},
   "source": [
    "We have defined our own functions to do these calculations for us. One just needs to import the relevant function from either `calculations.py` or `plotting.py`. However, one should not rely on pre-defined functions blindly. In our case we have documented our functions well, so be sure to read them to actually understand them!\n",
    "\n",
    "If we had imported a function from either `calculations.py` or `plotting.py` in a cell, this means that we are doing the same calculations as the cell before the cell."
   ]
  },
  {
   "cell_type": "code",
   "execution_count": 18,
   "metadata": {},
   "outputs": [
    {
     "data": {
      "text/html": [
       "<div>\n",
       "<style scoped>\n",
       "    .dataframe tbody tr th:only-of-type {\n",
       "        vertical-align: middle;\n",
       "    }\n",
       "\n",
       "    .dataframe tbody tr th {\n",
       "        vertical-align: top;\n",
       "    }\n",
       "\n",
       "    .dataframe thead th {\n",
       "        text-align: right;\n",
       "    }\n",
       "</style>\n",
       "<table border=\"1\" class=\"dataframe\">\n",
       "  <thead>\n",
       "    <tr style=\"text-align: right;\">\n",
       "      <th></th>\n",
       "      <th>subject_race</th>\n",
       "      <th>n</th>\n",
       "      <th>prop</th>\n",
       "    </tr>\n",
       "  </thead>\n",
       "  <tbody>\n",
       "    <tr>\n",
       "      <th>0</th>\n",
       "      <td>african american</td>\n",
       "      <td>20184</td>\n",
       "      <td>0.341136</td>\n",
       "    </tr>\n",
       "    <tr>\n",
       "      <th>1</th>\n",
       "      <td>asian/pacific islander</td>\n",
       "      <td>4263</td>\n",
       "      <td>0.072050</td>\n",
       "    </tr>\n",
       "    <tr>\n",
       "      <th>2</th>\n",
       "      <td>hispanic</td>\n",
       "      <td>12833</td>\n",
       "      <td>0.216895</td>\n",
       "    </tr>\n",
       "    <tr>\n",
       "      <th>3</th>\n",
       "      <td>other/unknown</td>\n",
       "      <td>6014</td>\n",
       "      <td>0.101644</td>\n",
       "    </tr>\n",
       "    <tr>\n",
       "      <th>4</th>\n",
       "      <td>white</td>\n",
       "      <td>15873</td>\n",
       "      <td>0.268275</td>\n",
       "    </tr>\n",
       "  </tbody>\n",
       "</table>\n",
       "</div>"
      ],
      "text/plain": [
       "             subject_race      n      prop\n",
       "0        african american  20184  0.341136\n",
       "1  asian/pacific islander   4263  0.072050\n",
       "2                hispanic  12833  0.216895\n",
       "3           other/unknown   6014  0.101644\n",
       "4                   white  15873  0.268275"
      ]
     },
     "execution_count": 18,
     "metadata": {},
     "output_type": "execute_result"
    }
   ],
   "source": [
    "from calculations import calc_group_size\n",
    "calc_group_size(sacramento_stops, 'subject_race', include_prop = True)"
   ]
  },
  {
   "cell_type": "markdown",
   "metadata": {},
   "source": [
    "What if we wanted to check the number of stops by race and year? We could do a `groupby` function, but it would be difficult to interpret. Instead, let us plot a graph with `seaborn`. `seaborn` allows us to make plots with an implicit groupby through the parameter `hue`. Most of the seaborn plotting functions will have the parameter, which basically groups the data by a category before plotting. This allows us to represent a 3rd dimension in our plots, through different colors. You could of course do this with the basic `matplotlib`, but it is much easier with `seaborn`."
   ]
  },
  {
   "cell_type": "code",
   "execution_count": 19,
   "metadata": {},
   "outputs": [
    {
     "data": {
      "image/png": "[encoded data removed]",
      "text/plain": [
       "<Figure size 432x288 with 1 Axes>"
      ]
     },
     "metadata": {
      "needs_background": "light"
     },
     "output_type": "display_data"
    }
   ],
   "source": [
    "race_year_plot = calc_group_size(sacramento_stops, ['subject_race', 'year', 'month'])\n",
    "\n",
    "# in order to plot year and month, we make a new column compressing the information\n",
    "race_year_plot['year_month'] = race_year_plot['year'] + (race_year_plot['month']-1)/12.\n",
    "\n",
    "ax = sns.lineplot(x='year_month', y='prop', hue='subject_race', data=race_year_plot)\n",
    "ax.legend(loc = (1.05, 0.5))\n",
    "ax.set_title('proportion of stops over the years for each race');"
   ]
  },
  {
   "cell_type": "markdown",
   "metadata": {},
   "source": [
    "From this plot, it seems that for most of the races, the trend over the years has been pretty similar. We note that there seems to be a cyclical pattern where there seems to be a dip in traffic stops near the start of the year. This might be interesting for a different follow-up study. Importantly, we note that the proportion of stops has been largely higher for African Americans over the years, although it seems that the proportion of stops is higher for Whites in the last month of 2018. This does not necessarily mean much though, as it may simply be the case that there are more African Americans in Sacramento. Nonetheless, this is a good start for deeper analysis! \n",
    "\n",
    "Also, it is evident that there is a low number of Asian/Pacific Islanders in this dataset. As such, we believe that we cannot conduct any analysis related to this group."
   ]
  },
  {
   "cell_type": "markdown",
   "metadata": {},
   "source": [
    "## Benchmark Test\n",
    "***"
   ]
  },
  {
   "cell_type": "markdown",
   "metadata": {},
   "source": [
    "### Stop rates"
   ]
  },
  {
   "cell_type": "markdown",
   "metadata": {},
   "source": [
    "As we alluded to previously, in order to do a baseline comparison, we need to have the population proportions across racial demographics in Sacremento. Let us also just do the analysis for 2018. If you are doing the analysis for a different time period, note that you would have to scale the rates accordingly."
   ]
  },
  {
   "cell_type": "code",
   "execution_count": 20,
   "metadata": {},
   "outputs": [],
   "source": [
    "stops_2018 = sacramento_stops[sacramento_stops['date'].apply(lambda date: date.year == 2018)]\n",
    "stops_2018 = stops_2018[stops_2018['subject_race'] != 'other/unknown']"
   ]
  },
  {
   "cell_type": "code",
   "execution_count": 21,
   "metadata": {},
   "outputs": [
    {
     "data": {
      "text/html": [
       "<div>\n",
       "<style scoped>\n",
       "    .dataframe tbody tr th:only-of-type {\n",
       "        vertical-align: middle;\n",
       "    }\n",
       "\n",
       "    .dataframe tbody tr th {\n",
       "        vertical-align: top;\n",
       "    }\n",
       "\n",
       "    .dataframe thead th {\n",
       "        text-align: right;\n",
       "    }\n",
       "</style>\n",
       "<table border=\"1\" class=\"dataframe\">\n",
       "  <thead>\n",
       "    <tr style=\"text-align: right;\">\n",
       "      <th></th>\n",
       "      <th>subject_race</th>\n",
       "      <th>prop</th>\n",
       "      <th>num_people</th>\n",
       "    </tr>\n",
       "  </thead>\n",
       "  <tbody>\n",
       "    <tr>\n",
       "      <th>0</th>\n",
       "      <td>white</td>\n",
       "      <td>0.448</td>\n",
       "      <td>685715.520</td>\n",
       "    </tr>\n",
       "    <tr>\n",
       "      <th>1</th>\n",
       "      <td>african american</td>\n",
       "      <td>0.109</td>\n",
       "      <td>166837.035</td>\n",
       "    </tr>\n",
       "    <tr>\n",
       "      <th>2</th>\n",
       "      <td>hispanic</td>\n",
       "      <td>0.186</td>\n",
       "      <td>284694.390</td>\n",
       "    </tr>\n",
       "    <tr>\n",
       "      <th>3</th>\n",
       "      <td>asian/pacific islander</td>\n",
       "      <td>0.179</td>\n",
       "      <td>273980.085</td>\n",
       "    </tr>\n",
       "    <tr>\n",
       "      <th>4</th>\n",
       "      <td>other/unknown</td>\n",
       "      <td>0.077</td>\n",
       "      <td>117857.355</td>\n",
       "    </tr>\n",
       "  </tbody>\n",
       "</table>\n",
       "</div>"
      ],
      "text/plain": [
       "             subject_race   prop  num_people\n",
       "0                   white  0.448  685715.520\n",
       "1        african american  0.109  166837.035\n",
       "2                hispanic  0.186  284694.390\n",
       "3  asian/pacific islander  0.179  273980.085\n",
       "4           other/unknown  0.077  117857.355"
      ]
     },
     "execution_count": 21,
     "metadata": {},
     "output_type": "execute_result"
    }
   ],
   "source": [
    "#https://www.census.gov/quickfacts/fact/table/sacramentocountycalifornia,ca/PST045217\n",
    "sacramento_population_2018 = 1530615\n",
    "\n",
    "#White, African American, Hispanic\n",
    "sacramento_race_percentages = {\"white\": .448, \"african american\": .109 , \"hispanic\": .186, \n",
    "                              \"asian/pacific islander\": .179, 'other/unknown': 0.077}\n",
    "sacramento_race_demo = pd.DataFrame(sacramento_race_percentages, index=['prop']).T.reset_index()\n",
    "sacramento_race_demo.columns = ['subject_race', 'prop']\n",
    "sacramento_race_demo['num_people'] = sacramento_race_demo['prop']*sacramento_population_2018\n",
    "sacramento_race_demo"
   ]
  },
  {
   "cell_type": "markdown",
   "metadata": {},
   "source": [
    "Now that we have the population demographics in Sacremento, let us calculate the stop rate per capita for each race. We basically merge the dataframe with total number of stops for each demographic with the dataframe with the total number of residents in each demographic, and divide the two columns. The merge can be easily done with a `merge()` function. The exact details of a merge function requires us to go into detail about the differences between a left merge, right merge, inner merge, outer merge, etc. As such, we would not go into detail. Instead, we would encourage the reader to read the existing [documentation](https://pandas.pydata.org/pandas-docs/stable/reference/api/pandas.DataFrame.merge.html) for the `merge` function. Whenever you come across a new function, you should always read through the documentation to make sure you understand what the function does. In short, the `merge` function basically concatenates two dataframes across columns, based on a specific shared column. "
   ]
  },
  {
   "cell_type": "code",
   "execution_count": 22,
   "metadata": {},
   "outputs": [
    {
     "data": {
      "text/html": [
       "<div>\n",
       "<style scoped>\n",
       "    .dataframe tbody tr th:only-of-type {\n",
       "        vertical-align: middle;\n",
       "    }\n",
       "\n",
       "    .dataframe tbody tr th {\n",
       "        vertical-align: top;\n",
       "    }\n",
       "\n",
       "    .dataframe thead th {\n",
       "        text-align: right;\n",
       "    }\n",
       "</style>\n",
       "<table border=\"1\" class=\"dataframe\">\n",
       "  <thead>\n",
       "    <tr style=\"text-align: right;\">\n",
       "      <th></th>\n",
       "      <th>subject_race</th>\n",
       "      <th>stop_rate</th>\n",
       "    </tr>\n",
       "  </thead>\n",
       "  <tbody>\n",
       "    <tr>\n",
       "      <th>0</th>\n",
       "      <td>african american</td>\n",
       "      <td>0.062540</td>\n",
       "    </tr>\n",
       "    <tr>\n",
       "      <th>1</th>\n",
       "      <td>asian/pacific islander</td>\n",
       "      <td>0.008190</td>\n",
       "    </tr>\n",
       "    <tr>\n",
       "      <th>2</th>\n",
       "      <td>hispanic</td>\n",
       "      <td>0.024142</td>\n",
       "    </tr>\n",
       "    <tr>\n",
       "      <th>3</th>\n",
       "      <td>white</td>\n",
       "      <td>0.012762</td>\n",
       "    </tr>\n",
       "  </tbody>\n",
       "</table>\n",
       "</div>"
      ],
      "text/plain": [
       "             subject_race  stop_rate\n",
       "0        african american   0.062540\n",
       "1  asian/pacific islander   0.008190\n",
       "2                hispanic   0.024142\n",
       "3                   white   0.012762"
      ]
     },
     "execution_count": 22,
     "metadata": {},
     "output_type": "execute_result"
    }
   ],
   "source": [
    "sacramento_stops_race = (stops_2018\n",
    "                         .groupby(['subject_race'], as_index=False)['Idx']\n",
    "                         .agg({'n': len}))\n",
    "\n",
    "sacramento_stop_rates = sacramento_stops_race.merge(sacramento_race_demo, how='left', on='subject_race')\n",
    "sacramento_stop_rates['stop_rate'] = sacramento_stop_rates['n'] / sacramento_stop_rates['num_people']\n",
    "sacramento_stop_rates.drop(['n', 'num_people', 'prop'], axis=1, inplace=True)\n",
    "sacramento_stop_rates"
   ]
  },
  {
   "cell_type": "code",
   "execution_count": 23,
   "metadata": {},
   "outputs": [
    {
     "data": {
      "text/html": [
       "<div>\n",
       "<style scoped>\n",
       "    .dataframe tbody tr th:only-of-type {\n",
       "        vertical-align: middle;\n",
       "    }\n",
       "\n",
       "    .dataframe tbody tr th {\n",
       "        vertical-align: top;\n",
       "    }\n",
       "\n",
       "    .dataframe thead th {\n",
       "        text-align: right;\n",
       "    }\n",
       "</style>\n",
       "<table border=\"1\" class=\"dataframe\">\n",
       "  <thead>\n",
       "    <tr style=\"text-align: right;\">\n",
       "      <th></th>\n",
       "      <th>subject_race</th>\n",
       "      <th>stop_rate</th>\n",
       "    </tr>\n",
       "  </thead>\n",
       "  <tbody>\n",
       "    <tr>\n",
       "      <th>0</th>\n",
       "      <td>african american</td>\n",
       "      <td>0.062540</td>\n",
       "    </tr>\n",
       "    <tr>\n",
       "      <th>1</th>\n",
       "      <td>asian/pacific islander</td>\n",
       "      <td>0.008190</td>\n",
       "    </tr>\n",
       "    <tr>\n",
       "      <th>2</th>\n",
       "      <td>hispanic</td>\n",
       "      <td>0.024142</td>\n",
       "    </tr>\n",
       "    <tr>\n",
       "      <th>3</th>\n",
       "      <td>white</td>\n",
       "      <td>0.012762</td>\n",
       "    </tr>\n",
       "  </tbody>\n",
       "</table>\n",
       "</div>"
      ],
      "text/plain": [
       "             subject_race  stop_rate\n",
       "0        african american   0.062540\n",
       "1  asian/pacific islander   0.008190\n",
       "2                hispanic   0.024142\n",
       "3                   white   0.012762"
      ]
     },
     "execution_count": 23,
     "metadata": {},
     "output_type": "execute_result"
    }
   ],
   "source": [
    "from calculations import calc_stop_rates\n",
    "calc_stop_rates(stops_2018, sacramento_race_demo, ['subject_race'], population_col = 'num_people')"
   ]
  },
  {
   "cell_type": "markdown",
   "metadata": {},
   "source": [
    "Now we can make better statements about the stop rates for each race! It seems that African drivers are stopped at a rate almost 5 times higher than White drivers and Hispanic drivers are stopped almost 2 times higher than White drivers!"
   ]
  },
  {
   "cell_type": "markdown",
   "metadata": {},
   "source": [
    "### Search rates"
   ]
  },
  {
   "cell_type": "markdown",
   "metadata": {},
   "source": [
    "Let us do the same comparison and analysis for search rates. Instead of using the total population size as a baseline (as in stop rates), it makes sense to instead use the stopped population. As such, search rate is the proportion of stopped people who were subsequently searched. \n",
    "\n",
    "**Note**: Some states and municipals also include frisk rates. It may be worth your time to do a similar analysis on frisk rates as well."
   ]
  },
  {
   "cell_type": "code",
   "execution_count": 24,
   "metadata": {},
   "outputs": [
    {
     "data": {
      "text/html": [
       "<div>\n",
       "<style scoped>\n",
       "    .dataframe tbody tr th:only-of-type {\n",
       "        vertical-align: middle;\n",
       "    }\n",
       "\n",
       "    .dataframe tbody tr th {\n",
       "        vertical-align: top;\n",
       "    }\n",
       "\n",
       "    .dataframe thead th {\n",
       "        text-align: right;\n",
       "    }\n",
       "</style>\n",
       "<table border=\"1\" class=\"dataframe\">\n",
       "  <thead>\n",
       "    <tr style=\"text-align: right;\">\n",
       "      <th></th>\n",
       "      <th>subject_race</th>\n",
       "      <th>search_rate</th>\n",
       "    </tr>\n",
       "  </thead>\n",
       "  <tbody>\n",
       "    <tr>\n",
       "      <th>0</th>\n",
       "      <td>african american</td>\n",
       "      <td>0.206345</td>\n",
       "    </tr>\n",
       "    <tr>\n",
       "      <th>1</th>\n",
       "      <td>asian/pacific islander</td>\n",
       "      <td>0.070856</td>\n",
       "    </tr>\n",
       "    <tr>\n",
       "      <th>2</th>\n",
       "      <td>hispanic</td>\n",
       "      <td>0.150153</td>\n",
       "    </tr>\n",
       "    <tr>\n",
       "      <th>3</th>\n",
       "      <td>white</td>\n",
       "      <td>0.076220</td>\n",
       "    </tr>\n",
       "  </tbody>\n",
       "</table>\n",
       "</div>"
      ],
      "text/plain": [
       "             subject_race  search_rate\n",
       "0        african american     0.206345\n",
       "1  asian/pacific islander     0.070856\n",
       "2                hispanic     0.150153\n",
       "3                   white     0.076220"
      ]
     },
     "execution_count": 24,
     "metadata": {},
     "output_type": "execute_result"
    }
   ],
   "source": [
    "(stops_2018\n",
    " .groupby('subject_race', as_index=False)['search_conducted']\n",
    " .agg({'search_rate': np.mean}))"
   ]
  },
  {
   "cell_type": "code",
   "execution_count": 25,
   "metadata": {},
   "outputs": [
    {
     "data": {
      "text/html": [
       "<div>\n",
       "<style scoped>\n",
       "    .dataframe tbody tr th:only-of-type {\n",
       "        vertical-align: middle;\n",
       "    }\n",
       "\n",
       "    .dataframe tbody tr th {\n",
       "        vertical-align: top;\n",
       "    }\n",
       "\n",
       "    .dataframe thead th {\n",
       "        text-align: right;\n",
       "    }\n",
       "</style>\n",
       "<table border=\"1\" class=\"dataframe\">\n",
       "  <thead>\n",
       "    <tr style=\"text-align: right;\">\n",
       "      <th></th>\n",
       "      <th>subject_race</th>\n",
       "      <th>search_rate</th>\n",
       "    </tr>\n",
       "  </thead>\n",
       "  <tbody>\n",
       "    <tr>\n",
       "      <th>0</th>\n",
       "      <td>african american</td>\n",
       "      <td>0.206345</td>\n",
       "    </tr>\n",
       "    <tr>\n",
       "      <th>1</th>\n",
       "      <td>asian/pacific islander</td>\n",
       "      <td>0.070856</td>\n",
       "    </tr>\n",
       "    <tr>\n",
       "      <th>2</th>\n",
       "      <td>hispanic</td>\n",
       "      <td>0.150153</td>\n",
       "    </tr>\n",
       "    <tr>\n",
       "      <th>3</th>\n",
       "      <td>white</td>\n",
       "      <td>0.076220</td>\n",
       "    </tr>\n",
       "  </tbody>\n",
       "</table>\n",
       "</div>"
      ],
      "text/plain": [
       "             subject_race  search_rate\n",
       "0        african american     0.206345\n",
       "1  asian/pacific islander     0.070856\n",
       "2                hispanic     0.150153\n",
       "3                   white     0.076220"
      ]
     },
     "execution_count": 25,
     "metadata": {},
     "output_type": "execute_result"
    }
   ],
   "source": [
    "from calculations import calc_search_rates\n",
    "calc_search_rates(stops_2018, ['subject_race'], search_col = 'search_conducted')"
   ]
  },
  {
   "cell_type": "markdown",
   "metadata": {},
   "source": [
    "Similar to stop rates, it seems that African American drivers are searched almost 3 times as much as White drivers and that Hispanic drivers are searched almost 2 times as much as White drivers! This seems ridiculous, but let us not make any conclusions without more principled approaches to understanding these statistics. "
   ]
  },
  {
   "cell_type": "markdown",
   "metadata": {},
   "source": [
    "### Arrest rates"
   ]
  },
  {
   "cell_type": "markdown",
   "metadata": {},
   "source": [
    "Lastly, we will look at the arrest rate."
   ]
  },
  {
   "cell_type": "code",
   "execution_count": 26,
   "metadata": {},
   "outputs": [
    {
     "data": {
      "text/html": [
       "<div>\n",
       "<style scoped>\n",
       "    .dataframe tbody tr th:only-of-type {\n",
       "        vertical-align: middle;\n",
       "    }\n",
       "\n",
       "    .dataframe tbody tr th {\n",
       "        vertical-align: top;\n",
       "    }\n",
       "\n",
       "    .dataframe thead th {\n",
       "        text-align: right;\n",
       "    }\n",
       "</style>\n",
       "<table border=\"1\" class=\"dataframe\">\n",
       "  <thead>\n",
       "    <tr style=\"text-align: right;\">\n",
       "      <th></th>\n",
       "      <th>subject_race</th>\n",
       "      <th>arrest_rate</th>\n",
       "    </tr>\n",
       "  </thead>\n",
       "  <tbody>\n",
       "    <tr>\n",
       "      <th>0</th>\n",
       "      <td>african american</td>\n",
       "      <td>0.027985</td>\n",
       "    </tr>\n",
       "    <tr>\n",
       "      <th>1</th>\n",
       "      <td>asian/pacific islander</td>\n",
       "      <td>0.017380</td>\n",
       "    </tr>\n",
       "    <tr>\n",
       "      <th>2</th>\n",
       "      <td>hispanic</td>\n",
       "      <td>0.030991</td>\n",
       "    </tr>\n",
       "    <tr>\n",
       "      <th>3</th>\n",
       "      <td>white</td>\n",
       "      <td>0.020683</td>\n",
       "    </tr>\n",
       "  </tbody>\n",
       "</table>\n",
       "</div>"
      ],
      "text/plain": [
       "             subject_race  arrest_rate\n",
       "0        african american     0.027985\n",
       "1  asian/pacific islander     0.017380\n",
       "2                hispanic     0.030991\n",
       "3                   white     0.020683"
      ]
     },
     "execution_count": 26,
     "metadata": {},
     "output_type": "execute_result"
    }
   ],
   "source": [
    "(stops_2018\n",
    " .groupby('subject_race', as_index=False)['ResultArrest']\n",
    " .agg({'arrest_rate': np.mean}))"
   ]
  },
  {
   "cell_type": "code",
   "execution_count": 27,
   "metadata": {},
   "outputs": [
    {
     "data": {
      "text/html": [
       "<div>\n",
       "<style scoped>\n",
       "    .dataframe tbody tr th:only-of-type {\n",
       "        vertical-align: middle;\n",
       "    }\n",
       "\n",
       "    .dataframe tbody tr th {\n",
       "        vertical-align: top;\n",
       "    }\n",
       "\n",
       "    .dataframe thead th {\n",
       "        text-align: right;\n",
       "    }\n",
       "</style>\n",
       "<table border=\"1\" class=\"dataframe\">\n",
       "  <thead>\n",
       "    <tr style=\"text-align: right;\">\n",
       "      <th></th>\n",
       "      <th>subject_race</th>\n",
       "      <th>arrest_rate</th>\n",
       "    </tr>\n",
       "  </thead>\n",
       "  <tbody>\n",
       "    <tr>\n",
       "      <th>0</th>\n",
       "      <td>african american</td>\n",
       "      <td>0.027985</td>\n",
       "    </tr>\n",
       "    <tr>\n",
       "      <th>1</th>\n",
       "      <td>asian/pacific islander</td>\n",
       "      <td>0.017380</td>\n",
       "    </tr>\n",
       "    <tr>\n",
       "      <th>2</th>\n",
       "      <td>hispanic</td>\n",
       "      <td>0.030991</td>\n",
       "    </tr>\n",
       "    <tr>\n",
       "      <th>3</th>\n",
       "      <td>white</td>\n",
       "      <td>0.020683</td>\n",
       "    </tr>\n",
       "  </tbody>\n",
       "</table>\n",
       "</div>"
      ],
      "text/plain": [
       "             subject_race  arrest_rate\n",
       "0        african american     0.027985\n",
       "1  asian/pacific islander     0.017380\n",
       "2                hispanic     0.030991\n",
       "3                   white     0.020683"
      ]
     },
     "execution_count": 27,
     "metadata": {},
     "output_type": "execute_result"
    }
   ],
   "source": [
    "from calculations import calc_arrest_rates\n",
    "calc_arrest_rates(stops_2018, ['subject_race'], arrest_col = 'ResultArrest')"
   ]
  },
  {
   "cell_type": "markdown",
   "metadata": {},
   "source": [
    "It seems that African American drivers are arrested almost 1.35 times as much as White drivers and Hispanic drivers are arrested almost 1.5 times as much as White drivers! "
   ]
  },
  {
   "cell_type": "markdown",
   "metadata": {},
   "source": [
    "### Caveats about the benchmark test"
   ]
  },
  {
   "cell_type": "markdown",
   "metadata": {},
   "source": [
    "The benchmark test is useful for some quick statistics, but it does not provide any evidence of discrimination. This is because we have not been comparing to the correct baseline. In particular, the stop rates need not necessarily suggest that African American and Hispanic drivers have been disproportionately stopped. It does not take into account possible racial differences in driving behavior. Also, some of you may have already noticed, but we have been calculating the rate with respect to the total population within each demographic when we should be calculating the rate with respect to the total number of individuals breaking traffic laws, or exhibiting other criminal behavior in their vehicles. Ideally, if we know that the number of African American drivers stopped is disproportionate to the total number of offenders, then we would have strong evidence that there is racial discrimination. Unfortunately, there is no way to have a good measure of the total number of offenders. Using arrest rate would not be a good proxy as arrest rate could similarly be racially skewed as well since it is the police officer making the decision.\n",
    "\n",
    "We should conduct more principled analysis of our data before we make any conclusions."
   ]
  },
  {
   "cell_type": "markdown",
   "metadata": {},
   "source": [
    "## Veil of Darkness test\n",
    "***"
   ]
  },
  {
   "cell_type": "markdown",
   "metadata": {},
   "source": [
    "There is another alternative to assessing bias in stop decisions known as the Veil of Darkness test. It was originally proposed by Grogger and Ridgeway in 2006. The Veil of Darkness test works on the hypothesis that police officers who are racial profiling are less likely to identify a driver's race when it is dark. As such, under this hypothesis, we would expect that if stops made after dark had a smaller proportion of African American drivers than during daytime, it might be evidence that at least some police officers are racial profiling drivers. Nonetheless, there are many things that can be correlated with time, i.e. enforcement patterns, driving schedule. As such, we would only compare within an inter-twilight period.\n",
    "\n",
    "The inter-twilight period is essentially the period of time between the earliest dusk time and the latest dusk time (within the period of interest). As the 30 minute period between sunset and dusk has ambiguous daylight, we filter out stops in those times. \n",
    "\n",
    "This allows us to compare times that had daylight at some point in the studied period but were dark at another point in the studied period and see if there are any differences. Intuitively, we would be able to compare the same group of drivers and police officers, and thus observe the effect of darkness of police stop decisions. \n",
    "\n",
    "We have written a function `calc_sunset_times` that taps on the `astral` package to calculate both the sunset and dusk times given a specific longitude and latitude. \n",
    "\n",
    "**Note**: As the number of stops will decrease greatly after the filtering of twilight hours, we will be using the full dataset instead of just the 2018 data for Sacramento. This is because there is huge variability in our results with just the 2018 data due to the small dataset size."
   ]
  },
  {
   "cell_type": "code",
   "execution_count": 28,
   "metadata": {},
   "outputs": [
    {
     "data": {
      "text/html": [
       "<div>\n",
       "<style scoped>\n",
       "    .dataframe tbody tr th:only-of-type {\n",
       "        vertical-align: middle;\n",
       "    }\n",
       "\n",
       "    .dataframe tbody tr th {\n",
       "        vertical-align: top;\n",
       "    }\n",
       "\n",
       "    .dataframe thead th {\n",
       "        text-align: right;\n",
       "    }\n",
       "</style>\n",
       "<table border=\"1\" class=\"dataframe\">\n",
       "  <thead>\n",
       "    <tr style=\"text-align: right;\">\n",
       "      <th></th>\n",
       "      <th>date</th>\n",
       "      <th>sunset</th>\n",
       "      <th>dusk</th>\n",
       "      <th>sunset_minute</th>\n",
       "      <th>dusk_minute</th>\n",
       "    </tr>\n",
       "  </thead>\n",
       "  <tbody>\n",
       "    <tr>\n",
       "      <th>0</th>\n",
       "      <td>2017-03-22</td>\n",
       "      <td>02:19:09</td>\n",
       "      <td>02:45:39</td>\n",
       "      <td>139</td>\n",
       "      <td>165</td>\n",
       "    </tr>\n",
       "    <tr>\n",
       "      <th>1</th>\n",
       "      <td>2017-03-15</td>\n",
       "      <td>02:12:22</td>\n",
       "      <td>02:38:48</td>\n",
       "      <td>132</td>\n",
       "      <td>158</td>\n",
       "    </tr>\n",
       "    <tr>\n",
       "      <th>2</th>\n",
       "      <td>2017-03-14</td>\n",
       "      <td>02:11:23</td>\n",
       "      <td>02:37:49</td>\n",
       "      <td>131</td>\n",
       "      <td>157</td>\n",
       "    </tr>\n",
       "    <tr>\n",
       "      <th>3</th>\n",
       "      <td>2017-03-10</td>\n",
       "      <td>02:07:25</td>\n",
       "      <td>02:33:53</td>\n",
       "      <td>127</td>\n",
       "      <td>153</td>\n",
       "    </tr>\n",
       "    <tr>\n",
       "      <th>4</th>\n",
       "      <td>2017-03-09</td>\n",
       "      <td>02:06:25</td>\n",
       "      <td>02:32:54</td>\n",
       "      <td>126</td>\n",
       "      <td>152</td>\n",
       "    </tr>\n",
       "  </tbody>\n",
       "</table>\n",
       "</div>"
      ],
      "text/plain": [
       "         date    sunset      dusk  sunset_minute  dusk_minute\n",
       "0  2017-03-22  02:19:09  02:45:39            139          165\n",
       "1  2017-03-15  02:12:22  02:38:48            132          158\n",
       "2  2017-03-14  02:11:23  02:37:49            131          157\n",
       "3  2017-03-10  02:07:25  02:33:53            127          153\n",
       "4  2017-03-09  02:06:25  02:32:54            126          152"
      ]
     },
     "execution_count": 28,
     "metadata": {},
     "output_type": "execute_result"
    }
   ],
   "source": [
    "sacramento_lat = 38.5816\n",
    "sacramento_long = -121.4944\n",
    "\n",
    "# calculate sunset and dusk times in sacremento\n",
    "from calculations import calc_sunset_times\n",
    "sunset_time = calc_sunset_times(sacramento_stops, sacramento_lat, sacramento_long, 'UTC')\n",
    "sunset_time.head()"
   ]
  },
  {
   "cell_type": "markdown",
   "metadata": {},
   "source": [
    "Given the dataframe of sunset and dusk times, we can then filter our original dataframe such that we only keep the stops within the inter-twilight period, and excluding the ambiguous period. "
   ]
  },
  {
   "cell_type": "code",
   "execution_count": 29,
   "metadata": {},
   "outputs": [
    {
     "name": "stdout",
     "output_type": "stream",
     "text": [
      "(7110, 50)\n"
     ]
    },
    {
     "data": {
      "text/plain": [
       "(datetime.time(1, 14), datetime.time(4, 6))"
      ]
     },
     "execution_count": 29,
     "metadata": {},
     "output_type": "execute_result"
    }
   ],
   "source": [
    "vod_stops = sacramento_stops.merge(sunset_time, how='left' ,on='date')\n",
    "vod_stops['minute'] = vod_stops['time'].apply(lambda t: t.hour*60 + t.minute)\n",
    "vod_stops['minutes_after_dark'] = vod_stops['minute'] - vod_stops['dusk_minute']\n",
    "vod_stops['is_dark'] = (vod_stops['minute'] > vod_stops['dusk_minute']).astype('int')\n",
    "\n",
    "# filter to intertwilight period\n",
    "min_dusk_minute = vod_stops['dusk_minute'].min()\n",
    "max_dusk_minute = vod_stops['dusk_minute'].max()\n",
    "vod_stops = vod_stops[(vod_stops['minute'] >= min_dusk_minute) & (vod_stops['minute'] <= max_dusk_minute)]\n",
    "\n",
    "# remove ambiguous period\n",
    "vod_stops = vod_stops[~((vod_stops['minute'] > vod_stops['sunset_minute']) & (vod_stops['minute'] < vod_stops['dusk_minute']))]\n",
    "\n",
    "print(vod_stops.shape)\n",
    "vod_stops['time'].min(), vod_stops['time'].max()"
   ]
  },
  {
   "cell_type": "code",
   "execution_count": 30,
   "metadata": {},
   "outputs": [
    {
     "name": "stdout",
     "output_type": "stream",
     "text": [
      "(7110, 50)\n"
     ]
    },
    {
     "data": {
      "text/plain": [
       "(datetime.time(1, 14), datetime.time(4, 6))"
      ]
     },
     "execution_count": 30,
     "metadata": {},
     "output_type": "execute_result"
    }
   ],
   "source": [
    "from calculations import get_veil_of_darkness_observations\n",
    "vod_stops = get_veil_of_darkness_observations(sacramento_stops, sunset_time)\n",
    "print(vod_stops.shape)\n",
    "vod_stops['time'].min(), vod_stops['time'].max()"
   ]
  },
  {
   "cell_type": "markdown",
   "metadata": {},
   "source": [
    "We still have a sizeable number of stops to do our analysis. Note that we are doing our calculations in UTC time. As such, the twilight time ranges that we have are actually pretty reasonable. We can see that the earliest time we have is actually 6:15pm (Pacific Daylight Time), and the latest time we have is actually 9:05pm. Let us check for the proportion of stops within this filtered time period when it was dark, as compared to when it was not dark yet, i.e. 7-7:15pm."
   ]
  },
  {
   "cell_type": "code",
   "execution_count": 31,
   "metadata": {},
   "outputs": [
    {
     "data": {
      "text/html": [
       "<div>\n",
       "<style scoped>\n",
       "    .dataframe tbody tr th:only-of-type {\n",
       "        vertical-align: middle;\n",
       "    }\n",
       "\n",
       "    .dataframe tbody tr th {\n",
       "        vertical-align: top;\n",
       "    }\n",
       "\n",
       "    .dataframe thead th {\n",
       "        text-align: right;\n",
       "    }\n",
       "</style>\n",
       "<table border=\"1\" class=\"dataframe\">\n",
       "  <thead>\n",
       "    <tr style=\"text-align: right;\">\n",
       "      <th>subject_race</th>\n",
       "      <th>african american</th>\n",
       "      <th>asian/pacific islander</th>\n",
       "      <th>hispanic</th>\n",
       "      <th>other/unknown</th>\n",
       "      <th>white</th>\n",
       "    </tr>\n",
       "    <tr>\n",
       "      <th>is_dark</th>\n",
       "      <th></th>\n",
       "      <th></th>\n",
       "      <th></th>\n",
       "      <th></th>\n",
       "      <th></th>\n",
       "    </tr>\n",
       "  </thead>\n",
       "  <tbody>\n",
       "    <tr>\n",
       "      <th>0</th>\n",
       "      <td>0.429952</td>\n",
       "      <td>0.038647</td>\n",
       "      <td>0.263285</td>\n",
       "      <td>0.077295</td>\n",
       "      <td>0.190821</td>\n",
       "    </tr>\n",
       "    <tr>\n",
       "      <th>1</th>\n",
       "      <td>0.342466</td>\n",
       "      <td>0.075342</td>\n",
       "      <td>0.246575</td>\n",
       "      <td>0.075342</td>\n",
       "      <td>0.260274</td>\n",
       "    </tr>\n",
       "  </tbody>\n",
       "</table>\n",
       "</div>"
      ],
      "text/plain": [
       "subject_race  african american  asian/pacific islander  hispanic  \\\n",
       "is_dark                                                            \n",
       "0                     0.429952                0.038647  0.263285   \n",
       "1                     0.342466                0.075342  0.246575   \n",
       "\n",
       "subject_race  other/unknown     white  \n",
       "is_dark                                \n",
       "0                  0.077295  0.190821  \n",
       "1                  0.075342  0.260274  "
      ]
     },
     "execution_count": 31,
     "metadata": {},
     "output_type": "execute_result"
    }
   ],
   "source": [
    "vod_test = vod_stops[(vod_stops['time'] >= datetime.time(2, 0)) & (vod_stops['time'] <= datetime.time(2, 15))]\n",
    "vod_count = vod_test.groupby('is_dark')['Idx'].agg({'total_count': 'count'})\n",
    "vod_count =(vod_test\n",
    "            .groupby(['is_dark', 'subject_race'], as_index=False)['Idx']\n",
    "            .agg({'race_count': 'count'})\n",
    "            .merge(vod_count, how='left', on='is_dark'))\n",
    "vod_count['prop'] = vod_count['race_count'] / vod_count['total_count']\n",
    "vod_count.drop(['race_count', 'total_count'], axis=1, inplace=True)\n",
    "vod_prop = vod_count.pivot_table(values='prop', index='is_dark', columns='subject_race')\n",
    "vod_prop"
   ]
  },
  {
   "cell_type": "code",
   "execution_count": 32,
   "metadata": {},
   "outputs": [
    {
     "data": {
      "text/html": [
       "<div>\n",
       "<style scoped>\n",
       "    .dataframe tbody tr th:only-of-type {\n",
       "        vertical-align: middle;\n",
       "    }\n",
       "\n",
       "    .dataframe tbody tr th {\n",
       "        vertical-align: top;\n",
       "    }\n",
       "\n",
       "    .dataframe thead th {\n",
       "        text-align: right;\n",
       "    }\n",
       "</style>\n",
       "<table border=\"1\" class=\"dataframe\">\n",
       "  <thead>\n",
       "    <tr style=\"text-align: right;\">\n",
       "      <th>subject_race</th>\n",
       "      <th>african american</th>\n",
       "      <th>asian/pacific islander</th>\n",
       "      <th>hispanic</th>\n",
       "      <th>other/unknown</th>\n",
       "      <th>white</th>\n",
       "    </tr>\n",
       "    <tr>\n",
       "      <th>is_dark</th>\n",
       "      <th></th>\n",
       "      <th></th>\n",
       "      <th></th>\n",
       "      <th></th>\n",
       "      <th></th>\n",
       "    </tr>\n",
       "  </thead>\n",
       "  <tbody>\n",
       "    <tr>\n",
       "      <th>0</th>\n",
       "      <td>0.429952</td>\n",
       "      <td>0.038647</td>\n",
       "      <td>0.263285</td>\n",
       "      <td>0.077295</td>\n",
       "      <td>0.190821</td>\n",
       "    </tr>\n",
       "    <tr>\n",
       "      <th>1</th>\n",
       "      <td>0.342466</td>\n",
       "      <td>0.075342</td>\n",
       "      <td>0.246575</td>\n",
       "      <td>0.075342</td>\n",
       "      <td>0.260274</td>\n",
       "    </tr>\n",
       "  </tbody>\n",
       "</table>\n",
       "</div>"
      ],
      "text/plain": [
       "subject_race  african american  asian/pacific islander  hispanic  \\\n",
       "is_dark                                                            \n",
       "0                     0.429952                0.038647  0.263285   \n",
       "1                     0.342466                0.075342  0.246575   \n",
       "\n",
       "subject_race  other/unknown     white  \n",
       "is_dark                                \n",
       "0                  0.077295  0.190821  \n",
       "1                  0.075342  0.260274  "
      ]
     },
     "execution_count": 32,
     "metadata": {},
     "output_type": "execute_result"
    }
   ],
   "source": [
    "from calculations import calc_vod_rate\n",
    "calc_vod_rate(vod_stops, '02:00', '02:15')"
   ]
  },
  {
   "cell_type": "markdown",
   "metadata": {},
   "source": [
    "It seems that there is a huge disparity between the stop rates when it is dark and when it is not dark! In particular, the stop rates are around 8% lower for African American drivers, 2% lower for Hispanic drivers, and around 7% higher for White drivers when it is dark. According to our veil of darkness hypothesis, it seems that police officers might be engaging in racial profiling. However, we are unable to determine the extent of the racial profiling. Moreover, we have only looked at a specific time period, so let us not come to any quick conclusions...\n",
    "\n",
    "A simple way to check for robustness of results is to use a logistic regression for the whole twilight period. Specifically, we are measuring the impact of darkness on the indicator of whether a person is in a minority race. This impact measure is called the 'coefficient of darkness'. We included a natural spline for minutes to control for the time factor."
   ]
  },
  {
   "cell_type": "code",
   "execution_count": 33,
   "metadata": {},
   "outputs": [
    {
     "name": "stdout",
     "output_type": "stream",
     "text": [
      "                 Generalized Linear Model Regression Results                  \n",
      "==============================================================================\n",
      "Dep. Variable:           subject_race   No. Observations:                 7110\n",
      "Model:                            GLM   Df Residuals:                     7103\n",
      "Model Family:                Binomial   Df Model:                            6\n",
      "Link Function:                  logit   Scale:                          1.0000\n",
      "Method:                          IRLS   Log-Likelihood:                -4771.9\n",
      "Date:                Thu, 09 May 2019   Deviance:                       9543.7\n",
      "Time:                        11:07:22   Pearson chi2:                 7.11e+03\n",
      "No. Iterations:                   100   Covariance Type:             nonrobust\n",
      "=====================================================================================\n",
      "                        coef    std err          z      P>|z|      [0.025      0.975]\n",
      "-------------------------------------------------------------------------------------\n",
      "is_dark              -0.1172      0.060     -1.964      0.050      -0.234      -0.000\n",
      "Intercept            -0.3021      0.039     -7.749      0.000      -0.379      -0.226\n",
      "cr(data, df=6)[0]    -0.2269      0.091     -2.489      0.013      -0.406      -0.048\n",
      "cr(data, df=6)[1]    -0.0641      0.058     -1.104      0.270      -0.178       0.050\n",
      "cr(data, df=6)[2]    -0.0731      0.055     -1.332      0.183      -0.181       0.034\n",
      "cr(data, df=6)[3]    -0.0008      0.060     -0.014      0.989      -0.118       0.117\n",
      "cr(data, df=6)[4]    -0.0133      0.073     -0.182      0.856      -0.157       0.130\n",
      "cr(data, df=6)[5]     0.0762      0.114      0.670      0.503      -0.147       0.299\n",
      "=====================================================================================\n"
     ]
    }
   ],
   "source": [
    "is_black = (vod_stops['subject_race'] == 'african american').astype(int)\n",
    "\n",
    "X = vod_stops[['is_dark']].merge(dmatrix(\"cr(data,df = 6)\", {\"data\": vod_stops['minute']}, return_type='dataframe'),\n",
    "                                left_index = True, right_index = True)\n",
    "logit_model = sm.GLM(is_black, X, family=sm.families.Binomial())\n",
    "logit_results = logit_model.fit()\n",
    "print(logit_results.summary())"
   ]
  },
  {
   "cell_type": "markdown",
   "metadata": {},
   "source": [
    "The ‘coefficient of darkness’ in the VOD test is negative, suggesting that it is negatively correlated with the indicator of whether the driver is African American. Importantly, it has a statistically significantly small p-value and the size of the coefficient is relatively large. This suggests that there is racial profiling against African American drivers. \n",
    "\n",
    "What about for Hispanic drivers?"
   ]
  },
  {
   "cell_type": "code",
   "execution_count": 34,
   "metadata": {},
   "outputs": [
    {
     "name": "stdout",
     "output_type": "stream",
     "text": [
      "                 Generalized Linear Model Regression Results                  \n",
      "==============================================================================\n",
      "Dep. Variable:           subject_race   No. Observations:                 7110\n",
      "Model:                            GLM   Df Residuals:                     7103\n",
      "Model Family:                Binomial   Df Model:                            6\n",
      "Link Function:                  logit   Scale:                          1.0000\n",
      "Method:                          IRLS   Log-Likelihood:                -3850.1\n",
      "Date:                Thu, 09 May 2019   Deviance:                       7700.2\n",
      "Time:                        11:07:22   Pearson chi2:                 7.11e+03\n",
      "No. Iterations:                    48   Covariance Type:             nonrobust\n",
      "=====================================================================================\n",
      "                        coef    std err          z      P>|z|      [0.025      0.975]\n",
      "-------------------------------------------------------------------------------------\n",
      "is_dark              -0.0615      0.069     -0.892      0.373      -0.197       0.074\n",
      "Intercept            -1.0209      0.046    -22.430      0.000      -1.110      -0.932\n",
      "cr(data, df=6)[0]    -0.2256      0.106     -2.123      0.034      -0.434      -0.017\n",
      "cr(data, df=6)[1]    -0.1868      0.068     -2.749      0.006      -0.320      -0.054\n",
      "cr(data, df=6)[2]    -0.1063      0.064     -1.668      0.095      -0.231       0.019\n",
      "cr(data, df=6)[3]    -0.0792      0.069     -1.147      0.252      -0.215       0.056\n",
      "cr(data, df=6)[4]    -0.0503      0.085     -0.593      0.553      -0.216       0.116\n",
      "cr(data, df=6)[5]    -0.3727      0.138     -2.698      0.007      -0.643      -0.102\n",
      "=====================================================================================\n"
     ]
    }
   ],
   "source": [
    "is_hispanic = (vod_stops['subject_race'] == 'hispanic').astype(int)\n",
    "\n",
    "X = vod_stops[['is_dark']].merge(dmatrix(\"cr(data,df = 6)\", {\"data\": vod_stops['minute']}, return_type='dataframe'),\n",
    "                                left_index = True, right_index = True)\n",
    "logit_model = sm.GLM(is_hispanic, X, family=sm.families.Binomial())\n",
    "logit_results = logit_model.fit()\n",
    "print(logit_results.summary())"
   ]
  },
  {
   "cell_type": "markdown",
   "metadata": {},
   "source": [
    "The ‘coefficient of darkness’ in the VOD test is negative, suggesting that it is negatively correlated with the indicator of whether the driver is Hispanic. However, it is not statistically significant for a significant level of 0.05, suggesting that we do not have enough evidence to suggest that there is a racial profiling for Hispanic drivers.\n",
    "\n",
    "Note that in our poster session we had incorrectly concluded that the coefficient was statistically significant due to a typo in our calculations. We had not realized the typo until after the poster was printed. This just shows how important reproducibility is, as we made the wrong conclusion had we not try to reproduce our own work, and this has real world consequences."
   ]
  },
  {
   "cell_type": "markdown",
   "metadata": {},
   "source": [
    "### Caveats about the Veil of Darkness Test"
   ]
  },
  {
   "cell_type": "markdown",
   "metadata": {},
   "source": [
    "It is important to note that we have only shown that there is relationship between the race of the driver and whether the driver was stopped during the twilight period. While this is the key idea behind the test, it also becomes a limiting factor as it may not be fair to extrapolate and make conclusions about the same relationship at all times of the day. \n",
    "\n",
    "Moreover, we have done a very simple regression model. There are many other factors that correlate with race and could thus affect the police officers stop decisions. The vehicle make, year, and model could possibly correlate with race, and police officers can infer about the race of the driver even if low visibility. The presence of street lamps, or even just moonlight, can also weaken our hypothesis about the visibility at night. Importantly, darkness is a function of date. The test may suggest the presence of discrimination if changes in driving behavior throughout the year correlates with race. \n",
    "\n",
    "As such, the veil of darkness is not the perfect test, but it nonetheless provides us a useful measure of bias in stop decisions."
   ]
  },
  {
   "cell_type": "markdown",
   "metadata": {},
   "source": [
    "## Outcome Test\n",
    "***"
   ]
  },
  {
   "cell_type": "markdown",
   "metadata": {},
   "source": [
    "Rather than analyzing the search decision, we can analyze the stop decision. A successful search is when the driver/vehicle is found to own contraband. We define the proportion of successful searches, by race, as the **hit rate**, or otherwise known as the contraband recovery rate. If there is a disproprotion in hit rate across different racial groups, we might have reason to believe that there is discrimination. "
   ]
  },
  {
   "cell_type": "code",
   "execution_count": 35,
   "metadata": {},
   "outputs": [
    {
     "data": {
      "text/html": [
       "<div>\n",
       "<style scoped>\n",
       "    .dataframe tbody tr th:only-of-type {\n",
       "        vertical-align: middle;\n",
       "    }\n",
       "\n",
       "    .dataframe tbody tr th {\n",
       "        vertical-align: top;\n",
       "    }\n",
       "\n",
       "    .dataframe thead th {\n",
       "        text-align: right;\n",
       "    }\n",
       "</style>\n",
       "<table border=\"1\" class=\"dataframe\">\n",
       "  <thead>\n",
       "    <tr style=\"text-align: right;\">\n",
       "      <th></th>\n",
       "      <th>subject_race</th>\n",
       "      <th>hit_rate</th>\n",
       "    </tr>\n",
       "  </thead>\n",
       "  <tbody>\n",
       "    <tr>\n",
       "      <th>0</th>\n",
       "      <td>african american</td>\n",
       "      <td>0.177891</td>\n",
       "    </tr>\n",
       "    <tr>\n",
       "      <th>1</th>\n",
       "      <td>asian/pacific islander</td>\n",
       "      <td>0.226415</td>\n",
       "    </tr>\n",
       "    <tr>\n",
       "      <th>2</th>\n",
       "      <td>hispanic</td>\n",
       "      <td>0.230620</td>\n",
       "    </tr>\n",
       "    <tr>\n",
       "      <th>3</th>\n",
       "      <td>white</td>\n",
       "      <td>0.254873</td>\n",
       "    </tr>\n",
       "  </tbody>\n",
       "</table>\n",
       "</div>"
      ],
      "text/plain": [
       "             subject_race  hit_rate\n",
       "0        african american  0.177891\n",
       "1  asian/pacific islander  0.226415\n",
       "2                hispanic  0.230620\n",
       "3                   white  0.254873"
      ]
     },
     "execution_count": 35,
     "metadata": {},
     "output_type": "execute_result"
    }
   ],
   "source": [
    "# originally wrong, have to filter just those that were searched\n",
    "(stops_2018[stops_2018['search_conducted']]\n",
    " .groupby('subject_race', as_index=False)['contraband_found']\n",
    " .agg({'hit_rate': np.mean}))"
   ]
  },
  {
   "cell_type": "code",
   "execution_count": 36,
   "metadata": {},
   "outputs": [
    {
     "data": {
      "text/html": [
       "<div>\n",
       "<style scoped>\n",
       "    .dataframe tbody tr th:only-of-type {\n",
       "        vertical-align: middle;\n",
       "    }\n",
       "\n",
       "    .dataframe tbody tr th {\n",
       "        vertical-align: top;\n",
       "    }\n",
       "\n",
       "    .dataframe thead th {\n",
       "        text-align: right;\n",
       "    }\n",
       "</style>\n",
       "<table border=\"1\" class=\"dataframe\">\n",
       "  <thead>\n",
       "    <tr style=\"text-align: right;\">\n",
       "      <th></th>\n",
       "      <th>subject_race</th>\n",
       "      <th>hit_rate</th>\n",
       "    </tr>\n",
       "  </thead>\n",
       "  <tbody>\n",
       "    <tr>\n",
       "      <th>0</th>\n",
       "      <td>african american</td>\n",
       "      <td>0.177891</td>\n",
       "    </tr>\n",
       "    <tr>\n",
       "      <th>1</th>\n",
       "      <td>asian/pacific islander</td>\n",
       "      <td>0.226415</td>\n",
       "    </tr>\n",
       "    <tr>\n",
       "      <th>2</th>\n",
       "      <td>hispanic</td>\n",
       "      <td>0.230620</td>\n",
       "    </tr>\n",
       "    <tr>\n",
       "      <th>3</th>\n",
       "      <td>white</td>\n",
       "      <td>0.254873</td>\n",
       "    </tr>\n",
       "  </tbody>\n",
       "</table>\n",
       "</div>"
      ],
      "text/plain": [
       "             subject_race  hit_rate\n",
       "0        african american  0.177891\n",
       "1  asian/pacific islander  0.226415\n",
       "2                hispanic  0.230620\n",
       "3                   white  0.254873"
      ]
     },
     "execution_count": 36,
     "metadata": {},
     "output_type": "execute_result"
    }
   ],
   "source": [
    "from calculations import calc_hit_rates\n",
    "calc_hit_rates(stops_2018, ['subject_race'])"
   ]
  },
  {
   "cell_type": "markdown",
   "metadata": {},
   "source": [
    "We see that hit rates are much lower for African American drivers and somewhat lower for Hispanic drivers as compared to White drivers. However, this might be because the bar for stopping people (and thus searching them for contraband) is lower in certain police districts. So we should adjust for the locations to check if the disparity really reflect bias. This is indeed the approach taken by the Stanford Open Policing Project. \n",
    "\n",
    "However, in the case of the Sacremento dataset, we do not have the police districts data. However, we believe that controling based on the police officer might be just as, or even better, than using police district data. Police officers are assigned to specific police districts, and it is likely that they will stay within the same police district within a specific year. As such, they are reasonable proxies. Moreover, if we can check that police officers have huge disparity in hit rates across different racial groups, this might be even more compelling evidence that there is racial discrimination. "
   ]
  },
  {
   "cell_type": "markdown",
   "metadata": {},
   "source": [
    "### Adjusting for police officer"
   ]
  },
  {
   "cell_type": "markdown",
   "metadata": {},
   "source": [
    "As we are controlling for police officers rather than police districts, we end up with some police officers who have conducted a lot fewer searches. We view these police officers as perhaps being 'less experienced'. For the purposes of our analysis, we filtered out only police officers who have conducted at least 30 searches. This would hopefully remove the erratic outlier patterns of police officers who have only conducted a few searches. We want to retain police officers that will have sufficient searches to make a comparison across groups reasonable."
   ]
  },
  {
   "cell_type": "code",
   "execution_count": 37,
   "metadata": {
    "scrolled": true
   },
   "outputs": [
    {
     "data": {
      "text/plain": [
       "34"
      ]
     },
     "execution_count": 37,
     "metadata": {},
     "output_type": "execute_result"
    }
   ],
   "source": [
    "experienced_officers = (stops_2018.groupby(['OfficerAbra'])[['search_conducted']].sum() >= 30)\n",
    "experienced_officers = experienced_officers[experienced_officers['search_conducted']].index\n",
    "len(experienced_officers)"
   ]
  },
  {
   "cell_type": "code",
   "execution_count": 38,
   "metadata": {},
   "outputs": [
    {
     "data": {
      "text/plain": [
       "6264"
      ]
     },
     "execution_count": 38,
     "metadata": {},
     "output_type": "execute_result"
    }
   ],
   "source": [
    "stops_2018_experienced_officers = stops_2018[stops_2018['OfficerAbra'].isin(experienced_officers)]\n",
    "len(stops_2018_experienced_officers)"
   ]
  },
  {
   "cell_type": "code",
   "execution_count": 39,
   "metadata": {},
   "outputs": [
    {
     "data": {
      "text/html": [
       "<div>\n",
       "<style scoped>\n",
       "    .dataframe tbody tr th:only-of-type {\n",
       "        vertical-align: middle;\n",
       "    }\n",
       "\n",
       "    .dataframe tbody tr th {\n",
       "        vertical-align: top;\n",
       "    }\n",
       "\n",
       "    .dataframe thead th {\n",
       "        text-align: right;\n",
       "    }\n",
       "</style>\n",
       "<table border=\"1\" class=\"dataframe\">\n",
       "  <thead>\n",
       "    <tr style=\"text-align: right;\">\n",
       "      <th></th>\n",
       "      <th>subject_race</th>\n",
       "      <th>OfficerAbra</th>\n",
       "      <th>hit_rate</th>\n",
       "    </tr>\n",
       "  </thead>\n",
       "  <tbody>\n",
       "    <tr>\n",
       "      <th>0</th>\n",
       "      <td>african american</td>\n",
       "      <td>3574</td>\n",
       "      <td>0.028571</td>\n",
       "    </tr>\n",
       "    <tr>\n",
       "      <th>1</th>\n",
       "      <td>african american</td>\n",
       "      <td>3684</td>\n",
       "      <td>0.039216</td>\n",
       "    </tr>\n",
       "    <tr>\n",
       "      <th>2</th>\n",
       "      <td>african american</td>\n",
       "      <td>3790</td>\n",
       "      <td>0.877551</td>\n",
       "    </tr>\n",
       "    <tr>\n",
       "      <th>3</th>\n",
       "      <td>african american</td>\n",
       "      <td>3865</td>\n",
       "      <td>0.222222</td>\n",
       "    </tr>\n",
       "    <tr>\n",
       "      <th>4</th>\n",
       "      <td>african american</td>\n",
       "      <td>4028</td>\n",
       "      <td>0.195122</td>\n",
       "    </tr>\n",
       "  </tbody>\n",
       "</table>\n",
       "</div>"
      ],
      "text/plain": [
       "       subject_race  OfficerAbra  hit_rate\n",
       "0  african american         3574  0.028571\n",
       "1  african american         3684  0.039216\n",
       "2  african american         3790  0.877551\n",
       "3  african american         3865  0.222222\n",
       "4  african american         4028  0.195122"
      ]
     },
     "execution_count": 39,
     "metadata": {},
     "output_type": "execute_result"
    }
   ],
   "source": [
    "hit_rates = (stops_2018_experienced_officers[stops_2018_experienced_officers['search_conducted']]\n",
    "             .groupby(['subject_race', 'OfficerAbra'], as_index=False)['contraband_found']\n",
    "             .agg({'hit_rate': np.mean}))\n",
    "hit_rates.head()"
   ]
  },
  {
   "cell_type": "code",
   "execution_count": 40,
   "metadata": {},
   "outputs": [
    {
     "data": {
      "text/html": [
       "<div>\n",
       "<style scoped>\n",
       "    .dataframe tbody tr th:only-of-type {\n",
       "        vertical-align: middle;\n",
       "    }\n",
       "\n",
       "    .dataframe tbody tr th {\n",
       "        vertical-align: top;\n",
       "    }\n",
       "\n",
       "    .dataframe thead th {\n",
       "        text-align: right;\n",
       "    }\n",
       "</style>\n",
       "<table border=\"1\" class=\"dataframe\">\n",
       "  <thead>\n",
       "    <tr style=\"text-align: right;\">\n",
       "      <th></th>\n",
       "      <th>subject_race</th>\n",
       "      <th>OfficerAbra</th>\n",
       "      <th>hit_rate</th>\n",
       "    </tr>\n",
       "  </thead>\n",
       "  <tbody>\n",
       "    <tr>\n",
       "      <th>0</th>\n",
       "      <td>african american</td>\n",
       "      <td>3574</td>\n",
       "      <td>0.028571</td>\n",
       "    </tr>\n",
       "    <tr>\n",
       "      <th>1</th>\n",
       "      <td>african american</td>\n",
       "      <td>3684</td>\n",
       "      <td>0.039216</td>\n",
       "    </tr>\n",
       "    <tr>\n",
       "      <th>2</th>\n",
       "      <td>african american</td>\n",
       "      <td>3790</td>\n",
       "      <td>0.877551</td>\n",
       "    </tr>\n",
       "    <tr>\n",
       "      <th>3</th>\n",
       "      <td>african american</td>\n",
       "      <td>3865</td>\n",
       "      <td>0.222222</td>\n",
       "    </tr>\n",
       "    <tr>\n",
       "      <th>4</th>\n",
       "      <td>african american</td>\n",
       "      <td>4028</td>\n",
       "      <td>0.195122</td>\n",
       "    </tr>\n",
       "  </tbody>\n",
       "</table>\n",
       "</div>"
      ],
      "text/plain": [
       "       subject_race  OfficerAbra  hit_rate\n",
       "0  african american         3574  0.028571\n",
       "1  african american         3684  0.039216\n",
       "2  african american         3790  0.877551\n",
       "3  african american         3865  0.222222\n",
       "4  african american         4028  0.195122"
      ]
     },
     "execution_count": 40,
     "metadata": {},
     "output_type": "execute_result"
    }
   ],
   "source": [
    "calc_hit_rates(stops_2018_experienced_officers, ['subject_race', 'OfficerAbra']).head()"
   ]
  },
  {
   "cell_type": "markdown",
   "metadata": {},
   "source": [
    "Especially because we are grouping based on the police officer, rather than police districts, we have a huge table that is hard to interpret. Let us plot the hit rates of minority racial groups as compared to white drivers. In order to do so, we would need to reshape our hit rate dataframe such that for each police officer, we have their hit rate on whites and also their hit rates on each of the minority races. This requires some imaginative reshaping that might not be very intuitive. However, the key thing to note is that there are 2 key functions that can reshape pandas dataframe: `pivot_table` and `melt`. They are essentially opposites. The former pivots a dataframe to a wide format; the latter unpivots a dataframe to a long format. We basically want to replicate white hit rates as an additional column for every instance of a minority hit rate. Take your time to try to understand the code, and read up the documentation if you are still not clear!"
   ]
  },
  {
   "cell_type": "code",
   "execution_count": 41,
   "metadata": {},
   "outputs": [
    {
     "data": {
      "text/html": [
       "<div>\n",
       "<style scoped>\n",
       "    .dataframe tbody tr th:only-of-type {\n",
       "        vertical-align: middle;\n",
       "    }\n",
       "\n",
       "    .dataframe tbody tr th {\n",
       "        vertical-align: top;\n",
       "    }\n",
       "\n",
       "    .dataframe thead th {\n",
       "        text-align: right;\n",
       "    }\n",
       "</style>\n",
       "<table border=\"1\" class=\"dataframe\">\n",
       "  <thead>\n",
       "    <tr style=\"text-align: right;\">\n",
       "      <th></th>\n",
       "      <th>OfficerAbra</th>\n",
       "      <th>white_hit_rate</th>\n",
       "      <th>minority_race</th>\n",
       "      <th>minority_hit_rate</th>\n",
       "    </tr>\n",
       "  </thead>\n",
       "  <tbody>\n",
       "    <tr>\n",
       "      <th>0</th>\n",
       "      <td>3574</td>\n",
       "      <td>0.500</td>\n",
       "      <td>african american</td>\n",
       "      <td>0.028571</td>\n",
       "    </tr>\n",
       "    <tr>\n",
       "      <th>1</th>\n",
       "      <td>3574</td>\n",
       "      <td>0.500</td>\n",
       "      <td>hispanic</td>\n",
       "      <td>0.000000</td>\n",
       "    </tr>\n",
       "    <tr>\n",
       "      <th>2</th>\n",
       "      <td>3574</td>\n",
       "      <td>0.500</td>\n",
       "      <td>asian/pacific islander</td>\n",
       "      <td>0.000000</td>\n",
       "    </tr>\n",
       "    <tr>\n",
       "      <th>3</th>\n",
       "      <td>3684</td>\n",
       "      <td>0.125</td>\n",
       "      <td>african american</td>\n",
       "      <td>0.039216</td>\n",
       "    </tr>\n",
       "    <tr>\n",
       "      <th>4</th>\n",
       "      <td>3684</td>\n",
       "      <td>0.125</td>\n",
       "      <td>hispanic</td>\n",
       "      <td>0.076923</td>\n",
       "    </tr>\n",
       "  </tbody>\n",
       "</table>\n",
       "</div>"
      ],
      "text/plain": [
       "   OfficerAbra  white_hit_rate           minority_race  minority_hit_rate\n",
       "0         3574           0.500        african american           0.028571\n",
       "1         3574           0.500                hispanic           0.000000\n",
       "2         3574           0.500  asian/pacific islander           0.000000\n",
       "3         3684           0.125        african american           0.039216\n",
       "4         3684           0.125                hispanic           0.076923"
      ]
     },
     "execution_count": 41,
     "metadata": {},
     "output_type": "execute_result"
    }
   ],
   "source": [
    "(pd\n",
    " .pivot_table(hit_rates, \n",
    "              index='OfficerAbra', \n",
    "              columns='subject_race', \n",
    "              values='hit_rate', \n",
    "              fill_value=0)\n",
    " .rename({'white': 'white_hit_rate'}, axis=1).reset_index()\n",
    " .melt(id_vars=['OfficerAbra', 'white_hit_rate'], \n",
    "       #value_vars=['african american', 'asian/pacific islander', 'hispanic', 'other/unknown'],\n",
    "       value_name='minority_hit_rate')\n",
    " .sort_values('OfficerAbra')\n",
    " .reset_index(drop=True)\n",
    " .rename({'subject_race': 'minority_race'}, axis=1)).head()"
   ]
  },
  {
   "cell_type": "code",
   "execution_count": 42,
   "metadata": {},
   "outputs": [
    {
     "data": {
      "text/html": [
       "<div>\n",
       "<style scoped>\n",
       "    .dataframe tbody tr th:only-of-type {\n",
       "        vertical-align: middle;\n",
       "    }\n",
       "\n",
       "    .dataframe tbody tr th {\n",
       "        vertical-align: top;\n",
       "    }\n",
       "\n",
       "    .dataframe thead th {\n",
       "        text-align: right;\n",
       "    }\n",
       "</style>\n",
       "<table border=\"1\" class=\"dataframe\">\n",
       "  <thead>\n",
       "    <tr style=\"text-align: right;\">\n",
       "      <th></th>\n",
       "      <th>OfficerAbra</th>\n",
       "      <th>white_hit_rate</th>\n",
       "      <th>minority_group</th>\n",
       "      <th>minority_hit_rate</th>\n",
       "    </tr>\n",
       "  </thead>\n",
       "  <tbody>\n",
       "    <tr>\n",
       "      <th>0</th>\n",
       "      <td>3574</td>\n",
       "      <td>0.500</td>\n",
       "      <td>african american</td>\n",
       "      <td>0.028571</td>\n",
       "    </tr>\n",
       "    <tr>\n",
       "      <th>1</th>\n",
       "      <td>3574</td>\n",
       "      <td>0.500</td>\n",
       "      <td>asian/pacific islander</td>\n",
       "      <td>0.000000</td>\n",
       "    </tr>\n",
       "    <tr>\n",
       "      <th>2</th>\n",
       "      <td>3574</td>\n",
       "      <td>0.500</td>\n",
       "      <td>hispanic</td>\n",
       "      <td>0.000000</td>\n",
       "    </tr>\n",
       "    <tr>\n",
       "      <th>3</th>\n",
       "      <td>3684</td>\n",
       "      <td>0.125</td>\n",
       "      <td>african american</td>\n",
       "      <td>0.039216</td>\n",
       "    </tr>\n",
       "    <tr>\n",
       "      <th>4</th>\n",
       "      <td>3684</td>\n",
       "      <td>0.125</td>\n",
       "      <td>asian/pacific islander</td>\n",
       "      <td>0.333333</td>\n",
       "    </tr>\n",
       "  </tbody>\n",
       "</table>\n",
       "</div>"
      ],
      "text/plain": [
       "   OfficerAbra  white_hit_rate          minority_group  minority_hit_rate\n",
       "0         3574           0.500        african american           0.028571\n",
       "1         3574           0.500  asian/pacific islander           0.000000\n",
       "2         3574           0.500                hispanic           0.000000\n",
       "3         3684           0.125        african american           0.039216\n",
       "4         3684           0.125  asian/pacific islander           0.333333"
      ]
     },
     "execution_count": 42,
     "metadata": {},
     "output_type": "execute_result"
    }
   ],
   "source": [
    "from calculations import compare_rates\n",
    "\n",
    "hit_rates = compare_rates('hit_rate', \n",
    "                          hit_rates, \n",
    "                          'white', \n",
    "                          ['african american', 'hispanic', 'asian/pacific islander'], \n",
    "                          'subject_race')\n",
    "hit_rates.head()"
   ]
  },
  {
   "cell_type": "markdown",
   "metadata": {},
   "source": [
    "Now let us make some comparison plots! For these plots, we would not carry out a tutorial, as it would essentially be a `matplotlib` and `seaborn` tutorial, that could possibly be a stand-alone tutorial. If you are interested, you can take a look at the github code for more details. However, we are essentially using the `FacetGrid` function under `seaborn` to plot several scatterplots based on the minority group categories."
   ]
  },
  {
   "cell_type": "code",
   "execution_count": 43,
   "metadata": {},
   "outputs": [
    {
     "data": {
      "image/png": "[encoded data removed]",
      "text/plain": [
       "<Figure size 1088x360 with 3 Axes>"
      ]
     },
     "metadata": {},
     "output_type": "display_data"
    }
   ],
   "source": [
    "plot_rates_comparison('hit_rate', hit_rates, 'white', 'minority_group', None)"
   ]
  },
  {
   "cell_type": "markdown",
   "metadata": {},
   "source": [
    "What if the datapoints which are above the 45 degree line (i.e. where minority hit rate is equal to white hit rate) have most of the population within Sacremento? That might suggest that we should give those datapoints more weight. Intuitively, each police officer has different number of total searches. As such, we should include the total number of searches for each police officer as an additional dimension. This would similarly be the case if we were using police districts as well. Let us update our dataframe as well as our plots."
   ]
  },
  {
   "cell_type": "code",
   "execution_count": 44,
   "metadata": {},
   "outputs": [
    {
     "data": {
      "text/html": [
       "<div>\n",
       "<style scoped>\n",
       "    .dataframe tbody tr th:only-of-type {\n",
       "        vertical-align: middle;\n",
       "    }\n",
       "\n",
       "    .dataframe tbody tr th {\n",
       "        vertical-align: top;\n",
       "    }\n",
       "\n",
       "    .dataframe thead th {\n",
       "        text-align: right;\n",
       "    }\n",
       "</style>\n",
       "<table border=\"1\" class=\"dataframe\">\n",
       "  <thead>\n",
       "    <tr style=\"text-align: right;\">\n",
       "      <th></th>\n",
       "      <th>OfficerAbra</th>\n",
       "      <th>white_hit_rate</th>\n",
       "      <th>minority_group</th>\n",
       "      <th>minority_hit_rate</th>\n",
       "      <th>num_searches</th>\n",
       "    </tr>\n",
       "  </thead>\n",
       "  <tbody>\n",
       "    <tr>\n",
       "      <th>0</th>\n",
       "      <td>3574</td>\n",
       "      <td>0.500</td>\n",
       "      <td>african american</td>\n",
       "      <td>0.028571</td>\n",
       "      <td>49</td>\n",
       "    </tr>\n",
       "    <tr>\n",
       "      <th>1</th>\n",
       "      <td>3574</td>\n",
       "      <td>0.500</td>\n",
       "      <td>asian/pacific islander</td>\n",
       "      <td>0.000000</td>\n",
       "      <td>49</td>\n",
       "    </tr>\n",
       "    <tr>\n",
       "      <th>2</th>\n",
       "      <td>3574</td>\n",
       "      <td>0.500</td>\n",
       "      <td>hispanic</td>\n",
       "      <td>0.000000</td>\n",
       "      <td>49</td>\n",
       "    </tr>\n",
       "    <tr>\n",
       "      <th>3</th>\n",
       "      <td>3684</td>\n",
       "      <td>0.125</td>\n",
       "      <td>african american</td>\n",
       "      <td>0.039216</td>\n",
       "      <td>88</td>\n",
       "    </tr>\n",
       "    <tr>\n",
       "      <th>4</th>\n",
       "      <td>3684</td>\n",
       "      <td>0.125</td>\n",
       "      <td>asian/pacific islander</td>\n",
       "      <td>0.333333</td>\n",
       "      <td>88</td>\n",
       "    </tr>\n",
       "  </tbody>\n",
       "</table>\n",
       "</div>"
      ],
      "text/plain": [
       "   OfficerAbra  white_hit_rate          minority_group  minority_hit_rate  \\\n",
       "0         3574           0.500        african american           0.028571   \n",
       "1         3574           0.500  asian/pacific islander           0.000000   \n",
       "2         3574           0.500                hispanic           0.000000   \n",
       "3         3684           0.125        african american           0.039216   \n",
       "4         3684           0.125  asian/pacific islander           0.333333   \n",
       "\n",
       "   num_searches  \n",
       "0            49  \n",
       "1            49  \n",
       "2            49  \n",
       "3            88  \n",
       "4            88  "
      ]
     },
     "execution_count": 44,
     "metadata": {},
     "output_type": "execute_result"
    }
   ],
   "source": [
    "hit_rates_search = hit_rates.merge(calc_group_size(stops_2018_experienced_officers[stops_2018_experienced_officers['search_conducted']], ['OfficerAbra'], False), \n",
    "                                   how='left', on='OfficerAbra')\n",
    "hit_rates_search.rename({'n': 'num_searches'}, axis=1, inplace=True)\n",
    "hit_rates_search.head()"
   ]
  },
  {
   "cell_type": "code",
   "execution_count": 45,
   "metadata": {},
   "outputs": [
    {
     "data": {
      "image/png": "[encoded data removed]",
      "text/plain": [
       "<Figure size 1190.89x360 with 3 Axes>"
      ]
     },
     "metadata": {},
     "output_type": "display_data"
    }
   ],
   "source": [
    "plot_rates_comparison('hit_rate', \n",
    "                      hit_rates_search, \n",
    "                      'white', 'minority_group', 'num_searches', \n",
    "                      marker_size_scale = 0.5)"
   ]
  },
  {
   "cell_type": "code",
   "execution_count": 46,
   "metadata": {},
   "outputs": [
    {
     "data": {
      "text/plain": [
       "array([4166, 4246, 4275, 4303, 4376, 4438, 4442, 4443, 4486, 4512])"
      ]
     },
     "execution_count": 46,
     "metadata": {},
     "output_type": "execute_result"
    }
   ],
   "source": [
    "hit_rates_search[hit_rates_search['white_hit_rate'] == 0]['OfficerAbra'].unique()"
   ]
  },
  {
   "cell_type": "code",
   "execution_count": 47,
   "metadata": {},
   "outputs": [
    {
     "data": {
      "text/plain": [
       "OfficerAbra  subject_race          \n",
       "4166         african american          123\n",
       "             asian/pacific islander      8\n",
       "             hispanic                   45\n",
       "             white                      10\n",
       "4246         african american           68\n",
       "             asian/pacific islander      5\n",
       "             hispanic                   30\n",
       "             white                      15\n",
       "4275         african american          112\n",
       "             asian/pacific islander     11\n",
       "             hispanic                   52\n",
       "             white                      17\n",
       "4303         african american           55\n",
       "             asian/pacific islander      2\n",
       "             hispanic                   13\n",
       "             white                       4\n",
       "4376         african american           84\n",
       "             asian/pacific islander      4\n",
       "             hispanic                   35\n",
       "             white                      28\n",
       "4438         african american           70\n",
       "             asian/pacific islander      4\n",
       "             hispanic                   24\n",
       "             white                      22\n",
       "4442         african american           84\n",
       "             asian/pacific islander     15\n",
       "             hispanic                   36\n",
       "             white                      11\n",
       "4443         african american          101\n",
       "             asian/pacific islander      6\n",
       "             hispanic                   41\n",
       "             white                      11\n",
       "4486         african american          101\n",
       "             asian/pacific islander     13\n",
       "             hispanic                   34\n",
       "             white                      30\n",
       "4512         african american           88\n",
       "             asian/pacific islander      7\n",
       "             hispanic                   45\n",
       "             white                      58\n",
       "Name: search_conducted, dtype: int64"
      ]
     },
     "execution_count": 47,
     "metadata": {},
     "output_type": "execute_result"
    }
   ],
   "source": [
    "stops_2018_experienced_officers[stops_2018_experienced_officers['OfficerAbra']\\\n",
    "                                .isin(hit_rates_search[hit_rates_search['white_hit_rate'] == 0]['OfficerAbra'].unique())]\\\n",
    "                                .groupby(['OfficerAbra', 'subject_race'])['search_conducted'].count()"
   ]
  },
  {
   "cell_type": "code",
   "execution_count": 48,
   "metadata": {},
   "outputs": [
    {
     "data": {
      "text/plain": [
       "OfficerAbra  subject_race          \n",
       "3574         african american           72\n",
       "             asian/pacific islander      4\n",
       "             hispanic                   32\n",
       "             white                      16\n",
       "3865         african american           58\n",
       "             asian/pacific islander     12\n",
       "             hispanic                   73\n",
       "             white                      36\n",
       "4028         african american          153\n",
       "             asian/pacific islander      9\n",
       "             hispanic                   68\n",
       "             white                      30\n",
       "4075         african american           52\n",
       "             asian/pacific islander      6\n",
       "             hispanic                   28\n",
       "             white                      21\n",
       "4111         african american           91\n",
       "             asian/pacific islander     37\n",
       "             hispanic                  119\n",
       "             white                     106\n",
       "4114         african american          126\n",
       "             asian/pacific islander      2\n",
       "             hispanic                   55\n",
       "             white                      43\n",
       "4128         african american          205\n",
       "             asian/pacific islander      4\n",
       "             hispanic                   50\n",
       "             white                      20\n",
       "4160         african american           50\n",
       "             asian/pacific islander     11\n",
       "                                      ... \n",
       "4442         hispanic                   36\n",
       "             white                      11\n",
       "4443         african american          101\n",
       "             asian/pacific islander      6\n",
       "             hispanic                   41\n",
       "             white                      11\n",
       "4480         african american          113\n",
       "             asian/pacific islander     16\n",
       "             hispanic                   38\n",
       "             white                      36\n",
       "4489         african american           78\n",
       "             asian/pacific islander      9\n",
       "             hispanic                   33\n",
       "             white                      31\n",
       "4490         african american           78\n",
       "             asian/pacific islander     14\n",
       "             hispanic                   32\n",
       "             white                      23\n",
       "4527         african american          123\n",
       "             asian/pacific islander      8\n",
       "             hispanic                   68\n",
       "             white                      72\n",
       "4543         african american           65\n",
       "             asian/pacific islander     13\n",
       "             hispanic                   42\n",
       "             white                      37\n",
       "4564         african american           56\n",
       "             asian/pacific islander     14\n",
       "             hispanic                   42\n",
       "             white                      44\n",
       "Name: search_conducted, Length: 96, dtype: int64"
      ]
     },
     "execution_count": 48,
     "metadata": {},
     "output_type": "execute_result"
    }
   ],
   "source": [
    "stops_2018_experienced_officers[stops_2018_experienced_officers['OfficerAbra']\\\n",
    "                                .isin(hit_rates_search[hit_rates_search['minority_hit_rate'] == 0]['OfficerAbra'].unique())]\\\n",
    "                                .groupby(['OfficerAbra', 'subject_race'])['search_conducted'].count()"
   ]
  },
  {
   "cell_type": "markdown",
   "metadata": {},
   "source": [
    "Due to the huge disparity between the number of searches of each police officer, we decided to not bin the number of searches like in the Stanford Open Policy Project (which was with respect to police districts rather than police officers). This would allow us to better identify the outliers in our dataset. \n",
    "\n",
    "Ideally, we would want a good spread of hit rates around the 45 degree line, suggesting similar white and minority hit rates. However, for African American/Hispanic drivers, there seems to be a subtantial number of police officers with data points located to the right of the 45 degree line. These police officers have lower African American/Hispanic hit rates as compared to White hit rates. This means that they were less successful with their minority searches. As such, this might be reason to believe that there might be racial profiling in police stops, as it indicates that the police officers are searching these individuals just because of their race. There are some officers with 0 hit rate for White drivers, but looking at these officers, most of them searched White drivers very few times to begin with! In contrast, there are some officers with 0 hit rate for African American/Hispanic drivers, but looking at these offiers, most of them have searched quite a large number of the minority race! This further strengthens the evidence that there is racial bias.\n",
    "\n",
    "The Asian/Pacific Islander plot is largely made up of points lined along the x-axis, suggesting that police officers either have zero hit rate on Asian/Pacific Islanders. This is largely because of the small number of Asian/Pacific Islander stops in general as mentioned before."
   ]
  },
  {
   "cell_type": "markdown",
   "metadata": {},
   "source": [
    "### Caveats about the outcome test"
   ]
  },
  {
   "cell_type": "markdown",
   "metadata": {},
   "source": [
    "The outcome test is a relatively simple yet compelling way to demonstrate discrimination in an easily understood graph. However, as it only observes outcomes, they actually suffer from the problem of **intra-marginality**. This means that even without discrimination, there might be a disparity across racial groups because of a difference in risk distribution within racial groups. \n",
    "\n",
    "Suppose there are only 2 types of White drivers: those who have a 1% chance of carrying contraband, those who have a 80% chance of carrying contraband. Similarly, there are 2 types of African American drivers: those who have a 1% chance of carrying contraband, those who have a 60% chance of carrying contraband. If race-neutral police officers only search drivers who have at least a 10% chance of carrying contraband, they will be successful 80% of the time with white drivers, and 60% of the time with African American drivers. This is irregardless of the proportion within racial groups of carrying contraband! [https://5harad.com/papers/threshold-test.pdf]\n",
    "\n",
    "As such, we often use the threshold test, which circumvents the limitations of outcome tests by simultaneously estimating decision thresholds and risk distributions, in order to validate the outcome test. "
   ]
  },
  {
   "cell_type": "markdown",
   "metadata": {},
   "source": [
    "## Threshold Test\n",
    "***"
   ]
  },
  {
   "cell_type": "markdown",
   "metadata": {},
   "source": [
    "The threshold test is essentially a comparison of search threshold rates between the majority and minority groups. In order to model these threshold rates, we will have to construct a hierarchical Bayesian latent variable model. This might sound intimidating, but the intuition behind this generative model is relatively simple. The model is called a hierarchical model because the model is organized in a tree-like structure, modeling a decision making process, i.e. the probability of stopping a driver as being driven by two 'higher-level' factors: the driver's race and the individual police officer's judgement. The latent variable refers to the unobserved threshold rates and individual probabilistic judgements that guide the decision making process of police officers when they make a stop decision. As we observe the stop and hit rates in our dataset, we can then model and thus infer what are these unobserved latent variables. \n",
    "\n",
    "Essentially, we are modeling a decision process. We assume that when police officers stop a driver, they form their own probabilities, $p_i$ that the stopped driver has contrabands based on the driver’s minority group  and their own individual judgement. They also have an individual threshold $t_i$ for each minority group for deciding when to search a stopped driver. If $p_i \\geq t_i$ they decide to search the stopped driver. The success of the search is then a draw from a $Bern~(p_i)$ distribution. If there is a significant difference in thresholds across groups, we may have reason to believe that there is minority group profiling. \n",
    "\n",
    "The modeling is done through a Monte Carlo Markov Chain (MCMC) sampling process. For the purposes of this analysis, you only need to understand the model structure and modeling assumptions. We have provided a `.stan` file that would make the actual modeling very simple. In a MCMC sampling process, we essentially approximate distributions by sampling from them. In our sampler, after we model the decision process that we have explained above, we are essentially sampling from the posterior distributions for, most importantly, the threshold rates. \n",
    "\n",
    "To use our data with the `.stan` file, we have to change the format of our dataframe slightly. We start by constructing a similar dataframe detailing the number of stops, searches, and the search and hit rates for each police officer and each race. We then one-hot encode the categories (the police officer and the subject race) by using `.replace` to replace each category with unique integers."
   ]
  },
  {
   "cell_type": "code",
   "execution_count": 49,
   "metadata": {},
   "outputs": [
    {
     "data": {
      "text/html": [
       "<div>\n",
       "<style scoped>\n",
       "    .dataframe tbody tr th:only-of-type {\n",
       "        vertical-align: middle;\n",
       "    }\n",
       "\n",
       "    .dataframe tbody tr th {\n",
       "        vertical-align: top;\n",
       "    }\n",
       "\n",
       "    .dataframe thead th {\n",
       "        text-align: right;\n",
       "    }\n",
       "</style>\n",
       "<table border=\"1\" class=\"dataframe\">\n",
       "  <thead>\n",
       "    <tr style=\"text-align: right;\">\n",
       "      <th></th>\n",
       "      <th>OfficerAbra</th>\n",
       "      <th>subject_race</th>\n",
       "      <th>num_stops</th>\n",
       "      <th>num_searches</th>\n",
       "      <th>num_hits</th>\n",
       "      <th>search_rate</th>\n",
       "      <th>hit_rate</th>\n",
       "    </tr>\n",
       "  </thead>\n",
       "  <tbody>\n",
       "    <tr>\n",
       "      <th>0</th>\n",
       "      <td>3574</td>\n",
       "      <td>african american</td>\n",
       "      <td>72</td>\n",
       "      <td>35</td>\n",
       "      <td>1</td>\n",
       "      <td>0.486111</td>\n",
       "      <td>0.028571</td>\n",
       "    </tr>\n",
       "    <tr>\n",
       "      <th>1</th>\n",
       "      <td>3574</td>\n",
       "      <td>asian/pacific islander</td>\n",
       "      <td>4</td>\n",
       "      <td>1</td>\n",
       "      <td>0</td>\n",
       "      <td>0.250000</td>\n",
       "      <td>0.000000</td>\n",
       "    </tr>\n",
       "    <tr>\n",
       "      <th>2</th>\n",
       "      <td>3574</td>\n",
       "      <td>hispanic</td>\n",
       "      <td>32</td>\n",
       "      <td>9</td>\n",
       "      <td>0</td>\n",
       "      <td>0.281250</td>\n",
       "      <td>0.000000</td>\n",
       "    </tr>\n",
       "    <tr>\n",
       "      <th>3</th>\n",
       "      <td>3574</td>\n",
       "      <td>white</td>\n",
       "      <td>16</td>\n",
       "      <td>4</td>\n",
       "      <td>2</td>\n",
       "      <td>0.250000</td>\n",
       "      <td>0.500000</td>\n",
       "    </tr>\n",
       "    <tr>\n",
       "      <th>4</th>\n",
       "      <td>3684</td>\n",
       "      <td>african american</td>\n",
       "      <td>81</td>\n",
       "      <td>51</td>\n",
       "      <td>2</td>\n",
       "      <td>0.629630</td>\n",
       "      <td>0.039216</td>\n",
       "    </tr>\n",
       "  </tbody>\n",
       "</table>\n",
       "</div>"
      ],
      "text/plain": [
       "   OfficerAbra            subject_race  num_stops  num_searches  num_hits  \\\n",
       "0         3574        african american         72            35         1   \n",
       "1         3574  asian/pacific islander          4             1         0   \n",
       "2         3574                hispanic         32             9         0   \n",
       "3         3574                   white         16             4         2   \n",
       "4         3684        african american         81            51         2   \n",
       "\n",
       "   search_rate  hit_rate  \n",
       "0     0.486111  0.028571  \n",
       "1     0.250000  0.000000  \n",
       "2     0.281250  0.000000  \n",
       "3     0.250000  0.500000  \n",
       "4     0.629630  0.039216  "
      ]
     },
     "execution_count": 49,
     "metadata": {},
     "output_type": "execute_result"
    }
   ],
   "source": [
    "threshold_dat = (stops_2018_experienced_officers # for ease of analysis, drop other/unknown, and select only \n",
    "                 .groupby(['OfficerAbra', 'subject_race'], as_index=False)\n",
    "                 .agg({'Idx': 'count', # num of stops\n",
    "                       'search_conducted': 'sum', # num of searches\n",
    "                       'contraband_found': 'sum'})\n",
    "                 .rename({'Idx': 'num_stops',\n",
    "                          'search_conducted': 'num_searches',\n",
    "                          'contraband_found': 'num_hits'}, axis=1)) # num of hits\n",
    "\n",
    "threshold_dat = threshold_dat[threshold_dat['num_searches']!=0] # only those with searches\n",
    "threshold_dat['search_rate'] = threshold_dat['num_searches'] / threshold_dat['num_stops']\n",
    "threshold_dat['hit_rate'] = threshold_dat['num_hits'] / threshold_dat['num_searches']\n",
    "threshold_dat.sort_values('OfficerAbra')\n",
    "threshold_dat.reset_index(drop=True, inplace=True)\n",
    "threshold_dat['num_searches'] = threshold_dat['num_searches'].astype(int)\n",
    "threshold_dat['num_hits'] = threshold_dat['num_hits'].astype(int)\n",
    "threshold_dat.head()"
   ]
  },
  {
   "cell_type": "code",
   "execution_count": 50,
   "metadata": {},
   "outputs": [
    {
     "data": {
      "text/html": [
       "<div>\n",
       "<style scoped>\n",
       "    .dataframe tbody tr th:only-of-type {\n",
       "        vertical-align: middle;\n",
       "    }\n",
       "\n",
       "    .dataframe tbody tr th {\n",
       "        vertical-align: top;\n",
       "    }\n",
       "\n",
       "    .dataframe thead th {\n",
       "        text-align: right;\n",
       "    }\n",
       "</style>\n",
       "<table border=\"1\" class=\"dataframe\">\n",
       "  <thead>\n",
       "    <tr style=\"text-align: right;\">\n",
       "      <th></th>\n",
       "      <th>d</th>\n",
       "      <th>r</th>\n",
       "      <th>n</th>\n",
       "      <th>s</th>\n",
       "      <th>h</th>\n",
       "      <th>search_rate</th>\n",
       "      <th>hit_rate</th>\n",
       "    </tr>\n",
       "  </thead>\n",
       "  <tbody>\n",
       "    <tr>\n",
       "      <th>0</th>\n",
       "      <td>1</td>\n",
       "      <td>1</td>\n",
       "      <td>72</td>\n",
       "      <td>35</td>\n",
       "      <td>1</td>\n",
       "      <td>0.486111</td>\n",
       "      <td>0.028571</td>\n",
       "    </tr>\n",
       "    <tr>\n",
       "      <th>1</th>\n",
       "      <td>1</td>\n",
       "      <td>2</td>\n",
       "      <td>4</td>\n",
       "      <td>1</td>\n",
       "      <td>0</td>\n",
       "      <td>0.250000</td>\n",
       "      <td>0.000000</td>\n",
       "    </tr>\n",
       "    <tr>\n",
       "      <th>2</th>\n",
       "      <td>1</td>\n",
       "      <td>3</td>\n",
       "      <td>32</td>\n",
       "      <td>9</td>\n",
       "      <td>0</td>\n",
       "      <td>0.281250</td>\n",
       "      <td>0.000000</td>\n",
       "    </tr>\n",
       "    <tr>\n",
       "      <th>3</th>\n",
       "      <td>1</td>\n",
       "      <td>4</td>\n",
       "      <td>16</td>\n",
       "      <td>4</td>\n",
       "      <td>2</td>\n",
       "      <td>0.250000</td>\n",
       "      <td>0.500000</td>\n",
       "    </tr>\n",
       "    <tr>\n",
       "      <th>4</th>\n",
       "      <td>2</td>\n",
       "      <td>1</td>\n",
       "      <td>81</td>\n",
       "      <td>51</td>\n",
       "      <td>2</td>\n",
       "      <td>0.629630</td>\n",
       "      <td>0.039216</td>\n",
       "    </tr>\n",
       "  </tbody>\n",
       "</table>\n",
       "</div>"
      ],
      "text/plain": [
       "   d  r   n   s  h  search_rate  hit_rate\n",
       "0  1  1  72  35  1     0.486111  0.028571\n",
       "1  1  2   4   1  0     0.250000  0.000000\n",
       "2  1  3  32   9  0     0.281250  0.000000\n",
       "3  1  4  16   4  2     0.250000  0.500000\n",
       "4  2  1  81  51  2     0.629630  0.039216"
      ]
     },
     "execution_count": 50,
     "metadata": {},
     "output_type": "execute_result"
    }
   ],
   "source": [
    "\"\"\"data {\n",
    "    int<lower=1> N; // number of observations\n",
    "    int<lower=1> R; // number of suspect races\n",
    "    int<lower=1> D; // number of counties\n",
    "\n",
    "    int<lower=1,upper=R> r[N]; // race of suspect\n",
    "    int<lower=1,upper=D> d[N]; // county where stop occurred\n",
    "    int<lower=1> n[N]; // # of stops\n",
    "    int<lower=0> s[N]; // # of searches\n",
    "    int<lower=0> h[N]; // # of successful searches (hits)\n",
    "}\n",
    "\"\"\"\n",
    "\n",
    "threshold_dat_stan = threshold_dat.copy()\n",
    "\n",
    "# easier if subject_race and OfficerAbra were encoded as categorical integers\n",
    "# trick such that values to be replaced are all strings\n",
    "threshold_dat_stan['OfficerAbra'] = [str(i) for i in threshold_dat_stan.OfficerAbra]\n",
    "threshold_dat_stan.replace({'OfficerAbra': {val: i + 1 for i, val in enumerate(threshold_dat_stan.OfficerAbra.unique())},\n",
    "                      'subject_race': {val: i + 1 for i, val in enumerate(threshold_dat_stan.subject_race.unique())}},\n",
    "                      inplace=True)\n",
    "threshold_dat_stan.columns = ['d', 'r', 'n', 's', 'h', 'search_rate', 'hit_rate']\n",
    "threshold_dat_stan.head()"
   ]
  },
  {
   "cell_type": "markdown",
   "metadata": {},
   "source": [
    "In order to run the `.stan` file, we then have to convert our dataframe into a dictionary of lists. After calling upon the provided `model.stan` file, we can then call the MCMC sampling process modeled in the file on our police stops data with `.sampling`. The function has several parameters but importantly, `iter` specifies the number of iterations that we run our sampling procedure for, `chain` specifies the number of separate sampling processes to run. It is thus imperative to understand one additional thing about a MCMC sampling process. When we try to sample from a distribution using any algorithm (in our case the `NUTS` Hamiltonian Monte Carlo algorithm), we need to confirm that the sampling distribution approximates the actual distribution specified in our model. Usually, the first few samples are essentially a random walk, and we thus have to sample a substantial number of iterations before the sampling distribution approximates the actual distribution. We also do several chains in order to compare the sampling distributions. \n",
    "\n",
    "As such, there are two important simple checks whenever a MCMC sampling process is called to ensure that the sampler has converged, which essentially means that the sampling distribution approximates the actual distribution. The first is the Gelman-Rubin convergence statistic which can be found in the summary of your sampling under the `Rhat` column. Without going into exact details, the `Rhat` should be less than 1.05 for your specified random variables. \n",
    "\n",
    "Traceplots are another way to check if the sampler has converged. For the random variable of interest, you essentially call a `.plot` on the sampling summary. The plot on the left is a density plot of the posterior distribution of the random variable; the plot on the right is the traceplot. The traceplot essentially plots the sampling process across the number of specified iterations for each chain. Each chain is specified in a different color. The traceplot should be stationary (constant mean and variance) over iterations, reflecting a stable sampler and we should expect that the traceplots for each chain to be largely similar, and thus overlapping. "
   ]
  },
  {
   "cell_type": "code",
   "execution_count": 51,
   "metadata": {},
   "outputs": [],
   "source": [
    "\n",
    "threshold_dat_dict = {\n",
    "                    'd': list(threshold_dat_stan['d']),\n",
    "                    'r': list(threshold_dat_stan['r']),\n",
    "                    'n': list(threshold_dat_stan['n']),\n",
    "                    's': list(threshold_dat_stan['s']),\n",
    "                    'h': list(threshold_dat_stan['h'])\n",
    "                     }\n",
    "threshold_dat_dict['N'] = len(threshold_dat_stan)\n",
    "threshold_dat_dict['R'] = len(threshold_dat_stan['r'].unique())\n",
    "threshold_dat_dict['D'] = len(threshold_dat_stan['d'].unique())"
   ]
  },
  {
   "cell_type": "code",
   "execution_count": 52,
   "metadata": {},
   "outputs": [],
   "source": [
    "#If using MACOS 10.9 use run this line\n",
    "os.environ['MACOSX_DEPLOYMENT_TARGET'] = '10.9'\n"
   ]
  },
  {
   "cell_type": "code",
   "execution_count": 53,
   "metadata": {},
   "outputs": [
    {
     "name": "stderr",
     "output_type": "stream",
     "text": [
      "INFO:pystan:COMPILING THE C++ CODE FOR MODEL anon_model_3ba3a30c7e329693c789bb873d21a2ab NOW.\n"
     ]
    }
   ],
   "source": [
    "stan_model = pystan.StanModel(file = 'model.stan');"
   ]
  },
  {
   "cell_type": "code",
   "execution_count": 54,
   "metadata": {},
   "outputs": [],
   "source": [
    "#Set fit_model to True if want to run fit again.\n",
    "fit_model = False\n",
    "\n",
    "if fit_model:\n",
    "    fit = stan_model.sampling(data=threshold_dat_dict, iter=5000, chains=2, algorithm = 'NUTS', control={'max_treedepth': 10,\n",
    "                                                                                                 'adapt_delta':0.9}\n",
    "                     )"
   ]
  },
  {
   "cell_type": "code",
   "execution_count": 55,
   "metadata": {},
   "outputs": [],
   "source": [
    "# Used to save or load fitted model\n",
    "\n",
    "# with open(\"race_model_fit.pkl\", \"wb\") as f:\n",
    "#     pickle.dump({'model' : sm, 'fit' : fit}, f, protocol=-1)\n",
    "\n",
    "    \n",
    "with open(\"race_model_fit.pkl\", \"rb\") as f:\n",
    "    data_dict = pickle.load(f)\n",
    "fit = data_dict['fit']\n"
   ]
  },
  {
   "cell_type": "code",
   "execution_count": 56,
   "metadata": {},
   "outputs": [
    {
     "name": "stderr",
     "output_type": "stream",
     "text": [
      "WARNING:pystan:Truncated summary with the 'fit.__repr__' method. For the full summary use 'print(fit)'\n"
     ]
    },
    {
     "data": {
      "text/plain": [
       "\n",
       "Warning: Shown data is truncated to 100 parameters\n",
       "For the full summary use 'print(fit)'\n",
       "\n",
       "Inference for Stan model: anon_model_3ba3a30c7e329693c789bb873d21a2ab.\n",
       "2 chains, each with iter=5000; warmup=2500; thin=1; \n",
       "post-warmup draws per chain=2500, total post-warmup draws=5000.\n",
       "\n",
       "                 mean se_mean     sd   2.5%    25%    50%    75%  97.5%  n_eff   Rhat\n",
       "sigma_t[1]       0.24  4.2e-3    0.2 8.3e-3   0.09   0.19   0.33   0.75   2296    1.0\n",
       "sigma_t[2]       0.48  6.9e-3    0.4   0.02   0.18   0.39   0.69   1.47   3423    1.0\n",
       "sigma_t[3]       0.31  4.9e-3   0.23   0.01   0.14   0.27   0.44   0.86   2166    1.0\n",
       "sigma_t[4]        0.7    0.01    0.5   0.03   0.33   0.61   0.98   1.95   1517    1.0\n",
       "mu_phi_d        -0.21  8.8e-3   0.33  -0.84  -0.43  -0.22 1.7e-3   0.47   1442    1.0\n",
       "sigma_phi_d      0.91  3.6e-3   0.14   0.68   0.81    0.9    1.0   1.21   1453    1.0\n",
       "mu_lambda_d     -0.31    0.01   0.54   -1.4  -0.66  -0.29   0.05    0.7   1363    1.0\n",
       "sigma_lambda_d   1.46  4.9e-3   0.23   1.07    1.3   1.44    1.6   1.97   2197    1.0\n",
       "t_r[1]          -4.11    0.02   0.63  -5.59  -4.44  -3.99  -3.66  -3.19   1763    1.0\n",
       "t_r[2]          -4.16    0.01   0.83   -6.1  -4.63  -4.03  -3.58  -2.88   3655    1.0\n",
       "t_r[3]           -3.9    0.01   0.65   -5.5  -4.24  -3.79  -3.45  -2.96   2116    1.0\n",
       "t_r[4]          -3.71    0.01   0.68  -5.36  -4.07  -3.58  -3.22  -2.72   2632    1.0\n",
       "t_i_raw[1]      -0.43    0.01   0.98  -2.38  -1.07  -0.43    0.2   1.51   9218    1.0\n",
       "t_i_raw[2]       0.03  8.7e-3   0.96  -1.89  -0.62   0.03   0.69   1.96  12221    1.0\n",
       "t_i_raw[3]        0.3  9.7e-3   0.96  -1.63  -0.32    0.3   0.94   2.15   9957    1.0\n",
       "t_i_raw[4]       0.22  9.0e-3    0.9  -1.64  -0.35   0.25   0.83   1.93  10029    1.0\n",
       "t_i_raw[5]      -0.28  9.1e-3   0.91   -2.1  -0.88  -0.29    0.3   1.54   9862    1.0\n",
       "t_i_raw[6]       0.22  9.0e-3   0.92  -1.58   -0.4   0.23   0.83    2.0  10580    1.0\n",
       "t_i_raw[7]       0.04  8.5e-3   0.87  -1.68  -0.53   0.04   0.61   1.75  10323    1.0\n",
       "t_i_raw[8]      -0.37  8.5e-3    0.8  -2.01   -0.9  -0.38   0.14   1.23   8956    1.0\n",
       "t_i_raw[9]      -0.04  8.2e-3   0.99  -2.02  -0.69  -0.04   0.62   1.94  14450    1.0\n",
       "t_i_raw[10]      0.04  9.4e-3    1.0  -1.93  -0.66   0.03   0.74    2.0  11346    1.0\n",
       "t_i_raw[11]      0.13  9.2e-3   1.01  -1.87  -0.56   0.13   0.83   2.08  11922    1.0\n",
       "t_i_raw[12]      0.07  8.6e-3   1.03  -1.98  -0.61   0.07   0.77   2.09  14493    1.0\n",
       "t_i_raw[13]     -0.12  9.1e-3   0.98  -2.04  -0.78  -0.11   0.54   1.77  11773    1.0\n",
       "t_i_raw[14]      0.11  8.3e-3   0.99  -1.87  -0.54   0.12   0.77   2.05  14246    1.0\n",
       "t_i_raw[15]     -0.14  8.8e-3   0.98  -2.09  -0.83  -0.14   0.53   1.82  12642    1.0\n",
       "t_i_raw[16]       0.8    0.02   1.07  -1.33   0.08   0.83   1.54   2.84   4167    1.0\n",
       "t_i_raw[17]      0.12  9.1e-3   0.92   -1.7   -0.5   0.14   0.75   1.89  10203    1.0\n",
       "t_i_raw[18]     -0.11  8.3e-3   0.95  -1.94  -0.75  -0.11   0.53   1.76  12998    1.0\n",
       "t_i_raw[19]      0.08  9.1e-3   0.87  -1.67  -0.49    0.1   0.67   1.77   9043    1.0\n",
       "t_i_raw[20]     -0.42  9.5e-3   0.84  -2.06  -0.98  -0.43   0.14   1.24   7870    1.0\n",
       "t_i_raw[21]       0.3  9.8e-3   1.02   -1.7   -0.4    0.3   0.98   2.33  10834    1.0\n",
       "t_i_raw[22]     -0.19  8.2e-3   0.97  -2.08  -0.85  -0.18   0.45   1.75  14123    1.0\n",
       "t_i_raw[23]     -0.09  8.8e-3   0.97  -2.01  -0.75  -0.08   0.57   1.79  12120    1.0\n",
       "t_i_raw[24]     -0.21    0.01   0.89  -1.95  -0.82   -0.2   0.38   1.54   7608    1.0\n",
       "t_i_raw[25]      0.37    0.01   0.99  -1.63  -0.29    0.4   1.07   2.24   8301    1.0\n",
       "t_i_raw[26]      0.04  8.9e-3   0.97  -1.89  -0.61   0.06    0.7   1.95  12057    1.0\n",
       "t_i_raw[27]      -0.2  8.6e-3   0.96  -2.11  -0.85  -0.19   0.46   1.68  12380    1.0\n",
       "t_i_raw[28]     -0.59    0.01    0.9  -2.31  -1.21   -0.6   0.01   1.24   6805    1.0\n",
       "t_i_raw[29]      0.07  9.4e-3   0.98   -1.9  -0.59   0.08   0.71   2.01  10881    1.0\n",
       "t_i_raw[30]      0.28  9.1e-3   0.99  -1.72  -0.38    0.3   0.95   2.17  11939    1.0\n",
       "t_i_raw[31]     -0.05  8.9e-3   0.98  -1.99  -0.72  -0.04   0.63   1.83  12052    1.0\n",
       "t_i_raw[32]     -0.47    0.01   0.85  -2.17  -1.03  -0.49   0.07   1.28   7133    1.0\n",
       "t_i_raw[33]     -0.36  9.8e-3   0.93  -2.19  -0.99  -0.37   0.26   1.49   8901    1.0\n",
       "t_i_raw[34]      0.06  9.2e-3    0.9  -1.75  -0.55   0.07   0.68   1.79   9728    1.0\n",
       "t_i_raw[35]      0.49    0.01   0.83  -1.25-7.5e-3   0.53   1.01   2.04   5739    1.0\n",
       "t_i_raw[36]      0.34    0.01    0.9  -1.48  -0.23   0.36   0.96   2.06   7549    1.0\n",
       "t_i_raw[37]     -0.34  9.8e-3   0.97  -2.24  -0.99  -0.36   0.32    1.6   9892    1.0\n",
       "t_i_raw[38]     -0.62    0.01   0.89  -2.29  -1.22  -0.64  -0.03   1.21   6082    1.0\n",
       "t_i_raw[39]      0.02  8.7e-3   0.75  -1.51  -0.45   0.03    0.5   1.51   7556    1.0\n",
       "t_i_raw[40]     -0.09  8.9e-3   0.99  -2.06  -0.75  -0.11   0.56   1.84  12335    1.0\n",
       "t_i_raw[41]       0.1  8.3e-3   1.02  -1.91  -0.61    0.1   0.78   2.11  14988    1.0\n",
       "t_i_raw[42]      0.14  9.2e-3   0.93  -1.67  -0.48   0.15   0.78   1.94  10353    1.0\n",
       "t_i_raw[43]      0.06  9.1e-3   0.93  -1.79  -0.57   0.08   0.71   1.85  10599    1.0\n",
       "t_i_raw[44]     -0.35  8.8e-3   0.95   -2.2   -1.0  -0.36   0.29   1.49  11542    1.0\n",
       "t_i_raw[45]     -0.09  9.0e-3   0.88  -1.85  -0.67   -0.1   0.48   1.66   9458    1.0\n",
       "t_i_raw[46]      0.15  8.3e-3   0.89  -1.64  -0.43   0.17   0.75   1.82  11446    1.0\n",
       "t_i_raw[47]   -2.3e-3  8.7e-3   0.92  -1.86  -0.61 4.6e-3   0.62   1.81  11283    1.0\n",
       "t_i_raw[48]    4.6e-3  8.9e-3   0.97  -1.92  -0.64 1.5e-3   0.68   1.88  11849    1.0\n",
       "t_i_raw[49]     -0.34    0.01   0.93   -2.1  -0.96  -0.35   0.27   1.49   7987    1.0\n",
       "t_i_raw[50]      0.25  9.8e-3   0.85  -1.56  -0.28   0.27   0.79   1.88   7584    1.0\n",
       "t_i_raw[51]     -0.24  8.5e-3   0.95   -2.1  -0.89  -0.26   0.39   1.62  12429    1.0\n",
       "t_i_raw[52]    8.3e-3  8.6e-3   0.98  -1.91  -0.65   0.03   0.68   1.87  12743    1.0\n",
       "t_i_raw[53]      0.24  8.7e-3   0.95  -1.68  -0.39   0.26   0.89   2.05  11974    1.0\n",
       "t_i_raw[54]     -0.06  8.4e-3   0.88  -1.78  -0.64  -0.06   0.53   1.68  10939    1.0\n",
       "t_i_raw[55]      0.13    0.01   0.97  -1.78  -0.53   0.13   0.77   2.02   8363    1.0\n",
       "t_i_raw[56]     -0.31  8.8e-3   0.97   -2.2  -0.96  -0.33   0.33    1.6  12135    1.0\n",
       "t_i_raw[57]      0.79    0.01   1.01  -1.26   0.13   0.84   1.48   2.63   5772    1.0\n",
       "t_i_raw[58]     -1.02    0.01   0.95  -2.78  -1.66  -1.04  -0.43   0.96   5300    1.0\n",
       "t_i_raw[59]      -0.1  9.2e-3   0.96  -2.03  -0.75  -0.09   0.53   1.76  10915    1.0\n",
       "t_i_raw[60]     -0.05  8.2e-3   0.97  -1.95  -0.69  -0.06   0.58   1.81  13890    1.0\n",
       "t_i_raw[61]    1.9e-3  9.1e-3   0.97  -1.95  -0.64   0.01   0.64   1.92  11296    1.0\n",
       "t_i_raw[62]      0.33  9.3e-3   0.93  -1.52  -0.28   0.35   0.96    2.1   9886    1.0\n",
       "t_i_raw[63]     -0.06  8.4e-3   0.92  -1.85  -0.67  -0.06   0.55   1.73  12001    1.0\n",
       "t_i_raw[64]      0.12  8.3e-3   0.95  -1.76  -0.53   0.14   0.77   1.92  13000    1.0\n",
       "t_i_raw[65]     -0.19  8.7e-3   0.94  -2.06  -0.79  -0.18   0.41   1.69  11506    1.0\n",
       "t_i_raw[66]       0.4    0.01   0.92  -1.49  -0.22   0.44   1.03   2.12   7846    1.0\n",
       "t_i_raw[67]      0.03  9.4e-3    0.9  -1.75  -0.56   0.03   0.64   1.79   9122    1.0\n",
       "t_i_raw[68]     -0.31  9.1e-3   0.96  -2.21  -0.94  -0.35   0.32   1.58  11066    1.0\n",
       "t_i_raw[69]     -0.28  9.1e-3   0.89  -2.04  -0.87  -0.28    0.3   1.51   9743    1.0\n",
       "t_i_raw[70]      0.75    0.01   0.92   -1.2   0.19   0.79   1.37   2.43   6022    1.0\n",
       "t_i_raw[71]     -0.49    0.01    1.0  -2.41  -1.16  -0.49   0.17   1.49   7960    1.0\n",
       "t_i_raw[72]      0.59    0.01   0.98   -1.4  -0.05   0.61   1.27   2.47   7975    1.0\n",
       "t_i_raw[73]     -0.05  8.5e-3   0.95  -1.92   -0.7  -0.03    0.6   1.82  12338    1.0\n",
       "t_i_raw[74]      0.07  9.0e-3   0.96  -1.82  -0.58   0.06   0.73   1.97  11450    1.0\n",
       "t_i_raw[75]      0.03  8.4e-3   0.94  -1.84  -0.59   0.04   0.67   1.84  12403    1.0\n",
       "t_i_raw[76]     -0.25  9.2e-3   0.87  -1.99  -0.82  -0.25   0.33   1.48   8801    1.0\n",
       "t_i_raw[77]      0.15  8.6e-3   0.99   -1.8  -0.52   0.14   0.84    2.1  13257    1.0\n",
       "t_i_raw[78]    8.5e-3  8.9e-3   0.99  -1.92  -0.66 3.2e-3   0.69   1.96  12429    1.0\n",
       "t_i_raw[79]     -0.11  8.3e-3   0.98  -2.03  -0.75  -0.11   0.53   1.81  13909    1.0\n",
       "t_i_raw[80]     -0.06  9.5e-3   0.93  -1.93  -0.69  -0.06   0.57   1.76   9617    1.0\n",
       "t_i_raw[81]     -0.01  8.3e-3   0.94  -1.86  -0.65 4.6e-3   0.63    1.8  12758    1.0\n",
       "t_i_raw[82]      0.17  8.9e-3    1.0  -1.81  -0.51   0.18   0.83   2.11  12453    1.0\n",
       "t_i_raw[83]       0.2  8.6e-3   0.96  -1.73  -0.44   0.22   0.85   2.01  12447    1.0\n",
       "t_i_raw[84]     -0.59    0.01   0.92  -2.34  -1.18  -0.61-9.6e-3   1.29   7052    1.0\n",
       "t_i_raw[85]     -0.09  9.7e-3   0.94  -1.95  -0.72  -0.09   0.55   1.73   9391    1.0\n",
       "t_i_raw[86]     -0.05  8.4e-3   0.97   -2.0   -0.7  -0.04   0.61    1.9  13477    1.0\n",
       "t_i_raw[87]     -0.13  8.6e-3   0.96   -2.0  -0.77  -0.13    0.5   1.81  12583    1.0\n",
       "lp__            -4367     0.4  13.26  -4393  -4376  -4367  -4358  -4342   1087    1.0\n",
       "\n",
       "Samples were drawn using NUTS at Sun May  5 07:21:04 2019.\n",
       "For each parameter, n_eff is a crude measure of effective sample size,\n",
       "and Rhat is the potential scale reduction factor on split chains (at \n",
       "convergence, Rhat=1)."
      ]
     },
     "execution_count": 56,
     "metadata": {},
     "output_type": "execute_result"
    }
   ],
   "source": [
    "fit"
   ]
  },
  {
   "cell_type": "code",
   "execution_count": 57,
   "metadata": {},
   "outputs": [
    {
     "name": "stderr",
     "output_type": "stream",
     "text": [
      "WARNING:pystan:Deprecation warning. In future, use ArviZ library (`pip install arviz`)\n"
     ]
    },
    {
     "data": {
      "image/png": "[encoded data removed]",
      "text/plain": [
       "<Figure size 432x288 with 6 Axes>"
      ]
     },
     "metadata": {},
     "output_type": "display_data"
    }
   ],
   "source": [
    "fit.plot(['t_r', 'phi_r', 'lambda_r']);\n",
    "plt.tight_layout();"
   ]
  },
  {
   "cell_type": "markdown",
   "metadata": {},
   "source": [
    "If your sampler has converged, you should see `Rhat` values lower than 1.05 and traceplots that look similar to what we have. We can then extract the threshold rates from our sampler by calculating its posterior mean. `.extract()` essentially gives us all the sample values of the specified random variable. As we are mainly interested in threshold rates (which is specified as $t_i$ in our `.stan` model), we extract the samples for $t_i$ and calculate its (posterior) mean. We can then compare the threshold rates for each police officer and minority group with our `compare_rates` function!"
   ]
  },
  {
   "cell_type": "code",
   "execution_count": 58,
   "metadata": {},
   "outputs": [],
   "source": [
    "threshold_dat['threshold_rate'] = fit.extract()['t_i'].mean(axis = 0)"
   ]
  },
  {
   "cell_type": "code",
   "execution_count": 59,
   "metadata": {},
   "outputs": [
    {
     "data": {
      "text/html": [
       "<div>\n",
       "<style scoped>\n",
       "    .dataframe tbody tr th:only-of-type {\n",
       "        vertical-align: middle;\n",
       "    }\n",
       "\n",
       "    .dataframe tbody tr th {\n",
       "        vertical-align: top;\n",
       "    }\n",
       "\n",
       "    .dataframe thead th {\n",
       "        text-align: right;\n",
       "    }\n",
       "</style>\n",
       "<table border=\"1\" class=\"dataframe\">\n",
       "  <thead>\n",
       "    <tr style=\"text-align: right;\">\n",
       "      <th></th>\n",
       "      <th>OfficerAbra</th>\n",
       "      <th>white_threshold_rate</th>\n",
       "      <th>minority_group</th>\n",
       "      <th>minority_threshold_rate</th>\n",
       "      <th>num_searches</th>\n",
       "    </tr>\n",
       "  </thead>\n",
       "  <tbody>\n",
       "    <tr>\n",
       "      <th>0</th>\n",
       "      <td>3574</td>\n",
       "      <td>0.038511</td>\n",
       "      <td>african american</td>\n",
       "      <td>0.017217</td>\n",
       "      <td>49</td>\n",
       "    </tr>\n",
       "    <tr>\n",
       "      <th>1</th>\n",
       "      <td>3574</td>\n",
       "      <td>0.038511</td>\n",
       "      <td>asian/pacific islander</td>\n",
       "      <td>0.022907</td>\n",
       "      <td>49</td>\n",
       "    </tr>\n",
       "    <tr>\n",
       "      <th>2</th>\n",
       "      <td>3574</td>\n",
       "      <td>0.038511</td>\n",
       "      <td>hispanic</td>\n",
       "      <td>0.026985</td>\n",
       "      <td>49</td>\n",
       "    </tr>\n",
       "    <tr>\n",
       "      <th>3</th>\n",
       "      <td>3684</td>\n",
       "      <td>0.024155</td>\n",
       "      <td>african american</td>\n",
       "      <td>0.017811</td>\n",
       "      <td>88</td>\n",
       "    </tr>\n",
       "    <tr>\n",
       "      <th>4</th>\n",
       "      <td>3684</td>\n",
       "      <td>0.024155</td>\n",
       "      <td>asian/pacific islander</td>\n",
       "      <td>0.024240</td>\n",
       "      <td>88</td>\n",
       "    </tr>\n",
       "  </tbody>\n",
       "</table>\n",
       "</div>"
      ],
      "text/plain": [
       "   OfficerAbra  white_threshold_rate          minority_group  \\\n",
       "0         3574              0.038511        african american   \n",
       "1         3574              0.038511  asian/pacific islander   \n",
       "2         3574              0.038511                hispanic   \n",
       "3         3684              0.024155        african american   \n",
       "4         3684              0.024155  asian/pacific islander   \n",
       "\n",
       "   minority_threshold_rate  num_searches  \n",
       "0                 0.017217            49  \n",
       "1                 0.022907            49  \n",
       "2                 0.026985            49  \n",
       "3                 0.017811            88  \n",
       "4                 0.024240            88  "
      ]
     },
     "execution_count": 59,
     "metadata": {},
     "output_type": "execute_result"
    }
   ],
   "source": [
    "threshold_rates = compare_rates('threshold_rate', threshold_dat[['OfficerAbra', 'subject_race', 'threshold_rate']], 'white', ['african american', 'hispanic', 'asian/pacific islander'], \n",
    "                          'subject_race')\n",
    "threshold_rates_search = threshold_rates.merge(calc_group_size(stops_2018_experienced_officers[stops_2018_experienced_officers['search_conducted']], ['OfficerAbra'], False), \n",
    "                                   how='left', on='OfficerAbra')\n",
    "threshold_rates_search.rename({'n': 'num_searches'}, axis=1, inplace=True)\n",
    "threshold_rates_search.head()"
   ]
  },
  {
   "cell_type": "code",
   "execution_count": 60,
   "metadata": {},
   "outputs": [
    {
     "data": {
      "image/png": "[encoded data removed]",
      "text/plain": [
       "<Figure size 1190.89x360 with 3 Axes>"
      ]
     },
     "metadata": {},
     "output_type": "display_data"
    }
   ],
   "source": [
    "plot_rates_comparison('threshold_rate', \n",
    "                      threshold_rates_search, \n",
    "                      'white', 'minority_group', 'num_searches', \n",
    "                      marker_size_scale = 0.2, min_lim = -0.01, max_lim = 0.1)"
   ]
  },
  {
   "cell_type": "code",
   "execution_count": 61,
   "metadata": {},
   "outputs": [
    {
     "data": {
      "text/plain": [
       "{'african american': 0.019432174534314884,\n",
       " 'asian/pacific islander': 0.022916264980461662,\n",
       " 'hispanic': 0.024159918514152556,\n",
       " 'white': 0.03346527640264774}"
      ]
     },
     "execution_count": 61,
     "metadata": {},
     "output_type": "execute_result"
    }
   ],
   "source": [
    "average_thresholds = {}\n",
    "for race in threshold_dat['subject_race'].unique():\n",
    "    relevant_obs = threshold_dat[threshold_dat['subject_race'] == race]    \n",
    "    average_thresholds[race] =  (relevant_obs['threshold_rate'] * relevant_obs['num_stops']).sum() / relevant_obs['num_stops'].sum()\n",
    "average_thresholds"
   ]
  },
  {
   "cell_type": "markdown",
   "metadata": {},
   "source": [
    "From our plots, we can similarly see that there is a high number of police officers to the right of the 45 degree line for the African American/Hispanic drivers. These suggest that the threshold rates for White drivers are generally much higher than the threshold rates for minority group drivers. This seems like there is possibly racial discrimination against African American/Hispanic drivers. The average threshold rates are lower for African American and Hispanic drivers compared to White drivers as well.\n",
    "\n",
    "Once again, due to the low number of Asian/Pacific Islander searches in general, we cannot make much interpretation from the plot."
   ]
  },
  {
   "cell_type": "markdown",
   "metadata": {},
   "source": [
    "## Conclusion of Race Analysis\n",
    "***"
   ]
  },
  {
   "cell_type": "markdown",
   "metadata": {},
   "source": [
    "From the benchmark, VOD, outcome and threshold tests, there seems to be consistent evidence for racial profiling in police stops towards African American/Hispanic drivers. While each individual tests has their own shortcomings like we have elaborated on, if all of the tests seem to suggest that there is racial profiling, it might be a cause for concern. In particular, the threshold test is already a very robust test, and there seems to be strong evidence of racial profiling from our plots. As such, we can conclude that there is almost definitely some evidence of racial bias in police stops in Sacramento. "
   ]
  },
  {
   "cell_type": "markdown",
   "metadata": {},
   "source": [
    "***"
   ]
  },
  {
   "cell_type": "markdown",
   "metadata": {},
   "source": [
    "## Gender Extension"
   ]
  },
  {
   "cell_type": "markdown",
   "metadata": {},
   "source": [
    "The two most commonly touted factors of discrimination are gender and race. While the Stanford Open Policing Project does not explore gender bias at all, we were curious about the presence of gender discrimination in police stops, and decided to do the analysis for the Sacramento dataset."
   ]
  },
  {
   "cell_type": "code",
   "execution_count": 62,
   "metadata": {},
   "outputs": [
    {
     "data": {
      "text/html": [
       "<div>\n",
       "<style scoped>\n",
       "    .dataframe tbody tr th:only-of-type {\n",
       "        vertical-align: middle;\n",
       "    }\n",
       "\n",
       "    .dataframe tbody tr th {\n",
       "        vertical-align: top;\n",
       "    }\n",
       "\n",
       "    .dataframe thead th {\n",
       "        text-align: right;\n",
       "    }\n",
       "</style>\n",
       "<table border=\"1\" class=\"dataframe\">\n",
       "  <thead>\n",
       "    <tr style=\"text-align: right;\">\n",
       "      <th></th>\n",
       "      <th>Gender</th>\n",
       "      <th>n</th>\n",
       "      <th>prop</th>\n",
       "    </tr>\n",
       "  </thead>\n",
       "  <tbody>\n",
       "    <tr>\n",
       "      <th>0</th>\n",
       "      <td>F</td>\n",
       "      <td>19687</td>\n",
       "      <td>0.332736</td>\n",
       "    </tr>\n",
       "    <tr>\n",
       "      <th>1</th>\n",
       "      <td>M</td>\n",
       "      <td>39480</td>\n",
       "      <td>0.667264</td>\n",
       "    </tr>\n",
       "  </tbody>\n",
       "</table>\n",
       "</div>"
      ],
      "text/plain": [
       "  Gender      n      prop\n",
       "0      F  19687  0.332736\n",
       "1      M  39480  0.667264"
      ]
     },
     "execution_count": 62,
     "metadata": {},
     "output_type": "execute_result"
    }
   ],
   "source": [
    "calc_group_size(sacramento_stops, 'Gender')"
   ]
  },
  {
   "cell_type": "markdown",
   "metadata": {},
   "source": [
    "There is a substantially greater number of male drivers as compared to female drivers. As such, we should once again be looking at the proportion with regard to the actual proportion of males and females in Sacramento."
   ]
  },
  {
   "cell_type": "code",
   "execution_count": 63,
   "metadata": {},
   "outputs": [
    {
     "data": {
      "image/png": "[encoded data removed]",
      "text/plain": [
       "<Figure size 432x288 with 1 Axes>"
      ]
     },
     "metadata": {},
     "output_type": "display_data"
    }
   ],
   "source": [
    "gender_year_plot = calc_group_size(sacramento_stops, ['Gender', 'year', 'month'])\n",
    "\n",
    "# in order to plot year and month, we make a new column compressing the information\n",
    "gender_year_plot['year_month'] = gender_year_plot['year'] + (gender_year_plot['month']-1)/12.\n",
    "\n",
    "ax = sns.lineplot(x='year_month', y='prop', hue='Gender', data=gender_year_plot)\n",
    "ax.legend(loc = (1.05, 0.5))\n",
    "ax.set_title('proportion of stops over the years for each gender');"
   ]
  },
  {
   "cell_type": "markdown",
   "metadata": {},
   "source": [
    "The the proportion of stops seem to largely follow the same pattern for male and female drivers over the years. This once again highlights that there might be a time factor to police stops."
   ]
  },
  {
   "cell_type": "code",
   "execution_count": 64,
   "metadata": {},
   "outputs": [
    {
     "data": {
      "text/html": [
       "<div>\n",
       "<style scoped>\n",
       "    .dataframe tbody tr th:only-of-type {\n",
       "        vertical-align: middle;\n",
       "    }\n",
       "\n",
       "    .dataframe tbody tr th {\n",
       "        vertical-align: top;\n",
       "    }\n",
       "\n",
       "    .dataframe thead th {\n",
       "        text-align: right;\n",
       "    }\n",
       "</style>\n",
       "<table border=\"1\" class=\"dataframe\">\n",
       "  <thead>\n",
       "    <tr style=\"text-align: right;\">\n",
       "      <th></th>\n",
       "      <th>Gender</th>\n",
       "      <th>prop</th>\n",
       "      <th>num_people</th>\n",
       "    </tr>\n",
       "  </thead>\n",
       "  <tbody>\n",
       "    <tr>\n",
       "      <th>0</th>\n",
       "      <td>F</td>\n",
       "      <td>0.511</td>\n",
       "      <td>782144.265</td>\n",
       "    </tr>\n",
       "    <tr>\n",
       "      <th>1</th>\n",
       "      <td>M</td>\n",
       "      <td>0.489</td>\n",
       "      <td>748470.735</td>\n",
       "    </tr>\n",
       "  </tbody>\n",
       "</table>\n",
       "</div>"
      ],
      "text/plain": [
       "  Gender   prop  num_people\n",
       "0      F  0.511  782144.265\n",
       "1      M  0.489  748470.735"
      ]
     },
     "execution_count": 64,
     "metadata": {},
     "output_type": "execute_result"
    }
   ],
   "source": [
    "sacramento_gender_percentages = {\"F\": .511, \"M\": .489}\n",
    "sacramento_gender_demo = pd.DataFrame(sacramento_gender_percentages, index=['prop']).T.reset_index()\n",
    "sacramento_gender_demo.columns = ['Gender', 'prop']\n",
    "sacramento_gender_demo['num_people'] = sacramento_gender_demo['prop']*sacramento_population_2018\n",
    "sacramento_gender_demo"
   ]
  },
  {
   "cell_type": "code",
   "execution_count": 65,
   "metadata": {},
   "outputs": [
    {
     "data": {
      "text/html": [
       "<div>\n",
       "<style scoped>\n",
       "    .dataframe tbody tr th:only-of-type {\n",
       "        vertical-align: middle;\n",
       "    }\n",
       "\n",
       "    .dataframe tbody tr th {\n",
       "        vertical-align: top;\n",
       "    }\n",
       "\n",
       "    .dataframe thead th {\n",
       "        text-align: right;\n",
       "    }\n",
       "</style>\n",
       "<table border=\"1\" class=\"dataframe\">\n",
       "  <thead>\n",
       "    <tr style=\"text-align: right;\">\n",
       "      <th></th>\n",
       "      <th>Gender</th>\n",
       "      <th>stop_rate</th>\n",
       "    </tr>\n",
       "  </thead>\n",
       "  <tbody>\n",
       "    <tr>\n",
       "      <th>0</th>\n",
       "      <td>F</td>\n",
       "      <td>0.012250</td>\n",
       "    </tr>\n",
       "    <tr>\n",
       "      <th>1</th>\n",
       "      <td>M</td>\n",
       "      <td>0.025012</td>\n",
       "    </tr>\n",
       "  </tbody>\n",
       "</table>\n",
       "</div>"
      ],
      "text/plain": [
       "  Gender  stop_rate\n",
       "0      F   0.012250\n",
       "1      M   0.025012"
      ]
     },
     "execution_count": 65,
     "metadata": {},
     "output_type": "execute_result"
    }
   ],
   "source": [
    "calc_stop_rates(stops_2018, sacramento_gender_demo, ['Gender'])"
   ]
  },
  {
   "cell_type": "code",
   "execution_count": 66,
   "metadata": {},
   "outputs": [
    {
     "data": {
      "text/html": [
       "<div>\n",
       "<style scoped>\n",
       "    .dataframe tbody tr th:only-of-type {\n",
       "        vertical-align: middle;\n",
       "    }\n",
       "\n",
       "    .dataframe tbody tr th {\n",
       "        vertical-align: top;\n",
       "    }\n",
       "\n",
       "    .dataframe thead th {\n",
       "        text-align: right;\n",
       "    }\n",
       "</style>\n",
       "<table border=\"1\" class=\"dataframe\">\n",
       "  <thead>\n",
       "    <tr style=\"text-align: right;\">\n",
       "      <th></th>\n",
       "      <th>Gender</th>\n",
       "      <th>search_rate</th>\n",
       "    </tr>\n",
       "  </thead>\n",
       "  <tbody>\n",
       "    <tr>\n",
       "      <th>0</th>\n",
       "      <td>F</td>\n",
       "      <td>0.050204</td>\n",
       "    </tr>\n",
       "    <tr>\n",
       "      <th>1</th>\n",
       "      <td>M</td>\n",
       "      <td>0.188558</td>\n",
       "    </tr>\n",
       "  </tbody>\n",
       "</table>\n",
       "</div>"
      ],
      "text/plain": [
       "  Gender  search_rate\n",
       "0      F     0.050204\n",
       "1      M     0.188558"
      ]
     },
     "execution_count": 66,
     "metadata": {},
     "output_type": "execute_result"
    }
   ],
   "source": [
    "calc_search_rates(stops_2018, ['Gender'])"
   ]
  },
  {
   "cell_type": "markdown",
   "metadata": {},
   "source": [
    "We did the same benchmark test with regard to stop and search rates. Interestingly, it seems that the stops rates for male drivers are significantly higher (around double). The search rates are also significantly lower (around four times). If the latter was referring to frisk rates, that might be reasonable considering that police officers would probably not be allowed to frisk a driver of the opposite gender. However, there seems to be no good reason why female drivers should be searched at a significantly lower rate. Nonetheless, let us look at the data more rigorously."
   ]
  },
  {
   "cell_type": "code",
   "execution_count": 67,
   "metadata": {},
   "outputs": [
    {
     "name": "stdout",
     "output_type": "stream",
     "text": [
      "                 Generalized Linear Model Regression Results                  \n",
      "==============================================================================\n",
      "Dep. Variable:                 Gender   No. Observations:                 7110\n",
      "Model:                            GLM   Df Residuals:                     7103\n",
      "Model Family:                Binomial   Df Model:                            6\n",
      "Link Function:                  logit   Scale:                          1.0000\n",
      "Method:                          IRLS   Log-Likelihood:                -4199.0\n",
      "Date:                Thu, 09 May 2019   Deviance:                       8397.9\n",
      "Time:                        11:08:18   Pearson chi2:                 7.11e+03\n",
      "No. Iterations:                     7   Covariance Type:             nonrobust\n",
      "=====================================================================================\n",
      "                        coef    std err          z      P>|z|      [0.025      0.975]\n",
      "-------------------------------------------------------------------------------------\n",
      "is_dark               0.2980      0.065      4.557      0.000       0.170       0.426\n",
      "Intercept            -0.9623      0.044    -22.085      0.000      -1.048      -0.877\n",
      "cr(data, df=6)[0]     0.0767      0.099      0.777      0.437      -0.117       0.270\n",
      "cr(data, df=6)[1]    -0.1601      0.064     -2.511      0.012      -0.285      -0.035\n",
      "cr(data, df=6)[2]    -0.0608      0.060     -1.017      0.309      -0.178       0.056\n",
      "cr(data, df=6)[3]    -0.2927      0.066     -4.414      0.000      -0.423      -0.163\n",
      "cr(data, df=6)[4]    -0.1570      0.079     -1.981      0.048      -0.312      -0.002\n",
      "cr(data, df=6)[5]    -0.3684      0.125     -2.941      0.003      -0.614      -0.123\n",
      "=====================================================================================\n"
     ]
    }
   ],
   "source": [
    "is_female = (vod_stops['Gender'] == 'F').astype(int)\n",
    "\n",
    "X = vod_stops[['is_dark']].merge(dmatrix(\"cr(data,df = 6)\", {\"data\": vod_stops['minute']}, return_type='dataframe'),\n",
    "                                left_index = True, right_index = True)\n",
    "logit_model = sm.GLM(is_female, X, family=sm.families.Binomial())\n",
    "logit_results = logit_model.fit()\n",
    "print(logit_results.summary())"
   ]
  },
  {
   "cell_type": "markdown",
   "metadata": {},
   "source": [
    "The coefficient of darkness is positive, suggesting that there may be evidence of positive discrimination against female drivers. In fact, there seems to be a subtantial difference in stop rates when it is dark as compared to when it is not dark as can be seen from the large size of the coefficient. Importantly, this seems to be statistically significant."
   ]
  },
  {
   "cell_type": "code",
   "execution_count": 68,
   "metadata": {},
   "outputs": [
    {
     "data": {
      "text/html": [
       "<div>\n",
       "<style scoped>\n",
       "    .dataframe tbody tr th:only-of-type {\n",
       "        vertical-align: middle;\n",
       "    }\n",
       "\n",
       "    .dataframe tbody tr th {\n",
       "        vertical-align: top;\n",
       "    }\n",
       "\n",
       "    .dataframe thead th {\n",
       "        text-align: right;\n",
       "    }\n",
       "</style>\n",
       "<table border=\"1\" class=\"dataframe\">\n",
       "  <thead>\n",
       "    <tr style=\"text-align: right;\">\n",
       "      <th></th>\n",
       "      <th>OfficerAbra</th>\n",
       "      <th>M_hit_rate</th>\n",
       "      <th>minority_group</th>\n",
       "      <th>minority_hit_rate</th>\n",
       "      <th>num_searches</th>\n",
       "    </tr>\n",
       "  </thead>\n",
       "  <tbody>\n",
       "    <tr>\n",
       "      <th>0</th>\n",
       "      <td>3574</td>\n",
       "      <td>0.063830</td>\n",
       "      <td>F</td>\n",
       "      <td>0.0</td>\n",
       "      <td>49</td>\n",
       "    </tr>\n",
       "    <tr>\n",
       "      <th>1</th>\n",
       "      <td>3684</td>\n",
       "      <td>0.070588</td>\n",
       "      <td>F</td>\n",
       "      <td>0.0</td>\n",
       "      <td>88</td>\n",
       "    </tr>\n",
       "    <tr>\n",
       "      <th>2</th>\n",
       "      <td>3790</td>\n",
       "      <td>0.901639</td>\n",
       "      <td>F</td>\n",
       "      <td>1.0</td>\n",
       "      <td>68</td>\n",
       "    </tr>\n",
       "    <tr>\n",
       "      <th>3</th>\n",
       "      <td>3865</td>\n",
       "      <td>0.466667</td>\n",
       "      <td>F</td>\n",
       "      <td>0.0</td>\n",
       "      <td>49</td>\n",
       "    </tr>\n",
       "    <tr>\n",
       "      <th>4</th>\n",
       "      <td>4028</td>\n",
       "      <td>0.216000</td>\n",
       "      <td>F</td>\n",
       "      <td>0.0</td>\n",
       "      <td>133</td>\n",
       "    </tr>\n",
       "  </tbody>\n",
       "</table>\n",
       "</div>"
      ],
      "text/plain": [
       "   OfficerAbra  M_hit_rate minority_group  minority_hit_rate  num_searches\n",
       "0         3574    0.063830              F                0.0            49\n",
       "1         3684    0.070588              F                0.0            88\n",
       "2         3790    0.901639              F                1.0            68\n",
       "3         3865    0.466667              F                0.0            49\n",
       "4         4028    0.216000              F                0.0           133"
      ]
     },
     "execution_count": 68,
     "metadata": {},
     "output_type": "execute_result"
    }
   ],
   "source": [
    "hit_rates_gender = calc_hit_rates(stops_2018_experienced_officers, ['Gender', 'OfficerAbra'])\n",
    "hit_rates_gender = compare_rates('hit_rate', \n",
    "                                 hit_rates_gender, \n",
    "                                 'M', \n",
    "                                 ['F'], \n",
    "                                 'Gender')\n",
    "hit_rates_gender_search = hit_rates_gender.merge(calc_group_size(stops_2018[stops_2018['search_conducted']], ['OfficerAbra'], False), \n",
    "                                   how='left', on='OfficerAbra')\n",
    "hit_rates_gender_search.rename({'n': 'num_searches'}, axis=1, inplace=True)\n",
    "hit_rates_gender_search.head()"
   ]
  },
  {
   "cell_type": "code",
   "execution_count": 69,
   "metadata": {},
   "outputs": [
    {
     "data": {
      "image/png": "[encoded data removed]",
      "text/plain": [
       "<Figure size 470.887x360 with 1 Axes>"
      ]
     },
     "metadata": {},
     "output_type": "display_data"
    }
   ],
   "source": [
    "plot_rates_comparison('hit_rate', \n",
    "                      hit_rates_gender_search, \n",
    "                      'M', 'minority_group', 'num_searches', \n",
    "                      marker_size_scale = 0.5)"
   ]
  },
  {
   "cell_type": "code",
   "execution_count": 70,
   "metadata": {},
   "outputs": [
    {
     "data": {
      "text/plain": [
       "OfficerAbra  Gender\n",
       "3574         F          17\n",
       "             M         107\n",
       "3684         F           9\n",
       "             M         145\n",
       "3865         F          47\n",
       "             M         132\n",
       "4028         F          23\n",
       "             M         237\n",
       "4111         F         102\n",
       "             M         251\n",
       "4166         F          23\n",
       "             M         163\n",
       "4176         F          47\n",
       "             M         123\n",
       "4246         F          23\n",
       "             M          95\n",
       "4275         F          24\n",
       "             M         168\n",
       "4303         F           5\n",
       "             M          69\n",
       "4376         F          39\n",
       "             M         112\n",
       "4421         F          37\n",
       "             M         136\n",
       "4438         F          22\n",
       "             M          98\n",
       "4442         F          29\n",
       "             M         117\n",
       "4443         F          41\n",
       "             M         118\n",
       "4480         F          58\n",
       "             M         145\n",
       "4489         F          47\n",
       "             M         104\n",
       "4512         F          45\n",
       "             M         153\n",
       "4564         F          40\n",
       "             M         116\n",
       "Name: search_conducted, dtype: int64"
      ]
     },
     "execution_count": 70,
     "metadata": {},
     "output_type": "execute_result"
    }
   ],
   "source": [
    "stops_2018_experienced_officers[stops_2018_experienced_officers['OfficerAbra']\\\n",
    "                                .isin(hit_rates_gender_search[hit_rates_gender_search['minority_hit_rate'] == 0]['OfficerAbra'].unique())]\\\n",
    "                                .groupby(['OfficerAbra', 'Gender'])['search_conducted'].count()"
   ]
  },
  {
   "cell_type": "markdown",
   "metadata": {},
   "source": [
    "It seems that the police officers are largely spread around the 45 degree line. This suggests that the hit rates for male and female drivers are pretty similar. If anything, male hit rates seems to be slightly lower than female hit rates. We also noticed that there seems to be a large cluster of points with 0 hit rate for females that suggests bias against females. A quick check shows that this is because of the low number of searches conducted for females for this cluster of points. As such, we should be cautious about making any conclusions for now..."
   ]
  },
  {
   "cell_type": "code",
   "execution_count": 71,
   "metadata": {},
   "outputs": [],
   "source": [
    "gender_threshold_dat = (stops_2018_experienced_officers\n",
    "                 .groupby(['OfficerAbra', 'Gender'], as_index=False)\n",
    "                 .agg({'Idx': 'count', # num of stops\n",
    "                       'search_conducted': 'sum', # num of searches\n",
    "                       'contraband_found': 'sum'})\n",
    "                 .rename({'Idx': 'num_stops',\n",
    "                          'search_conducted': 'num_searches',\n",
    "                          'contraband_found': 'num_hits'}, axis=1)) # num of hits\n",
    "\n",
    "gender_threshold_dat = gender_threshold_dat[gender_threshold_dat['num_searches']!=0] # only those with searches\n",
    "gender_threshold_dat['search_rate'] = gender_threshold_dat['num_searches'] / gender_threshold_dat['num_stops']\n",
    "gender_threshold_dat['hit_rate'] = gender_threshold_dat['num_hits'] / gender_threshold_dat['num_searches']\n",
    "gender_threshold_dat.sort_values('OfficerAbra')\n",
    "gender_threshold_dat.reset_index(drop=True, inplace=True)\n",
    "gender_threshold_dat['num_searches'] = gender_threshold_dat['num_searches'].astype(int)\n",
    "gender_threshold_dat['num_hits'] = gender_threshold_dat['num_hits'].astype(int)\n",
    "\n",
    "gender_threshold_dat_stan = gender_threshold_dat.copy()\n",
    "\n",
    "gender_threshold_dat_stan['OfficerAbra'] = [str(i) for i in gender_threshold_dat_stan.OfficerAbra]\n",
    "gender_threshold_dat_stan.replace({'OfficerAbra': {val: i + 1 for i, val in enumerate(gender_threshold_dat_stan.OfficerAbra.unique())},\n",
    "                      'Gender': {val: i + 1 for i, val in enumerate(gender_threshold_dat_stan.Gender.unique())}},\n",
    "                      inplace=True)\n",
    "\n",
    "gender_threshold_dat_stan.columns = ['d', 'r', 'n', 's', 'h', 'search_rate', 'hit_rate']\n",
    "gender_threshold_dat_stan.head()\n",
    "\n",
    "gender_threshold_dat_dict = {\n",
    "                    'd': list(gender_threshold_dat_stan['d']),\n",
    "                    'r': list(gender_threshold_dat_stan['r']),\n",
    "                    'n': list(gender_threshold_dat_stan['n']),\n",
    "                    's': list(gender_threshold_dat_stan['s']),\n",
    "                    'h': list(gender_threshold_dat_stan['h'])\n",
    "                     }\n",
    "gender_threshold_dat_dict['N'] = len(gender_threshold_dat_stan)\n",
    "gender_threshold_dat_dict['R'] = len(gender_threshold_dat_stan['r'].unique())\n",
    "gender_threshold_dat_dict['D'] = len(gender_threshold_dat_stan['d'].unique())"
   ]
  },
  {
   "cell_type": "code",
   "execution_count": 72,
   "metadata": {},
   "outputs": [
    {
     "data": {
      "text/html": [
       "<div>\n",
       "<style scoped>\n",
       "    .dataframe tbody tr th:only-of-type {\n",
       "        vertical-align: middle;\n",
       "    }\n",
       "\n",
       "    .dataframe tbody tr th {\n",
       "        vertical-align: top;\n",
       "    }\n",
       "\n",
       "    .dataframe thead th {\n",
       "        text-align: right;\n",
       "    }\n",
       "</style>\n",
       "<table border=\"1\" class=\"dataframe\">\n",
       "  <thead>\n",
       "    <tr style=\"text-align: right;\">\n",
       "      <th></th>\n",
       "      <th>OfficerAbra</th>\n",
       "      <th>Gender</th>\n",
       "      <th>num_stops</th>\n",
       "      <th>num_searches</th>\n",
       "      <th>num_hits</th>\n",
       "      <th>search_rate</th>\n",
       "      <th>hit_rate</th>\n",
       "    </tr>\n",
       "  </thead>\n",
       "  <tbody>\n",
       "    <tr>\n",
       "      <th>0</th>\n",
       "      <td>3574</td>\n",
       "      <td>F</td>\n",
       "      <td>17</td>\n",
       "      <td>2</td>\n",
       "      <td>0</td>\n",
       "      <td>0.117647</td>\n",
       "      <td>0.000000</td>\n",
       "    </tr>\n",
       "    <tr>\n",
       "      <th>1</th>\n",
       "      <td>3574</td>\n",
       "      <td>M</td>\n",
       "      <td>107</td>\n",
       "      <td>47</td>\n",
       "      <td>3</td>\n",
       "      <td>0.439252</td>\n",
       "      <td>0.063830</td>\n",
       "    </tr>\n",
       "    <tr>\n",
       "      <th>2</th>\n",
       "      <td>3684</td>\n",
       "      <td>F</td>\n",
       "      <td>9</td>\n",
       "      <td>3</td>\n",
       "      <td>0</td>\n",
       "      <td>0.333333</td>\n",
       "      <td>0.000000</td>\n",
       "    </tr>\n",
       "    <tr>\n",
       "      <th>3</th>\n",
       "      <td>3684</td>\n",
       "      <td>M</td>\n",
       "      <td>145</td>\n",
       "      <td>85</td>\n",
       "      <td>6</td>\n",
       "      <td>0.586207</td>\n",
       "      <td>0.070588</td>\n",
       "    </tr>\n",
       "    <tr>\n",
       "      <th>4</th>\n",
       "      <td>3790</td>\n",
       "      <td>F</td>\n",
       "      <td>27</td>\n",
       "      <td>7</td>\n",
       "      <td>7</td>\n",
       "      <td>0.259259</td>\n",
       "      <td>1.000000</td>\n",
       "    </tr>\n",
       "  </tbody>\n",
       "</table>\n",
       "</div>"
      ],
      "text/plain": [
       "   OfficerAbra Gender  num_stops  num_searches  num_hits  search_rate  \\\n",
       "0         3574      F         17             2         0     0.117647   \n",
       "1         3574      M        107            47         3     0.439252   \n",
       "2         3684      F          9             3         0     0.333333   \n",
       "3         3684      M        145            85         6     0.586207   \n",
       "4         3790      F         27             7         7     0.259259   \n",
       "\n",
       "   hit_rate  \n",
       "0  0.000000  \n",
       "1  0.063830  \n",
       "2  0.000000  \n",
       "3  0.070588  \n",
       "4  1.000000  "
      ]
     },
     "execution_count": 72,
     "metadata": {},
     "output_type": "execute_result"
    }
   ],
   "source": [
    "gender_threshold_dat.head()"
   ]
  },
  {
   "cell_type": "code",
   "execution_count": 73,
   "metadata": {},
   "outputs": [],
   "source": [
    "fit_model = False\n",
    "\n",
    "if fit_model:\n",
    "    gender_fit = sm.sampling(data=gender_threshold_dat_dict, iter=5000, chains=2, algorithm = 'NUTS', control={'max_treedepth': 10,\n",
    "                                                                                                 'adapt_delta':0.9}\n",
    "                     )"
   ]
  },
  {
   "cell_type": "code",
   "execution_count": 74,
   "metadata": {},
   "outputs": [],
   "source": [
    "# with open(\"gender_model_fit.pkl\", \"wb\") as f:\n",
    "#     pickle.dump({'model' : sm, 'fit' : gender_fit}, f, protocol=-1)\n",
    "\n",
    "    \n",
    "with open(\"gender_model_fit.pkl\", \"rb\") as f:\n",
    "    data_dict = pickle.load(f)\n",
    "gender_fit = data_dict['fit']\n"
   ]
  },
  {
   "cell_type": "code",
   "execution_count": 75,
   "metadata": {},
   "outputs": [
    {
     "name": "stderr",
     "output_type": "stream",
     "text": [
      "WARNING:pystan:Truncated summary with the 'fit.__repr__' method. For the full summary use 'print(fit)'\n"
     ]
    },
    {
     "data": {
      "text/plain": [
       "\n",
       "Warning: Shown data is truncated to 100 parameters\n",
       "For the full summary use 'print(fit)'\n",
       "\n",
       "Inference for Stan model: anon_model_3ba3a30c7e329693c789bb873d21a2ab.\n",
       "2 chains, each with iter=5000; warmup=2500; thin=1; \n",
       "post-warmup draws per chain=2500, total post-warmup draws=5000.\n",
       "\n",
       "                 mean se_mean     sd   2.5%    25%    50%    75%  97.5%  n_eff   Rhat\n",
       "sigma_t[1]       0.45  8.6e-3   0.36   0.02   0.17   0.37   0.65   1.36   1782    1.0\n",
       "sigma_t[2]       0.34  6.7e-3   0.26   0.01   0.14   0.29   0.47   0.97   1541    1.0\n",
       "mu_phi_d         0.02  9.7e-3   0.36   -0.7  -0.22   0.02   0.26   0.75   1414    1.0\n",
       "sigma_phi_d      0.91  3.2e-3   0.14   0.67   0.81   0.89   0.99   1.21   1849    1.0\n",
       "mu_lambda_d     -0.58    0.02   0.65   -1.9  -1.01  -0.56  -0.14   0.65   1821    1.0\n",
       "sigma_lambda_d   1.55  6.1e-3   0.26   1.13   1.37   1.52    1.7   2.13   1800    1.0\n",
       "t_r[1]          -4.04    0.02   0.73  -5.96  -4.38  -3.89  -3.53  -3.03   1932    1.0\n",
       "t_r[2]          -3.79    0.01   0.62  -5.32  -4.09  -3.68  -3.35  -2.91   1740    1.0\n",
       "t_i_raw[1]       0.18    0.01   0.94  -1.74  -0.47   0.19   0.84   1.96   6308    1.0\n",
       "t_i_raw[2]      -0.31    0.01   0.96  -2.16  -0.97  -0.32   0.33   1.56   6301    1.0\n",
       "t_i_raw[3]      -0.13    0.01   0.91  -1.97  -0.74  -0.13   0.46   1.65   7012    1.0\n",
       "t_i_raw[4]      -0.15    0.01   0.92  -1.95  -0.78  -0.15   0.47   1.65   6290    1.0\n",
       "t_i_raw[5]       0.11    0.01   0.99  -1.77  -0.58   0.11   0.79   2.06   7481    1.0\n",
       "t_i_raw[6]       0.08    0.01   0.99  -1.81  -0.59   0.08   0.75   2.07   7956    1.0\n",
       "t_i_raw[7]       0.06    0.01   0.98  -1.92   -0.6   0.05   0.72   1.97   8853    1.0\n",
       "t_i_raw[8]       0.02    0.01   0.94  -1.83  -0.61   0.03   0.65   1.85   7185    1.0\n",
       "t_i_raw[9]      -0.35    0.01   0.95  -2.17   -1.0  -0.35   0.28   1.56   6413    1.0\n",
       "t_i_raw[10]       0.3    0.01   0.95  -1.57  -0.34   0.32   0.95   2.12   5961    1.0\n",
       "t_i_raw[11]      0.21    0.01    1.0  -1.75  -0.47   0.23   0.91   2.11   5850    1.0\n",
       "t_i_raw[12]     -0.08    0.01   0.98   -2.0  -0.73  -0.09   0.57   1.86   8125    1.0\n",
       "t_i_raw[13]     -0.29    0.01   1.01  -2.29  -0.95   -0.3   0.37   1.78   7524    1.0\n",
       "t_i_raw[14]      0.29    0.01   0.99   -1.7  -0.38    0.3   0.98   2.18   7121    1.0\n",
       "t_i_raw[15]      0.37    0.01   0.96  -1.58  -0.26    0.4   1.03   2.15   6421    1.0\n",
       "t_i_raw[16]     -0.21    0.01   0.95  -2.06  -0.83  -0.21   0.43   1.64   5896    1.0\n",
       "t_i_raw[17]       0.1    0.01   0.92  -1.77  -0.52   0.11   0.72    1.9   7910    1.0\n",
       "t_i_raw[18]     -0.23    0.01   0.93  -2.06  -0.85  -0.21   0.39   1.56   6353    1.0\n",
       "t_i_raw[19]     -0.16    0.01   0.83  -1.85  -0.71  -0.16   0.39   1.46   5605    1.0\n",
       "t_i_raw[20]     -0.31    0.01   0.89  -2.07  -0.89  -0.31   0.29   1.41   5349    1.0\n",
       "t_i_raw[21]     -0.06    0.01   0.98   -2.0  -0.71  -0.05    0.6   1.87   7573    1.0\n",
       "t_i_raw[22]      0.12    0.01   0.98  -1.83  -0.53   0.12   0.78   2.06   6035    1.0\n",
       "t_i_raw[23]     -0.35    0.01   0.92  -2.09   -1.0  -0.36   0.26   1.46   5766    1.0\n",
       "t_i_raw[24]       0.1    0.01   0.93  -1.78  -0.52   0.11   0.72   1.86   6895    1.0\n",
       "t_i_raw[25]      0.14    0.01    0.9   -1.7  -0.42   0.15   0.74   1.85   7651    1.0\n",
       "t_i_raw[26]     -0.29    0.01   0.92  -2.06   -0.9  -0.31   0.31   1.56   6074    1.0\n",
       "t_i_raw[27]      0.07    0.01   0.89  -1.68  -0.51   0.08   0.66   1.78   6741    1.0\n",
       "t_i_raw[28]     -0.11    0.01   0.94  -1.99  -0.73   -0.1   0.51   1.72   6409    1.0\n",
       "t_i_raw[29]     -0.44    0.01   0.98  -2.34  -1.12  -0.44   0.21   1.52   5525    1.0\n",
       "t_i_raw[30]      0.46    0.01   0.98  -1.53  -0.21   0.49   1.15   2.28   4948    1.0\n",
       "t_i_raw[31]      0.13    0.01   0.96  -1.82  -0.48   0.14   0.78   1.97   7637    1.0\n",
       "t_i_raw[32]     -0.09    0.01   0.95  -2.01  -0.73  -0.07   0.56    1.8   6625    1.0\n",
       "t_i_raw[33]      0.45    0.01   0.95  -1.45  -0.17   0.48    1.1   2.24   5038    1.0\n",
       "t_i_raw[34]      -0.3    0.01   0.96  -2.17  -0.93  -0.31   0.35   1.62   6315    1.0\n",
       "t_i_raw[35]     -0.14    0.01   0.91  -1.86  -0.76  -0.14   0.47   1.62   6722    1.0\n",
       "t_i_raw[36]     -0.05    0.01   0.91  -1.89  -0.65  -0.05   0.57   1.73   6458    1.0\n",
       "t_i_raw[37]     -0.21    0.01   0.96   -2.1  -0.84  -0.21   0.45   1.65   5836    1.0\n",
       "t_i_raw[38]      0.61    0.01   0.97  -1.32  -0.05   0.64   1.28   2.41   5307    1.0\n",
       "t_i_raw[39]      -0.4    0.01   0.95  -2.26  -1.03  -0.39   0.23   1.52   5103    1.0\n",
       "t_i_raw[40]     -0.15    0.01   0.97  -2.03  -0.81  -0.15   0.49   1.72   8500    1.0\n",
       "t_i_raw[41]      0.19    0.01   1.03  -1.81  -0.51   0.18   0.87   2.25   7092    1.0\n",
       "t_i_raw[42]     -0.22    0.01   0.92  -2.06  -0.83   -0.2   0.38    1.6   7886    1.0\n",
       "t_i_raw[43]       0.2    0.01   0.97  -1.71  -0.46   0.22   0.86   2.05   6308    1.0\n",
       "t_i_raw[44]     -0.07    0.01   0.98  -2.01  -0.73  -0.07   0.61   1.85   7286    1.0\n",
       "t_i_raw[45]      0.06    0.01   0.92  -1.77  -0.58   0.08   0.68   1.85   7872    1.0\n",
       "t_i_raw[46]     -0.25    0.01   0.93   -2.1  -0.85  -0.25   0.37   1.58   5886    1.0\n",
       "t_i_raw[47]     -0.14    0.01   0.91  -1.98  -0.75  -0.15   0.47   1.64   6989    1.0\n",
       "t_i_raw[48]      0.12    0.01   0.95  -1.83   -0.5   0.13   0.79   1.89   5852    1.0\n",
       "t_i_raw[49]      0.15    0.01   0.88  -1.65  -0.44   0.18   0.75   1.83   6205    1.0\n",
       "t_i_raw[50]      -0.2    0.01   0.94   -2.1  -0.84  -0.19   0.43   1.65   5388    1.0\n",
       "t_i_raw[51]     -0.28    0.01   0.94  -2.09   -0.9  -0.28   0.33   1.56   7431    1.0\n",
       "t_i_raw[52]      0.24    0.01   0.97  -1.75   -0.4   0.27    0.9   2.04   7344    1.0\n",
       "t_i_raw[53]      0.13    0.01    0.9  -1.77  -0.45   0.15   0.72   1.83   7354    1.0\n",
       "t_i_raw[54]     -0.16    0.01   0.91  -1.95  -0.75  -0.15   0.45   1.64   6425    1.0\n",
       "t_i_raw[55]      0.22    0.01   0.98  -1.73  -0.44   0.23    0.9    2.1   7212    1.0\n",
       "t_i_raw[56]     -0.13    0.01   0.94  -2.01  -0.77  -0.12    0.5   1.74   6368    1.0\n",
       "t_i_raw[57]      0.37    0.01    1.0  -1.66  -0.28   0.37   1.05   2.24   5863    1.0\n",
       "t_i_raw[58]     -0.23    0.01   0.95  -2.11  -0.87  -0.24   0.41   1.64   6365    1.0\n",
       "t_i_raw[59]      0.07    0.01   0.98  -1.87  -0.58   0.06   0.73    2.0   7341    1.0\n",
       "t_i_raw[60]      0.07    0.01    1.0  -1.88   -0.6   0.08   0.76   2.04   7710    1.0\n",
       "t_i_raw[61]     -0.23    0.01   0.93  -2.03  -0.86  -0.25   0.39   1.61   6790    1.0\n",
       "t_i_raw[62]      0.27    0.01   0.99  -1.73  -0.38    0.3   0.96   2.18   5829    1.0\n",
       "t_i_raw[63]     -0.48    0.01   0.94  -2.31  -1.12  -0.49   0.15   1.43   4659    1.0\n",
       "t_i_raw[64]      0.49    0.01   0.95  -1.54  -0.14   0.55   1.16   2.24   6207    1.0\n",
       "t_i_raw[65]     -0.52    0.01   0.95  -2.37  -1.15  -0.54   0.09   1.37   5046    1.0\n",
       "t_i_raw[66]      0.51    0.01   0.96  -1.48  -0.11   0.56   1.19   2.26   5664    1.0\n",
       "phi_r[1]        -3.73  8.2e-3   0.36  -4.46  -3.97  -3.73  -3.48  -3.02   1985    1.0\n",
       "phi_r[2]        -2.86  7.6e-3   0.33  -3.54  -3.09  -2.86  -2.63  -2.23   1899    1.0\n",
       "phi_d_raw[1]    -0.02  6.1e-3   0.34  -0.71  -0.24  -0.02   0.21   0.65   3094    1.0\n",
       "phi_d_raw[2]     2.78    0.01   0.43   1.96   2.48   2.76   3.06   3.65   1720    1.0\n",
       "phi_d_raw[3]     0.99  6.7e-3   0.33   0.33   0.76   0.99   1.21   1.65   2506    1.0\n",
       "phi_d_raw[4]     0.81  6.7e-3    0.3   0.23    0.6   0.79   1.01   1.41   1974    1.0\n",
       "phi_d_raw[5]     2.06  8.8e-3   0.36   1.38   1.82   2.04   2.28   2.79   1664    1.0\n",
       "phi_d_raw[6]     0.08  7.1e-3   0.43  -0.77   -0.2   0.08   0.37   0.91   3620    1.0\n",
       "phi_d_raw[7]    -1.29  7.7e-3   0.43  -2.15  -1.58  -1.28  -0.99  -0.46   3198    1.0\n",
       "phi_d_raw[8]    -0.58  6.7e-3   0.37  -1.33   -0.8  -0.56  -0.33   0.13   2985    1.0\n",
       "phi_d_raw[9]    -0.23  6.0e-3   0.32  -0.89  -0.43  -0.22  -0.01   0.38   2815    1.0\n",
       "phi_d_raw[10]    0.88  6.3e-3   0.37   0.15   0.64   0.88   1.12   1.62   3449    1.0\n",
       "phi_d_raw[11]    -0.1  6.4e-3   0.34  -0.78  -0.33   -0.1   0.13   0.57   2864    1.0\n",
       "phi_d_raw[12]   -0.94  7.2e-3   0.41  -1.81   -1.2  -0.92  -0.65  -0.15   3341    1.0\n",
       "phi_d_raw[13]   -0.03  6.6e-3   0.38   -0.8  -0.27  -0.03   0.22    0.7   3216    1.0\n",
       "phi_d_raw[14]    0.21  6.4e-3   0.31  -0.42 7.8e-3   0.22   0.42   0.82   2395    1.0\n",
       "phi_d_raw[15]    0.02  7.3e-3   0.42  -0.81  -0.27   0.02    0.3   0.83   3318    1.0\n",
       "phi_d_raw[16]    1.04  7.1e-3   0.31   0.44   0.83   1.04   1.24   1.65   1830    1.0\n",
       "phi_d_raw[17]   -0.27  6.2e-3   0.35  -0.98   -0.5  -0.27  -0.03   0.41   3264    1.0\n",
       "phi_d_raw[18]   -0.34  7.5e-3   0.43  -1.21  -0.61  -0.34  -0.05   0.51   3395    1.0\n",
       "phi_d_raw[19]   -0.65  7.2e-3   0.43  -1.52  -0.94  -0.65  -0.36   0.18   3559    1.0\n",
       "phi_d_raw[20]    0.54  6.4e-3   0.36  -0.18   0.31   0.54   0.78   1.24   3146    1.0\n",
       "phi_d_raw[21]   -0.68  8.1e-3   0.43  -1.55  -0.96  -0.67  -0.38   0.16   2906    1.0\n",
       "phi_d_raw[22]   -0.54  7.5e-3   0.45  -1.49  -0.84  -0.53  -0.24   0.33   3658    1.0\n",
       "phi_d_raw[23]   -0.82  7.0e-3   0.42  -1.69  -1.09  -0.81  -0.53  -0.03   3617    1.0\n",
       "lp__            -4286    0.32  10.93  -4309  -4294  -4286  -4279  -4266   1181    1.0\n",
       "\n",
       "Samples were drawn using NUTS at Sun May  5 07:43:53 2019.\n",
       "For each parameter, n_eff is a crude measure of effective sample size,\n",
       "and Rhat is the potential scale reduction factor on split chains (at \n",
       "convergence, Rhat=1)."
      ]
     },
     "execution_count": 75,
     "metadata": {},
     "output_type": "execute_result"
    }
   ],
   "source": [
    "gender_fit"
   ]
  },
  {
   "cell_type": "code",
   "execution_count": 76,
   "metadata": {},
   "outputs": [
    {
     "name": "stderr",
     "output_type": "stream",
     "text": [
      "WARNING:pystan:Deprecation warning. In future, use ArviZ library (`pip install arviz`)\n"
     ]
    },
    {
     "data": {
      "image/png": "[encoded data removed]",
      "text/plain": [
       "<Figure size 432x288 with 6 Axes>"
      ]
     },
     "metadata": {},
     "output_type": "display_data"
    }
   ],
   "source": [
    "gender_fit.plot(['t_r', 'phi_r', 'lambda_r']);\n",
    "plt.tight_layout();"
   ]
  },
  {
   "cell_type": "code",
   "execution_count": 77,
   "metadata": {},
   "outputs": [
    {
     "data": {
      "text/html": [
       "<div>\n",
       "<style scoped>\n",
       "    .dataframe tbody tr th:only-of-type {\n",
       "        vertical-align: middle;\n",
       "    }\n",
       "\n",
       "    .dataframe tbody tr th {\n",
       "        vertical-align: top;\n",
       "    }\n",
       "\n",
       "    .dataframe thead th {\n",
       "        text-align: right;\n",
       "    }\n",
       "</style>\n",
       "<table border=\"1\" class=\"dataframe\">\n",
       "  <thead>\n",
       "    <tr style=\"text-align: right;\">\n",
       "      <th></th>\n",
       "      <th>OfficerAbra</th>\n",
       "      <th>M_threshold_rate</th>\n",
       "      <th>minority_group</th>\n",
       "      <th>minority_threshold_rate</th>\n",
       "      <th>num_searches</th>\n",
       "    </tr>\n",
       "  </thead>\n",
       "  <tbody>\n",
       "    <tr>\n",
       "      <th>0</th>\n",
       "      <td>3574</td>\n",
       "      <td>0.023652</td>\n",
       "      <td>F</td>\n",
       "      <td>0.025504</td>\n",
       "      <td>49</td>\n",
       "    </tr>\n",
       "    <tr>\n",
       "      <th>1</th>\n",
       "      <td>3684</td>\n",
       "      <td>0.024886</td>\n",
       "      <td>F</td>\n",
       "      <td>0.020678</td>\n",
       "      <td>88</td>\n",
       "    </tr>\n",
       "    <tr>\n",
       "      <th>2</th>\n",
       "      <td>3790</td>\n",
       "      <td>0.028029</td>\n",
       "      <td>F</td>\n",
       "      <td>0.025726</td>\n",
       "      <td>68</td>\n",
       "    </tr>\n",
       "    <tr>\n",
       "      <th>3</th>\n",
       "      <td>3865</td>\n",
       "      <td>0.027103</td>\n",
       "      <td>F</td>\n",
       "      <td>0.024024</td>\n",
       "      <td>49</td>\n",
       "    </tr>\n",
       "    <tr>\n",
       "      <th>4</th>\n",
       "      <td>4028</td>\n",
       "      <td>0.030287</td>\n",
       "      <td>F</td>\n",
       "      <td>0.019017</td>\n",
       "      <td>133</td>\n",
       "    </tr>\n",
       "  </tbody>\n",
       "</table>\n",
       "</div>"
      ],
      "text/plain": [
       "   OfficerAbra  M_threshold_rate minority_group  minority_threshold_rate  \\\n",
       "0         3574          0.023652              F                 0.025504   \n",
       "1         3684          0.024886              F                 0.020678   \n",
       "2         3790          0.028029              F                 0.025726   \n",
       "3         3865          0.027103              F                 0.024024   \n",
       "4         4028          0.030287              F                 0.019017   \n",
       "\n",
       "   num_searches  \n",
       "0            49  \n",
       "1            88  \n",
       "2            68  \n",
       "3            49  \n",
       "4           133  "
      ]
     },
     "execution_count": 77,
     "metadata": {},
     "output_type": "execute_result"
    }
   ],
   "source": [
    "gender_threshold_dat['threshold_rate'] = gender_fit.extract()['t_i'].mean(axis = 0)\n",
    "gender_threshold_rates = compare_rates('threshold_rate', gender_threshold_dat[['OfficerAbra', 'Gender', 'threshold_rate']], 'M', ['F'], \n",
    "                          'Gender')\n",
    "gender_threshold_rates_search = gender_threshold_rates.merge(calc_group_size(stops_2018_experienced_officers[stops_2018_experienced_officers['search_conducted']], ['OfficerAbra'], False), \n",
    "                                   how='left', on='OfficerAbra')\n",
    "gender_threshold_rates_search.rename({'n': 'num_searches'}, axis=1, inplace=True)\n",
    "gender_threshold_rates_search.head()"
   ]
  },
  {
   "cell_type": "code",
   "execution_count": 78,
   "metadata": {},
   "outputs": [
    {
     "data": {
      "image/png": "[encoded data removed]",
      "text/plain": [
       "<Figure size 470.887x360 with 1 Axes>"
      ]
     },
     "metadata": {},
     "output_type": "display_data"
    }
   ],
   "source": [
    "plot_rates_comparison('threshold_rate', \n",
    "                      gender_threshold_rates_search, \n",
    "                      'M', 'minority_group', 'num_searches', \n",
    "                      marker_size_scale = 0.2, min_lim = -0.01, max_lim = 0.1)"
   ]
  },
  {
   "cell_type": "markdown",
   "metadata": {},
   "source": [
    "It seems like there is not much of a difference in threshold rates for male and female drivers. The points are largely clustered around the same region, suggesting that police officers have largely similar threshold rates for male and female drivers."
   ]
  },
  {
   "cell_type": "markdown",
   "metadata": {},
   "source": [
    "## Conclusion of Gender Analysis\n",
    "***"
   ]
  },
  {
   "cell_type": "markdown",
   "metadata": {},
   "source": [
    "The importance of using several tests is emphasized by our analysis of gender bias in police stops. In this case, there seems to be contrasting conclusions that can be drawn from individual tests. This suggests that more robust tests should be run to better analyze gender bias in police stops. From our current analysis, it seems that there is perhaps gender bias toward males in the city of Sacramento. Nonetheless, we may conduct further tests and experiments in the future to better test the validity of the statement."
   ]
  },
  {
   "cell_type": "markdown",
   "metadata": {},
   "source": [
    "## Overall Conclusion\n",
    "***"
   ]
  },
  {
   "cell_type": "markdown",
   "metadata": {},
   "source": [
    "We first started off by writing out the code to replicate the Stanford Open Policing Project in Python. We faced some issues trying to reproduce their findings. While the project is of an open-source nature, and is definitely more well-documented than many other projects, the reproducibility of their code could still be better improved. In partiular, when they were making plots for their analysis, it seems like they were removing certain data points with zero rates. As this was not documented, we could not seem to figure out the actual filtering process that was done in their analysis. Nonetheless, the findings were largely similar even though there are differences in the plots. This gave us strong impetus to make our own Python tutorial as detailed as possible, and our own Python code to be as easily reproducible as possible. We summarized most of our code into Python functions that can be easily called to replicate similar analysis on police stops data.\n",
    "\n",
    "We then subsequently did our own Python tutorial and analysis on the city of Sacramento which had not yet been covered by existing police stops studies. We also elaborated on how to apply the threshold test to police stops datasets to add greater rigor to our analysis, and also extended a study on gender bias in police stops as well. We found that there is substantial evidence of racial bias in police stops against African American/Hispanic drivers, and very small evidence of gender bias in police stops against male drivers surprisingly. The latter highlighted that there may be value conducting even more tests in the future. Specifically, there are several other variations of outcome tests, and specifications of the threshold test which could be further explored. We are also excited to help extend the analysis to other cities and municipals as they release their own police stops data in the future. By making the analysis even more comprehensive, we can better hold our law enforcers accountable for their decisions and correct the bias in our society. \n"
   ]
  }
 ],
 "metadata": {
  "kernelspec": {
   "display_name": "general",
   "language": "python",
   "name": "general"
  },
  "language_info": {
   "codemirror_mode": {
    "name": "ipython",
    "version": 3
   },
   "file_extension": ".py",
   "mimetype": "text/x-python",
   "name": "python",
   "nbconvert_exporter": "python",
   "pygments_lexer": "ipython3",
   "version": "3.6.7"
  }
 },
 "nbformat": 4,
 "nbformat_minor": 2
}
